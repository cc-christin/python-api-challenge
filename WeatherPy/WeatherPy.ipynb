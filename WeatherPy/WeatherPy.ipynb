{
 "cells": [
  {
   "cell_type": "markdown",
   "metadata": {},
   "source": [
    "# WeatherPy\n"
   ]
  },
  {
   "cell_type": "code",
   "execution_count": 1,
   "metadata": {
    "scrolled": true
   },
   "outputs": [],
   "source": [
    "# Dependencies and Setup\n",
    "import matplotlib.pyplot as plt\n",
    "import pandas as pd\n",
    "import numpy as np\n",
    "import requests\n",
    "import time\n",
    "from scipy.stats import linregress\n",
    "from ratelimit import limits\n",
    "import time\n",
    "import json\n",
    "import seaborn as sns\n",
    "import logging\n",
    "\n",
    "# Import API key\n",
    "from api_keys import weather_api_key\n",
    "\n",
    "# Incorporated citipy to determine city based on latitude and longitude\n",
    "from citipy import citipy\n",
    "\n",
    "# Output File (CSV)\n",
    "output_data_file = \"output_data/cities.csv\"\n",
    "\n",
    "# Range of latitudes and longitudes\n",
    "lat_range = (-90, 90)\n",
    "lng_range = (-180, 180)"
   ]
  },
  {
   "cell_type": "markdown",
   "metadata": {},
   "source": [
    "## Generate Cities List"
   ]
  },
  {
   "cell_type": "code",
   "execution_count": 2,
   "metadata": {},
   "outputs": [
    {
     "data": {
      "text/plain": [
       "624"
      ]
     },
     "execution_count": 2,
     "metadata": {},
     "output_type": "execute_result"
    }
   ],
   "source": [
    "# List for holding lat_lngs and cities\n",
    "lat_lngs = []\n",
    "cities = []\n",
    "\n",
    "# Create a set of random lat and lng combinations\n",
    "lats = np.random.uniform(lat_range[0], lat_range[1], size=1500)\n",
    "lngs = np.random.uniform(lng_range[0], lng_range[1], size=1500)\n",
    "lat_lngs = zip(lats, lngs)\n",
    "\n",
    "# Identify nearest city for each lat, lng combination\n",
    "for lat_lng in lat_lngs:\n",
    "    city = citipy.nearest_city(lat_lng[0], lat_lng[1]).city_name\n",
    "    \n",
    "    # If the city is unique, then add it to a our cities list\n",
    "    if city not in cities:\n",
    "        cities.append(city)\n",
    "\n",
    "# Print the city count to confirm sufficient count\n",
    "len(cities)"
   ]
  },
  {
   "cell_type": "markdown",
   "metadata": {},
   "source": [
    "### Perform API Calls\n",
    "* Perform a weather check on each city using a series of successive API calls.\n",
    "* Include a print log of each city as it'sbeing processed (with the city number and city name).\n",
    "\n",
    "> **HINT:** The OpenWeatherMap API only allows 60 calls per minute under their free plan. Try using `time.sleep(60)` after each set of 50 cities to avoid API errors due to large calls."
   ]
  },
  {
   "cell_type": "code",
   "execution_count": null,
   "metadata": {
    "scrolled": true
   },
   "outputs": [
    {
     "name": "stdout",
     "output_type": "stream",
     "text": [
      "{'cod': '400', 'message': 'Nothing to geocode'}\n",
      "Processing city 0: Qaanaaq\n",
      "Processing city 1: Bengkulu\n",
      "Processing city 2: Turukhansk\n",
      "Processing city 3: Atuona\n",
      "Processing city 4: Cape Canaveral\n",
      "Processing city 5: Mnogovershinnyy\n",
      "Processing city 6: Hong Kong\n",
      "Processing city 7: Mossamedes\n",
      "Processing city 8: Hasaki\n",
      "Processing city 9: Los Llanos de Aridane\n",
      "Incomplete..., skip over missing city info.\n",
      "Processing city 11: Ulagan\n",
      "Processing city 12: Valparaíso\n",
      "Processing city 13: Ushuaia\n",
      "Processing city 14: Paamiut\n",
      "Processing city 15: Ambon City\n",
      "Processing city 16: Guerrero Negro\n",
      "Processing city 17: Port Alfred\n",
      "Processing city 18: Dikson\n",
      "Processing city 19: Dossor\n",
      "Processing city 20: Rikitea\n",
      "Processing city 21: Hilo\n",
      "Processing city 22: Punta Arenas\n",
      "Processing city 23: Bluff\n",
      "Processing city 24: Rocha\n",
      "Processing city 25: Dobromir\n",
      "Processing city 26: Jamestown\n",
      "Processing city 27: Taoudenni\n",
      "Processing city 28: Mar del Plata\n",
      "Processing city 29: Nishihara\n",
      "Processing city 30: Castro\n",
      "Processing city 31: Port Hardy\n",
      "Processing city 32: College\n",
      "Processing city 33: Natchez\n",
      "Processing city 34: Xining\n",
      "Processing city 35: Severo-Kuril'sk\n",
      "Processing city 36: Lüderitz\n",
      "Processing city 37: Deputatsky\n",
      "Processing city 38: Aksarka\n",
      "Processing city 39: Cockburn Town\n",
      "Processing city 40: Cape Town\n",
      "Processing city 41: Narsaq\n",
      "Processing city 42: Mataura\n",
      "Processing city 43: Izumo\n",
      "Processing city 44: Souillac\n",
      "Processing city 45: San Policarpo\n",
      "Processing city 46: Verkhnetulomskiy\n",
      "Processing city 47: Yellowknife\n",
      "Processing city 48: Mount Isa\n",
      "Incomplete..., skip over missing city info.\n",
      "Processing city 50: Busselton\n",
      "Processing city 51: Khatanga\n",
      "Processing city 52: Lodeynoye Pole\n",
      "Processing city 53: Ponta do Sol\n",
      "Processing city 54: Buta\n",
      "Processing city 55: Albany\n",
      "Processing city 56: Vestmanna\n",
      "Processing city 57: Melito di Porto Salvo\n",
      "Processing city 58: Piaçabuçu\n",
      "Incomplete..., skip over missing city info.\n",
      "Incomplete..., skip over missing city info.\n",
      "Processing city 61: Nome\n",
      "Processing city 62: Alofi\n",
      "Processing city 63: Kaitangata\n",
      "Processing city 64: Hithadhoo\n",
      "Processing city 65: Upernavik\n",
      "Processing city 66: Torbay\n",
      "Processing city 67: Ilulissat\n",
      "Processing city 68: Bethel\n",
      "Processing city 69: Nikolskoye\n",
      "Processing city 70: Bambanglipuro\n",
      "Processing city 71: Tiksi\n",
      "Processing city 72: Buala\n",
      "Processing city 73: Cherskiy\n",
      "Processing city 74: Zhicheng\n",
      "Processing city 75: Abhā\n",
      "Processing city 76: Ferrol\n",
      "Processing city 77: Tagbac\n",
      "Processing city 78: Zhangye\n",
      "Processing city 79: Americus\n",
      "Processing city 80: Bartica\n",
      "Processing city 81: Port Elizabeth\n",
      "Processing city 82: Aldama\n",
      "Processing city 83: Faanui\n",
      "Processing city 84: Slave Lake\n",
      "Processing city 85: Khovu-Aksy\n",
      "Processing city 86: Clyde River\n",
      "Processing city 87: Ixtapa\n",
      "Processing city 88: Burnie\n",
      "Processing city 89: Talaya\n",
      "Processing city 90: Olafsvik\n",
      "Processing city 91: Arraial do Cabo\n",
      "Processing city 92: Shubarkuduk\n",
      "Processing city 93: San Julián\n",
      "Processing city 94: Marovoay\n",
      "Processing city 95: Esperance\n",
      "Processing city 96: Cabo Rojo\n",
      "Processing city 97: Lompoc\n",
      "Incomplete..., skip over missing city info.\n",
      "Processing city 99: Provideniya\n",
      "Processing city 100: Beringovskiy\n",
      "Processing city 101: Coyhaique\n",
      "Processing city 102: Kourou\n",
      "Processing city 103: Ribeira Grande\n",
      "Processing city 104: Lavrentiya\n",
      "Processing city 105: Takefu\n",
      "Processing city 106: Tambopata\n",
      "Incomplete..., skip over missing city info.\n",
      "Processing city 108: Tuktoyaktuk\n",
      "Processing city 109: Chumikan\n",
      "Processing city 110: Marawi\n",
      "Processing city 111: Necochea\n",
      "Processing city 112: Yar-Sale\n",
      "Processing city 113: Hofn\n",
      "Processing city 114: Okitipupa\n",
      "Processing city 115: Luqiao\n",
      "Processing city 116: Cochrane\n",
      "Processing city 117: Puerto Ayora\n",
      "Processing city 118: Bredasdorp\n",
      "Processing city 119: Talnakh\n",
      "Processing city 120: Vao\n",
      "Processing city 121: Omboué\n",
      "Processing city 122: São Filipe\n",
      "Processing city 123: Srednekolymsk\n",
      "Processing city 124: Opuwo\n",
      "Processing city 125: Amalāpuram\n",
      "Processing city 126: Saint-Philippe\n",
      "Processing city 127: St. George's\n",
      "Processing city 128: Camacha\n",
      "Processing city 129: Liwale\n",
      "Processing city 130: Saint George\n",
      "Processing city 131: Kapaa\n",
      "Processing city 132: Kavaratti\n",
      "Processing city 133: Hermanus\n",
      "Processing city 134: Portland\n",
      "Processing city 135: Kaputa\n",
      "Processing city 136: East London\n",
      "Incomplete..., skip over missing city info.\n",
      "Processing city 138: Avarua\n",
      "Processing city 139: Owando\n",
      "Processing city 140: Beloha\n",
      "Processing city 141: Saint Paul Harbor\n",
      "Incomplete..., skip over missing city info.\n",
      "Processing city 143: Iskateley\n",
      "Processing city 144: Valdivia\n",
      "Processing city 145: Hobart\n",
      "Processing city 146: Mayor Pablo Lagerenza\n",
      "Processing city 147: Shelburne\n",
      "Incomplete..., skip over missing city info.\n",
      "Processing city 149: Englehart\n",
      "Processing city 150: Sitka\n",
      "Processing city 151: Camagüey\n",
      "Processing city 152: Kloulklubed\n",
      "Processing city 153: Atambua\n",
      "Processing city 154: Mount Gambier\n",
      "Processing city 155: Fairbanks\n",
      "Processing city 156: Stara Syniava\n",
      "Processing city 157: Lumberton\n",
      "Processing city 158: Sierra Vista\n",
      "Processing city 159: Mahébourg\n",
      "Processing city 160: Awjilah\n",
      "Processing city 161: Nanortalik\n",
      "Processing city 162: Port Hawkesbury\n",
      "Processing city 163: Saint-Augustin\n",
      "Processing city 164: Puebloviejo\n",
      "Processing city 165: Edéa\n",
      "Processing city 166: New Norfolk\n",
      "Processing city 167: Santa Inês\n",
      "Processing city 168: Mehamn\n",
      "Processing city 169: Palmerston\n",
      "Processing city 170: Lebu\n",
      "Incomplete..., skip over missing city info.\n",
      "Processing city 172: Salinópolis\n",
      "Processing city 173: Pisco\n",
      "Processing city 174: Samarai\n",
      "Processing city 175: Haines Junction\n",
      "Incomplete..., skip over missing city info.\n",
      "Processing city 177: Klaksvík\n",
      "Processing city 178: Staryy Nadym\n",
      "Processing city 179: Caravelas\n",
      "Processing city 180: Chokurdakh\n",
      "Processing city 181: Along\n",
      "Processing city 182: Oddur\n",
      "Processing city 183: Vaini\n",
      "Processing city 184: Asău\n",
      "Processing city 185: Puerto Cabezas\n",
      "Processing city 186: Westport\n",
      "Processing city 187: Okhotsk\n",
      "Processing city 188: Makakilo City\n",
      "Processing city 189: Husavik\n",
      "Processing city 190: Airai\n",
      "Processing city 191: Hambantota\n",
      "Processing city 192: Thompson\n",
      "Processing city 193: Kiri Buru\n",
      "Processing city 194: Verkhnyaya Inta\n",
      "Processing city 195: Kahului\n",
      "Processing city 196: Kutum\n",
      "Processing city 197: San Quintín\n",
      "Processing city 198: Tautira\n",
      "Processing city 199: Vila Franca do Campo\n",
      "Processing city 200: San Carlos\n",
      "Processing city 201: Saldanha\n",
      "Processing city 202: Kiryat Gat\n",
      "Processing city 203: Port Blair\n",
      "Processing city 204: Belawan\n",
      "Processing city 205: Saint-François\n",
      "Processing city 206: Belyy Yar\n",
      "Processing city 207: Karratha\n",
      "Processing city 208: La Rioja\n",
      "Incomplete..., skip over missing city info.\n",
      "Processing city 210: Havre-St-Pierre\n",
      "Processing city 211: Carnarvon\n",
      "Processing city 212: Biak\n",
      "Processing city 213: Ancud\n",
      "Processing city 214: Moose Factory\n",
      "Processing city 215: Saint-Joseph\n",
      "Processing city 216: Na Wa\n",
      "Processing city 217: Oruzgan\n",
      "Processing city 218: Korla\n",
      "Processing city 219: Saraland\n",
      "Processing city 220: Santa Cruz de la Sierra\n",
      "Processing city 221: Carolina\n",
      "Incomplete..., skip over missing city info.\n",
      "Incomplete..., skip over missing city info.\n",
      "Processing city 224: Charters Towers\n",
      "Processing city 225: Nālūt\n",
      "Processing city 226: Lloydminster\n",
      "Processing city 227: Homer\n",
      "Processing city 228: Grand Gaube\n",
      "Processing city 229: Fort Nelson\n",
      "Incomplete..., skip over missing city info.\n",
      "Processing city 231: Mufumbwe\n",
      "Processing city 232: Oktyabr'skiy\n",
      "Processing city 233: Guapiaçu\n",
      "Processing city 234: Progreso\n",
      "Processing city 235: Laguna\n",
      "Processing city 236: Te Anau\n",
      "Processing city 237: Belaya Gora\n",
      "Processing city 238: Tiarei\n",
      "Processing city 239: Eberswalde\n",
      "Processing city 240: Xai-Xai\n",
      "Processing city 241: Pevek\n",
      "Processing city 242: Butaritari\n",
      "Processing city 243: Aljustrel\n",
      "Incomplete..., skip over missing city info.\n",
      "Processing city 245: Hamilton\n",
      "Processing city 246: Rio Grande\n",
      "Processing city 247: Khovd\n",
      "Processing city 248: Harper\n",
      "Processing city 249: General Roca\n",
      "Processing city 250: Salinas\n",
      "Processing city 251: Noumea\n",
      "Processing city 252: Borodino\n",
      "Processing city 253: Salalah\n",
      "Processing city 254: Nushki\n",
      "Processing city 255: Kumul\n",
      "Processing city 256: Beaumont\n",
      "Processing city 257: Varkala\n",
      "Processing city 258: Constitución\n",
      "Processing city 259: Aquidauana\n",
      "Processing city 260: Castaños\n"
     ]
    },
    {
     "name": "stdout",
     "output_type": "stream",
     "text": [
      "Processing city 261: Goma\n",
      "Processing city 262: Marathon\n",
      "Processing city 263: Richardson\n",
      "Processing city 264: Isiro\n",
      "Processing city 265: Olinda\n",
      "Processing city 266: Chiredzi\n",
      "Processing city 267: Petropavlovsk-Kamchatskiy\n",
      "Incomplete..., skip over missing city info.\n",
      "Processing city 269: Coquimbo\n",
      "Processing city 270: Cururupu\n",
      "Processing city 271: Mitsamiouli\n",
      "Processing city 272: Charlottetown\n",
      "Processing city 273: Klaeng\n",
      "Processing city 274: Norman Wells\n",
      "Processing city 275: Port Lincoln\n",
      "Processing city 276: George Town\n",
      "Processing city 277: Puerto Varas\n",
      "Processing city 278: La Reforma\n",
      "Processing city 279: Yerbogachën\n",
      "Processing city 280: Lorengau\n",
      "Incomplete..., skip over missing city info.\n",
      "Processing city 282: Chītāpur\n",
      "Processing city 283: Fortuna\n",
      "Processing city 284: Chui\n",
      "Processing city 285: Cayenne\n",
      "Processing city 286: Takoradze\n",
      "Processing city 287: Erzin\n",
      "Processing city 288: Cabo San Lucas\n",
      "Processing city 289: Kalmunai\n",
      "Incomplete..., skip over missing city info.\n",
      "Processing city 291: Barrow\n",
      "Processing city 292: Malé\n",
      "Processing city 293: Grindavik\n",
      "Processing city 294: Lakatoro\n",
      "Incomplete..., skip over missing city info.\n",
      "Processing city 296: Kamaishi\n",
      "Processing city 297: Lagoa\n",
      "Processing city 298: Sinegor'ye\n",
      "Incomplete..., skip over missing city info.\n",
      "Processing city 300: Ambilobe\n",
      "Processing city 301: Yumen\n",
      "Processing city 302: Ballina\n",
      "Incomplete..., skip over missing city info.\n",
      "Processing city 304: Waingapu\n",
      "Processing city 305: Poya\n",
      "Processing city 306: Mīzan Teferī\n",
      "Processing city 307: Hobyo\n",
      "Processing city 308: Quang Ngai\n",
      "Processing city 309: Jaciara\n",
      "Processing city 310: Vila Velha\n",
      "Processing city 311: Grand-Santi\n",
      "Processing city 312: Manzhouli\n",
      "Processing city 313: Covington\n",
      "Processing city 314: Qujing\n",
      "Processing city 315: Niamey\n",
      "Processing city 316: Berlevåg\n",
      "Processing city 317: Kunduz\n",
      "Incomplete..., skip over missing city info.\n",
      "Processing city 319: Manaus\n",
      "Processing city 320: Saskylakh\n",
      "Processing city 321: Libreville\n",
      "Processing city 322: Padang\n",
      "Incomplete..., skip over missing city info.\n",
      "Incomplete..., skip over missing city info.\n",
      "Processing city 325: Vanimo\n",
      "Processing city 326: Marsh Harbour\n",
      "Incomplete..., skip over missing city info.\n",
      "Processing city 328: Nakhon Phanom\n",
      "Processing city 329: Avera\n",
      "Processing city 330: Bulgan\n",
      "Processing city 331: Mendota\n",
      "Processing city 332: Boyolangu\n",
      "Processing city 333: Heihe\n",
      "Processing city 334: Papara\n",
      "Incomplete..., skip over missing city info.\n",
      "Incomplete..., skip over missing city info.\n",
      "Processing city 337: Jinchang\n",
      "Processing city 338: Gimli\n",
      "Processing city 339: Igarka\n",
      "Processing city 340: Bilibino\n",
      "Processing city 341: Margate\n",
      "Processing city 342: Leningradskiy\n",
      "Processing city 343: Ojinaga\n",
      "Processing city 344: Quelimane\n",
      "Processing city 345: Taunggyi\n",
      "Processing city 346: Bac Lieu\n",
      "Processing city 347: Paranhos\n",
      "Processing city 348: Ekhabi\n",
      "Processing city 349: Lityn\n",
      "Processing city 350: Bandarbeyla\n",
      "Processing city 351: Raudeberg\n",
      "Processing city 352: Uyemskiy\n",
      "Processing city 353: Maralal\n",
      "Processing city 354: Kruisfontein\n",
      "Processing city 355: Seoul\n",
      "Processing city 356: Tasiilaq\n",
      "Processing city 357: Balkanabat\n",
      "Incomplete..., skip over missing city info.\n",
      "Processing city 359: Benghazi\n",
      "Incomplete..., skip over missing city info.\n",
      "Processing city 361: Kanchipuram\n",
      "Processing city 362: Kayerkan\n",
      "Processing city 363: Shimoda\n",
      "Processing city 364: Trelleborg\n"
     ]
    }
   ],
   "source": [
    "# Setup API Calling\n",
    "# url\n",
    "url = \"http://api.openweathermap.org/data/2.5/weather?\"\n",
    "# url = \"https://openweathermap.org/api\"\n",
    "\n",
    "# units\n",
    "unit = \"units=Imperial\"\n",
    "\n",
    "# api\n",
    "api = \"&APPID=\" + weather_api_key\n",
    "\n",
    "# response \n",
    "response = requests.get( url + unit + api).json()\n",
    "\n",
    "# print statement\n",
    "print(response)\n",
    "\n",
    "\n",
    "# Storage for api call data\n",
    "city_info = {\"City\": [], \n",
    "             \"Lat\": [], \n",
    "             \"Lng\": [],\n",
    "             \"Max Temp\": [],\n",
    "             \"Humidity\": [],\n",
    "             \"Cloudiness\": [],\n",
    "             \"Wind Speed\": [],\n",
    "             \"Country\": [], \n",
    "             \"Date\": []}\n",
    "\n",
    "# hint, limit api calls\n",
    "minute = 60\n",
    "@limits(calls=60, period=minute)\n",
    "\n",
    "# api call loop\n",
    "def call_api():\n",
    "    \n",
    "    for i, city in enumerate(cities):\n",
    "        city = requests.get(url + unit + \"&q=\" + cities[i] + api).json()\n",
    "        \n",
    "        try:\n",
    "            print(\"Processing city \" + str(i) + \": \" + city[\"name\"])\n",
    "        \n",
    "            city_info[\"City\"].append(city[\"name\"])\n",
    "            city_info[\"Lat\"].append(city[\"coord\"][\"lat\"])\n",
    "            city_info[\"Lng\"].append(city[\"coord\"][\"lon\"])\n",
    "            city_info[\"Max Temp\"].append(city[\"main\"][\"temp_max\"])\n",
    "            city_info[\"Humidity\"].append(city[\"main\"][\"humidity\"])\n",
    "            city_info[\"Cloudiness\"].append(city[\"clouds\"][\"all\"])\n",
    "            city_info[\"Wind Speed\"].append(city[\"wind\"][\"speed\"])\n",
    "            city_info[\"Country\"].append(city[\"sys\"][\"country\"])\n",
    "            city_info[\"Date\"].append(city[\"dt\"])\n",
    "            \n",
    "        except:\n",
    "            print(\"Incomplete..., skip over missing city info.\")\n",
    "            pass\n",
    "    print(\"Complete\")\n",
    "    \n",
    "call_api()\n",
    "\n",
    "# print log\n",
    "logging.basicConfig(filename='api_print.log', filemode='w')\n",
    "logging.warning('This data will be logged onto a file')\n",
    "\n",
    "\n",
    "            \n",
    "            \n",
    "        "
   ]
  },
  {
   "cell_type": "markdown",
   "metadata": {},
   "source": [
    "### Convert Raw Data to DataFrame\n",
    "* Export the city data into a .csv.\n",
    "* Display the DataFrame"
   ]
  },
  {
   "cell_type": "code",
   "execution_count": null,
   "metadata": {},
   "outputs": [],
   "source": [
    "# Creating DataFrame\n",
    "city_info_df = pd.DataFrame(city_info)\n",
    "\n",
    "# Clean DataFrame\n",
    "city_info_df[\"Max Temp\"] = city_info_df[\"Max Temp\"].replace('', np.nan)\n",
    "city_info_df = city_info_df.dropna()\n",
    "\n",
    "city_count = len(city_info_df)\n",
    "# Export as CSV file\n",
    "city_info_df.to_csv(output_data_file, index_label=\"City_ID\")"
   ]
  },
  {
   "cell_type": "code",
   "execution_count": null,
   "metadata": {},
   "outputs": [],
   "source": [
    "# Inspect DataFrame\n",
    "city_info_df"
   ]
  },
  {
   "cell_type": "code",
   "execution_count": null,
   "metadata": {},
   "outputs": [],
   "source": [
    "leftover_cities = city_info_df.loc[city_info_df[\"City\"] != \"Failed!\"]\n",
    "leftover_cities_count = len(leftover_cities)\n",
    "print(\"{} number of cities were left out of the {} cities accounted for, giving a success rate of {:.1%} retrieval.\"\n",
    "      .format(leftover_cities_count, city_count, (leftover_cities_count/city_count)))\n",
    "\n",
    "leftover_cities.index = [a for a in range(leftover_cities_count)]\n",
    "\n",
    "non_numeric_columns = [\"City\", \"Country\", \"Date\"]\n",
    "\n",
    "for col in leftover_cities.columns:\n",
    "    if(col not in non_numeric_columns):\n",
    "        leftover_cities[col] = pd.to_numeric(leftover_cities[col])\n",
    "        \n",
    "\n",
    "leftover_cities"
   ]
  },
  {
   "cell_type": "markdown",
   "metadata": {},
   "source": [
    "## Inspect the data and remove the cities where the humidity > 100%.\n",
    "----\n",
    "Skip this step if there are no cities that have humidity > 100%. "
   ]
  },
  {
   "cell_type": "code",
   "execution_count": null,
   "metadata": {},
   "outputs": [],
   "source": [
    "# Table Columns\n",
    "lat = city_info_df[\"Lat\"]\n",
    "max_temp = city_info_df[\"Max Temp\"]\n",
    "humidity = city_info_df[\"Humidity\"]\n",
    "cloudiness = city_info_df[\"Cloudiness\"]\n",
    "wind_speed = city_info_df[\"Wind Speed\"]"
   ]
  },
  {
   "cell_type": "code",
   "execution_count": null,
   "metadata": {},
   "outputs": [],
   "source": [
    "#  Get the indices of cities that have humidity over 100%.\n",
    "city_info_df[\"Humidity\"]"
   ]
  },
  {
   "cell_type": "code",
   "execution_count": null,
   "metadata": {},
   "outputs": [],
   "source": [
    "# Couldn't figure out how to use plot_filtered to fix FutureWarning\n",
    "sns.boxplot(city_info_df[\"Humidity\"])\n",
    "\n"
   ]
  },
  {
   "cell_type": "code",
   "execution_count": null,
   "metadata": {},
   "outputs": [],
   "source": [
    "# Print Outlier (if one exists)\n",
    "print(np.where(city_info_df[\"Humidity\"] > 100))\n",
    "# Array is empty, no 'Humidity' over 100% exists in current dataset."
   ]
  },
  {
   "cell_type": "markdown",
   "metadata": {},
   "source": [
    "#### Are There Any Cities With Humidity Over 100 % ?\n",
    "From the results of the boxplot and the conditional print statement, there does not seem to be any cities within the dataset that has a humidity of over 100%.  "
   ]
  },
  {
   "cell_type": "markdown",
   "metadata": {},
   "source": [
    "## Plotting the Data\n",
    "* Use proper labeling of the plots using plot titles (including date of analysis) and axes labels.\n",
    "* Save the plotted figures as .pngs."
   ]
  },
  {
   "cell_type": "markdown",
   "metadata": {},
   "source": [
    "## Temperature vs Latitude Scatter Plot"
   ]
  },
  {
   "cell_type": "code",
   "execution_count": null,
   "metadata": {
    "scrolled": true
   },
   "outputs": [],
   "source": [
    "# Latitude vs Temperature\n",
    "# viz config\n",
    "plt.figure(figsize=(8,6))\n",
    "lat_vs_temp = plt.scatter(lat, max_temp, linewidths=1, marker=\"o\")\n",
    "\n",
    "# titles & labels\n",
    "plt.title(\"Max Temperature (%) vs Latitude of City\")\n",
    "plt.xlabel(\"Latitude\")\n",
    "plt.ylabel(\"Max Temperature (F)\")\n",
    "# Display Plot\n",
    "plt.show()"
   ]
  },
  {
   "cell_type": "markdown",
   "metadata": {},
   "source": [
    "#### Temperature vs. Latitude Scatter Plot Analysis¶\n",
    "The above scatter plot analyzies the latitudes of cities (north or south) of the equator against their correponding maximum temperatures (in degrees fahrenheit). Temperatures rise the closer a city is in relation to the equator. Cities south of the equator have higher maximum temperatures in comparison to cities north of the equator.  "
   ]
  },
  {
   "cell_type": "code",
   "execution_count": null,
   "metadata": {},
   "outputs": [],
   "source": [
    "# Save fig\n",
    "lat_vs_temp.get_figure().savefig(\"../Images/Fig1.png\")"
   ]
  },
  {
   "cell_type": "markdown",
   "metadata": {},
   "source": [
    "## Humidity vs. Latitude Scatter Plot"
   ]
  },
  {
   "cell_type": "code",
   "execution_count": null,
   "metadata": {},
   "outputs": [],
   "source": [
    "# Latitude vs Humidity\n",
    "# viz config\n",
    "plt.figure(figsize=(8,6))\n",
    "lat_vs_humidity = plt.scatter(lat, humidity, linewidths=1, marker=\"o\")\n",
    "\n",
    "# titles & labels\n",
    "plt.title(\"Humidity (%) vs Latitude of City\")\n",
    "plt.xlabel(\"Latitude\")\n",
    "plt.ylabel(\"Humidity (%)\")\n",
    "# Display Plot\n",
    "plt.show()"
   ]
  },
  {
   "cell_type": "markdown",
   "metadata": {},
   "source": [
    "#### Humidity vs. Latitude Scatter Plot Analysis\n",
    "\n",
    "The above scatter plot analyzies percent humidity against the latitudinal of a city in relation to the equator. There seems to be no apparently noticeable relationship between humidity and geolocation. "
   ]
  },
  {
   "cell_type": "code",
   "execution_count": null,
   "metadata": {},
   "outputs": [],
   "source": [
    "lat_vs_humidity.get_figure().savefig(\"../Images/Fig2.png\")"
   ]
  },
  {
   "cell_type": "markdown",
   "metadata": {},
   "source": [
    "## Cloudiness vs. Latitude Scatter Plot"
   ]
  },
  {
   "cell_type": "code",
   "execution_count": null,
   "metadata": {},
   "outputs": [],
   "source": [
    "# Cloudiness vs. Latitude Scatter Plot\n",
    "# viz config\n",
    "plt.figure(figsize=(8,6))\n",
    "lat_vs_cloudiness = plt.scatter(lat, cloudiness, linewidths=1, marker=\"o\")\n",
    "\n",
    "# titles & labels\n",
    "plt.title(\"Cloudiness (%) vs Latitude of City\")\n",
    "plt.xlabel(\"Latitude\")\n",
    "plt.ylabel(\"Cloudiness (%)\")\n",
    "# Display Plot\n",
    "plt.show()"
   ]
  },
  {
   "cell_type": "markdown",
   "metadata": {},
   "source": [
    "The scatter plot of Cloudiness vs. Latitude does does not show any associations between cloud cover and latitudial location.    "
   ]
  },
  {
   "cell_type": "code",
   "execution_count": null,
   "metadata": {},
   "outputs": [],
   "source": [
    "lat_vs_cloudiness.get_figure().savefig(\"../Images/Fig3.png\")"
   ]
  },
  {
   "cell_type": "markdown",
   "metadata": {},
   "source": [
    "## Wind Speed vs Latitude Scatter Plot"
   ]
  },
  {
   "cell_type": "code",
   "execution_count": null,
   "metadata": {},
   "outputs": [],
   "source": [
    "# Wind Speed vs Latitude Scatter Plot\n",
    "# viz config\n",
    "plt.figure(figsize=(8,6))\n",
    "lat_vs_wind_speed = plt.scatter(lat, wind_speed, linewidths=1, marker=\"o\")\n",
    "\n",
    "# titles & labels\n",
    "plt.title(\"Wind Speed (mph) vs Latitude of City\")\n",
    "plt.xlabel(\"Latitude\")\n",
    "plt.ylabel(\"Wind Speed (mph)\")\n",
    "# Display Plot\n",
    "plt.show()"
   ]
  },
  {
   "cell_type": "markdown",
   "metadata": {},
   "source": [
    "#### Wind Speed vs Latitude Scatter Plot Analysis\n",
    "The Wind Speed vs Latitude Scatter Plot shows no apparent associations between wind speed and geolocation for cities north or south of the equator."
   ]
  },
  {
   "cell_type": "code",
   "execution_count": null,
   "metadata": {},
   "outputs": [],
   "source": [
    "lat_vs_wind_speed.get_figure().savefig(\"../Images/Fig4.png\")"
   ]
  },
  {
   "cell_type": "markdown",
   "metadata": {},
   "source": [
    "## Linear Regression"
   ]
  },
  {
   "cell_type": "code",
   "execution_count": null,
   "metadata": {},
   "outputs": [],
   "source": [
    "# Linear Regression\n",
    "def makeLinRegression(city_info_df, x_Col, y_Col):\n",
    "    # preform linear regression\n",
    "    (regr_slope, regr_intercept, regr_r_val, _, _) = linregress(city_info_df[x_Col], city_info_df[y_Col])\n",
    "    # setup x and y axis data for linear regression \n",
    "    x = np.array([a for a in range(int(min(city_info_df[x_Col].values)), int(max(city_info_df[x_Col].values)+1))])\n",
    "    y = regr_slope * x + regr_intercept\n",
    "    # scatter plot\n",
    "    axis_df = city_info_df.plot(kind=\"scatter\", x=x_Col, y=y_Col, title=\"{} vs {} ({})\")\n",
    "    # best fit line\n",
    "    axis_df.plot(x, y, 'r')\n",
    "    \n",
    "    # print statements\n",
    "    print(\"Equation for best-fit linear regression line is y={:.2f}x+{:.2f}\".format(regr_slope, regr_intercept))\n",
    "    \n",
    "    print(\"r-squared correlation coefficient is {:.2f}\".format(regr_r_val))\n",
    "    \n",
    "    # return statement\n",
    "    return axis_df"
   ]
  },
  {
   "cell_type": "code",
   "execution_count": null,
   "metadata": {},
   "outputs": [],
   "source": [
    "# Northern and Southern Hemispheres\n",
    "\n",
    "# Northern Hemisphere DataFrame\n",
    "northern_hemisphere = city_info_df.loc[city_info_df[\"Lat\"] >= 0]\n",
    "# Count of Cities in the Northern Hemisphere\n",
    "northern_count = len(northern_hemisphere)\n",
    "# Print \n",
    "print(\"The northern hemisphere has {} cities out of {} total, accounting for {:.1%} of cities in the dataset.\"\n",
    "      .format(northern_count, city_count, (northern_count/city_count)))\n",
    "\n",
    "# Southern Hemisphere DataFrame\n",
    "southern_hemisphere = city_info_df.loc[city_info_df[\"Lat\"] < 0]\n",
    "# Count of Cities in the Southern Hemisphere\n",
    "southern_count = len(southern_hemisphere)\n",
    "# Print \n",
    "print(\"The southern hemisphere has {} cities out of {} total, accounting for {:.1%} of cities in the dataset.\"\n",
    "      .format(southern_count, city_count, (southern_count/city_count)))"
   ]
  },
  {
   "cell_type": "markdown",
   "metadata": {},
   "source": [
    "####  Northern Hemisphere - Max Temp vs. Latitude Linear Regression"
   ]
  },
  {
   "cell_type": "code",
   "execution_count": null,
   "metadata": {},
   "outputs": [],
   "source": [
    "(n_temp_slope, n_temp_intercept, n_temp_r_val, _, _) = linregress(northern_hemisphere[\"Lat\"],\n",
    "                                                                 northern_hemisphere[\"Max Temp\"])\n",
    "\n",
    "x = np.array([a for a in range(80)])\n",
    "y = n_temp_slope * x + n_temp_intercept\n",
    "\n",
    "n_temp_axes = northern_hemisphere.plot(kind=\"scatter\", x=\"Lat\", y=\"Max Temp\",\n",
    "                                       title=\"Northern Hemisphere - Max Temp vs. Latitude Linear Regression\")\n",
    "# line of best fit\n",
    "n_temp_axes.plot(x, y, 'r')\n",
    "\n",
    "plt.xlabel(\"Latitude\")\n",
    "plt.ylabel(\"Max Temperture (F)\")\n",
    "\n",
    "# print \n",
    "print(\"Line of Best-Fit for linear regression is y={:.2f}x+{:.2f}\"\n",
    "      .format(n_temp_slope, n_temp_intercept))\n",
    "print(\"The r-squared correlation coefficient is {:.2f}\".format(n_temp_r_val))\n",
    "\n",
    "# save figure as png\n",
    "n_temp_axes.get_figure().savefig(\"../Images/Fig5_N.png\")"
   ]
  },
  {
   "cell_type": "markdown",
   "metadata": {},
   "source": [
    "#### Northern Hemisphere - Max Temp vs. Latitude Linear Regression Analysis\n",
    "\n",
    "According to the linear regression of maximum temperature vs latitude for the cities in the northern hemisphere, there is a strong negative correlation. The farther away a city's geolocation is to the equator the colder the climate conditions.  "
   ]
  },
  {
   "cell_type": "markdown",
   "metadata": {},
   "source": [
    "####  Southern Hemisphere - Max Temp vs. Latitude Linear Regression"
   ]
  },
  {
   "cell_type": "code",
   "execution_count": null,
   "metadata": {},
   "outputs": [],
   "source": [
    "s_temp_axes = makeLinRegression(southern_hemisphere, \"Lat\", \"Max Temp\")\n",
    "plt.title(\"Southern Hemisphere - Max Temp vs. Latitude Linear Regression\")\n",
    "plt.xlabel(\"Latitude\")\n",
    "plt.ylabel(\"Max Temperture (F)\")\n",
    "# save figure as png\n",
    "s_temp_axes.get_figure().savefig(\"../Images/Fig6_S.png\")"
   ]
  },
  {
   "cell_type": "markdown",
   "metadata": {},
   "source": [
    "#### Southern Hemisphere - Max Temp vs. Latitude Linear Regression Analysis\n",
    "\n",
    "The above linear regression shows a positive relationship between geolocation of cities in the southern hemisphere relative to the equator and their cooresopnding climate conditions. The cities closer to the equator enjoy warmer climate conditions and therefore higher maximum temperatures. "
   ]
  },
  {
   "cell_type": "markdown",
   "metadata": {},
   "source": [
    "####  Northern Hemisphere - Humidity (%) vs. Latitude Linear Regression"
   ]
  },
  {
   "cell_type": "code",
   "execution_count": null,
   "metadata": {},
   "outputs": [],
   "source": [
    "# Northern Hemisphere - Humidity (%) vs. Latitude Linear Regression\n",
    "n_humidity_lat_axes = makeLinRegression(northern_hemisphere, \"Lat\", \"Humidity\")\n",
    "plt.title(\"Northern Hemisphere - Humidity (%) vs. Latitude Linear Regression\")\n",
    "plt.xlabel(\"Latitude\")\n",
    "plt.ylabel(\"Humidity (%)\")\n",
    "# save figure as png\n",
    "n_humidity_lat_axes.get_figure().savefig(\"../Images/Fig7_N.png\")"
   ]
  },
  {
   "cell_type": "markdown",
   "metadata": {},
   "source": [
    "#### Northern Hemisphere - Humidity (%) vs. Latitude Linear Regression Analysis \n",
    "Dispite the somewhat positive correlation coefficient for the linear regression of Humidity (%) vs. Latitude for cities in the northern hemisphere, the outliers throughout makes the results for this particular dataset skewed. There should not be any noticable correlation between humidity for cities in respect to their geolocation from the equator. "
   ]
  },
  {
   "cell_type": "markdown",
   "metadata": {},
   "source": [
    "####  Southern Hemisphere - Humidity (%) vs. Latitude Linear Regression"
   ]
  },
  {
   "cell_type": "code",
   "execution_count": null,
   "metadata": {},
   "outputs": [],
   "source": [
    "# Southern Hemisphere - Humidity (%) vs. Latitude Linear Regression\n",
    "s_humidity_lat_axes = makeLinRegression(southern_hemisphere, \"Lat\", \"Humidity\")\n",
    "plt.title(\"Southern Hemisphere - Humidity (%) vs. Latitude Linear Regression\")\n",
    "plt.xlabel(\"Latitude\")\n",
    "plt.ylabel(\"Humidity (%)\")\n",
    "# save figure as png\n",
    "s_humidity_lat_axes.get_figure().savefig(\"../Images/Fig8_S.png\")"
   ]
  },
  {
   "cell_type": "markdown",
   "metadata": {},
   "source": [
    "#### Southern Hemisphere - Humidity (%) vs. Latitude Linear Regression Analysis \n",
    "Likewise there should be little to no assoication between humidity and geolocation for cities in the southern hemisphere. "
   ]
  },
  {
   "cell_type": "markdown",
   "metadata": {},
   "source": [
    "####  Northern Hemisphere - Cloudiness (%) vs. Latitude Linear Regression"
   ]
  },
  {
   "cell_type": "code",
   "execution_count": null,
   "metadata": {},
   "outputs": [],
   "source": [
    "# Northern Hemisphere - Cloudiness (%) vs. Latitude Linear Regression\n",
    "n_cloudiness_lat_axes = makeLinRegression(northern_hemisphere, \"Lat\", \"Cloudiness\")\n",
    "plt.title(\"Northern Hemisphere - Cloudiness (%) vs. Latitude Linear Regression\")\n",
    "plt.xlabel(\"Latitude\")\n",
    "plt.ylabel(\"Cloudiness\")\n",
    "# save figure as png\n",
    "n_cloudiness_lat_axes.get_figure().savefig(\"../Images/Fig9_N.png\")"
   ]
  },
  {
   "cell_type": "markdown",
   "metadata": {},
   "source": [
    "#### Northern Hemisphere - Cloudiness (%) vs. Latitude Linear Regression Analysis\n",
    "\n",
    "Judging from the overall data spread, there should be little to no correlation between cloud coverage and geolocation for cities in the northern hemisphere. "
   ]
  },
  {
   "cell_type": "markdown",
   "metadata": {},
   "source": [
    "####  Southern Hemisphere - Cloudiness (%) vs. Latitude Linear Regression"
   ]
  },
  {
   "cell_type": "code",
   "execution_count": null,
   "metadata": {},
   "outputs": [],
   "source": [
    "# Southern Hemisphere - Cloudiness (%) vs. Latitude Linear Regression\n",
    "s_cloudiness_lat_axes = makeLinRegression(southern_hemisphere, \"Lat\", \"Cloudiness\")\n",
    "plt.title(\"Southern Hemisphere - Cloudiness (%) vs. Latitude Linear Regression\")\n",
    "plt.xlabel(\"Latitude\")\n",
    "plt.ylabel(\"Cloudiness\")\n",
    "# save figure as png\n",
    "s_cloudiness_lat_axes.get_figure().savefig(\"../Images/Fig10_S.png\")"
   ]
  },
  {
   "cell_type": "markdown",
   "metadata": {},
   "source": [
    "#### Southern Hemisphere - Cloudiness (%) vs. Latitude Linear Regression Analysis\n",
    "\n",
    "Similarly, there should also be little to no correlation between cloud coverage and geolocation for cities in the southern hemisphere. "
   ]
  },
  {
   "cell_type": "markdown",
   "metadata": {},
   "source": [
    "####  Northern Hemisphere - Wind Speed (mph) vs. Latitude Linear Regression"
   ]
  },
  {
   "cell_type": "code",
   "execution_count": null,
   "metadata": {},
   "outputs": [],
   "source": [
    "# Northern Hemisphere - Wind Speed (mph) vs. Latitude Linear Regression\n",
    "n_wind_lat_axes = makeLinRegression(northern_hemisphere, \"Lat\", \"Wind Speed\")\n",
    "plt.title(\"Northern Hemisphere - Wind Speed (mph) vs. Latitude Linear Regression\")\n",
    "plt.xlabel(\"Latitude\")\n",
    "plt.ylabel(\"Wind Speed\")\n",
    "# save figure as png\n",
    "n_wind_lat_axes.get_figure().savefig(\"../Images/Fig11_N.png\")"
   ]
  },
  {
   "cell_type": "markdown",
   "metadata": {},
   "source": [
    "According to the the correlation coefficient for the linear regression for Wind Speed (mph) vs. Latitude, there should be almost no or slightly weak positive correlation between wind speed and geolocation away from the equator. This data could be skewed by the outliers for a few very windy northern cities. "
   ]
  },
  {
   "cell_type": "markdown",
   "metadata": {},
   "source": [
    "####  Southern Hemisphere - Wind Speed (mph) vs. Latitude Linear Regression"
   ]
  },
  {
   "cell_type": "code",
   "execution_count": null,
   "metadata": {},
   "outputs": [],
   "source": [
    "# Southern Hemisphere - Wind Speed (mph) vs. Latitude Linear Regression\n",
    "s_wind_lat_axes = makeLinRegression(southern_hemisphere, \"Lat\", \"Wind Speed\")\n",
    "plt.title(\"Southern Hemisphere - Wind Speed (mph) vs. Latitude Linear Regression\")\n",
    "plt.xlabel(\"Latitude\")\n",
    "plt.ylabel(\"Wind Speed\")\n",
    "# save figure as png\n",
    "s_wind_lat_axes.get_figure().savefig(\"../Images/Fig12_S.png\")"
   ]
  },
  {
   "cell_type": "markdown",
   "metadata": {},
   "source": [
    "#### Southern Hemisphere - Wind Speed (mph) vs. Latitude Linear Regression Analysis\n",
    "\n",
    "Reasonably should also not be any association between wind speed and geolocation away from the equator for cities in the southern hemisphere.  "
   ]
  },
  {
   "cell_type": "code",
   "execution_count": null,
   "metadata": {},
   "outputs": [],
   "source": []
  }
 ],
 "metadata": {
  "anaconda-cloud": {},
  "kernel_info": {
   "name": "python3"
  },
  "kernelspec": {
   "display_name": "Python 3 (ipykernel)",
   "language": "python",
   "name": "python3"
  },
  "language_info": {
   "codemirror_mode": {
    "name": "ipython",
    "version": 3
   },
   "file_extension": ".py",
   "mimetype": "text/x-python",
   "name": "python",
   "nbconvert_exporter": "python",
   "pygments_lexer": "ipython3",
   "version": "3.9.7"
  },
  "latex_envs": {
   "LaTeX_envs_menu_present": true,
   "autoclose": false,
   "autocomplete": true,
   "bibliofile": "biblio.bib",
   "cite_by": "apalike",
   "current_citInitial": 1,
   "eqLabelWithNumbers": true,
   "eqNumInitial": 1,
   "hotkeys": {
    "equation": "Ctrl-E",
    "itemize": "Ctrl-I"
   },
   "labels_anchors": false,
   "latex_user_defs": false,
   "report_style_numbering": false,
   "user_envs_cfg": false
  },
  "nteract": {
   "version": "0.12.3"
  }
 },
 "nbformat": 4,
 "nbformat_minor": 2
}
