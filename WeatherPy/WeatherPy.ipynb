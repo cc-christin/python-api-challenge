{
 "cells": [
  {
   "cell_type": "markdown",
   "metadata": {},
   "source": [
    "# WeatherPy\n",
    "----\n",
    "\n",
    "#### Note\n",
    "* Instructions have been included for each segment. You do not have to follow them exactly, but they are included to help you think through the steps."
   ]
  },
  {
   "cell_type": "code",
   "execution_count": 1,
   "metadata": {
    "scrolled": true
   },
   "outputs": [],
   "source": [
    "# Dependencies and Setup\n",
    "import matplotlib.pyplot as plt\n",
    "import pandas as pd\n",
    "import numpy as np\n",
    "import requests\n",
    "import time\n",
    "from scipy.stats import linregress\n",
    "from ratelimit import limits\n",
    "import time\n",
    "import json\n",
    "import seaborn as sns\n",
    "\n",
    "# Import API key\n",
    "from api_keys import weather_api_key\n",
    "\n",
    "# Incorporated citipy to determine city based on latitude and longitude\n",
    "from citipy import citipy\n",
    "\n",
    "# Output File (CSV)\n",
    "output_data_file = \"output_data/cities.csv\"\n",
    "\n",
    "# Range of latitudes and longitudes\n",
    "lat_range = (-90, 90)\n",
    "lng_range = (-180, 180)"
   ]
  },
  {
   "cell_type": "markdown",
   "metadata": {},
   "source": [
    "## Generate Cities List"
   ]
  },
  {
   "cell_type": "code",
   "execution_count": 2,
   "metadata": {},
   "outputs": [
    {
     "data": {
      "text/plain": [
       "606"
      ]
     },
     "execution_count": 2,
     "metadata": {},
     "output_type": "execute_result"
    }
   ],
   "source": [
    "# List for holding lat_lngs and cities\n",
    "lat_lngs = []\n",
    "cities = []\n",
    "\n",
    "# Create a set of random lat and lng combinations\n",
    "lats = np.random.uniform(lat_range[0], lat_range[1], size=1500)\n",
    "lngs = np.random.uniform(lng_range[0], lng_range[1], size=1500)\n",
    "lat_lngs = zip(lats, lngs)\n",
    "\n",
    "# Identify nearest city for each lat, lng combination\n",
    "for lat_lng in lat_lngs:\n",
    "    city = citipy.nearest_city(lat_lng[0], lat_lng[1]).city_name\n",
    "    \n",
    "    # If the city is unique, then add it to a our cities list\n",
    "    if city not in cities:\n",
    "        cities.append(city)\n",
    "\n",
    "# Print the city count to confirm sufficient count\n",
    "len(cities)"
   ]
  },
  {
   "cell_type": "markdown",
   "metadata": {},
   "source": [
    "### Perform API Calls\n",
    "* Perform a weather check on each city using a series of successive API calls.\n",
    "* Include a print log of each city as it'sbeing processed (with the city number and city name).\n",
    "\n",
    "> **HINT:** The OpenWeatherMap API only allows 60 calls per minute under their free plan. Try using `time.sleep(60)` after each set of 50 cities to avoid API errors due to large calls."
   ]
  },
  {
   "cell_type": "code",
   "execution_count": 23,
   "metadata": {
    "scrolled": true
   },
   "outputs": [
    {
     "name": "stdout",
     "output_type": "stream",
     "text": [
      "{'cod': '400', 'message': 'Nothing to geocode'}\n",
      "Processing city 0: Hearst\n",
      "Processing city 1: Atuona\n",
      "Processing city 2: Albany\n",
      "Processing city 3: Carnarvon\n",
      "Processing city 4: Hermanus\n",
      "Processing city 5: Quatre Cocos\n",
      "Processing city 6: Hong Kong\n",
      "Processing city 7: Dali\n",
      "Processing city 8: Kahului\n",
      "Processing city 9: Tasiilaq\n",
      "Processing city 10: Doha\n",
      "Processing city 11: Bluff\n",
      "Processing city 12: Cape Town\n",
      "Processing city 13: Vaini\n",
      "Processing city 14: Ponta do Sol\n",
      "Processing city 15: Talcahuano\n",
      "Incomplete..., skip over missing city info.\n",
      "Processing city 17: Ushuaia\n",
      "Processing city 18: Westport\n",
      "Processing city 19: Vredendal\n",
      "Processing city 20: Kapaa\n",
      "Processing city 21: Mastic Beach\n",
      "Processing city 22: Barra Patuca\n",
      "Processing city 23: Kavieng\n",
      "Processing city 24: Nanortalik\n",
      "Processing city 25: Hambantota\n",
      "Processing city 26: Broken Hill\n",
      "Processing city 27: Butaritari\n",
      "Processing city 28: Dongsheng\n",
      "Processing city 29: Ribeira Grande\n",
      "Processing city 30: Busselton\n",
      "Processing city 31: Los Llanos de Aridane\n",
      "Processing city 32: Provincia di Cremona\n",
      "Processing city 33: Gien\n",
      "Processing city 34: Tabou\n",
      "Processing city 35: Saint-Philippe\n",
      "Processing city 36: Port Alfred\n",
      "Processing city 37: Kiryat Gat\n",
      "Processing city 38: Jamestown\n",
      "Processing city 39: Hithadhoo\n",
      "Processing city 40: Qaanaaq\n",
      "Processing city 41: Port Lincoln\n",
      "Processing city 42: Provideniya\n",
      "Processing city 43: Bengkulu\n",
      "Processing city 44: Mataura\n",
      "Incomplete..., skip over missing city info.\n",
      "Incomplete..., skip over missing city info.\n",
      "Incomplete..., skip over missing city info.\n",
      "Processing city 48: Dibulla\n",
      "Processing city 49: Chui\n",
      "Processing city 50: Puerto Ayora\n",
      "Processing city 51: Dunedin\n",
      "Processing city 52: Barrow\n",
      "Incomplete..., skip over missing city info.\n",
      "Processing city 54: Buinsk\n",
      "Processing city 55: Saint George\n",
      "Processing city 56: Mar del Plata\n",
      "Incomplete..., skip over missing city info.\n",
      "Processing city 58: Rikitea\n",
      "Processing city 59: Vao\n",
      "Processing city 60: Arraial do Cabo\n",
      "Processing city 61: Punta Arenas\n",
      "Processing city 62: Cherskiy\n",
      "Processing city 63: Rostovka\n",
      "Processing city 64: Faanui\n",
      "Processing city 65: Bredasdorp\n",
      "Processing city 66: São Filipe\n",
      "Incomplete..., skip over missing city info.\n",
      "Processing city 68: Constitución\n",
      "Processing city 69: Paranapanema\n",
      "Processing city 70: Chiquilistlán\n",
      "Processing city 71: Caravelas\n",
      "Processing city 72: Ryōtsu-minato\n",
      "Processing city 73: Olafsvik\n",
      "Processing city 74: Tautira\n",
      "Processing city 75: Gympie\n",
      "Processing city 76: Esperance\n",
      "Processing city 77: Tiksi\n",
      "Processing city 78: Businga\n",
      "Processing city 79: Klaksvík\n",
      "Processing city 80: Sosnovo-Ozerskoye\n",
      "Processing city 81: Yulara\n",
      "Processing city 82: Kautokeino\n",
      "Incomplete..., skip over missing city info.\n",
      "Processing city 84: Maumere\n",
      "Processing city 85: Henties Bay\n",
      "Processing city 86: Tilichiki\n",
      "Processing city 87: Igboho\n",
      "Processing city 88: Sevsk\n",
      "Processing city 89: Aklavik\n",
      "Processing city 90: Banjar\n",
      "Processing city 91: Rock Springs\n",
      "Processing city 92: George Town\n",
      "Processing city 93: Kindu\n",
      "Processing city 94: Hilo\n",
      "Processing city 95: Evensk\n",
      "Processing city 96: Vila Velha\n",
      "Processing city 97: Kaka\n",
      "Processing city 98: Mitsamiouli\n",
      "Processing city 99: Lagoa\n",
      "Processing city 100: Narsaq\n",
      "Processing city 101: Srednekolymsk\n",
      "Processing city 102: Tuatapere\n",
      "Processing city 103: Moguer\n",
      "Processing city 104: Ambilobe\n",
      "Processing city 105: The Valley\n",
      "Processing city 106: Chapais\n",
      "Processing city 107: Walvis Bay\n",
      "Processing city 108: Bartica\n",
      "Processing city 109: Nikolskoye\n",
      "Processing city 110: Saint Paul Harbor\n",
      "Processing city 111: Husavik\n",
      "Processing city 112: Sinegor'ye\n",
      "Processing city 113: Lively\n",
      "Processing city 114: San Vicente\n",
      "Processing city 115: Half Moon Bay\n",
      "Processing city 116: Lavrentiya\n",
      "Processing city 117: Kavaratti\n",
      "Processing city 118: Peniche\n",
      "Processing city 119: Leshukonskoye\n",
      "Processing city 120: Berlevåg\n",
      "Processing city 121: Honiara\n",
      "Processing city 122: Alice Springs\n",
      "Processing city 123: Avarua\n",
      "Processing city 124: Porto da Folha\n",
      "Processing city 125: Sittwe\n",
      "Processing city 126: Cap Malheureux\n",
      "Processing city 127: Borogontsy\n",
      "Processing city 128: Kashmor\n",
      "Processing city 129: Sechura\n",
      "Processing city 130: Aksarka\n",
      "Incomplete..., skip over missing city info.\n",
      "Processing city 132: Longyearbyen\n",
      "Processing city 133: Castro\n",
      "Processing city 134: Āreka\n",
      "Processing city 135: Katsuura\n",
      "Processing city 136: Chokurdakh\n",
      "Processing city 137: Florida\n",
      "Processing city 138: Krasnosel'kup\n",
      "Processing city 139: Springbok\n",
      "Processing city 140: Yellowknife\n",
      "Processing city 141: Hobart\n",
      "Processing city 142: Alyangula\n",
      "Processing city 143: Torbay\n",
      "Processing city 144: New Norfolk\n",
      "Processing city 145: Zaysan\n",
      "Processing city 146: Paita\n",
      "Processing city 147: Dikson\n",
      "Processing city 148: Yaan\n",
      "Processing city 149: Talnakh\n",
      "Processing city 150: Naze\n",
      "Processing city 151: Villa San Giovanni\n",
      "Processing city 152: Clovis\n",
      "Processing city 153: Biak\n",
      "Incomplete..., skip over missing city info.\n",
      "Processing city 155: Mata\n",
      "Processing city 156: Chara\n",
      "Processing city 157: Tuktoyaktuk\n",
      "Processing city 158: Laguna\n",
      "Processing city 159: Hasaki\n",
      "Processing city 160: Kasongo\n",
      "Processing city 161: Bilma\n",
      "Processing city 162: Selje\n",
      "Processing city 163: Nishihara\n",
      "Processing city 164: Tsumeb\n",
      "Processing city 165: Udimskiy\n",
      "Processing city 166: Te Anau\n",
      "Processing city 167: Port Blair\n",
      "Incomplete..., skip over missing city info.\n",
      "Processing city 169: Port-Gentil\n",
      "Processing city 170: Maroantsetra\n",
      "Processing city 171: Northam\n",
      "Processing city 172: Mahébourg\n",
      "Processing city 173: Bondo\n",
      "Processing city 174: Nikolayevka\n",
      "Processing city 175: Oranjestad\n",
      "Processing city 176: Locri\n",
      "Processing city 177: Ketchikan\n",
      "Processing city 178: Steffisburg\n",
      "Processing city 179: Pevek\n",
      "Processing city 180: Kalocsa\n",
      "Processing city 181: Moree\n",
      "Processing city 182: Teahupoo\n",
      "Processing city 183: Nouadhibou\n",
      "Processing city 184: Malaya Vishera\n",
      "Processing city 185: Arrondissement du Havre\n",
      "Processing city 186: Necochea\n",
      "Processing city 187: Salinópolis\n",
      "Processing city 188: Port Moresby\n",
      "Processing city 189: Marovoay\n",
      "Incomplete..., skip over missing city info.\n",
      "Processing city 191: Devonport\n",
      "Incomplete..., skip over missing city info.\n",
      "Processing city 193: Kaitangata\n",
      "Processing city 194: Pemba\n",
      "Processing city 195: Rahimatpur\n",
      "Processing city 196: Whitley Bay\n",
      "Processing city 197: Upernavik\n",
      "Processing city 198: Les Cayes\n",
      "Processing city 199: Kloulklubed\n",
      "Processing city 200: Hailar\n",
      "Processing city 201: High Prairie\n",
      "Processing city 202: Clyde River\n",
      "Processing city 203: Skagen\n",
      "Processing city 204: Grand Baie\n",
      "Processing city 205: College\n",
      "Processing city 206: Kuandian\n",
      "Processing city 207: Senneterre\n",
      "Processing city 208: Mumford\n",
      "Processing city 209: Bāndarban\n",
      "Processing city 210: Bambous Virieux\n",
      "Processing city 211: Saskylakh\n",
      "Processing city 212: Nantucket\n",
      "Processing city 213: Balkanabat\n",
      "Processing city 214: Khatanga\n",
      "Incomplete..., skip over missing city info.\n",
      "Processing city 216: Faya\n",
      "Processing city 217: Douglas\n",
      "Processing city 218: Port Elizabeth\n",
      "Processing city 219: Huanren\n",
      "Processing city 220: Vestmanna\n",
      "Processing city 221: San Policarpo\n",
      "Processing city 222: Isangel\n",
      "Processing city 223: La Palma\n",
      "Processing city 224: Sukumo\n",
      "Processing city 225: Vanino\n",
      "Processing city 226: San Patricio\n",
      "Processing city 227: Dingle\n",
      "Processing city 228: Kruisfontein\n",
      "Processing city 229: Kailua\n",
      "Processing city 230: Leningradskiy\n",
      "Processing city 231: Pedras de Fogo\n",
      "Processing city 232: Alihe\n",
      "Processing city 233: Kulhudhuffushi\n",
      "Incomplete..., skip over missing city info.\n",
      "Processing city 235: Puri\n",
      "Processing city 236: Stornoway\n",
      "Processing city 237: Lompoc\n",
      "Processing city 238: Preobrazheniye\n",
      "Processing city 239: Meulaboh\n",
      "Processing city 240: Aboyne\n",
      "Processing city 241: Svay Rieng\n",
      "Processing city 242: Ugoofaaru\n",
      "Processing city 243: Bethel\n",
      "Processing city 244: Baculin\n",
      "Incomplete..., skip over missing city info.\n",
      "Processing city 246: Comodoro Rivadavia\n",
      "Processing city 247: Shwebo\n",
      "Processing city 248: Kiama\n",
      "Processing city 249: Warkworth\n",
      "Incomplete..., skip over missing city info.\n",
      "Processing city 251: Puerto del Rosario\n",
      "Processing city 252: East London\n",
      "Processing city 253: Hailey\n",
      "Processing city 254: Palmer\n",
      "Processing city 255: Nagato\n",
      "Processing city 256: Airai\n",
      "Processing city 257: Samarai\n",
      "Processing city 258: Bathsheba\n",
      "Processing city 259: Okha\n",
      "Processing city 260: Kumul\n",
      "Processing city 261: Port Hardy\n"
     ]
    },
    {
     "name": "stdout",
     "output_type": "stream",
     "text": [
      "Incomplete..., skip over missing city info.\n",
      "Incomplete..., skip over missing city info.\n",
      "Processing city 264: Plettenberg Bay\n",
      "Processing city 265: Lincoln\n",
      "Processing city 266: Portland\n",
      "Incomplete..., skip over missing city info.\n",
      "Processing city 268: Souillac\n",
      "Processing city 269: Itarema\n",
      "Processing city 270: Tanout\n",
      "Processing city 271: Mossamedes\n",
      "Processing city 272: Lebu\n",
      "Processing city 273: Zabul Province\n",
      "Processing city 274: Kieta\n",
      "Processing city 275: Meadow Lake\n",
      "Processing city 276: Wanaka\n",
      "Processing city 277: Abhā\n",
      "Processing city 278: Ostrovnoy\n",
      "Processing city 279: Kathmandu\n",
      "Processing city 280: Marawi\n",
      "Processing city 281: Hofn\n",
      "Processing city 282: Bowen\n",
      "Processing city 283: Baruun-Urt\n",
      "Processing city 284: St. George's\n",
      "Processing city 285: Santa Rosa\n",
      "Processing city 286: Oktyabr'skiy\n",
      "Processing city 287: Luján\n",
      "Processing city 288: Green River\n",
      "Processing city 289: Anadyr\n",
      "Processing city 290: Cidreira\n",
      "Processing city 291: Bodden Town\n",
      "Incomplete..., skip over missing city info.\n",
      "Processing city 293: Fortuna\n",
      "Processing city 294: Plouzané\n",
      "Processing city 295: Qaqortoq\n",
      "Processing city 296: Gambēla\n",
      "Processing city 297: Angoram\n",
      "Processing city 298: Avera\n",
      "Processing city 299: Mednogorsk\n",
      "Processing city 300: Kampot\n",
      "Processing city 301: Saldanha\n",
      "Processing city 302: Iquique\n",
      "Processing city 303: Paralímni\n",
      "Processing city 304: Butembo\n",
      "Processing city 305: Beitbridge\n",
      "Processing city 306: Ciudad Juárez\n",
      "Processing city 307: Alofi\n",
      "Processing city 308: Acapulco de Juárez\n",
      "Processing city 309: Brae\n",
      "Processing city 310: Miami\n",
      "Incomplete..., skip over missing city info.\n",
      "Processing city 312: North Bend\n",
      "Processing city 313: Thompson\n",
      "Processing city 314: Paamiut\n",
      "Processing city 315: Trairi\n",
      "Processing city 316: Neiafu\n",
      "Processing city 317: Barabai\n",
      "Processing city 318: Kikwit\n",
      "Processing city 319: Sambava\n",
      "Processing city 320: Arang\n",
      "Processing city 321: Pamanukan\n",
      "Processing city 322: La Ronge\n",
      "Processing city 323: Maragogi\n",
      "Processing city 324: Yerbogachën\n",
      "Processing city 325: Marystown\n",
      "Processing city 326: Lyuban'\n",
      "Processing city 327: Dehlorān\n",
      "Incomplete..., skip over missing city info.\n",
      "Processing city 329: Santa Maria\n",
      "Processing city 330: Gazli\n",
      "Processing city 331: Balezino\n",
      "Processing city 332: Sokoni\n",
      "Incomplete..., skip over missing city info.\n",
      "Processing city 334: Salalah\n",
      "Processing city 335: Lufilufi\n",
      "Processing city 336: Matagami\n",
      "Processing city 337: San Miguel de Cozumel\n",
      "Processing city 338: Edgewater\n",
      "Processing city 339: Sept-Îles\n",
      "Processing city 340: Broome\n",
      "Processing city 341: Hervey Bay\n",
      "Processing city 342: Ouro Sogui\n",
      "Processing city 343: Norman Wells\n",
      "Processing city 344: Caucayá\n",
      "Processing city 345: Namatanai\n",
      "Processing city 346: Zhigansk\n",
      "Processing city 347: Yaring\n",
      "Processing city 348: Makakilo City\n",
      "Incomplete..., skip over missing city info.\n",
      "Processing city 350: Guarapari\n",
      "Incomplete..., skip over missing city info.\n",
      "Processing city 352: Sitka\n",
      "Processing city 353: Coquimbo\n",
      "Incomplete..., skip over missing city info.\n",
      "Processing city 355: São Gabriel da Cachoeira\n",
      "Processing city 356: Nioro\n",
      "Processing city 357: Luangwa\n",
      "Processing city 358: Darnah\n",
      "Processing city 359: Rio Pardo de Minas\n",
      "Processing city 360: Filingué\n",
      "Processing city 361: Katobu\n",
      "Processing city 362: Grand Gaube\n",
      "Processing city 363: Kamina\n",
      "Processing city 364: Abu Samrah\n",
      "Processing city 365: Catherinas Lust\n",
      "Incomplete..., skip over missing city info.\n",
      "Processing city 367: Morondava\n",
      "Processing city 368: Waingapu\n",
      "Processing city 369: Kokopo\n",
      "Processing city 370: Maridi\n",
      "Processing city 371: Morón\n",
      "Processing city 372: Rabat\n",
      "Processing city 373: Arrondissement de Cambrai\n",
      "Processing city 374: Gyānpur\n",
      "Processing city 375: Cairns\n",
      "Processing city 376: Hauterive\n",
      "Processing city 377: Vanimo\n",
      "Processing city 378: Vallenar\n",
      "Processing city 379: Christchurch\n",
      "Processing city 380: Pangoa\n",
      "Processing city 381: Hukuntsi\n",
      "Processing city 382: Bougouni\n",
      "Processing city 383: São José da Coroa Grande\n",
      "Processing city 384: Ranau\n",
      "Processing city 385: Taseyevo\n",
      "Processing city 386: Ust-Nera\n",
      "Processing city 387: Qandala\n",
      "Processing city 388: Shizilu\n",
      "Processing city 389: Dvinskoy Bereznik\n",
      "Processing city 390: Mount Isa\n",
      "Processing city 391: Serra Talhada\n",
      "Processing city 392: Veliky Novgorod\n",
      "Processing city 393: Araouane\n",
      "Processing city 394: Granada\n",
      "Processing city 395: Tessalit\n",
      "Processing city 396: Flinders\n",
      "Processing city 397: Yantongshan\n",
      "Processing city 398: Nogliki\n",
      "Processing city 399: Burnie\n",
      "Processing city 400: Sayyan\n",
      "Processing city 401: Geraldton\n",
      "Processing city 402: Non Sung\n",
      "Processing city 403: Amboise\n",
      "Processing city 404: Pisco\n",
      "Processing city 405: Esim\n",
      "Processing city 406: Mount Gambier\n",
      "Processing city 407: Pallasovka\n",
      "Processing city 408: Coahuayana Viejo\n",
      "Processing city 409: Fethiye\n",
      "Processing city 410: Moengo\n",
      "Processing city 411: Coyhaique\n",
      "Processing city 412: Poum\n",
      "Processing city 413: Voloshka\n",
      "Processing city 414: Venice of the Philippines\n",
      "Processing city 415: Diffa\n",
      "Processing city 416: Antalaha\n",
      "Processing city 417: Belyy Yar\n",
      "Processing city 418: Lüderitz\n",
      "Processing city 419: Kununurra\n",
      "Processing city 420: Corning\n",
      "Processing city 421: La Ferté-Bernard\n",
      "Incomplete..., skip over missing city info.\n",
      "Processing city 423: Aripuanã\n",
      "Processing city 424: Marsh Harbour\n",
      "Processing city 425: Finschhafen\n",
      "Processing city 426: Ambon City\n",
      "Processing city 427: San Andrés\n",
      "Processing city 428: Vadsø\n",
      "Processing city 429: Terrace Bay\n",
      "Processing city 430: Guilin\n",
      "Processing city 431: Jishou\n",
      "Processing city 432: Mtambile\n",
      "Processing city 433: Methven\n",
      "Incomplete..., skip over missing city info.\n",
      "Processing city 435: Ulladulla\n",
      "Incomplete..., skip over missing city info.\n",
      "Incomplete..., skip over missing city info.\n",
      "Processing city 438: Leopold\n",
      "Processing city 439: Yar-Sale\n",
      "Processing city 440: Morwa\n",
      "Processing city 441: Finnsnes\n",
      "Processing city 442: Big Spring\n",
      "Processing city 443: Sioux Lookout\n",
      "Processing city 444: Falkenberg\n",
      "Processing city 445: Sibi\n",
      "Incomplete..., skip over missing city info.\n",
      "Incomplete..., skip over missing city info.\n",
      "Processing city 448: Moa\n",
      "Processing city 449: Bouna\n",
      "Processing city 450: Peleduy\n",
      "Processing city 451: Dhidhdhoo\n",
      "Processing city 452: Biscarrosse\n",
      "Processing city 453: Malinyi\n",
      "Processing city 454: Cabo San Lucas\n",
      "Processing city 455: Kedrovyy\n",
      "Processing city 456: Yablonovo\n",
      "Processing city 457: Øksfjord\n",
      "Processing city 458: Yekaterinovka\n",
      "Incomplete..., skip over missing city info.\n",
      "Processing city 460: Ancud\n",
      "Processing city 461: Fairbanks\n",
      "Processing city 462: Ascension\n",
      "Processing city 463: Innisfail\n",
      "Processing city 464: Tungor\n",
      "Processing city 465: Lata\n",
      "Processing city 466: Ust-Tsilma\n",
      "Incomplete..., skip over missing city info.\n",
      "Processing city 468: Margate\n",
      "Processing city 469: Padang\n",
      "Processing city 470: Arrondissement de Libourne\n",
      "Incomplete..., skip over missing city info.\n",
      "Processing city 472: Yangi Marg`ilon\n",
      "Processing city 473: Mehamn\n",
      "Incomplete..., skip over missing city info.\n",
      "Processing city 475: Moose Factory\n",
      "Processing city 476: Poronaysk\n",
      "Processing city 477: Ardabil\n",
      "Processing city 478: Lanzhou\n",
      "Processing city 479: French Harbor\n",
      "Processing city 480: Abong Mbang\n",
      "Processing city 481: Birnin Kebbi\n",
      "Processing city 482: Ulaanbaatar\n",
      "Processing city 483: Gīdolē\n",
      "Incomplete..., skip over missing city info.\n",
      "Processing city 485: Iqaluit\n",
      "Processing city 486: Prachuap Khiri Khan\n",
      "Processing city 487: Porto Santo\n",
      "Processing city 488: Burlington\n",
      "Processing city 489: Mulegé\n",
      "Processing city 490: Pilar\n",
      "Processing city 491: Amapá\n",
      "Processing city 492: Yeniseysk\n",
      "Incomplete..., skip over missing city info.\n",
      "Processing city 494: Mandera\n",
      "Processing city 495: Ilulissat\n",
      "Processing city 496: Inhambane\n",
      "Processing city 497: Troitsko-Pechorsk\n",
      "Incomplete..., skip over missing city info.\n",
      "Processing city 499: Chickasha\n",
      "Processing city 500: Bloomfield\n",
      "Processing city 501: Tual\n",
      "Processing city 502: Ōfunato\n",
      "Processing city 503: Hot Springs\n",
      "Processing city 504: Siavonga\n",
      "Incomplete..., skip over missing city info.\n",
      "Processing city 506: Cayenne\n",
      "Incomplete..., skip over missing city info.\n",
      "Processing city 508: Shimoda\n",
      "Processing city 509: Malbork\n",
      "Processing city 510: Jackson\n",
      "Processing city 511: Huarmey\n",
      "Processing city 512: Esqueda\n",
      "Processing city 513: Mporokoso\n",
      "Processing city 514: Batagay-Alyta\n",
      "Processing city 515: Balyqshy\n",
      "Processing city 516: Kotido\n",
      "Processing city 517: Marck\n"
     ]
    },
    {
     "name": "stdout",
     "output_type": "stream",
     "text": [
      "Processing city 518: San Cristobal\n",
      "Processing city 519: Lere\n",
      "Processing city 520: Luanda\n",
      "Processing city 521: Feijó\n",
      "Incomplete..., skip over missing city info.\n",
      "Processing city 523: Shiyan\n",
      "Processing city 524: Parral\n",
      "Processing city 525: Beşikdüzü\n",
      "Processing city 526: Pacific Grove\n",
      "Processing city 527: Solnechnyy\n",
      "Processing city 528: Yeppoon\n",
      "Processing city 529: Bandarbeyla\n",
      "Processing city 530: Gushikawa\n",
      "Processing city 531: Baza\n",
      "Processing city 532: Sur\n",
      "Processing city 533: Gizo Government Station\n",
      "Processing city 534: Deputatsky\n",
      "Processing city 535: Umm Kaddadah\n",
      "Processing city 536: Río Gallegos\n",
      "Processing city 537: Bāfq\n",
      "Processing city 538: Chicama\n",
      "Processing city 539: Noshiro\n",
      "Processing city 540: Nizhniy Baskunchak\n",
      "Processing city 541: Gunjur\n",
      "Incomplete..., skip over missing city info.\n",
      "Processing city 543: Roncesvalles\n",
      "Processing city 544: Chizhou\n",
      "Incomplete..., skip over missing city info.\n",
      "Processing city 546: Woodstock\n",
      "Incomplete..., skip over missing city info.\n",
      "Processing city 548: Riesa\n",
      "Processing city 549: Cuamba\n",
      "Processing city 550: Shīeli\n",
      "Processing city 551: Beringovskiy\n",
      "Processing city 552: Birao\n",
      "Processing city 553: Paraná\n",
      "Processing city 554: Byron Bay\n",
      "Processing city 555: Zlaté Hory\n",
      "Processing city 556: Aktobe\n",
      "Processing city 557: Rumonge\n",
      "Processing city 558: Plastun\n",
      "Processing city 559: Lorengau\n",
      "Processing city 560: Mikkeli\n",
      "Processing city 561: Pyn U Lwin\n",
      "Processing city 562: Bujumbura\n",
      "Processing city 563: Adrar\n",
      "Processing city 564: Alangāyam\n",
      "Processing city 565: Casablanca\n",
      "Processing city 566: Peravurani\n",
      "Processing city 567: Otofuke\n",
      "Processing city 568: Nālūt\n",
      "Processing city 569: Pontes e Lacerda\n",
      "Processing city 570: Shakiso\n",
      "Processing city 571: Havre-St-Pierre\n",
      "Processing city 572: Ahipara\n",
      "Processing city 573: La Maná\n",
      "Processing city 574: Barra de Tecoanapa\n",
      "Processing city 575: Diu\n",
      "Processing city 576: Kuvandyk\n",
      "Processing city 577: Touros\n",
      "Processing city 578: Severo-Kuril'sk\n",
      "Processing city 579: Yumen\n",
      "Processing city 580: Hoquiam\n",
      "Processing city 581: Crossville\n",
      "Processing city 582: Ōhara\n",
      "Processing city 583: Viedma\n",
      "Processing city 584: Amelia\n",
      "Processing city 585: Lundazi\n",
      "Processing city 586: Lázaro Cárdenas\n",
      "Processing city 587: Agüimes\n",
      "Processing city 588: Ovruch\n",
      "Processing city 589: Codrington\n",
      "Processing city 590: Villa Carlos Paz\n",
      "Processing city 591: Shumskiy\n",
      "Processing city 592: San Isidro\n",
      "Processing city 593: Urzhum\n",
      "Incomplete..., skip over missing city info.\n",
      "Processing city 595: Calabozo\n",
      "Processing city 596: Saint-Augustin\n",
      "Processing city 597: Norwich\n",
      "Processing city 598: Chipinge\n",
      "Processing city 599: Savinka\n",
      "Incomplete..., skip over missing city info.\n",
      "Processing city 601: Colares\n",
      "Processing city 602: Zhaoqing\n",
      "Processing city 603: Vilhena\n",
      "Processing city 604: Kaeo\n",
      "Processing city 605: Wajima\n",
      "Complete\n"
     ]
    }
   ],
   "source": [
    "# Setup API Calling\n",
    "# url\n",
    "url = \"http://api.openweathermap.org/data/2.5/weather?\"\n",
    "# url = \"https://openweathermap.org/api\"\n",
    "\n",
    "# units\n",
    "unit = \"units=Imperial\"\n",
    "\n",
    "# api\n",
    "api = \"&APPID=\" + weather_api_key\n",
    "\n",
    "# response \n",
    "response = requests.get( url + unit + api).json()\n",
    "\n",
    "# print statement\n",
    "print(response)\n",
    "\n",
    "# Storage for api call data\n",
    "city_info = {\"City\": [], \n",
    "             \"Lat\": [], \n",
    "             \"Lng\": [],\n",
    "             \"Max Temp\": [],\n",
    "             \"Humidity\": [],\n",
    "             \"Cloudiness\": [],\n",
    "             \"Wind Speed\": [],\n",
    "             \"Country\": [], \n",
    "             \"Date\": []}\n",
    "\n",
    "# hint, limit api calls\n",
    "minute = 60\n",
    "@limits(calls=60, period=minute)\n",
    "\n",
    "# api call loop\n",
    "def call_api():\n",
    "    \n",
    "    for i, city in enumerate(cities):\n",
    "        city = requests.get(url + unit + \"&q=\" + cities[i] + api).json()\n",
    "        \n",
    "        try:\n",
    "            print(\"Processing city \" + str(i) + \": \" + city[\"name\"])\n",
    "        \n",
    "            city_info[\"City\"].append(city[\"name\"])\n",
    "            city_info[\"Lat\"].append(city[\"coord\"][\"lat\"])\n",
    "            city_info[\"Lng\"].append(city[\"coord\"][\"lon\"])\n",
    "            city_info[\"Max Temp\"].append(city[\"main\"][\"temp_max\"])\n",
    "            city_info[\"Humidity\"].append(city[\"main\"][\"humidity\"])\n",
    "            city_info[\"Cloudiness\"].append(city[\"clouds\"][\"all\"])\n",
    "            city_info[\"Wind Speed\"].append(city[\"wind\"][\"speed\"])\n",
    "            city_info[\"Country\"].append(city[\"sys\"][\"country\"])\n",
    "            city_info[\"Date\"].append(city[\"dt\"])\n",
    "            \n",
    "        except:\n",
    "            print(\"Incomplete..., skip over missing city info.\")\n",
    "            pass\n",
    "    print(\"Complete\")\n",
    "    \n",
    "call_api()\n",
    "\n",
    "\n",
    "            \n",
    "            \n",
    "        "
   ]
  },
  {
   "cell_type": "markdown",
   "metadata": {},
   "source": [
    "### Convert Raw Data to DataFrame\n",
    "* Export the city data into a .csv.\n",
    "* Display the DataFrame"
   ]
  },
  {
   "cell_type": "code",
   "execution_count": 24,
   "metadata": {},
   "outputs": [],
   "source": [
    "# Creating DataFrame\n",
    "city_info_df = pd.DataFrame(city_info)\n",
    "\n",
    "# Clean DataFrame\n",
    "city_info_df[\"Max Temp\"] = city_info_df[\"Max Temp\"].replace('', np.nan)\n",
    "city_info_df = city_info_df.dropna()\n",
    "\n",
    "city_count = len(city_info_df)\n",
    "# Export as CSV file\n",
    "city_info_df.to_csv(output_data_file, index_label=\"City_ID\")"
   ]
  },
  {
   "cell_type": "code",
   "execution_count": 25,
   "metadata": {},
   "outputs": [
    {
     "data": {
      "text/html": [
       "<div>\n",
       "<style scoped>\n",
       "    .dataframe tbody tr th:only-of-type {\n",
       "        vertical-align: middle;\n",
       "    }\n",
       "\n",
       "    .dataframe tbody tr th {\n",
       "        vertical-align: top;\n",
       "    }\n",
       "\n",
       "    .dataframe thead th {\n",
       "        text-align: right;\n",
       "    }\n",
       "</style>\n",
       "<table border=\"1\" class=\"dataframe\">\n",
       "  <thead>\n",
       "    <tr style=\"text-align: right;\">\n",
       "      <th></th>\n",
       "      <th>City</th>\n",
       "      <th>Lat</th>\n",
       "      <th>Lng</th>\n",
       "      <th>Max Temp</th>\n",
       "      <th>Humidity</th>\n",
       "      <th>Cloudiness</th>\n",
       "      <th>Wind Speed</th>\n",
       "      <th>Country</th>\n",
       "      <th>Date</th>\n",
       "    </tr>\n",
       "  </thead>\n",
       "  <tbody>\n",
       "    <tr>\n",
       "      <th>0</th>\n",
       "      <td>Hearst</td>\n",
       "      <td>49.6835</td>\n",
       "      <td>-83.6665</td>\n",
       "      <td>3.45</td>\n",
       "      <td>96</td>\n",
       "      <td>100</td>\n",
       "      <td>7.36</td>\n",
       "      <td>CA</td>\n",
       "      <td>1644201140</td>\n",
       "    </tr>\n",
       "    <tr>\n",
       "      <th>1</th>\n",
       "      <td>Atuona</td>\n",
       "      <td>-9.8000</td>\n",
       "      <td>-139.0333</td>\n",
       "      <td>78.80</td>\n",
       "      <td>77</td>\n",
       "      <td>12</td>\n",
       "      <td>17.09</td>\n",
       "      <td>PF</td>\n",
       "      <td>1644201272</td>\n",
       "    </tr>\n",
       "    <tr>\n",
       "      <th>2</th>\n",
       "      <td>Albany</td>\n",
       "      <td>42.6001</td>\n",
       "      <td>-73.9662</td>\n",
       "      <td>21.31</td>\n",
       "      <td>76</td>\n",
       "      <td>10</td>\n",
       "      <td>4.18</td>\n",
       "      <td>US</td>\n",
       "      <td>1644201074</td>\n",
       "    </tr>\n",
       "    <tr>\n",
       "      <th>3</th>\n",
       "      <td>Carnarvon</td>\n",
       "      <td>-24.8667</td>\n",
       "      <td>113.6333</td>\n",
       "      <td>78.87</td>\n",
       "      <td>36</td>\n",
       "      <td>6</td>\n",
       "      <td>21.85</td>\n",
       "      <td>AU</td>\n",
       "      <td>1644201272</td>\n",
       "    </tr>\n",
       "    <tr>\n",
       "      <th>4</th>\n",
       "      <td>Hermanus</td>\n",
       "      <td>-34.4187</td>\n",
       "      <td>19.2345</td>\n",
       "      <td>65.80</td>\n",
       "      <td>92</td>\n",
       "      <td>66</td>\n",
       "      <td>4.25</td>\n",
       "      <td>ZA</td>\n",
       "      <td>1644201273</td>\n",
       "    </tr>\n",
       "    <tr>\n",
       "      <th>...</th>\n",
       "      <td>...</td>\n",
       "      <td>...</td>\n",
       "      <td>...</td>\n",
       "      <td>...</td>\n",
       "      <td>...</td>\n",
       "      <td>...</td>\n",
       "      <td>...</td>\n",
       "      <td>...</td>\n",
       "      <td>...</td>\n",
       "    </tr>\n",
       "    <tr>\n",
       "      <th>552</th>\n",
       "      <td>Colares</td>\n",
       "      <td>38.7992</td>\n",
       "      <td>-9.4469</td>\n",
       "      <td>52.79</td>\n",
       "      <td>51</td>\n",
       "      <td>4</td>\n",
       "      <td>5.01</td>\n",
       "      <td>PT</td>\n",
       "      <td>1644201459</td>\n",
       "    </tr>\n",
       "    <tr>\n",
       "      <th>553</th>\n",
       "      <td>Zhaoqing</td>\n",
       "      <td>23.0512</td>\n",
       "      <td>112.4597</td>\n",
       "      <td>59.67</td>\n",
       "      <td>91</td>\n",
       "      <td>100</td>\n",
       "      <td>3.44</td>\n",
       "      <td>CN</td>\n",
       "      <td>1644201459</td>\n",
       "    </tr>\n",
       "    <tr>\n",
       "      <th>554</th>\n",
       "      <td>Vilhena</td>\n",
       "      <td>-12.7406</td>\n",
       "      <td>-60.1458</td>\n",
       "      <td>69.28</td>\n",
       "      <td>98</td>\n",
       "      <td>100</td>\n",
       "      <td>3.20</td>\n",
       "      <td>BR</td>\n",
       "      <td>1644201460</td>\n",
       "    </tr>\n",
       "    <tr>\n",
       "      <th>555</th>\n",
       "      <td>Kaeo</td>\n",
       "      <td>-35.1000</td>\n",
       "      <td>173.7833</td>\n",
       "      <td>77.32</td>\n",
       "      <td>97</td>\n",
       "      <td>99</td>\n",
       "      <td>6.44</td>\n",
       "      <td>NZ</td>\n",
       "      <td>1644201460</td>\n",
       "    </tr>\n",
       "    <tr>\n",
       "      <th>556</th>\n",
       "      <td>Wajima</td>\n",
       "      <td>37.4000</td>\n",
       "      <td>136.9000</td>\n",
       "      <td>34.48</td>\n",
       "      <td>86</td>\n",
       "      <td>75</td>\n",
       "      <td>8.05</td>\n",
       "      <td>JP</td>\n",
       "      <td>1644201460</td>\n",
       "    </tr>\n",
       "  </tbody>\n",
       "</table>\n",
       "<p>557 rows × 9 columns</p>\n",
       "</div>"
      ],
      "text/plain": [
       "          City      Lat       Lng  Max Temp  Humidity  Cloudiness  Wind Speed  \\\n",
       "0       Hearst  49.6835  -83.6665      3.45        96         100        7.36   \n",
       "1       Atuona  -9.8000 -139.0333     78.80        77          12       17.09   \n",
       "2       Albany  42.6001  -73.9662     21.31        76          10        4.18   \n",
       "3    Carnarvon -24.8667  113.6333     78.87        36           6       21.85   \n",
       "4     Hermanus -34.4187   19.2345     65.80        92          66        4.25   \n",
       "..         ...      ...       ...       ...       ...         ...         ...   \n",
       "552    Colares  38.7992   -9.4469     52.79        51           4        5.01   \n",
       "553   Zhaoqing  23.0512  112.4597     59.67        91         100        3.44   \n",
       "554    Vilhena -12.7406  -60.1458     69.28        98         100        3.20   \n",
       "555       Kaeo -35.1000  173.7833     77.32        97          99        6.44   \n",
       "556     Wajima  37.4000  136.9000     34.48        86          75        8.05   \n",
       "\n",
       "    Country        Date  \n",
       "0        CA  1644201140  \n",
       "1        PF  1644201272  \n",
       "2        US  1644201074  \n",
       "3        AU  1644201272  \n",
       "4        ZA  1644201273  \n",
       "..      ...         ...  \n",
       "552      PT  1644201459  \n",
       "553      CN  1644201459  \n",
       "554      BR  1644201460  \n",
       "555      NZ  1644201460  \n",
       "556      JP  1644201460  \n",
       "\n",
       "[557 rows x 9 columns]"
      ]
     },
     "execution_count": 25,
     "metadata": {},
     "output_type": "execute_result"
    }
   ],
   "source": [
    "# Inspect DataFrame\n",
    "city_info_df"
   ]
  },
  {
   "cell_type": "code",
   "execution_count": 53,
   "metadata": {},
   "outputs": [
    {
     "name": "stdout",
     "output_type": "stream",
     "text": [
      "557 number of cities were left out of the 557 cities accounted for, giving a success rate of 100.0% retrieval.\n"
     ]
    },
    {
     "data": {
      "text/html": [
       "<div>\n",
       "<style scoped>\n",
       "    .dataframe tbody tr th:only-of-type {\n",
       "        vertical-align: middle;\n",
       "    }\n",
       "\n",
       "    .dataframe tbody tr th {\n",
       "        vertical-align: top;\n",
       "    }\n",
       "\n",
       "    .dataframe thead th {\n",
       "        text-align: right;\n",
       "    }\n",
       "</style>\n",
       "<table border=\"1\" class=\"dataframe\">\n",
       "  <thead>\n",
       "    <tr style=\"text-align: right;\">\n",
       "      <th></th>\n",
       "      <th>City</th>\n",
       "      <th>Lat</th>\n",
       "      <th>Lng</th>\n",
       "      <th>Max Temp</th>\n",
       "      <th>Humidity</th>\n",
       "      <th>Cloudiness</th>\n",
       "      <th>Wind Speed</th>\n",
       "      <th>Country</th>\n",
       "      <th>Date</th>\n",
       "    </tr>\n",
       "  </thead>\n",
       "  <tbody>\n",
       "    <tr>\n",
       "      <th>0</th>\n",
       "      <td>Hearst</td>\n",
       "      <td>49.6835</td>\n",
       "      <td>-83.6665</td>\n",
       "      <td>3.45</td>\n",
       "      <td>96</td>\n",
       "      <td>100</td>\n",
       "      <td>7.36</td>\n",
       "      <td>CA</td>\n",
       "      <td>1644201140</td>\n",
       "    </tr>\n",
       "    <tr>\n",
       "      <th>1</th>\n",
       "      <td>Atuona</td>\n",
       "      <td>-9.8000</td>\n",
       "      <td>-139.0333</td>\n",
       "      <td>78.80</td>\n",
       "      <td>77</td>\n",
       "      <td>12</td>\n",
       "      <td>17.09</td>\n",
       "      <td>PF</td>\n",
       "      <td>1644201272</td>\n",
       "    </tr>\n",
       "    <tr>\n",
       "      <th>2</th>\n",
       "      <td>Albany</td>\n",
       "      <td>42.6001</td>\n",
       "      <td>-73.9662</td>\n",
       "      <td>21.31</td>\n",
       "      <td>76</td>\n",
       "      <td>10</td>\n",
       "      <td>4.18</td>\n",
       "      <td>US</td>\n",
       "      <td>1644201074</td>\n",
       "    </tr>\n",
       "    <tr>\n",
       "      <th>3</th>\n",
       "      <td>Carnarvon</td>\n",
       "      <td>-24.8667</td>\n",
       "      <td>113.6333</td>\n",
       "      <td>78.87</td>\n",
       "      <td>36</td>\n",
       "      <td>6</td>\n",
       "      <td>21.85</td>\n",
       "      <td>AU</td>\n",
       "      <td>1644201272</td>\n",
       "    </tr>\n",
       "    <tr>\n",
       "      <th>4</th>\n",
       "      <td>Hermanus</td>\n",
       "      <td>-34.4187</td>\n",
       "      <td>19.2345</td>\n",
       "      <td>65.80</td>\n",
       "      <td>92</td>\n",
       "      <td>66</td>\n",
       "      <td>4.25</td>\n",
       "      <td>ZA</td>\n",
       "      <td>1644201273</td>\n",
       "    </tr>\n",
       "    <tr>\n",
       "      <th>...</th>\n",
       "      <td>...</td>\n",
       "      <td>...</td>\n",
       "      <td>...</td>\n",
       "      <td>...</td>\n",
       "      <td>...</td>\n",
       "      <td>...</td>\n",
       "      <td>...</td>\n",
       "      <td>...</td>\n",
       "      <td>...</td>\n",
       "    </tr>\n",
       "    <tr>\n",
       "      <th>552</th>\n",
       "      <td>Colares</td>\n",
       "      <td>38.7992</td>\n",
       "      <td>-9.4469</td>\n",
       "      <td>52.79</td>\n",
       "      <td>51</td>\n",
       "      <td>4</td>\n",
       "      <td>5.01</td>\n",
       "      <td>PT</td>\n",
       "      <td>1644201459</td>\n",
       "    </tr>\n",
       "    <tr>\n",
       "      <th>553</th>\n",
       "      <td>Zhaoqing</td>\n",
       "      <td>23.0512</td>\n",
       "      <td>112.4597</td>\n",
       "      <td>59.67</td>\n",
       "      <td>91</td>\n",
       "      <td>100</td>\n",
       "      <td>3.44</td>\n",
       "      <td>CN</td>\n",
       "      <td>1644201459</td>\n",
       "    </tr>\n",
       "    <tr>\n",
       "      <th>554</th>\n",
       "      <td>Vilhena</td>\n",
       "      <td>-12.7406</td>\n",
       "      <td>-60.1458</td>\n",
       "      <td>69.28</td>\n",
       "      <td>98</td>\n",
       "      <td>100</td>\n",
       "      <td>3.20</td>\n",
       "      <td>BR</td>\n",
       "      <td>1644201460</td>\n",
       "    </tr>\n",
       "    <tr>\n",
       "      <th>555</th>\n",
       "      <td>Kaeo</td>\n",
       "      <td>-35.1000</td>\n",
       "      <td>173.7833</td>\n",
       "      <td>77.32</td>\n",
       "      <td>97</td>\n",
       "      <td>99</td>\n",
       "      <td>6.44</td>\n",
       "      <td>NZ</td>\n",
       "      <td>1644201460</td>\n",
       "    </tr>\n",
       "    <tr>\n",
       "      <th>556</th>\n",
       "      <td>Wajima</td>\n",
       "      <td>37.4000</td>\n",
       "      <td>136.9000</td>\n",
       "      <td>34.48</td>\n",
       "      <td>86</td>\n",
       "      <td>75</td>\n",
       "      <td>8.05</td>\n",
       "      <td>JP</td>\n",
       "      <td>1644201460</td>\n",
       "    </tr>\n",
       "  </tbody>\n",
       "</table>\n",
       "<p>557 rows × 9 columns</p>\n",
       "</div>"
      ],
      "text/plain": [
       "          City      Lat       Lng  Max Temp  Humidity  Cloudiness  Wind Speed  \\\n",
       "0       Hearst  49.6835  -83.6665      3.45        96         100        7.36   \n",
       "1       Atuona  -9.8000 -139.0333     78.80        77          12       17.09   \n",
       "2       Albany  42.6001  -73.9662     21.31        76          10        4.18   \n",
       "3    Carnarvon -24.8667  113.6333     78.87        36           6       21.85   \n",
       "4     Hermanus -34.4187   19.2345     65.80        92          66        4.25   \n",
       "..         ...      ...       ...       ...       ...         ...         ...   \n",
       "552    Colares  38.7992   -9.4469     52.79        51           4        5.01   \n",
       "553   Zhaoqing  23.0512  112.4597     59.67        91         100        3.44   \n",
       "554    Vilhena -12.7406  -60.1458     69.28        98         100        3.20   \n",
       "555       Kaeo -35.1000  173.7833     77.32        97          99        6.44   \n",
       "556     Wajima  37.4000  136.9000     34.48        86          75        8.05   \n",
       "\n",
       "    Country        Date  \n",
       "0        CA  1644201140  \n",
       "1        PF  1644201272  \n",
       "2        US  1644201074  \n",
       "3        AU  1644201272  \n",
       "4        ZA  1644201273  \n",
       "..      ...         ...  \n",
       "552      PT  1644201459  \n",
       "553      CN  1644201459  \n",
       "554      BR  1644201460  \n",
       "555      NZ  1644201460  \n",
       "556      JP  1644201460  \n",
       "\n",
       "[557 rows x 9 columns]"
      ]
     },
     "execution_count": 53,
     "metadata": {},
     "output_type": "execute_result"
    }
   ],
   "source": [
    "leftover_cities = city_info_df.loc[city_info_df[\"City\"] != \"Failed!\"]\n",
    "leftover_cities_count = len(leftover_cities)\n",
    "print(\"{} number of cities were left out of the {} cities accounted for, giving a success rate of {:.1%} retrieval.\"\n",
    "      .format(leftover_cities_count, city_count, (leftover_cities_count/city_count)))\n",
    "\n",
    "leftover_cities.index = [a for a in range(leftover_cities_count)]\n",
    "\n",
    "non_numeric_columns = [\"City\", \"Country\", \"Date\"]\n",
    "\n",
    "for col in leftover_cities.columns:\n",
    "    if(col not in non_numeric_columns):\n",
    "        leftover_cities[col] = pd.to_numeric(leftover_cities[col])\n",
    "        \n",
    "\n",
    "leftover_cities"
   ]
  },
  {
   "cell_type": "markdown",
   "metadata": {},
   "source": [
    "## Inspect the data and remove the cities where the humidity > 100%.\n",
    "----\n",
    "Skip this step if there are no cities that have humidity > 100%. "
   ]
  },
  {
   "cell_type": "code",
   "execution_count": 28,
   "metadata": {},
   "outputs": [],
   "source": [
    "# Table Columns\n",
    "lat = city_info_df[\"Lat\"]\n",
    "max_temp = city_info_df[\"Max Temp\"]\n",
    "humidity = city_info_df[\"Humidity\"]\n",
    "cloudiness = city_info_df[\"Cloudiness\"]\n",
    "wind_speed = city_info_df[\"Wind Speed\"]"
   ]
  },
  {
   "cell_type": "code",
   "execution_count": 29,
   "metadata": {},
   "outputs": [
    {
     "data": {
      "text/plain": [
       "0      96\n",
       "1      77\n",
       "2      76\n",
       "3      36\n",
       "4      92\n",
       "       ..\n",
       "552    51\n",
       "553    91\n",
       "554    98\n",
       "555    97\n",
       "556    86\n",
       "Name: Humidity, Length: 557, dtype: int64"
      ]
     },
     "execution_count": 29,
     "metadata": {},
     "output_type": "execute_result"
    }
   ],
   "source": [
    "#  Get the indices of cities that have humidity over 100%.\n",
    "city_info_df[\"Humidity\"]"
   ]
  },
  {
   "cell_type": "code",
   "execution_count": 30,
   "metadata": {},
   "outputs": [
    {
     "name": "stderr",
     "output_type": "stream",
     "text": [
      "C:\\Users\\chris\\anaconda3\\lib\\site-packages\\seaborn\\_decorators.py:36: FutureWarning: Pass the following variable as a keyword arg: x. From version 0.12, the only valid positional argument will be `data`, and passing other arguments without an explicit keyword will result in an error or misinterpretation.\n",
      "  warnings.warn(\n"
     ]
    },
    {
     "data": {
      "text/plain": [
       "<AxesSubplot:xlabel='Humidity'>"
      ]
     },
     "execution_count": 30,
     "metadata": {},
     "output_type": "execute_result"
    },
    {
     "data": {
      "image/png": "[encoded data removed]",
      "text/plain": [
       "<Figure size 432x288 with 1 Axes>"
      ]
     },
     "metadata": {
      "needs_background": "light"
     },
     "output_type": "display_data"
    }
   ],
   "source": [
    "# Couldn't figure out how to use plot_filtered to fix FutureWarning\n",
    "sns.boxplot(city_info_df[\"Humidity\"])\n",
    "\n"
   ]
  },
  {
   "cell_type": "code",
   "execution_count": 31,
   "metadata": {},
   "outputs": [
    {
     "name": "stdout",
     "output_type": "stream",
     "text": [
      "(array([], dtype=int64),)\n"
     ]
    }
   ],
   "source": [
    "# Print Outlier (if one exists)\n",
    "print(np.where(city_info_df[\"Humidity\"] > 100))\n",
    "# Array is empty, no 'Humidity' over 100% exists in current dataset."
   ]
  },
  {
   "cell_type": "markdown",
   "metadata": {},
   "source": [
    "## Plotting the Data\n",
    "* Use proper labeling of the plots using plot titles (including date of analysis) and axes labels.\n",
    "* Save the plotted figures as .pngs."
   ]
  },
  {
   "cell_type": "markdown",
   "metadata": {},
   "source": [
    "## Latitude vs. Temperature Plot"
   ]
  },
  {
   "cell_type": "code",
   "execution_count": 32,
   "metadata": {
    "scrolled": true
   },
   "outputs": [
    {
     "data": {
      "image/png": "[encoded data removed]",
      "text/plain": [
       "<Figure size 576x432 with 1 Axes>"
      ]
     },
     "metadata": {
      "needs_background": "light"
     },
     "output_type": "display_data"
    }
   ],
   "source": [
    "# Latitude vs Temperature\n",
    "# viz config\n",
    "plt.figure(figsize=(8,6))\n",
    "lat_vs_temp = plt.scatter(lat, max_temp, linewidths=1, marker=\"o\")\n",
    "\n",
    "\n",
    "# titles & labels\n",
    "plt.title(\"Latitude of City vs Max Temperature (%)\")\n",
    "plt.xlabel(\"Latitude\")\n",
    "plt.ylabel(\"Max Temperature (F)\")\n",
    "# Display Plot\n",
    "plt.show()"
   ]
  },
  {
   "cell_type": "code",
   "execution_count": 33,
   "metadata": {},
   "outputs": [],
   "source": [
    "# Save fig\n",
    "lat_vs_temp.get_figure().savefig(\"../Images/Fig1.png\")"
   ]
  },
  {
   "cell_type": "markdown",
   "metadata": {},
   "source": [
    "## Latitude vs. Humidity Plot"
   ]
  },
  {
   "cell_type": "code",
   "execution_count": 34,
   "metadata": {},
   "outputs": [
    {
     "data": {
      "image/png": "[encoded data removed]",
      "text/plain": [
       "<Figure size 576x432 with 1 Axes>"
      ]
     },
     "metadata": {
      "needs_background": "light"
     },
     "output_type": "display_data"
    }
   ],
   "source": [
    "# Latitude vs Humidity\n",
    "# viz config\n",
    "plt.figure(figsize=(8,6))\n",
    "lat_vs_humidity = plt.scatter(lat, humidity, linewidths=1, marker=\"o\")\n",
    "\n",
    "# titles & labels\n",
    "plt.title(\"Latitude of City vs Humidity (%)\")\n",
    "plt.xlabel(\"Latitude\")\n",
    "plt.ylabel(\"Humidity (%)\")\n",
    "# Display Plot\n",
    "plt.show()"
   ]
  },
  {
   "cell_type": "code",
   "execution_count": 35,
   "metadata": {},
   "outputs": [],
   "source": [
    "lat_vs_humidity.get_figure().savefig(\"../Images/Fig2.png\")"
   ]
  },
  {
   "cell_type": "markdown",
   "metadata": {},
   "source": [
    "## Latitude vs. Cloudiness Plot"
   ]
  },
  {
   "cell_type": "code",
   "execution_count": 36,
   "metadata": {},
   "outputs": [
    {
     "data": {
      "image/png": "[encoded data removed]",
      "text/plain": [
       "<Figure size 576x432 with 1 Axes>"
      ]
     },
     "metadata": {
      "needs_background": "light"
     },
     "output_type": "display_data"
    }
   ],
   "source": [
    "# Latitude vs Cloudiness\n",
    "# viz config\n",
    "plt.figure(figsize=(8,6))\n",
    "lat_vs_cloudiness = plt.scatter(lat, cloudiness, linewidths=1, marker=\"o\")\n",
    "\n",
    "# titles & labels\n",
    "plt.title(\"Latitude of City vs Cloudiness (%)\")\n",
    "plt.xlabel(\"Latitude\")\n",
    "plt.ylabel(\"Cloudiness (%)\")\n",
    "# Display Plot\n",
    "plt.show()"
   ]
  },
  {
   "cell_type": "code",
   "execution_count": 37,
   "metadata": {},
   "outputs": [],
   "source": [
    "lat_vs_cloudiness.get_figure().savefig(\"../Images/Fig3.png\")"
   ]
  },
  {
   "cell_type": "markdown",
   "metadata": {},
   "source": [
    "## Latitude vs. Wind Speed Plot"
   ]
  },
  {
   "cell_type": "code",
   "execution_count": 38,
   "metadata": {},
   "outputs": [
    {
     "data": {
      "image/png": "[encoded data removed]",
      "text/plain": [
       "<Figure size 576x432 with 1 Axes>"
      ]
     },
     "metadata": {
      "needs_background": "light"
     },
     "output_type": "display_data"
    }
   ],
   "source": [
    "# Latitude vs Cloudiness\n",
    "# viz config\n",
    "plt.figure(figsize=(8,6))\n",
    "lat_vs_wind_speed = plt.scatter(lat, wind_speed, linewidths=1, marker=\"o\")\n",
    "\n",
    "# titles & labels\n",
    "plt.title(\"Latitude of City vs Wind Speed (mph)\")\n",
    "plt.xlabel(\"Latitude\")\n",
    "plt.ylabel(\"Wind Speed (mph)\")\n",
    "# Display Plot\n",
    "plt.show()"
   ]
  },
  {
   "cell_type": "code",
   "execution_count": 39,
   "metadata": {},
   "outputs": [],
   "source": [
    "lat_vs_wind_speed.get_figure().savefig(\"../Images/Fig4.png\")"
   ]
  },
  {
   "cell_type": "markdown",
   "metadata": {},
   "source": [
    "## Linear Regression"
   ]
  },
  {
   "cell_type": "code",
   "execution_count": 65,
   "metadata": {},
   "outputs": [],
   "source": [
    "# Linear Regression\n",
    "def makeLinRegression(city_info_df, x_Col, y_Col):\n",
    "    # preform linear regression\n",
    "    (regr_slope, regr_intercept, regr_r_val, _, _) = linregress(city_info_df[x_Col], city_info_df[y_Col])\n",
    "    # setup x and y axis data for linear regression \n",
    "    x = np.array([a for a in range(int(min(city_info_df[x_Col].values)), int(max(city_info_df[x_Col].values)+1))])\n",
    "    y = regr_slope * x + regr_intercept\n",
    "    # scatter plot\n",
    "    axis_df = city_info_df.plot(kind=\"scatter\", x=x_Col, y=y_Col, title=\"{} vs {} ({})\")\n",
    "    # best fit line\n",
    "    axis_df.plot(x, y, 'r')\n",
    "    \n",
    "    # print statements\n",
    "    print(\"Equation for best-fit linear regression line is y={:.2f}x+{:.2f}\".format(regr_slope, regr_intercept))\n",
    "    \n",
    "    print(\"r-squared correlation coefficient is {:.2f}\".format(regr_r_val))\n",
    "    \n",
    "    # return statement\n",
    "    return axis_df"
   ]
  },
  {
   "cell_type": "code",
   "execution_count": 66,
   "metadata": {},
   "outputs": [
    {
     "name": "stdout",
     "output_type": "stream",
     "text": [
      "The northern hemisphere has 371 cities out of 557 total, accounting for 66.6% of cities in the dataset.\n",
      "The southern hemisphere has 186 cities out of 557 total, accounting for 33.4% of cities in the dataset.\n"
     ]
    }
   ],
   "source": [
    "# Northern and Southern Hemispheres\n",
    "\n",
    "# Northern Hemisphere DataFrame\n",
    "northern_hemisphere = city_info_df.loc[city_info_df[\"Lat\"] >= 0]\n",
    "# Count of Cities in the Northern Hemisphere\n",
    "northern_count = len(northern_hemisphere)\n",
    "# Print \n",
    "print(\"The northern hemisphere has {} cities out of {} total, accounting for {:.1%} of cities in the dataset.\"\n",
    "      .format(northern_count, city_count, (northern_count/city_count)))\n",
    "\n",
    "# Southern Hemisphere DataFrame\n",
    "southern_hemisphere = city_info_df.loc[city_info_df[\"Lat\"] < 0]\n",
    "# Count of Cities in the Southern Hemisphere\n",
    "southern_count = len(southern_hemisphere)\n",
    "# Print \n",
    "print(\"The southern hemisphere has {} cities out of {} total, accounting for {:.1%} of cities in the dataset.\"\n",
    "      .format(southern_count, city_count, (southern_count/city_count)))"
   ]
  },
  {
   "cell_type": "markdown",
   "metadata": {},
   "source": [
    "####  Northern Hemisphere - Max Temp vs. Latitude Linear Regression"
   ]
  },
  {
   "cell_type": "code",
   "execution_count": 77,
   "metadata": {},
   "outputs": [
    {
     "name": "stdout",
     "output_type": "stream",
     "text": [
      "Line of Best-Fit for linear regression is y=-1.31x+89.14\n",
      "The r-squared correlation coefficient is -0.87\n"
     ]
    },
    {
     "data": {
      "image/png": "[encoded data removed]",
      "text/plain": [
       "<Figure size 432x288 with 1 Axes>"
      ]
     },
     "metadata": {
      "needs_background": "light"
     },
     "output_type": "display_data"
    }
   ],
   "source": [
    "(n_temp_slope, n_temp_intercept, n_temp_r_val, _, _) = linregress(northern_hemisphere[\"Lat\"],\n",
    "                                                                 northern_hemisphere[\"Max Temp\"])\n",
    "\n",
    "x = np.array([a for a in range(80)])\n",
    "y = n_temp_slope * x + n_temp_intercept\n",
    "\n",
    "n_temp_axes = northern_hemisphere.plot(kind=\"scatter\", x=\"Lat\", y=\"Max Temp\",\n",
    "                                       title=\"Northern Hemisphere - Max Temp vs. Latitude Linear Regression\")\n",
    "# line of best fit\n",
    "n_temp_axes.plot(x, y, 'r')\n",
    "\n",
    "plt.xlabel(\"Latitude\")\n",
    "plt.ylabel(\"Max Temperture (F)\")\n",
    "\n",
    "# print \n",
    "print(\"Line of Best-Fit for linear regression is y={:.2f}x+{:.2f}\"\n",
    "      .format(n_temp_slope, n_temp_intercept))\n",
    "print(\"The r-squared correlation coefficient is {:.2f}\".format(n_temp_r_val))\n",
    "\n",
    "# save fig\n",
    "n_temp_axes.get_figure().savefig(\"../Images/Fig5_N.png\")"
   ]
  },
  {
   "cell_type": "markdown",
   "metadata": {},
   "source": [
    "####  Southern Hemisphere - Max Temp vs. Latitude Linear Regression"
   ]
  },
  {
   "cell_type": "code",
   "execution_count": 75,
   "metadata": {},
   "outputs": [
    {
     "name": "stdout",
     "output_type": "stream",
     "text": [
      "Equation for best-fit linear regression line is y=0.30x+80.54\n",
      "r-squared correlation coefficient is 0.50\n"
     ]
    },
    {
     "data": {
      "image/png": "[encoded data removed]",
      "text/plain": [
       "<Figure size 432x288 with 1 Axes>"
      ]
     },
     "metadata": {
      "needs_background": "light"
     },
     "output_type": "display_data"
    }
   ],
   "source": [
    "s_temp_axes = makeLinRegression(southern_hemisphere, \"Lat\", \"Max Temp\")\n",
    "plt.title(\"Southern Hemisphere - Max Temp vs. Latitude Linear Regression\")\n",
    "plt.xlabel(\"Latitude\")\n",
    "plt.ylabel(\"Max Temperture (F)\")\n",
    "s_temp_axes.get_figure().savefig(\"../Images/Fig6_S.png\")"
   ]
  },
  {
   "cell_type": "markdown",
   "metadata": {},
   "source": [
    "####  Northern Hemisphere - Humidity (%) vs. Latitude Linear Regression"
   ]
  },
  {
   "cell_type": "code",
   "execution_count": 79,
   "metadata": {},
   "outputs": [
    {
     "name": "stdout",
     "output_type": "stream",
     "text": [
      "Equation for best-fit linear regression line is y=0.50x+52.84\n",
      "r-squared correlation coefficient is 0.45\n"
     ]
    },
    {
     "data": {
      "image/png": "[encoded data removed]",
      "text/plain": [
       "<Figure size 432x288 with 1 Axes>"
      ]
     },
     "metadata": {
      "needs_background": "light"
     },
     "output_type": "display_data"
    }
   ],
   "source": [
    "n_humidity_lat_axes = makeLinRegression(northern_hemisphere, \"Lat\", \"Humidity\")\n",
    "plt.title(\"Northern Hemisphere - Humidity (%) vs. Latitude Linear Regression\")\n",
    "plt.xlabel(\"Latitude\")\n",
    "plt.ylabel(\"Humidity (%)\")\n",
    "n_humidity_lat_axes.get_figure().savefig(\"../Images/Fig7_N.png\")"
   ]
  },
  {
   "cell_type": "markdown",
   "metadata": {},
   "source": [
    "####  Southern Hemisphere - Humidity (%) vs. Latitude Linear Regression"
   ]
  },
  {
   "cell_type": "code",
   "execution_count": 80,
   "metadata": {},
   "outputs": [
    {
     "name": "stdout",
     "output_type": "stream",
     "text": [
      "Equation for best-fit linear regression line is y=0.51x+85.21\n",
      "r-squared correlation coefficient is 0.38\n"
     ]
    },
    {
     "data": {
      "image/png": "[encoded data removed]",
      "text/plain": [
       "<Figure size 432x288 with 1 Axes>"
      ]
     },
     "metadata": {
      "needs_background": "light"
     },
     "output_type": "display_data"
    }
   ],
   "source": [
    "s_humidity_lat_axes = makeLinRegression(southern_hemisphere, \"Lat\", \"Humidity\")\n",
    "plt.title(\"Southern Hemisphere - Humidity (%) vs. Latitude Linear Regression\")\n",
    "plt.xlabel(\"Latitude\")\n",
    "plt.ylabel(\"Humidity (%)\")\n",
    "s_humidity_lat_axes.get_figure().savefig(\"../Images/Fig8_S.png\")"
   ]
  },
  {
   "cell_type": "markdown",
   "metadata": {},
   "source": [
    "####  Northern Hemisphere - Cloudiness (%) vs. Latitude Linear Regression"
   ]
  },
  {
   "cell_type": "code",
   "execution_count": 82,
   "metadata": {},
   "outputs": [
    {
     "name": "stdout",
     "output_type": "stream",
     "text": [
      "Equation for best-fit linear regression line is y=0.50x+34.37\n",
      "r-squared correlation coefficient is 0.24\n"
     ]
    },
    {
     "data": {
      "image/png": "[encoded data removed]",
      "text/plain": [
       "<Figure size 432x288 with 1 Axes>"
      ]
     },
     "metadata": {
      "needs_background": "light"
     },
     "output_type": "display_data"
    }
   ],
   "source": [
    "n_cloudiness_lat_axes = makeLinRegression(northern_hemisphere, \"Lat\", \"Cloudiness\")\n",
    "plt.title(\"Northern Hemisphere - Cloudiness (%) vs. Latitude Linear Regression\")\n",
    "plt.xlabel(\"Latitude\")\n",
    "plt.ylabel(\"Cloudiness\")\n",
    "n_cloudiness_lat_axes.get_figure().savefig(\"../Images/Fig9_N.png\")"
   ]
  },
  {
   "cell_type": "markdown",
   "metadata": {},
   "source": [
    "####  Southern Hemisphere - Cloudiness (%) vs. Latitude Linear Regression"
   ]
  },
  {
   "cell_type": "code",
   "execution_count": 83,
   "metadata": {},
   "outputs": [
    {
     "name": "stdout",
     "output_type": "stream",
     "text": [
      "Equation for best-fit linear regression line is y=1.28x+83.64\n",
      "r-squared correlation coefficient is 0.43\n"
     ]
    },
    {
     "data": {
      "image/png": "[encoded data removed]",
      "text/plain": [
       "<Figure size 432x288 with 1 Axes>"
      ]
     },
     "metadata": {
      "needs_background": "light"
     },
     "output_type": "display_data"
    }
   ],
   "source": [
    "s_cloudiness_lat_axes = makeLinRegression(southern_hemisphere, \"Lat\", \"Cloudiness\")\n",
    "plt.title(\"Southern Hemisphere - Cloudiness (%) vs. Latitude Linear Regression\")\n",
    "plt.xlabel(\"Latitude\")\n",
    "plt.ylabel(\"Cloudiness\")\n",
    "s_cloudiness_lat_axes.get_figure().savefig(\"../Images/Fig10_S.png\")"
   ]
  },
  {
   "cell_type": "markdown",
   "metadata": {},
   "source": [
    "####  Northern Hemisphere - Wind Speed (mph) vs. Latitude Linear Regression"
   ]
  },
  {
   "cell_type": "code",
   "execution_count": 84,
   "metadata": {},
   "outputs": [
    {
     "name": "stdout",
     "output_type": "stream",
     "text": [
      "Equation for best-fit linear regression line is y=0.06x+5.63\n",
      "r-squared correlation coefficient is 0.17\n"
     ]
    },
    {
     "data": {
      "image/png": "[encoded data removed]",
      "text/plain": [
       "<Figure size 432x288 with 1 Axes>"
      ]
     },
     "metadata": {
      "needs_background": "light"
     },
     "output_type": "display_data"
    }
   ],
   "source": [
    "n_wind_lat_axes = makeLinRegression(northern_hemisphere, \"Lat\", \"Wind Speed\")\n",
    "plt.title(\"Northern Hemisphere - Wind Speed (mph) vs. Latitude Linear Regression\")\n",
    "plt.xlabel(\"Latitude\")\n",
    "plt.ylabel(\"Wind Speed\")\n",
    "n_wind_lat_axes.get_figure().savefig(\"../Images/Fig11_N.png\")"
   ]
  },
  {
   "cell_type": "markdown",
   "metadata": {},
   "source": [
    "####  Southern Hemisphere - Wind Speed (mph) vs. Latitude Linear Regression"
   ]
  },
  {
   "cell_type": "code",
   "execution_count": 85,
   "metadata": {},
   "outputs": [
    {
     "name": "stdout",
     "output_type": "stream",
     "text": [
      "Equation for best-fit linear regression line is y=-0.06x+6.39\n",
      "r-squared correlation coefficient is -0.15\n"
     ]
    },
    {
     "data": {
      "image/png": "[encoded data removed]",
      "text/plain": [
       "<Figure size 432x288 with 1 Axes>"
      ]
     },
     "metadata": {
      "needs_background": "light"
     },
     "output_type": "display_data"
    }
   ],
   "source": [
    "s_wind_lat_axes = makeLinRegression(southern_hemisphere, \"Lat\", \"Wind Speed\")\n",
    "plt.title(\"Southern Hemisphere - Wind Speed (mph) vs. Latitude Linear Regression\")\n",
    "plt.xlabel(\"Latitude\")\n",
    "plt.ylabel(\"Wind Speed\")\n",
    "s_wind_lat_axes.get_figure().savefig(\"../Images/Fig12_S.png\")"
   ]
  },
  {
   "cell_type": "code",
   "execution_count": null,
   "metadata": {},
   "outputs": [],
   "source": []
  }
 ],
 "metadata": {
  "anaconda-cloud": {},
  "kernel_info": {
   "name": "python3"
  },
  "kernelspec": {
   "display_name": "Python 3 (ipykernel)",
   "language": "python",
   "name": "python3"
  },
  "language_info": {
   "codemirror_mode": {
    "name": "ipython",
    "version": 3
   },
   "file_extension": ".py",
   "mimetype": "text/x-python",
   "name": "python",
   "nbconvert_exporter": "python",
   "pygments_lexer": "ipython3",
   "version": "3.9.7"
  },
  "latex_envs": {
   "LaTeX_envs_menu_present": true,
   "autoclose": false,
   "autocomplete": true,
   "bibliofile": "biblio.bib",
   "cite_by": "apalike",
   "current_citInitial": 1,
   "eqLabelWithNumbers": true,
   "eqNumInitial": 1,
   "hotkeys": {
    "equation": "Ctrl-E",
    "itemize": "Ctrl-I"
   },
   "labels_anchors": false,
   "latex_user_defs": false,
   "report_style_numbering": false,
   "user_envs_cfg": false
  },
  "nteract": {
   "version": "0.12.3"
  }
 },
 "nbformat": 4,
 "nbformat_minor": 2
}
