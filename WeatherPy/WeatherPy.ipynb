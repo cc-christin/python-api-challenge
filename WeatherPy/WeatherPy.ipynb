{
 "cells": [
  {
   "cell_type": "markdown",
   "metadata": {},
   "source": [
    "# WeatherPy\n"
   ]
  },
  {
   "cell_type": "code",
   "execution_count": 1,
   "metadata": {
    "scrolled": true
   },
   "outputs": [],
   "source": [
    "# Dependencies and Setup\n",
    "import matplotlib.pyplot as plt\n",
    "import pandas as pd\n",
    "import numpy as np\n",
    "import requests\n",
    "import time\n",
    "from scipy.stats import linregress\n",
    "from ratelimit import limits\n",
    "import time\n",
    "import json\n",
    "import seaborn as sns\n",
    "import logging\n",
    "from datetime import date\n",
    "\n",
    "# Import API key\n",
    "from api_keys import weather_api_key\n",
    "\n",
    "# Incorporated citipy to determine city based on latitude and longitude\n",
    "from citipy import citipy\n",
    "\n",
    "# Output File (CSV)\n",
    "output_data_file = \"output_data/cities.csv\"\n",
    "\n",
    "# Range of latitudes and longitudes\n",
    "lat_range = (-90, 90)\n",
    "lng_range = (-180, 180)"
   ]
  },
  {
   "cell_type": "markdown",
   "metadata": {},
   "source": [
    "## Generate Cities List"
   ]
  },
  {
   "cell_type": "code",
   "execution_count": 2,
   "metadata": {},
   "outputs": [
    {
     "data": {
      "text/plain": [
       "613"
      ]
     },
     "execution_count": 2,
     "metadata": {},
     "output_type": "execute_result"
    }
   ],
   "source": [
    "# List for holding lat_lngs and cities\n",
    "lat_lngs = []\n",
    "cities = []\n",
    "\n",
    "# Create a set of random lat and lng combinations\n",
    "lats = np.random.uniform(lat_range[0], lat_range[1], size=1500)\n",
    "lngs = np.random.uniform(lng_range[0], lng_range[1], size=1500)\n",
    "lat_lngs = zip(lats, lngs)\n",
    "\n",
    "# Identify nearest city for each lat, lng combination\n",
    "for lat_lng in lat_lngs:\n",
    "    city = citipy.nearest_city(lat_lng[0], lat_lng[1]).city_name\n",
    "    \n",
    "    # If the city is unique, then add it to a our cities list\n",
    "    if city not in cities:\n",
    "        cities.append(city)\n",
    "\n",
    "# Print the city count to confirm sufficient count\n",
    "len(cities)"
   ]
  },
  {
   "cell_type": "markdown",
   "metadata": {},
   "source": [
    "### Perform API Calls\n",
    "* Perform a weather check on each city using a series of successive API calls.\n",
    "* Include a print log of each city as it'sbeing processed (with the city number and city name).\n",
    "\n",
    "> **HINT:** The OpenWeatherMap API only allows 60 calls per minute under their free plan. Try using `time.sleep(60)` after each set of 50 cities to avoid API errors due to large calls."
   ]
  },
  {
   "cell_type": "code",
   "execution_count": 3,
   "metadata": {
    "scrolled": true
   },
   "outputs": [
    {
     "name": "stdout",
     "output_type": "stream",
     "text": [
      "{'cod': '400', 'message': 'Nothing to geocode'}\n",
      "Processing city 0: Daru\n",
      "Processing city 1: Hobart\n",
      "Processing city 2: Panabá\n",
      "Processing city 3: Hermanus\n",
      "Processing city 4: Port Alfred\n",
      "Processing city 5: Mataura\n",
      "Processing city 6: East London\n",
      "Processing city 7: Hegang\n",
      "Processing city 8: George Town\n",
      "Processing city 9: Madimba\n",
      "Processing city 10: Salalah\n",
      "Processing city 11: Atuona\n",
      "Processing city 12: Jamestown\n",
      "Processing city 13: Dikson\n",
      "Processing city 14: Kalmar\n",
      "Processing city 15: Castro\n",
      "Processing city 16: Bambous Virieux\n",
      "Incomplete..., skip over missing city info.\n",
      "Processing city 18: Bariloche\n",
      "Processing city 19: Røros\n",
      "Processing city 20: Kaitangata\n",
      "Processing city 21: Ushuaia\n",
      "Processing city 22: Waipawa\n",
      "Processing city 23: Zvolen\n",
      "Processing city 24: Severo-Kuril'sk\n",
      "Processing city 25: Chokurdakh\n",
      "Incomplete..., skip over missing city info.\n",
      "Processing city 27: Mahébourg\n",
      "Processing city 28: Yellowknife\n",
      "Processing city 29: Tiarei\n",
      "Processing city 30: Ibrā’\n",
      "Processing city 31: Shubarshi\n",
      "Processing city 32: Ribeira Grande\n",
      "Incomplete..., skip over missing city info.\n",
      "Incomplete..., skip over missing city info.\n",
      "Processing city 35: Rikitea\n",
      "Processing city 36: Punta Arenas\n",
      "Processing city 37: Camaná\n",
      "Processing city 38: Nikolskoye\n",
      "Incomplete..., skip over missing city info.\n",
      "Processing city 40: Bluff\n",
      "Processing city 41: Carnarvon\n",
      "Processing city 42: Ust'-Kulom\n",
      "Processing city 43: Moerai\n",
      "Processing city 44: Casambalangan\n",
      "Processing city 45: Ponta do Sol\n",
      "Processing city 46: Yumen\n",
      "Processing city 47: Arraial do Cabo\n",
      "Processing city 48: Busselton\n",
      "Processing city 49: Isabela\n",
      "Processing city 50: Albany\n",
      "Processing city 51: Port Hardy\n",
      "Processing city 52: Puerto Ayora\n",
      "Processing city 53: Gongzhuling\n",
      "Processing city 54: Ndélé\n",
      "Processing city 55: Fairbanks\n",
      "Processing city 56: Tuktoyaktuk\n",
      "Processing city 57: Upernavik\n",
      "Processing city 58: São Filipe\n",
      "Processing city 59: Lavrentiya\n",
      "Processing city 60: Avarua\n",
      "Processing city 61: Wahiawā\n",
      "Processing city 62: Pangnirtung\n",
      "Processing city 63: Pershotravneve\n",
      "Incomplete..., skip over missing city info.\n",
      "Processing city 65: Port Blair\n",
      "Processing city 66: Narsaq\n",
      "Processing city 67: Karratha\n",
      "Processing city 68: Cape Town\n",
      "Processing city 69: Saint-Philippe\n",
      "Processing city 70: Tadine\n",
      "Incomplete..., skip over missing city info.\n",
      "Processing city 72: Santa Cruz de Tenerife\n",
      "Processing city 73: Agnibilékrou\n",
      "Processing city 74: Puerto Escondido\n",
      "Processing city 75: Zapolyarnyy\n",
      "Processing city 76: Hong Kong\n",
      "Processing city 77: Tuatapere\n",
      "Processing city 78: Lianzhou\n",
      "Processing city 79: Humberto de Campos\n",
      "Processing city 80: College\n",
      "Processing city 81: Cap Malheureux\n",
      "Processing city 82: Yelizovo\n",
      "Processing city 83: Alice Springs\n",
      "Processing city 84: Esperance\n",
      "Processing city 85: Río Gallegos\n",
      "Processing city 86: Lebu\n",
      "Processing city 87: Barrow\n",
      "Processing city 88: Fort Frances\n",
      "Processing city 89: Hilo\n",
      "Incomplete..., skip over missing city info.\n",
      "Processing city 91: Chernyshevskiy\n",
      "Incomplete..., skip over missing city info.\n",
      "Processing city 93: Kondopoga\n",
      "Processing city 94: Cravo Norte\n",
      "Processing city 95: Vaini\n",
      "Processing city 96: Bredasdorp\n",
      "Processing city 97: Coquimbo\n",
      "Processing city 98: Saint-Avertin\n",
      "Processing city 99: Butaritari\n",
      "Processing city 100: Port Elizabeth\n",
      "Processing city 101: Cidreira\n",
      "Processing city 102: Hervey Bay\n",
      "Processing city 103: Narrabri\n",
      "Processing city 104: Bilma\n",
      "Processing city 105: Porbandar\n",
      "Processing city 106: Adiaké\n",
      "Processing city 107: Gitega Province\n",
      "Processing city 108: Iracoubo\n",
      "Processing city 109: Kapaa\n",
      "Processing city 110: Taoudenni\n",
      "Processing city 111: Ritchie\n",
      "Processing city 112: Provideniya\n",
      "Processing city 113: Waingapu\n",
      "Processing city 114: Kirgiz-Miyaki\n",
      "Processing city 115: Cabedelo\n",
      "Processing city 116: Karoi\n",
      "Processing city 117: Kangaatsiaq\n",
      "Processing city 118: Nara\n",
      "Processing city 119: Rawson\n",
      "Processing city 120: Smithers\n",
      "Processing city 121: Iqaluit\n",
      "Processing city 122: Muli\n",
      "Processing city 123: Geraldton\n",
      "Processing city 124: Qaanaaq\n",
      "Processing city 125: Portland\n",
      "Processing city 126: New Norfolk\n",
      "Processing city 127: Umri\n",
      "Processing city 128: Zavyalovo\n",
      "Processing city 129: Sur\n",
      "Processing city 130: Padang\n",
      "Processing city 131: Ust-Tsilma\n",
      "Processing city 132: Augustów\n",
      "Processing city 133: Malanje\n",
      "Incomplete..., skip over missing city info.\n",
      "Processing city 135: Buchanan\n",
      "Processing city 136: Pospelikha\n",
      "Processing city 137: Hasaki\n",
      "Processing city 138: Port Augusta\n",
      "Processing city 139: Bethel\n",
      "Processing city 140: Alofi\n",
      "Processing city 141: Upata\n",
      "Processing city 142: Zorgo\n",
      "Processing city 143: Florenville\n",
      "Processing city 144: Nishihara\n",
      "Processing city 145: Batticaloa\n",
      "Processing city 146: Abnūb\n",
      "Incomplete..., skip over missing city info.\n",
      "Processing city 148: San Patricio\n",
      "Incomplete..., skip over missing city info.\n",
      "Processing city 150: Saint Paul Harbor\n",
      "Processing city 151: Pindiga\n",
      "Processing city 152: Boyle\n",
      "Processing city 153: Talavera\n",
      "Processing city 154: Nome\n",
      "Incomplete..., skip over missing city info.\n",
      "Processing city 156: Tuzla\n",
      "Processing city 157: Laguna\n",
      "Processing city 158: Lüderitz\n",
      "Processing city 159: Grindavik\n",
      "Processing city 160: Torbay\n",
      "Processing city 161: Kenai\n",
      "Processing city 162: Bebra\n",
      "Processing city 163: Longyearbyen\n",
      "Processing city 164: Lorengau\n",
      "Processing city 165: Hithadhoo\n",
      "Processing city 166: Khanbari\n",
      "Processing city 167: Cherskiy\n",
      "Processing city 168: Tyret’ Pervaya\n",
      "Processing city 169: Klaksvík\n",
      "Processing city 170: Kirakira\n",
      "Processing city 171: Shuya\n",
      "Incomplete..., skip over missing city info.\n",
      "Processing city 173: San Luis\n",
      "Processing city 174: Jiuquan\n",
      "Processing city 175: Taveta\n",
      "Processing city 176: Kaeo\n",
      "Processing city 177: Yar-Sale\n",
      "Processing city 178: Pisco\n",
      "Processing city 179: Iquique\n",
      "Processing city 180: Yuzhne\n",
      "Processing city 181: Dingle\n",
      "Processing city 182: Kingston\n",
      "Processing city 183: Lompoc\n",
      "Processing city 184: Havelock\n",
      "Processing city 185: Clyde River\n",
      "Processing city 186: Saint George\n",
      "Processing city 187: Vineland\n",
      "Processing city 188: Khatanga\n",
      "Processing city 189: Porto Seguro\n",
      "Processing city 190: Asău\n",
      "Processing city 191: Mbandaka\n",
      "Processing city 192: Mareeba\n",
      "Processing city 193: Itatiaia\n",
      "Processing city 194: Rundu\n",
      "Processing city 195: Amapá\n",
      "Incomplete..., skip over missing city info.\n",
      "Processing city 197: Tambun\n",
      "Processing city 198: Brandfort\n",
      "Processing city 199: Kodinsk\n",
      "Incomplete..., skip over missing city info.\n",
      "Processing city 201: Kyaikto\n",
      "Processing city 202: Tura\n",
      "Incomplete..., skip over missing city info.\n",
      "Processing city 204: Hobyo\n",
      "Processing city 205: Boyolangu\n",
      "Processing city 206: Touros\n",
      "Incomplete..., skip over missing city info.\n",
      "Processing city 208: Sinnamary\n",
      "Processing city 209: Kuril'sk\n",
      "Incomplete..., skip over missing city info.\n",
      "Processing city 211: Wenling\n",
      "Processing city 212: Mahanoro\n",
      "Processing city 213: Kosino\n",
      "Processing city 214: Terrace Bay\n",
      "Processing city 215: Byron Bay\n",
      "Processing city 216: Katherine\n",
      "Processing city 217: Akdepe\n",
      "Processing city 218: Pirapora\n",
      "Processing city 219: Thompson\n",
      "Processing city 220: Atar\n",
      "Processing city 221: Itarema\n",
      "Processing city 222: Dwārka\n",
      "Incomplete..., skip over missing city info.\n",
      "Processing city 224: Acapulco de Juárez\n",
      "Processing city 225: Mīrābād\n",
      "Processing city 226: Otofuke\n",
      "Incomplete..., skip over missing city info.\n",
      "Processing city 228: Mayo\n",
      "Processing city 229: Airai\n",
      "Processing city 230: Rocha\n",
      "Processing city 231: Nguruka\n",
      "Processing city 232: Uribia\n",
      "Processing city 233: Xihe\n",
      "Processing city 234: Newport\n",
      "Processing city 235: Baykit\n",
      "Processing city 236: Turukhansk\n",
      "Processing city 237: Dezhou\n",
      "Incomplete..., skip over missing city info.\n",
      "Processing city 239: Seoul\n",
      "Processing city 240: Talnakh\n",
      "Processing city 241: Fortuna\n",
      "Processing city 242: Zhezkazgan\n",
      "Processing city 243: Saint-Joseph\n",
      "Processing city 244: Half Moon Bay\n",
      "Processing city 245: Port-Gentil\n",
      "Processing city 246: Huanuni\n",
      "Processing city 247: Linjiang\n",
      "Processing city 248: Yeppoon\n",
      "Processing city 249: Benguela\n",
      "Processing city 250: Puerto Baquerizo Moreno\n",
      "Processing city 251: Tual\n",
      "Processing city 252: Brebu\n",
      "Incomplete..., skip over missing city info.\n",
      "Processing city 254: Kimbe\n",
      "Processing city 255: Saint-Leu\n",
      "Processing city 256: Watrous\n",
      "Processing city 257: Nizwá\n",
      "Processing city 258: Barranca\n",
      "Processing city 259: Loíza\n",
      "Processing city 260: Warrnambool\n",
      "Incomplete..., skip over missing city info.\n",
      "Processing city 262: Cairns\n"
     ]
    },
    {
     "name": "stdout",
     "output_type": "stream",
     "text": [
      "Processing city 263: Catherinas Lust\n",
      "Incomplete..., skip over missing city info.\n",
      "Processing city 265: Lodja\n",
      "Incomplete..., skip over missing city info.\n",
      "Processing city 267: Santa Rosa\n",
      "Processing city 268: Mackay\n",
      "Processing city 269: Castel San Pietro Terme\n",
      "Processing city 270: Borogontsy\n",
      "Processing city 271: Haines Junction\n",
      "Processing city 272: Maningrida\n",
      "Processing city 273: Katsuura\n",
      "Processing city 274: Cayenne\n",
      "Processing city 275: Kavieng\n",
      "Processing city 276: Thinadhoo\n",
      "Processing city 277: Tooele\n",
      "Processing city 278: Broome\n",
      "Processing city 279: Mar del Plata\n",
      "Processing city 280: Caravelas\n",
      "Incomplete..., skip over missing city info.\n",
      "Processing city 282: Ashibetsu\n",
      "Processing city 283: Lima\n",
      "Processing city 284: Lensk\n",
      "Processing city 285: Pevek\n",
      "Incomplete..., skip over missing city info.\n",
      "Incomplete..., skip over missing city info.\n",
      "Processing city 288: Tasiilaq\n",
      "Processing city 289: Owosso\n",
      "Processing city 290: Vila Velha\n",
      "Processing city 291: North Las Vegas\n",
      "Processing city 292: Deer Lake\n",
      "Processing city 293: Lively\n",
      "Processing city 294: Calabozo\n",
      "Processing city 295: Valley City\n",
      "Processing city 296: Kruisfontein\n",
      "Processing city 297: Gaza\n",
      "Processing city 298: Port Moresby\n",
      "Processing city 299: Cap-aux-Meules\n",
      "Processing city 300: Los Llanos de Aridane\n",
      "Processing city 301: São Félix do Xingu\n",
      "Processing city 302: Constitución\n",
      "Processing city 303: Katangli\n",
      "Incomplete..., skip over missing city info.\n",
      "Processing city 305: Flin Flon\n",
      "Processing city 306: Moosomin\n",
      "Processing city 307: Kropotkin\n",
      "Processing city 308: Kamloops\n",
      "Processing city 309: Lakes Entrance\n",
      "Processing city 310: Hammerfest\n",
      "Processing city 311: Henties Bay\n",
      "Processing city 312: Paka\n",
      "Processing city 313: Vilyuysk\n",
      "Processing city 314: Kyren\n",
      "Processing city 315: Otjiwarongo\n",
      "Processing city 316: Sioux Lookout\n",
      "Processing city 317: Manzanillo\n",
      "Processing city 318: Barra do Garças\n",
      "Processing city 319: Harper\n",
      "Incomplete..., skip over missing city info.\n",
      "Processing city 321: Orlik\n",
      "Processing city 322: Marsaxlokk\n",
      "Processing city 323: Guiratinga\n",
      "Processing city 324: Kyabé\n",
      "Processing city 325: Saint-Augustin\n",
      "Processing city 326: Aksu\n",
      "Processing city 327: Dunedin\n",
      "Processing city 328: Langarūd\n",
      "Processing city 329: Isangel\n",
      "Processing city 330: Ilorin\n",
      "Processing city 331: Korla\n",
      "Processing city 332: Baculin\n",
      "Processing city 333: Laas\n",
      "Processing city 334: Saskylakh\n",
      "Processing city 335: Quatre Cocos\n",
      "Processing city 336: Sawankhalok\n",
      "Processing city 337: Port Hawkesbury\n",
      "Processing city 338: Leningradskiy\n",
      "Processing city 339: Xining\n",
      "Processing city 340: Nanortalik\n",
      "Processing city 341: Codrington\n",
      "Processing city 342: Kosh-Agach\n",
      "Processing city 343: Hai Duong\n",
      "Processing city 344: Richards Bay\n",
      "Processing city 345: San Juan\n",
      "Incomplete..., skip over missing city info.\n",
      "Processing city 347: Zheleznodorozhnyy\n",
      "Processing city 348: Paita\n",
      "Processing city 349: Porto-Novo\n",
      "Processing city 350: Kavaratti\n",
      "Processing city 351: Palana\n",
      "Processing city 352: Banda Aceh\n",
      "Processing city 353: Vestmannaeyjar\n",
      "Processing city 354: High Level\n",
      "Processing city 355: Itanhaém\n",
      "Processing city 356: Una\n",
      "Processing city 357: Hambantota\n",
      "Processing city 358: Kizlyar\n",
      "Processing city 359: Wangqing\n",
      "Incomplete..., skip over missing city info.\n",
      "Processing city 361: Charkhi Dādri\n",
      "Processing city 362: Kyra\n",
      "Incomplete..., skip over missing city info.\n",
      "Processing city 364: Changping\n",
      "Processing city 365: Evensk\n",
      "Processing city 366: Nouadhibou\n",
      "Incomplete..., skip over missing city info.\n",
      "Processing city 368: Sibu\n",
      "Processing city 369: Nybro\n",
      "Processing city 370: Ürümqi\n",
      "Processing city 371: Whitehorse\n",
      "Processing city 372: San Rafael\n",
      "Processing city 373: Fasa\n",
      "Processing city 374: Bereda\n",
      "Processing city 375: Megion\n",
      "Processing city 376: Gornopravdinsk\n",
      "Processing city 377: Morro Bay\n",
      "Processing city 378: Sheregesh\n",
      "Processing city 379: Drochia\n",
      "Processing city 380: Innisfail\n",
      "Processing city 381: Ilulissat\n",
      "Processing city 382: Bacolod City\n",
      "Processing city 383: Takaka\n",
      "Processing city 384: Dzaoudzi\n",
      "Processing city 385: Aswān\n",
      "Processing city 386: Pacific Grove\n",
      "Processing city 387: Cabo San Lucas\n",
      "Processing city 388: Kununurra\n",
      "Processing city 389: São João da Barra\n",
      "Processing city 390: Guangshui\n",
      "Processing city 391: Marathon\n",
      "Processing city 392: Lyuban'\n",
      "Processing city 393: Crawfordsville\n",
      "Processing city 394: Guerrero Negro\n",
      "Processing city 395: Auki\n",
      "Processing city 396: Ancud\n",
      "Processing city 397: Vardø\n",
      "Processing city 398: Brae\n",
      "Processing city 399: Jumla\n",
      "Processing city 400: Vysokogornyy\n",
      "Processing city 401: Tiksi\n",
      "Processing city 402: La Rochelle\n",
      "Processing city 403: Loandjili\n",
      "Processing city 404: Avera\n",
      "Processing city 405: Nichinan\n",
      "Processing city 406: Poronaysk\n",
      "Processing city 407: Dongsheng\n",
      "Processing city 408: Mossamedes\n",
      "Processing city 409: Hofn\n",
      "Processing city 410: Tigil'\n",
      "Processing city 411: Laurel\n",
      "Processing city 412: Otukpo\n",
      "Processing city 413: Saint Anthony\n",
      "Processing city 414: Santiago de Puringla\n",
      "Processing city 415: Inírida\n",
      "Processing city 416: Lucknow\n",
      "Processing city 417: Valença\n",
      "Processing city 418: Departamento de Maldonado\n",
      "Processing city 419: Krasnorechenskiy\n",
      "Processing city 420: Ukiah\n",
      "Processing city 421: Xingyi\n",
      "Processing city 422: Panjāb\n",
      "Processing city 423: North Bend\n",
      "Processing city 424: Galesong\n",
      "Processing city 425: Sitka\n",
      "Processing city 426: Erzin\n",
      "Processing city 427: Lufilufi\n",
      "Processing city 428: Grand Gaube\n",
      "Processing city 429: Burnie\n",
      "Processing city 430: Powell River\n",
      "Processing city 431: Hamilton\n",
      "Processing city 432: Juneau\n",
      "Processing city 433: Ocosingo\n",
      "Processing city 434: Carauari\n",
      "Processing city 435: Ust-Maya\n",
      "Processing city 436: Bisira\n",
      "Processing city 437: Westport\n",
      "Processing city 438: Toamasina\n",
      "Processing city 439: Nouakchott\n",
      "Processing city 440: Rumoi\n",
      "Processing city 441: Tsimmerbude\n",
      "Processing city 442: Morondava\n",
      "Processing city 443: Nemuro\n",
      "Processing city 444: Killarney\n",
      "Processing city 445: Kyzyl\n",
      "Processing city 446: Biloela\n",
      "Processing city 447: Margate\n",
      "Processing city 448: Kristinestad\n",
      "Processing city 449: Berlevåg\n",
      "Processing city 450: Ziarat\n",
      "Processing city 451: Tambura\n",
      "Processing city 452: Charters Towers\n",
      "Processing city 453: Iralaya\n",
      "Incomplete..., skip over missing city info.\n",
      "Processing city 455: Salisbury\n",
      "Processing city 456: Otane\n",
      "Processing city 457: Vila Franca do Campo\n",
      "Processing city 458: Altay\n",
      "Incomplete..., skip over missing city info.\n",
      "Processing city 460: Ola\n",
      "Processing city 461: Poconé\n",
      "Processing city 462: Meulaboh\n",
      "Processing city 463: Shumskiy\n",
      "Processing city 464: Kaka\n",
      "Processing city 465: Pangai\n",
      "Processing city 466: Nicoya\n",
      "Processing city 467: Visby\n",
      "Processing city 468: Smoljan\n",
      "Processing city 469: Abhā\n",
      "Processing city 470: Mamburao\n",
      "Processing city 471: Lázaro Cárdenas\n",
      "Processing city 472: Nangong\n",
      "Processing city 473: Oranjemund\n",
      "Processing city 474: Kemijärvi\n",
      "Processing city 475: Manuk Mangkaw\n",
      "Processing city 476: East Stroudsburg\n",
      "Processing city 477: Calvinia\n",
      "Processing city 478: Cockburn Town\n",
      "Processing city 479: Kedrovyy\n",
      "Processing city 480: Strelka\n",
      "Processing city 481: Yulara\n",
      "Processing city 482: Paamiut\n",
      "Processing city 483: Örnsköldsvik\n",
      "Processing city 484: Bengkulu\n",
      "Incomplete..., skip over missing city info.\n",
      "Processing city 486: Paragominas\n",
      "Processing city 487: Colac\n",
      "Incomplete..., skip over missing city info.\n",
      "Processing city 489: Notsé\n",
      "Processing city 490: Havre-St-Pierre\n",
      "Processing city 491: Green River\n",
      "Incomplete..., skip over missing city info.\n",
      "Processing city 493: Huarmey\n",
      "Processing city 494: Imbituba\n",
      "Incomplete..., skip over missing city info.\n",
      "Processing city 496: Changji\n",
      "Processing city 497: Faanui\n",
      "Processing city 498: Shar\n",
      "Processing city 499: Viedma\n",
      "Incomplete..., skip over missing city info.\n",
      "Incomplete..., skip over missing city info.\n",
      "Processing city 502: Tabas\n",
      "Processing city 503: Kendari\n",
      "Processing city 504: Trunovskoye\n",
      "Processing city 505: Inhumas\n",
      "Processing city 506: High Prairie\n",
      "Incomplete..., skip over missing city info.\n",
      "Processing city 508: Vanimo\n",
      "Processing city 509: Pula\n",
      "Processing city 510: Cloquet\n",
      "Processing city 511: Datong\n",
      "Processing city 512: Pangody\n",
      "Processing city 513: Mehamn\n",
      "Processing city 514: Bambanglipuro\n",
      "Processing city 515: Dickinson\n",
      "Processing city 516: Sambava\n",
      "Processing city 517: Chirongui\n",
      "Processing city 518: Amoy\n",
      "Processing city 519: Anan\n",
      "Processing city 520: Shingū\n",
      "Processing city 521: Rosa Zarate\n",
      "Processing city 522: Lanzhou\n",
      "Processing city 523: Salinópolis\n"
     ]
    },
    {
     "name": "stdout",
     "output_type": "stream",
     "text": [
      "Processing city 524: Verkhnevilyuysk\n",
      "Processing city 525: Chui\n",
      "Processing city 526: Suratgarh\n",
      "Processing city 527: Malinovoye Ozero\n",
      "Processing city 528: Sumenep\n",
      "Processing city 529: Port Lincoln\n",
      "Processing city 530: Oksovskiy\n",
      "Processing city 531: Takoradze\n",
      "Processing city 532: Manono\n",
      "Processing city 533: Tecpan\n",
      "Processing city 534: Diego de Almagro\n",
      "Processing city 535: Jiangyou\n",
      "Incomplete..., skip over missing city info.\n",
      "Processing city 537: Hay River\n",
      "Processing city 538: Puerto Limón\n",
      "Processing city 539: Saldanha\n",
      "Processing city 540: Nelson Bay\n",
      "Processing city 541: Leh\n",
      "Processing city 542: Ucluelet\n",
      "Processing city 543: Chālūs\n",
      "Processing city 544: Meïganga\n",
      "Processing city 545: Abu Samrah\n",
      "Processing city 546: Necochea\n",
      "Processing city 547: Umaria\n",
      "Processing city 548: Broken Hill\n",
      "Processing city 549: Gusinoye Ozero\n",
      "Processing city 550: Imperatriz\n",
      "Processing city 551: Te Anau\n",
      "Processing city 552: Ugoofaaru\n",
      "Processing city 553: Andenes\n",
      "Processing city 554: Kondoa\n",
      "Processing city 555: Mahajanga\n",
      "Processing city 556: Sørland\n",
      "Processing city 557: Lagoa\n",
      "Processing city 558: Coyhaique\n",
      "Processing city 559: Roald\n",
      "Processing city 560: Kamenka\n",
      "Processing city 561: Øksfjord\n",
      "Processing city 562: Kalakamati\n",
      "Processing city 563: Kremenchuk\n",
      "Processing city 564: Tambovka\n",
      "Processing city 565: Santa Maria\n",
      "Processing city 566: Tacuarembó\n",
      "Processing city 567: Biak\n",
      "Processing city 568: Aklavik\n",
      "Processing city 569: La Romana\n",
      "Processing city 570: Yuli\n",
      "Processing city 571: Boende\n",
      "Processing city 572: Carballo\n",
      "Processing city 573: Ipixuna\n",
      "Processing city 574: Wasilla\n",
      "Processing city 575: Nuuk\n",
      "Processing city 576: Belmonte\n",
      "Processing city 577: Sulzbach-Rosenberg\n",
      "Processing city 578: Belaya Gora\n",
      "Processing city 579: Zhigansk\n",
      "Processing city 580: Āreka\n",
      "Incomplete..., skip over missing city info.\n",
      "Processing city 582: Diré\n",
      "Processing city 583: Carutapera\n",
      "Processing city 584: Rantoul\n",
      "Processing city 585: Wanlaweyn\n",
      "Processing city 586: Birao\n",
      "Processing city 587: Buala\n",
      "Processing city 588: Kudahuvadhoo\n",
      "Processing city 589: Russkoye\n",
      "Processing city 590: Soyo\n",
      "Processing city 591: Skibbereen\n",
      "Processing city 592: Prieska\n",
      "Processing city 593: Lokoja\n",
      "Processing city 594: Araouane\n",
      "Processing city 595: Bolotnoye\n",
      "Processing city 596: Dubai\n",
      "Processing city 597: Luanda\n",
      "Processing city 598: Esim\n",
      "Processing city 599: Manavālakurichi\n",
      "Processing city 600: Perth\n",
      "Processing city 601: Labuhan\n",
      "Processing city 602: Bandarbeyla\n",
      "Processing city 603: Rondonópolis\n",
      "Processing city 604: Vanavara\n",
      "Processing city 605: Tulsīpur\n",
      "Processing city 606: Riyadh\n",
      "Processing city 607: Gillette\n",
      "Incomplete..., skip over missing city info.\n",
      "Processing city 609: Bouna\n",
      "Processing city 610: Noyabrsk\n",
      "Processing city 611: Serenje\n",
      "Processing city 612: Khlevnoye\n",
      "Complete\n"
     ]
    }
   ],
   "source": [
    "# Setup API Calling\n",
    "# url\n",
    "url = \"http://api.openweathermap.org/data/2.5/weather?\"\n",
    "# url = \"https://openweathermap.org/api\"\n",
    "\n",
    "# units\n",
    "unit = \"units=Imperial\"\n",
    "\n",
    "# api\n",
    "api = \"&APPID=\" + weather_api_key\n",
    "\n",
    "# response \n",
    "response = requests.get( url + unit + api).json()\n",
    "\n",
    "# print statement\n",
    "print(response)\n",
    "\n",
    "\n",
    "# Storage for api call data\n",
    "city_info = {\"City\": [], \n",
    "             \"Lat\": [], \n",
    "             \"Lng\": [],\n",
    "             \"Max Temp\": [],\n",
    "             \"Humidity\": [],\n",
    "             \"Cloudiness\": [],\n",
    "             \"Wind Speed\": [],\n",
    "             \"Country\": [], \n",
    "             \"Date\": []}\n",
    "\n",
    "# hint, limit api calls\n",
    "minute = 60\n",
    "@limits(calls=60, period=minute)\n",
    "\n",
    "# api call loop\n",
    "def call_api():\n",
    "    \n",
    "    for i, city in enumerate(cities):\n",
    "        city = requests.get(url + unit + \"&q=\" + cities[i] + api).json()\n",
    "        \n",
    "        try:\n",
    "            print(\"Processing city \" + str(i) + \": \" + city[\"name\"])\n",
    "        \n",
    "            city_info[\"City\"].append(city[\"name\"])\n",
    "            city_info[\"Lat\"].append(city[\"coord\"][\"lat\"])\n",
    "            city_info[\"Lng\"].append(city[\"coord\"][\"lon\"])\n",
    "            city_info[\"Max Temp\"].append(city[\"main\"][\"temp_max\"])\n",
    "            city_info[\"Humidity\"].append(city[\"main\"][\"humidity\"])\n",
    "            city_info[\"Cloudiness\"].append(city[\"clouds\"][\"all\"])\n",
    "            city_info[\"Wind Speed\"].append(city[\"wind\"][\"speed\"])\n",
    "            city_info[\"Country\"].append(city[\"sys\"][\"country\"])\n",
    "            city_info[\"Date\"].append(city[\"dt\"])\n",
    "            \n",
    "        except:\n",
    "            print(\"Incomplete..., skip over missing city info.\")\n",
    "            pass\n",
    "    print(\"Complete\")\n",
    "    \n",
    "call_api()\n",
    "\n",
    "# print log\n",
    "logging.basicConfig(filename='api_print.log', filemode='w')\n",
    "logging.warning('This data will be logged onto a file')\n",
    "\n",
    "\n",
    "            \n",
    "            \n",
    "        "
   ]
  },
  {
   "cell_type": "markdown",
   "metadata": {},
   "source": [
    "### Convert Raw Data to DataFrame\n",
    "* Export the city data into a .csv.\n",
    "* Display the DataFrame"
   ]
  },
  {
   "cell_type": "code",
   "execution_count": 4,
   "metadata": {},
   "outputs": [],
   "source": [
    "# Creating DataFrame\n",
    "city_info_df = pd.DataFrame(city_info)\n",
    "\n",
    "# Clean DataFrame\n",
    "city_info_df[\"Max Temp\"] = city_info_df[\"Max Temp\"].replace('', np.nan)\n",
    "city_info_df = city_info_df.dropna()\n",
    "\n",
    "city_count = len(city_info_df)\n",
    "# Export as CSV file\n",
    "city_info_df.to_csv(output_data_file, index_label=\"City_ID\")"
   ]
  },
  {
   "cell_type": "code",
   "execution_count": 5,
   "metadata": {},
   "outputs": [
    {
     "data": {
      "text/html": [
       "<div>\n",
       "<style scoped>\n",
       "    .dataframe tbody tr th:only-of-type {\n",
       "        vertical-align: middle;\n",
       "    }\n",
       "\n",
       "    .dataframe tbody tr th {\n",
       "        vertical-align: top;\n",
       "    }\n",
       "\n",
       "    .dataframe thead th {\n",
       "        text-align: right;\n",
       "    }\n",
       "</style>\n",
       "<table border=\"1\" class=\"dataframe\">\n",
       "  <thead>\n",
       "    <tr style=\"text-align: right;\">\n",
       "      <th></th>\n",
       "      <th>City</th>\n",
       "      <th>Lat</th>\n",
       "      <th>Lng</th>\n",
       "      <th>Max Temp</th>\n",
       "      <th>Humidity</th>\n",
       "      <th>Cloudiness</th>\n",
       "      <th>Wind Speed</th>\n",
       "      <th>Country</th>\n",
       "      <th>Date</th>\n",
       "    </tr>\n",
       "  </thead>\n",
       "  <tbody>\n",
       "    <tr>\n",
       "      <th>0</th>\n",
       "      <td>Daru</td>\n",
       "      <td>-9.0763</td>\n",
       "      <td>143.2092</td>\n",
       "      <td>83.88</td>\n",
       "      <td>75</td>\n",
       "      <td>100</td>\n",
       "      <td>6.58</td>\n",
       "      <td>PG</td>\n",
       "      <td>1644453525</td>\n",
       "    </tr>\n",
       "    <tr>\n",
       "      <th>1</th>\n",
       "      <td>Hobart</td>\n",
       "      <td>-42.8794</td>\n",
       "      <td>147.3294</td>\n",
       "      <td>73.02</td>\n",
       "      <td>44</td>\n",
       "      <td>40</td>\n",
       "      <td>14.97</td>\n",
       "      <td>AU</td>\n",
       "      <td>1644452936</td>\n",
       "    </tr>\n",
       "    <tr>\n",
       "      <th>2</th>\n",
       "      <td>Panabá</td>\n",
       "      <td>21.2833</td>\n",
       "      <td>-88.2667</td>\n",
       "      <td>66.94</td>\n",
       "      <td>89</td>\n",
       "      <td>8</td>\n",
       "      <td>6.22</td>\n",
       "      <td>MX</td>\n",
       "      <td>1644453526</td>\n",
       "    </tr>\n",
       "    <tr>\n",
       "      <th>3</th>\n",
       "      <td>Hermanus</td>\n",
       "      <td>-34.4187</td>\n",
       "      <td>19.2345</td>\n",
       "      <td>67.89</td>\n",
       "      <td>88</td>\n",
       "      <td>99</td>\n",
       "      <td>2.46</td>\n",
       "      <td>ZA</td>\n",
       "      <td>1644453217</td>\n",
       "    </tr>\n",
       "    <tr>\n",
       "      <th>4</th>\n",
       "      <td>Port Alfred</td>\n",
       "      <td>-33.5906</td>\n",
       "      <td>26.8910</td>\n",
       "      <td>65.10</td>\n",
       "      <td>86</td>\n",
       "      <td>2</td>\n",
       "      <td>9.26</td>\n",
       "      <td>ZA</td>\n",
       "      <td>1644453193</td>\n",
       "    </tr>\n",
       "    <tr>\n",
       "      <th>...</th>\n",
       "      <td>...</td>\n",
       "      <td>...</td>\n",
       "      <td>...</td>\n",
       "      <td>...</td>\n",
       "      <td>...</td>\n",
       "      <td>...</td>\n",
       "      <td>...</td>\n",
       "      <td>...</td>\n",
       "      <td>...</td>\n",
       "    </tr>\n",
       "    <tr>\n",
       "      <th>561</th>\n",
       "      <td>Gillette</td>\n",
       "      <td>44.2911</td>\n",
       "      <td>-105.5022</td>\n",
       "      <td>41.92</td>\n",
       "      <td>64</td>\n",
       "      <td>75</td>\n",
       "      <td>23.02</td>\n",
       "      <td>US</td>\n",
       "      <td>1644453629</td>\n",
       "    </tr>\n",
       "    <tr>\n",
       "      <th>562</th>\n",
       "      <td>Bouna</td>\n",
       "      <td>9.2667</td>\n",
       "      <td>-3.0000</td>\n",
       "      <td>74.16</td>\n",
       "      <td>18</td>\n",
       "      <td>3</td>\n",
       "      <td>4.54</td>\n",
       "      <td>CI</td>\n",
       "      <td>1644453630</td>\n",
       "    </tr>\n",
       "    <tr>\n",
       "      <th>563</th>\n",
       "      <td>Noyabrsk</td>\n",
       "      <td>63.1994</td>\n",
       "      <td>75.4507</td>\n",
       "      <td>-10.59</td>\n",
       "      <td>92</td>\n",
       "      <td>12</td>\n",
       "      <td>11.32</td>\n",
       "      <td>RU</td>\n",
       "      <td>1644453630</td>\n",
       "    </tr>\n",
       "    <tr>\n",
       "      <th>564</th>\n",
       "      <td>Serenje</td>\n",
       "      <td>-13.2325</td>\n",
       "      <td>30.2352</td>\n",
       "      <td>62.37</td>\n",
       "      <td>99</td>\n",
       "      <td>100</td>\n",
       "      <td>2.53</td>\n",
       "      <td>ZM</td>\n",
       "      <td>1644453630</td>\n",
       "    </tr>\n",
       "    <tr>\n",
       "      <th>565</th>\n",
       "      <td>Khlevnoye</td>\n",
       "      <td>52.1951</td>\n",
       "      <td>39.0932</td>\n",
       "      <td>30.22</td>\n",
       "      <td>96</td>\n",
       "      <td>100</td>\n",
       "      <td>6.85</td>\n",
       "      <td>RU</td>\n",
       "      <td>1644453630</td>\n",
       "    </tr>\n",
       "  </tbody>\n",
       "</table>\n",
       "<p>566 rows × 9 columns</p>\n",
       "</div>"
      ],
      "text/plain": [
       "            City      Lat       Lng  Max Temp  Humidity  Cloudiness  \\\n",
       "0           Daru  -9.0763  143.2092     83.88        75         100   \n",
       "1         Hobart -42.8794  147.3294     73.02        44          40   \n",
       "2         Panabá  21.2833  -88.2667     66.94        89           8   \n",
       "3       Hermanus -34.4187   19.2345     67.89        88          99   \n",
       "4    Port Alfred -33.5906   26.8910     65.10        86           2   \n",
       "..           ...      ...       ...       ...       ...         ...   \n",
       "561     Gillette  44.2911 -105.5022     41.92        64          75   \n",
       "562        Bouna   9.2667   -3.0000     74.16        18           3   \n",
       "563     Noyabrsk  63.1994   75.4507    -10.59        92          12   \n",
       "564      Serenje -13.2325   30.2352     62.37        99         100   \n",
       "565    Khlevnoye  52.1951   39.0932     30.22        96         100   \n",
       "\n",
       "     Wind Speed Country        Date  \n",
       "0          6.58      PG  1644453525  \n",
       "1         14.97      AU  1644452936  \n",
       "2          6.22      MX  1644453526  \n",
       "3          2.46      ZA  1644453217  \n",
       "4          9.26      ZA  1644453193  \n",
       "..          ...     ...         ...  \n",
       "561       23.02      US  1644453629  \n",
       "562        4.54      CI  1644453630  \n",
       "563       11.32      RU  1644453630  \n",
       "564        2.53      ZM  1644453630  \n",
       "565        6.85      RU  1644453630  \n",
       "\n",
       "[566 rows x 9 columns]"
      ]
     },
     "execution_count": 5,
     "metadata": {},
     "output_type": "execute_result"
    }
   ],
   "source": [
    "# Inspect DataFrame\n",
    "city_info_df"
   ]
  },
  {
   "cell_type": "code",
   "execution_count": 6,
   "metadata": {},
   "outputs": [
    {
     "name": "stdout",
     "output_type": "stream",
     "text": [
      "566 number of cities were left out of the 566 cities accounted for, giving a success rate of 100.0% retrieval.\n"
     ]
    },
    {
     "data": {
      "text/html": [
       "<div>\n",
       "<style scoped>\n",
       "    .dataframe tbody tr th:only-of-type {\n",
       "        vertical-align: middle;\n",
       "    }\n",
       "\n",
       "    .dataframe tbody tr th {\n",
       "        vertical-align: top;\n",
       "    }\n",
       "\n",
       "    .dataframe thead th {\n",
       "        text-align: right;\n",
       "    }\n",
       "</style>\n",
       "<table border=\"1\" class=\"dataframe\">\n",
       "  <thead>\n",
       "    <tr style=\"text-align: right;\">\n",
       "      <th></th>\n",
       "      <th>City</th>\n",
       "      <th>Lat</th>\n",
       "      <th>Lng</th>\n",
       "      <th>Max Temp</th>\n",
       "      <th>Humidity</th>\n",
       "      <th>Cloudiness</th>\n",
       "      <th>Wind Speed</th>\n",
       "      <th>Country</th>\n",
       "      <th>Date</th>\n",
       "    </tr>\n",
       "  </thead>\n",
       "  <tbody>\n",
       "    <tr>\n",
       "      <th>0</th>\n",
       "      <td>Daru</td>\n",
       "      <td>-9.0763</td>\n",
       "      <td>143.2092</td>\n",
       "      <td>83.88</td>\n",
       "      <td>75</td>\n",
       "      <td>100</td>\n",
       "      <td>6.58</td>\n",
       "      <td>PG</td>\n",
       "      <td>1644453525</td>\n",
       "    </tr>\n",
       "    <tr>\n",
       "      <th>1</th>\n",
       "      <td>Hobart</td>\n",
       "      <td>-42.8794</td>\n",
       "      <td>147.3294</td>\n",
       "      <td>73.02</td>\n",
       "      <td>44</td>\n",
       "      <td>40</td>\n",
       "      <td>14.97</td>\n",
       "      <td>AU</td>\n",
       "      <td>1644452936</td>\n",
       "    </tr>\n",
       "    <tr>\n",
       "      <th>2</th>\n",
       "      <td>Panabá</td>\n",
       "      <td>21.2833</td>\n",
       "      <td>-88.2667</td>\n",
       "      <td>66.94</td>\n",
       "      <td>89</td>\n",
       "      <td>8</td>\n",
       "      <td>6.22</td>\n",
       "      <td>MX</td>\n",
       "      <td>1644453526</td>\n",
       "    </tr>\n",
       "    <tr>\n",
       "      <th>3</th>\n",
       "      <td>Hermanus</td>\n",
       "      <td>-34.4187</td>\n",
       "      <td>19.2345</td>\n",
       "      <td>67.89</td>\n",
       "      <td>88</td>\n",
       "      <td>99</td>\n",
       "      <td>2.46</td>\n",
       "      <td>ZA</td>\n",
       "      <td>1644453217</td>\n",
       "    </tr>\n",
       "    <tr>\n",
       "      <th>4</th>\n",
       "      <td>Port Alfred</td>\n",
       "      <td>-33.5906</td>\n",
       "      <td>26.8910</td>\n",
       "      <td>65.10</td>\n",
       "      <td>86</td>\n",
       "      <td>2</td>\n",
       "      <td>9.26</td>\n",
       "      <td>ZA</td>\n",
       "      <td>1644453193</td>\n",
       "    </tr>\n",
       "    <tr>\n",
       "      <th>...</th>\n",
       "      <td>...</td>\n",
       "      <td>...</td>\n",
       "      <td>...</td>\n",
       "      <td>...</td>\n",
       "      <td>...</td>\n",
       "      <td>...</td>\n",
       "      <td>...</td>\n",
       "      <td>...</td>\n",
       "      <td>...</td>\n",
       "    </tr>\n",
       "    <tr>\n",
       "      <th>561</th>\n",
       "      <td>Gillette</td>\n",
       "      <td>44.2911</td>\n",
       "      <td>-105.5022</td>\n",
       "      <td>41.92</td>\n",
       "      <td>64</td>\n",
       "      <td>75</td>\n",
       "      <td>23.02</td>\n",
       "      <td>US</td>\n",
       "      <td>1644453629</td>\n",
       "    </tr>\n",
       "    <tr>\n",
       "      <th>562</th>\n",
       "      <td>Bouna</td>\n",
       "      <td>9.2667</td>\n",
       "      <td>-3.0000</td>\n",
       "      <td>74.16</td>\n",
       "      <td>18</td>\n",
       "      <td>3</td>\n",
       "      <td>4.54</td>\n",
       "      <td>CI</td>\n",
       "      <td>1644453630</td>\n",
       "    </tr>\n",
       "    <tr>\n",
       "      <th>563</th>\n",
       "      <td>Noyabrsk</td>\n",
       "      <td>63.1994</td>\n",
       "      <td>75.4507</td>\n",
       "      <td>-10.59</td>\n",
       "      <td>92</td>\n",
       "      <td>12</td>\n",
       "      <td>11.32</td>\n",
       "      <td>RU</td>\n",
       "      <td>1644453630</td>\n",
       "    </tr>\n",
       "    <tr>\n",
       "      <th>564</th>\n",
       "      <td>Serenje</td>\n",
       "      <td>-13.2325</td>\n",
       "      <td>30.2352</td>\n",
       "      <td>62.37</td>\n",
       "      <td>99</td>\n",
       "      <td>100</td>\n",
       "      <td>2.53</td>\n",
       "      <td>ZM</td>\n",
       "      <td>1644453630</td>\n",
       "    </tr>\n",
       "    <tr>\n",
       "      <th>565</th>\n",
       "      <td>Khlevnoye</td>\n",
       "      <td>52.1951</td>\n",
       "      <td>39.0932</td>\n",
       "      <td>30.22</td>\n",
       "      <td>96</td>\n",
       "      <td>100</td>\n",
       "      <td>6.85</td>\n",
       "      <td>RU</td>\n",
       "      <td>1644453630</td>\n",
       "    </tr>\n",
       "  </tbody>\n",
       "</table>\n",
       "<p>566 rows × 9 columns</p>\n",
       "</div>"
      ],
      "text/plain": [
       "            City      Lat       Lng  Max Temp  Humidity  Cloudiness  \\\n",
       "0           Daru  -9.0763  143.2092     83.88        75         100   \n",
       "1         Hobart -42.8794  147.3294     73.02        44          40   \n",
       "2         Panabá  21.2833  -88.2667     66.94        89           8   \n",
       "3       Hermanus -34.4187   19.2345     67.89        88          99   \n",
       "4    Port Alfred -33.5906   26.8910     65.10        86           2   \n",
       "..           ...      ...       ...       ...       ...         ...   \n",
       "561     Gillette  44.2911 -105.5022     41.92        64          75   \n",
       "562        Bouna   9.2667   -3.0000     74.16        18           3   \n",
       "563     Noyabrsk  63.1994   75.4507    -10.59        92          12   \n",
       "564      Serenje -13.2325   30.2352     62.37        99         100   \n",
       "565    Khlevnoye  52.1951   39.0932     30.22        96         100   \n",
       "\n",
       "     Wind Speed Country        Date  \n",
       "0          6.58      PG  1644453525  \n",
       "1         14.97      AU  1644452936  \n",
       "2          6.22      MX  1644453526  \n",
       "3          2.46      ZA  1644453217  \n",
       "4          9.26      ZA  1644453193  \n",
       "..          ...     ...         ...  \n",
       "561       23.02      US  1644453629  \n",
       "562        4.54      CI  1644453630  \n",
       "563       11.32      RU  1644453630  \n",
       "564        2.53      ZM  1644453630  \n",
       "565        6.85      RU  1644453630  \n",
       "\n",
       "[566 rows x 9 columns]"
      ]
     },
     "execution_count": 6,
     "metadata": {},
     "output_type": "execute_result"
    }
   ],
   "source": [
    "leftover_cities = city_info_df.loc[city_info_df[\"City\"] != \"Failed!\"]\n",
    "leftover_cities_count = len(leftover_cities)\n",
    "print(\"{} number of cities were left out of the {} cities accounted for, giving a success rate of {:.1%} retrieval.\"\n",
    "      .format(leftover_cities_count, city_count, (leftover_cities_count/city_count)))\n",
    "\n",
    "leftover_cities.index = [a for a in range(leftover_cities_count)]\n",
    "\n",
    "non_numeric_columns = [\"City\", \"Country\", \"Date\"]\n",
    "\n",
    "for col in leftover_cities.columns:\n",
    "    if(col not in non_numeric_columns):\n",
    "        leftover_cities[col] = pd.to_numeric(leftover_cities[col])\n",
    "        \n",
    "\n",
    "leftover_cities"
   ]
  },
  {
   "cell_type": "markdown",
   "metadata": {},
   "source": [
    "## Inspect the data and remove the cities where the humidity > 100%.\n",
    "----\n",
    "Skip this step if there are no cities that have humidity > 100%. "
   ]
  },
  {
   "cell_type": "code",
   "execution_count": 7,
   "metadata": {},
   "outputs": [],
   "source": [
    "# Table Columns\n",
    "lat = city_info_df[\"Lat\"]\n",
    "max_temp = city_info_df[\"Max Temp\"]\n",
    "humidity = city_info_df[\"Humidity\"]\n",
    "cloudiness = city_info_df[\"Cloudiness\"]\n",
    "wind_speed = city_info_df[\"Wind Speed\"]"
   ]
  },
  {
   "cell_type": "code",
   "execution_count": 8,
   "metadata": {},
   "outputs": [
    {
     "data": {
      "text/plain": [
       "0      75\n",
       "1      44\n",
       "2      89\n",
       "3      88\n",
       "4      86\n",
       "       ..\n",
       "561    64\n",
       "562    18\n",
       "563    92\n",
       "564    99\n",
       "565    96\n",
       "Name: Humidity, Length: 566, dtype: int64"
      ]
     },
     "execution_count": 8,
     "metadata": {},
     "output_type": "execute_result"
    }
   ],
   "source": [
    "#  Get the indices of cities that have humidity over 100%.\n",
    "city_info_df[\"Humidity\"]"
   ]
  },
  {
   "cell_type": "code",
   "execution_count": 9,
   "metadata": {},
   "outputs": [
    {
     "name": "stderr",
     "output_type": "stream",
     "text": [
      "C:\\Users\\chris\\anaconda3\\lib\\site-packages\\seaborn\\_decorators.py:36: FutureWarning: Pass the following variable as a keyword arg: x. From version 0.12, the only valid positional argument will be `data`, and passing other arguments without an explicit keyword will result in an error or misinterpretation.\n",
      "  warnings.warn(\n"
     ]
    },
    {
     "data": {
      "text/plain": [
       "<AxesSubplot:xlabel='Humidity'>"
      ]
     },
     "execution_count": 9,
     "metadata": {},
     "output_type": "execute_result"
    },
    {
     "data": {
      "image/png": "[encoded data removed]",
      "text/plain": [
       "<Figure size 432x288 with 1 Axes>"
      ]
     },
     "metadata": {
      "needs_background": "light"
     },
     "output_type": "display_data"
    }
   ],
   "source": [
    "# Couldn't figure out how to use plot_filtered to fix FutureWarning\n",
    "sns.boxplot(city_info_df[\"Humidity\"])\n",
    "\n"
   ]
  },
  {
   "cell_type": "code",
   "execution_count": 10,
   "metadata": {},
   "outputs": [
    {
     "name": "stdout",
     "output_type": "stream",
     "text": [
      "(array([], dtype=int64),)\n"
     ]
    }
   ],
   "source": [
    "# Print Outlier (if one exists)\n",
    "print(np.where(city_info_df[\"Humidity\"] > 100))\n",
    "# Array is empty, no 'Humidity' over 100% exists in current dataset."
   ]
  },
  {
   "cell_type": "markdown",
   "metadata": {},
   "source": [
    "#### Are There Any Cities With Humidity Over 100 % ?\n",
    "From the results of the boxplot and the conditional print statement, there does not seem to be any cities within the dataset that has a humidity of over 100%.  "
   ]
  },
  {
   "cell_type": "markdown",
   "metadata": {},
   "source": [
    "## Plotting the Data\n",
    "* Use proper labeling of the plots using plot titles (including date of analysis) and axes labels.\n",
    "* Save the plotted figures as .pngs."
   ]
  },
  {
   "cell_type": "markdown",
   "metadata": {},
   "source": [
    "## Temperature vs Latitude Scatter Plot"
   ]
  },
  {
   "cell_type": "code",
   "execution_count": 11,
   "metadata": {
    "scrolled": true
   },
   "outputs": [
    {
     "data": {
      "image/png": "[encoded data removed]",
      "text/plain": [
       "<Figure size 576x432 with 1 Axes>"
      ]
     },
     "metadata": {
      "needs_background": "light"
     },
     "output_type": "display_data"
    }
   ],
   "source": [
    "# Latitude vs Temperature\n",
    "# viz config\n",
    "plt.figure(figsize=(8,6))\n",
    "lat_vs_temp = plt.scatter(lat, max_temp, linewidths=1, marker=\"o\")\n",
    "\n",
    "# titles & labels\n",
    "plt.title(\"Max Temperature (%) vs Latitude of City (2/9/2022)\")\n",
    "plt.xlabel(\"Latitude\")\n",
    "plt.ylabel(\"Max Temperature (F)\")\n",
    "# Display Plot\n",
    "plt.show()"
   ]
  },
  {
   "cell_type": "markdown",
   "metadata": {},
   "source": [
    "#### Temperature vs. Latitude Scatter Plot Analysis¶\n",
    "The above scatter plot analyzies the latitudes of cities (north or south) of the equator against their correponding maximum temperatures (in degrees fahrenheit). Temperatures rise the closer a city is in relation to the equator. Cities south of the equator have higher maximum temperatures in comparison to cities north of the equator.  "
   ]
  },
  {
   "cell_type": "code",
   "execution_count": 12,
   "metadata": {},
   "outputs": [],
   "source": [
    "# Save fig\n",
    "lat_vs_temp.get_figure().savefig(\"../Images/Fig1.png\")"
   ]
  },
  {
   "cell_type": "markdown",
   "metadata": {},
   "source": [
    "## Humidity vs. Latitude Scatter Plot"
   ]
  },
  {
   "cell_type": "code",
   "execution_count": 13,
   "metadata": {},
   "outputs": [
    {
     "data": {
      "image/png": "[encoded data removed]",
      "text/plain": [
       "<Figure size 576x432 with 1 Axes>"
      ]
     },
     "metadata": {
      "needs_background": "light"
     },
     "output_type": "display_data"
    }
   ],
   "source": [
    "# Latitude vs Humidity\n",
    "# viz config\n",
    "plt.figure(figsize=(8,6))\n",
    "lat_vs_humidity = plt.scatter(lat, humidity, linewidths=1, marker=\"o\")\n",
    "\n",
    "# titles & labels\n",
    "plt.title(\"Humidity (%) vs Latitude of City (2/9/2022)\")\n",
    "plt.xlabel(\"Latitude\")\n",
    "plt.ylabel(\"Humidity (%)\")\n",
    "# Display Plot\n",
    "plt.show()"
   ]
  },
  {
   "cell_type": "markdown",
   "metadata": {},
   "source": [
    "#### Humidity vs. Latitude Scatter Plot Analysis\n",
    "\n",
    "The above scatter plot analyzies percent humidity against the latitudinal of a city in relation to the equator. There seems to be no apparently noticeable relationship between humidity and geolocation. "
   ]
  },
  {
   "cell_type": "code",
   "execution_count": 14,
   "metadata": {},
   "outputs": [],
   "source": [
    "lat_vs_humidity.get_figure().savefig(\"../Images/Fig2.png\")"
   ]
  },
  {
   "cell_type": "markdown",
   "metadata": {},
   "source": [
    "## Cloudiness vs. Latitude Scatter Plot"
   ]
  },
  {
   "cell_type": "code",
   "execution_count": 15,
   "metadata": {},
   "outputs": [
    {
     "data": {
      "image/png": "[encoded data removed]",
      "text/plain": [
       "<Figure size 576x432 with 1 Axes>"
      ]
     },
     "metadata": {
      "needs_background": "light"
     },
     "output_type": "display_data"
    }
   ],
   "source": [
    "# Cloudiness vs. Latitude Scatter Plot\n",
    "# viz config\n",
    "plt.figure(figsize=(8,6))\n",
    "lat_vs_cloudiness = plt.scatter(lat, cloudiness, linewidths=1, marker=\"o\")\n",
    "\n",
    "# titles & labels\n",
    "plt.title(\"Cloudiness (%) vs Latitude of City (2/9/2022)\")\n",
    "plt.xlabel(\"Latitude\")\n",
    "plt.ylabel(\"Cloudiness (%)\")\n",
    "# Display Plot\n",
    "plt.show()"
   ]
  },
  {
   "cell_type": "markdown",
   "metadata": {},
   "source": [
    "The scatter plot of Cloudiness vs. Latitude does does not show any associations between cloud cover and latitudial location.    "
   ]
  },
  {
   "cell_type": "code",
   "execution_count": 16,
   "metadata": {},
   "outputs": [],
   "source": [
    "lat_vs_cloudiness.get_figure().savefig(\"../Images/Fig3.png\")"
   ]
  },
  {
   "cell_type": "markdown",
   "metadata": {},
   "source": [
    "## Wind Speed vs Latitude Scatter Plot"
   ]
  },
  {
   "cell_type": "code",
   "execution_count": 17,
   "metadata": {},
   "outputs": [
    {
     "data": {
      "image/png": "[encoded data removed]",
      "text/plain": [
       "<Figure size 576x432 with 1 Axes>"
      ]
     },
     "metadata": {
      "needs_background": "light"
     },
     "output_type": "display_data"
    }
   ],
   "source": [
    "# Wind Speed vs Latitude Scatter Plot\n",
    "# viz config\n",
    "plt.figure(figsize=(8,6))\n",
    "lat_vs_wind_speed = plt.scatter(lat, wind_speed, linewidths=1, marker=\"o\")\n",
    "\n",
    "# titles & labels\n",
    "plt.title(\"Wind Speed (mph) vs Latitude of City (2/9/2022)\")\n",
    "plt.xlabel(\"Latitude\")\n",
    "plt.ylabel(\"Wind Speed (mph)\")\n",
    "# Display Plot\n",
    "plt.show()"
   ]
  },
  {
   "cell_type": "markdown",
   "metadata": {},
   "source": [
    "#### Wind Speed vs Latitude Scatter Plot Analysis\n",
    "The Wind Speed vs Latitude Scatter Plot shows no apparent associations between wind speed and geolocation for cities north or south of the equator."
   ]
  },
  {
   "cell_type": "code",
   "execution_count": 18,
   "metadata": {},
   "outputs": [],
   "source": [
    "lat_vs_wind_speed.get_figure().savefig(\"../Images/Fig4.png\")"
   ]
  },
  {
   "cell_type": "markdown",
   "metadata": {},
   "source": [
    "## Linear Regression"
   ]
  },
  {
   "cell_type": "code",
   "execution_count": 19,
   "metadata": {},
   "outputs": [],
   "source": [
    "# Linear Regression\n",
    "def makeLinRegression(city_info_df, x_Col, y_Col):\n",
    "    # preform linear regression\n",
    "    (regr_slope, regr_intercept, regr_r_val, _, _) = linregress(city_info_df[x_Col], city_info_df[y_Col])\n",
    "    # setup x and y axis data for linear regression \n",
    "    x = np.array([a for a in range(int(min(city_info_df[x_Col].values)), int(max(city_info_df[x_Col].values)+1))])\n",
    "    y = regr_slope * x + regr_intercept\n",
    "    # scatter plot\n",
    "    axis_df = city_info_df.plot(kind=\"scatter\", x=x_Col, y=y_Col, title=\"{} vs {} ({})\")\n",
    "    # best fit line\n",
    "    axis_df.plot(x, y, 'r')\n",
    "    \n",
    "    # print statements\n",
    "    print(\"Equation for best-fit linear regression line is y={:.2f}x+{:.2f}\".format(regr_slope, regr_intercept))\n",
    "    \n",
    "    print(\"r-squared correlation coefficient is {:.2f}\".format(regr_r_val))\n",
    "    \n",
    "    # return statement\n",
    "    return axis_df"
   ]
  },
  {
   "cell_type": "code",
   "execution_count": 20,
   "metadata": {},
   "outputs": [
    {
     "name": "stdout",
     "output_type": "stream",
     "text": [
      "The northern hemisphere has 377 cities out of 566 total, accounting for 66.6% of cities in the dataset.\n",
      "The southern hemisphere has 189 cities out of 566 total, accounting for 33.4% of cities in the dataset.\n"
     ]
    }
   ],
   "source": [
    "# Northern and Southern Hemispheres\n",
    "\n",
    "# Northern Hemisphere DataFrame\n",
    "northern_hemisphere = city_info_df.loc[city_info_df[\"Lat\"] >= 0]\n",
    "# Count of Cities in the Northern Hemisphere\n",
    "northern_count = len(northern_hemisphere)\n",
    "# Print \n",
    "print(\"The northern hemisphere has {} cities out of {} total, accounting for {:.1%} of cities in the dataset.\"\n",
    "      .format(northern_count, city_count, (northern_count/city_count)))\n",
    "\n",
    "# Southern Hemisphere DataFrame\n",
    "southern_hemisphere = city_info_df.loc[city_info_df[\"Lat\"] < 0]\n",
    "# Count of Cities in the Southern Hemisphere\n",
    "southern_count = len(southern_hemisphere)\n",
    "# Print \n",
    "print(\"The southern hemisphere has {} cities out of {} total, accounting for {:.1%} of cities in the dataset.\"\n",
    "      .format(southern_count, city_count, (southern_count/city_count)))"
   ]
  },
  {
   "cell_type": "markdown",
   "metadata": {},
   "source": [
    "####  Northern Hemisphere - Max Temp vs. Latitude Linear Regression"
   ]
  },
  {
   "cell_type": "code",
   "execution_count": 36,
   "metadata": {},
   "outputs": [
    {
     "name": "stdout",
     "output_type": "stream",
     "text": [
      "Line of Best-Fit for linear regression is y=-1.30x+89.29\n",
      "The r-squared correlation coefficient is -0.83\n"
     ]
    },
    {
     "data": {
      "image/png": "[encoded data removed]",
      "text/plain": [
       "<Figure size 432x288 with 1 Axes>"
      ]
     },
     "metadata": {
      "needs_background": "light"
     },
     "output_type": "display_data"
    },
    {
     "data": {
      "text/plain": [
       "<Figure size 576x432 with 0 Axes>"
      ]
     },
     "metadata": {},
     "output_type": "display_data"
    }
   ],
   "source": [
    "(n_temp_slope, n_temp_intercept, n_temp_r_val, _, _) = linregress(northern_hemisphere[\"Lat\"],\n",
    "                                                                 northern_hemisphere[\"Max Temp\"])\n",
    "\n",
    "x = np.array([a for a in range(80)])\n",
    "y = n_temp_slope * x + n_temp_intercept\n",
    "\n",
    "n_temp_axes = northern_hemisphere.plot(kind=\"scatter\", x=\"Lat\", y=\"Max Temp\",\n",
    "                                       title=\"North - Max Temp vs. Lat. Linear Regression (2/9/2022)\")\n",
    "# line of best fit\n",
    "n_temp_axes.plot(x, y, 'r')\n",
    "\n",
    "plt.xlabel(\"Latitude\")\n",
    "plt.ylabel(\"Max Temperture (F)\")\n",
    "plt.figure(figsize=(8,6))\n",
    "\n",
    "# print \n",
    "print(\"Line of Best-Fit for linear regression is y={:.2f}x+{:.2f}\"\n",
    "      .format(n_temp_slope, n_temp_intercept))\n",
    "print(\"The r-squared correlation coefficient is {:.2f}\".format(n_temp_r_val))\n",
    "\n",
    "# save figure as png\n",
    "n_temp_axes.get_figure().savefig(\"../Images/Fig5_N.png\")"
   ]
  },
  {
   "cell_type": "markdown",
   "metadata": {},
   "source": [
    "#### Northern Hemisphere - Max Temp vs. Latitude Linear Regression Analysis\n",
    "\n",
    "According to the linear regression of maximum temperature vs latitude for the cities in the northern hemisphere, there is a strong negative correlation. The farther away a city's geolocation is to the equator the colder the climate conditions.  "
   ]
  },
  {
   "cell_type": "markdown",
   "metadata": {},
   "source": [
    "####  Southern Hemisphere - Max Temp vs. Latitude Linear Regression"
   ]
  },
  {
   "cell_type": "code",
   "execution_count": 37,
   "metadata": {},
   "outputs": [
    {
     "name": "stdout",
     "output_type": "stream",
     "text": [
      "Equation for best-fit linear regression line is y=0.25x+79.44\n",
      "r-squared correlation coefficient is 0.40\n"
     ]
    },
    {
     "data": {
      "image/png": "[encoded data removed]",
      "text/plain": [
       "<Figure size 432x288 with 1 Axes>"
      ]
     },
     "metadata": {
      "needs_background": "light"
     },
     "output_type": "display_data"
    },
    {
     "data": {
      "text/plain": [
       "<Figure size 576x432 with 0 Axes>"
      ]
     },
     "metadata": {},
     "output_type": "display_data"
    }
   ],
   "source": [
    "s_temp_axes = makeLinRegression(southern_hemisphere, \"Lat\", \"Max Temp\")\n",
    "plt.title(\"South - Max Temp vs. Lat. Linear Regression (2/9/2022)\")\n",
    "plt.xlabel(\"Latitude\")\n",
    "plt.ylabel(\"Max Temperture (F)\")\n",
    "plt.figure(figsize=(8,6))\n",
    "# save figure as png\n",
    "s_temp_axes.get_figure().savefig(\"../Images/Fig6_S.png\")"
   ]
  },
  {
   "cell_type": "markdown",
   "metadata": {},
   "source": [
    "#### Southern Hemisphere - Max Temp vs. Latitude Linear Regression Analysis\n",
    "\n",
    "The above linear regression shows a positive relationship between geolocation of cities in the southern hemisphere relative to the equator and their cooresopnding climate conditions. The cities closer to the equator enjoy warmer climate conditions and therefore higher maximum temperatures. "
   ]
  },
  {
   "cell_type": "markdown",
   "metadata": {},
   "source": [
    "####  Northern Hemisphere - Humidity (%) vs. Latitude Linear Regression"
   ]
  },
  {
   "cell_type": "code",
   "execution_count": 38,
   "metadata": {},
   "outputs": [
    {
     "name": "stdout",
     "output_type": "stream",
     "text": [
      "Equation for best-fit linear regression line is y=0.42x+57.90\n",
      "r-squared correlation coefficient is 0.39\n"
     ]
    },
    {
     "data": {
      "image/png": "[encoded data removed]",
      "text/plain": [
       "<Figure size 432x288 with 1 Axes>"
      ]
     },
     "metadata": {
      "needs_background": "light"
     },
     "output_type": "display_data"
    },
    {
     "data": {
      "text/plain": [
       "<Figure size 576x432 with 0 Axes>"
      ]
     },
     "metadata": {},
     "output_type": "display_data"
    }
   ],
   "source": [
    "# Northern Hemisphere - Humidity (%) vs. Latitude Linear Regression\n",
    "n_humidity_lat_axes = makeLinRegression(northern_hemisphere, \"Lat\", \"Humidity\")\n",
    "plt.title(\"North - Humidity vs. Lat. Linear Regression (2/9/2022)\")\n",
    "plt.xlabel(\"Latitude\")\n",
    "plt.ylabel(\"Humidity (%)\")\n",
    "plt.figure(figsize=(8,6))\n",
    "# save figure as png\n",
    "n_humidity_lat_axes.get_figure().savefig(\"../Images/Fig7_N.png\")"
   ]
  },
  {
   "cell_type": "markdown",
   "metadata": {},
   "source": [
    "#### Northern Hemisphere - Humidity (%) vs. Latitude Linear Regression Analysis \n",
    "Dispite the somewhat positive correlation coefficient for the linear regression of Humidity (%) vs. Latitude for cities in the northern hemisphere, the outliers throughout makes the results for this particular dataset skewed. There should not be any noticable correlation between humidity for cities in respect to their geolocation from the equator. "
   ]
  },
  {
   "cell_type": "markdown",
   "metadata": {},
   "source": [
    "####  Southern Hemisphere - Humidity (%) vs. Latitude Linear Regression"
   ]
  },
  {
   "cell_type": "code",
   "execution_count": 39,
   "metadata": {},
   "outputs": [
    {
     "name": "stdout",
     "output_type": "stream",
     "text": [
      "Equation for best-fit linear regression line is y=0.63x+86.45\n",
      "r-squared correlation coefficient is 0.45\n"
     ]
    },
    {
     "data": {
      "image/png": "[encoded data removed]",
      "text/plain": [
       "<Figure size 432x288 with 1 Axes>"
      ]
     },
     "metadata": {
      "needs_background": "light"
     },
     "output_type": "display_data"
    },
    {
     "data": {
      "text/plain": [
       "<Figure size 576x432 with 0 Axes>"
      ]
     },
     "metadata": {},
     "output_type": "display_data"
    }
   ],
   "source": [
    "# Southern Hemisphere - Humidity (%) vs. Latitude Linear Regression\n",
    "s_humidity_lat_axes = makeLinRegression(southern_hemisphere, \"Lat\", \"Humidity\")\n",
    "plt.title(\"South - Humidity vs. Lat. Linear Regression (2/9/2022)\")\n",
    "plt.xlabel(\"Latitude\")\n",
    "plt.ylabel(\"Humidity (%)\")\n",
    "plt.figure(figsize=(8,6))\n",
    "# save figure as png\n",
    "s_humidity_lat_axes.get_figure().savefig(\"../Images/Fig8_S.png\")"
   ]
  },
  {
   "cell_type": "markdown",
   "metadata": {},
   "source": [
    "#### Southern Hemisphere - Humidity (%) vs. Latitude Linear Regression Analysis \n",
    "Likewise there should be little to no assoication between humidity and geolocation for cities in the southern hemisphere. "
   ]
  },
  {
   "cell_type": "markdown",
   "metadata": {},
   "source": [
    "####  Northern Hemisphere - Cloudiness (%) vs. Latitude Linear Regression"
   ]
  },
  {
   "cell_type": "code",
   "execution_count": 40,
   "metadata": {},
   "outputs": [
    {
     "name": "stdout",
     "output_type": "stream",
     "text": [
      "Equation for best-fit linear regression line is y=0.61x+31.18\n",
      "r-squared correlation coefficient is 0.30\n"
     ]
    },
    {
     "data": {
      "image/png": "[encoded data removed]",
      "text/plain": [
       "<Figure size 432x288 with 1 Axes>"
      ]
     },
     "metadata": {
      "needs_background": "light"
     },
     "output_type": "display_data"
    },
    {
     "data": {
      "text/plain": [
       "<Figure size 576x432 with 0 Axes>"
      ]
     },
     "metadata": {},
     "output_type": "display_data"
    }
   ],
   "source": [
    "# Northern Hemisphere - Cloudiness (%) vs. Latitude Linear Regression\n",
    "n_cloudiness_lat_axes = makeLinRegression(northern_hemisphere, \"Lat\", \"Cloudiness\")\n",
    "plt.title(\"North - Cloudiness vs. Lat. Linear Regression (2/9/2022)\")\n",
    "plt.xlabel(\"Latitude\")\n",
    "plt.ylabel(\"Cloudiness\")\n",
    "plt.figure(figsize=(8,6))\n",
    "# save figure as png\n",
    "n_cloudiness_lat_axes.get_figure().savefig(\"../Images/Fig9_N.png\")"
   ]
  },
  {
   "cell_type": "markdown",
   "metadata": {},
   "source": [
    "#### Northern Hemisphere - Cloudiness (%) vs. Latitude Linear Regression Analysis\n",
    "\n",
    "Judging from the overall data spread, there should be little to no correlation between cloud coverage and geolocation for cities in the northern hemisphere. "
   ]
  },
  {
   "cell_type": "markdown",
   "metadata": {},
   "source": [
    "####  Southern Hemisphere - Cloudiness (%) vs. Latitude Linear Regression"
   ]
  },
  {
   "cell_type": "code",
   "execution_count": 41,
   "metadata": {},
   "outputs": [
    {
     "name": "stdout",
     "output_type": "stream",
     "text": [
      "Equation for best-fit linear regression line is y=1.13x+80.22\n",
      "r-squared correlation coefficient is 0.37\n"
     ]
    },
    {
     "data": {
      "image/png": "[encoded data removed]",
      "text/plain": [
       "<Figure size 432x288 with 1 Axes>"
      ]
     },
     "metadata": {
      "needs_background": "light"
     },
     "output_type": "display_data"
    },
    {
     "data": {
      "text/plain": [
       "<Figure size 576x432 with 0 Axes>"
      ]
     },
     "metadata": {},
     "output_type": "display_data"
    }
   ],
   "source": [
    "# Southern Hemisphere - Cloudiness (%) vs. Latitude Linear Regression\n",
    "s_cloudiness_lat_axes = makeLinRegression(southern_hemisphere, \"Lat\", \"Cloudiness\")\n",
    "plt.title(\"South - Cloudiness vs. Lat. Linear Regression (2/9/2022)\")\n",
    "plt.xlabel(\"Latitude\")\n",
    "plt.ylabel(\"Cloudiness\")\n",
    "plt.figure(figsize=(8,6))\n",
    "# save figure as png\n",
    "s_cloudiness_lat_axes.get_figure().savefig(\"../Images/Fig10_S.png\")"
   ]
  },
  {
   "cell_type": "markdown",
   "metadata": {},
   "source": [
    "#### Southern Hemisphere - Cloudiness (%) vs. Latitude Linear Regression Analysis\n",
    "\n",
    "Similarly, there should also be little to no correlation between cloud coverage and geolocation for cities in the southern hemisphere. "
   ]
  },
  {
   "cell_type": "markdown",
   "metadata": {},
   "source": [
    "####  Northern Hemisphere - Wind Speed (mph) vs. Latitude Linear Regression"
   ]
  },
  {
   "cell_type": "code",
   "execution_count": 42,
   "metadata": {},
   "outputs": [
    {
     "name": "stdout",
     "output_type": "stream",
     "text": [
      "Equation for best-fit linear regression line is y=0.06x+5.68\n",
      "r-squared correlation coefficient is 0.22\n"
     ]
    },
    {
     "data": {
      "image/png": "[encoded data removed]",
      "text/plain": [
       "<Figure size 432x288 with 1 Axes>"
      ]
     },
     "metadata": {
      "needs_background": "light"
     },
     "output_type": "display_data"
    },
    {
     "data": {
      "text/plain": [
       "<Figure size 576x432 with 0 Axes>"
      ]
     },
     "metadata": {},
     "output_type": "display_data"
    }
   ],
   "source": [
    "# Northern Hemisphere - Wind Speed (mph) vs. Latitude Linear Regression\n",
    "n_wind_lat_axes = makeLinRegression(northern_hemisphere, \"Lat\", \"Wind Speed\")\n",
    "plt.title(\"North - Wind Speed vs. Lat. Linear Regression (2/9/2022)\")\n",
    "plt.xlabel(\"Latitude\")\n",
    "plt.ylabel(\"Wind Speed\")\n",
    "plt.figure(figsize=(8,6))\n",
    "# save figure as png\n",
    "n_wind_lat_axes.get_figure().savefig(\"../Images/Fig11_N.png\")"
   ]
  },
  {
   "cell_type": "markdown",
   "metadata": {},
   "source": [
    "According to the the correlation coefficient for the linear regression for Wind Speed (mph) vs. Latitude, there should be almost no or slightly weak positive correlation between wind speed and geolocation away from the equator. This data could be skewed by the outliers for a few very windy northern cities. "
   ]
  },
  {
   "cell_type": "markdown",
   "metadata": {},
   "source": [
    "####  Southern Hemisphere - Wind Speed (mph) vs. Latitude Linear Regression"
   ]
  },
  {
   "cell_type": "code",
   "execution_count": 43,
   "metadata": {},
   "outputs": [
    {
     "name": "stdout",
     "output_type": "stream",
     "text": [
      "Equation for best-fit linear regression line is y=-0.12x+5.21\n",
      "r-squared correlation coefficient is -0.29\n"
     ]
    },
    {
     "data": {
      "image/png": "[encoded data removed]",
      "text/plain": [
       "<Figure size 432x288 with 1 Axes>"
      ]
     },
     "metadata": {
      "needs_background": "light"
     },
     "output_type": "display_data"
    },
    {
     "data": {
      "text/plain": [
       "<Figure size 576x432 with 0 Axes>"
      ]
     },
     "metadata": {},
     "output_type": "display_data"
    }
   ],
   "source": [
    "# Southern Hemisphere - Wind Speed (mph) vs. Latitude Linear Regression\n",
    "s_wind_lat_axes = makeLinRegression(southern_hemisphere, \"Lat\", \"Wind Speed\")\n",
    "plt.title(\"South - Wind Speed vs. Lat Linear Regression (2/9/2022)\")\n",
    "plt.xlabel(\"Latitude\")\n",
    "plt.ylabel(\"Wind Speed\")\n",
    "plt.figure(figsize=(8,6))\n",
    "# save figure as png\n",
    "s_wind_lat_axes.get_figure().savefig(\"../Images/Fig12_S.png\")"
   ]
  },
  {
   "cell_type": "markdown",
   "metadata": {},
   "source": [
    "#### Southern Hemisphere - Wind Speed (mph) vs. Latitude Linear Regression Analysis\n",
    "\n",
    "Reasonably should also not be any association between wind speed and geolocation away from the equator for cities in the southern hemisphere.  "
   ]
  },
  {
   "cell_type": "code",
   "execution_count": 44,
   "metadata": {},
   "outputs": [
    {
     "name": "stdout",
     "output_type": "stream",
     "text": [
      "(array([298, 511], dtype=int64),)\n"
     ]
    }
   ],
   "source": [
    "# outliers for observations \n",
    "print(np.where(city_info_df[\"Wind Speed\"] > 30))"
   ]
  },
  {
   "cell_type": "code",
   "execution_count": 45,
   "metadata": {},
   "outputs": [
    {
     "name": "stdout",
     "output_type": "stream",
     "text": [
      "          City      Lat       Lng  Max Temp  Humidity  Cloudiness  Wind Speed  \\\n",
      "44     Isabela   6.7085  121.9711     82.45        75          62        3.38   \n",
      "96   Porbandar  21.6422   69.6093     67.35        51           6       11.79   \n",
      "548   Araouane  18.9048   -3.5265     64.81        13           3       12.12   \n",
      "\n",
      "    Country        Date  \n",
      "44       PH  1644453531  \n",
      "96       IN  1644453397  \n",
      "548      ML  1644453627  \n"
     ]
    }
   ],
   "source": [
    "print(city_info_df.iloc[[44,  96, 548]])\n",
    "# Outliers: Sørland (67.6670, 32.26), Isangel (40.18, -19.5500), Vao (-22.6667, 30.29) "
   ]
  }
 ],
 "metadata": {
  "anaconda-cloud": {},
  "kernel_info": {
   "name": "python3"
  },
  "kernelspec": {
   "display_name": "Python 3 (ipykernel)",
   "language": "python",
   "name": "python3"
  },
  "language_info": {
   "codemirror_mode": {
    "name": "ipython",
    "version": 3
   },
   "file_extension": ".py",
   "mimetype": "text/x-python",
   "name": "python",
   "nbconvert_exporter": "python",
   "pygments_lexer": "ipython3",
   "version": "3.9.7"
  },
  "latex_envs": {
   "LaTeX_envs_menu_present": true,
   "autoclose": false,
   "autocomplete": true,
   "bibliofile": "biblio.bib",
   "cite_by": "apalike",
   "current_citInitial": 1,
   "eqLabelWithNumbers": true,
   "eqNumInitial": 1,
   "hotkeys": {
    "equation": "Ctrl-E",
    "itemize": "Ctrl-I"
   },
   "labels_anchors": false,
   "latex_user_defs": false,
   "report_style_numbering": false,
   "user_envs_cfg": false
  },
  "nteract": {
   "version": "0.12.3"
  }
 },
 "nbformat": 4,
 "nbformat_minor": 2
}
