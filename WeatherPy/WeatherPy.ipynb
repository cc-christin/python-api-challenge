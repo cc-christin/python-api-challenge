{
 "cells": [
  {
   "cell_type": "markdown",
   "metadata": {},
   "source": [
    "# WeatherPy\n",
    "----\n",
    "\n",
    "#### Note\n",
    "* Instructions have been included for each segment. You do not have to follow them exactly, but they are included to help you think through the steps."
   ]
  },
  {
   "cell_type": "code",
   "execution_count": 1,
   "metadata": {
    "scrolled": true
   },
   "outputs": [],
   "source": [
    "# Dependencies and Setup\n",
    "import matplotlib.pyplot as plt\n",
    "import pandas as pd\n",
    "import numpy as np\n",
    "import requests\n",
    "import time\n",
    "from scipy.stats import linregress\n",
    "from ratelimit import limits\n",
    "import time\n",
    "import json\n",
    "import seaborn as sns\n",
    "\n",
    "# Import API key\n",
    "from api_keys import weather_api_key\n",
    "\n",
    "# Incorporated citipy to determine city based on latitude and longitude\n",
    "from citipy import citipy\n",
    "\n",
    "# Output File (CSV)\n",
    "output_data_file = \"output_data/cities.csv\"\n",
    "\n",
    "# Range of latitudes and longitudes\n",
    "lat_range = (-90, 90)\n",
    "lng_range = (-180, 180)"
   ]
  },
  {
   "cell_type": "markdown",
   "metadata": {},
   "source": [
    "## Generate Cities List"
   ]
  },
  {
   "cell_type": "code",
   "execution_count": 2,
   "metadata": {},
   "outputs": [
    {
     "data": {
      "text/plain": [
       "615"
      ]
     },
     "execution_count": 2,
     "metadata": {},
     "output_type": "execute_result"
    }
   ],
   "source": [
    "# List for holding lat_lngs and cities\n",
    "lat_lngs = []\n",
    "cities = []\n",
    "\n",
    "# Create a set of random lat and lng combinations\n",
    "lats = np.random.uniform(lat_range[0], lat_range[1], size=1500)\n",
    "lngs = np.random.uniform(lng_range[0], lng_range[1], size=1500)\n",
    "lat_lngs = zip(lats, lngs)\n",
    "\n",
    "# Identify nearest city for each lat, lng combination\n",
    "for lat_lng in lat_lngs:\n",
    "    city = citipy.nearest_city(lat_lng[0], lat_lng[1]).city_name\n",
    "    \n",
    "    # If the city is unique, then add it to a our cities list\n",
    "    if city not in cities:\n",
    "        cities.append(city)\n",
    "\n",
    "# Print the city count to confirm sufficient count\n",
    "len(cities)"
   ]
  },
  {
   "cell_type": "markdown",
   "metadata": {},
   "source": [
    "### Perform API Calls\n",
    "* Perform a weather check on each city using a series of successive API calls.\n",
    "* Include a print log of each city as it'sbeing processed (with the city number and city name).\n",
    "\n",
    "> **HINT:** The OpenWeatherMap API only allows 60 calls per minute under their free plan. Try using `time.sleep(60)` after each set of 50 cities to avoid API errors due to large calls."
   ]
  },
  {
   "cell_type": "code",
   "execution_count": 3,
   "metadata": {
    "scrolled": true
   },
   "outputs": [
    {
     "name": "stdout",
     "output_type": "stream",
     "text": [
      "{'cod': '400', 'message': 'Nothing to geocode'}\n",
      "Processing city 0: Portland\n",
      "Incomplete..., skip over missing city info.\n",
      "Processing city 2: Mahébourg\n",
      "Processing city 3: Adrar\n",
      "Processing city 4: Atuona\n",
      "Incomplete..., skip over missing city info.\n",
      "Processing city 6: Saint-Philippe\n",
      "Processing city 7: Saskylakh\n",
      "Processing city 8: Bluff\n",
      "Processing city 9: Kirgiz-Miyaki\n",
      "Processing city 10: Vostok\n",
      "Processing city 11: Loreto\n",
      "Processing city 12: New Norfolk\n",
      "Processing city 13: Eyl\n",
      "Processing city 14: Port Elizabeth\n",
      "Processing city 15: Khatanga\n",
      "Incomplete..., skip over missing city info.\n",
      "Processing city 17: Nome\n",
      "Processing city 18: Port Alfred\n",
      "Processing city 19: Provideniya\n",
      "Processing city 20: Arman'\n",
      "Processing city 21: Cherskiy\n",
      "Processing city 22: Busselton\n",
      "Processing city 23: Mabaruma\n",
      "Processing city 24: George Town\n",
      "Processing city 25: Mórahalom\n",
      "Processing city 26: Rikitea\n",
      "Processing city 27: Ostrovnoy\n",
      "Processing city 28: Punta Arenas\n",
      "Processing city 29: Ushuaia\n",
      "Processing city 30: Kushima\n",
      "Processing city 31: Hengyang\n",
      "Processing city 32: Nikolskoye\n",
      "Incomplete..., skip over missing city info.\n",
      "Incomplete..., skip over missing city info.\n",
      "Processing city 35: Smolenka\n",
      "Processing city 36: College\n",
      "Processing city 37: Abalak\n",
      "Processing city 38: Pevek\n",
      "Processing city 39: Tasiilaq\n",
      "Processing city 40: Darlawn\n",
      "Processing city 41: Tiksi\n",
      "Processing city 42: Gravdal\n",
      "Processing city 43: Coahuayana Viejo\n",
      "Processing city 44: Mataura\n",
      "Processing city 45: Broken Hill\n",
      "Processing city 46: Boueni\n",
      "Processing city 47: Troitsko-Pechorsk\n",
      "Incomplete..., skip over missing city info.\n",
      "Processing city 49: Katsuura\n",
      "Processing city 50: Albany\n",
      "Processing city 51: Quatre Cocos\n",
      "Processing city 52: São Filipe\n",
      "Processing city 53: Aloleng\n",
      "Processing city 54: Qaanaaq\n",
      "Processing city 55: Hobart\n",
      "Processing city 56: Mazyr\n",
      "Processing city 57: Beringovskiy\n",
      "Processing city 58: Nogales\n",
      "Processing city 59: Narsaq\n",
      "Processing city 60: Honningsvåg\n",
      "Processing city 61: Manatí\n",
      "Processing city 62: Kavaratti\n",
      "Processing city 63: Saint George\n",
      "Processing city 64: Mar del Plata\n",
      "Processing city 65: Strezhevoy\n",
      "Processing city 66: Birao\n",
      "Processing city 67: East London\n",
      "Processing city 68: Jamestown\n",
      "Processing city 69: Barreirinha\n",
      "Processing city 70: Malbork\n",
      "Incomplete..., skip over missing city info.\n",
      "Incomplete..., skip over missing city info.\n",
      "Processing city 73: Marovoay\n",
      "Processing city 74: Safi\n",
      "Incomplete..., skip over missing city info.\n",
      "Processing city 76: Angol\n",
      "Processing city 77: Puerto Ayora\n",
      "Processing city 78: San Juan\n",
      "Processing city 79: Vaini\n",
      "Processing city 80: Codrington\n",
      "Processing city 81: Champerico\n",
      "Processing city 82: Tuktoyaktuk\n",
      "Processing city 83: Butaritari\n",
      "Processing city 84: Severo-Kuril'sk\n",
      "Processing city 85: Makueni Boma\n",
      "Processing city 86: Cape Town\n",
      "Processing city 87: Ancud\n",
      "Processing city 88: Lydenburg\n",
      "Processing city 89: Güira de Melena\n",
      "Processing city 90: Raudeberg\n",
      "Incomplete..., skip over missing city info.\n",
      "Processing city 92: Castro\n",
      "Processing city 93: Airai\n",
      "Processing city 94: Ocós\n",
      "Processing city 95: Kumëny\n",
      "Processing city 96: Bethel\n",
      "Processing city 97: Bredasdorp\n",
      "Processing city 98: La Paz\n",
      "Processing city 99: Fort Nelson\n",
      "Processing city 100: Saint Andrews\n",
      "Processing city 101: Carnarvon\n",
      "Processing city 102: Hermanus\n",
      "Processing city 103: Arraial do Cabo\n",
      "Processing city 104: Dikson\n",
      "Processing city 105: Ribeira Grande\n",
      "Processing city 106: Ampanihy\n",
      "Processing city 107: Yulara\n",
      "Processing city 108: Hilo\n",
      "Processing city 109: Örnsköldsvik\n",
      "Processing city 110: Cidreira\n",
      "Processing city 111: Krasnosel'kup\n",
      "Processing city 112: Bukachacha\n",
      "Processing city 113: Kapaa\n",
      "Processing city 114: Ovsyanka\n",
      "Processing city 115: Boksitogorsk\n",
      "Incomplete..., skip over missing city info.\n",
      "Processing city 117: North Bend\n",
      "Incomplete..., skip over missing city info.\n",
      "Processing city 119: Malakal\n",
      "Processing city 120: Padang\n",
      "Processing city 121: Nevers\n",
      "Processing city 122: Kapuskasing\n",
      "Processing city 123: Carmarthen\n",
      "Incomplete..., skip over missing city info.\n",
      "Processing city 125: Sibu\n",
      "Processing city 126: Cayenne\n",
      "Processing city 127: Tāybād\n",
      "Processing city 128: Avarua\n",
      "Processing city 129: Stromness\n",
      "Processing city 130: Bojnourd\n",
      "Processing city 131: Lagoa\n",
      "Processing city 132: Barrow\n",
      "Processing city 133: Saint-Augustin\n",
      "Processing city 134: Ranong\n",
      "Processing city 135: Kaduqli\n",
      "Incomplete..., skip over missing city info.\n",
      "Processing city 137: Bambous Virieux\n",
      "Processing city 138: Glenluce\n",
      "Processing city 139: Opuwo\n",
      "Processing city 140: Vao\n",
      "Processing city 141: Bengkulu\n",
      "Processing city 142: Blackwater\n",
      "Incomplete..., skip over missing city info.\n",
      "Processing city 144: Hong Kong\n",
      "Processing city 145: Talnakh\n",
      "Processing city 146: Waipawa\n",
      "Processing city 147: Vardø\n",
      "Processing city 148: Tabas\n",
      "Processing city 149: Clyde River\n",
      "Processing city 150: Antofagasta\n",
      "Processing city 151: Rome\n",
      "Processing city 152: Chokurdakh\n",
      "Processing city 153: Thompson\n",
      "Processing city 154: Sinjai\n",
      "Processing city 155: Vila Velha\n",
      "Processing city 156: Kathmandu\n",
      "Processing city 157: Hambantota\n",
      "Processing city 158: Ormara\n",
      "Processing city 159: Aketi\n",
      "Processing city 160: Sangar\n",
      "Processing city 161: Kaliua\n",
      "Processing city 162: Bay Roberts\n",
      "Processing city 163: Salalah\n",
      "Processing city 164: Darnah\n",
      "Processing city 165: Cockburn Town\n",
      "Processing city 166: Praia da Vitória\n",
      "Processing city 167: Lorengau\n",
      "Processing city 168: Øksfjord\n",
      "Processing city 169: Riyadh\n",
      "Processing city 170: Batemans Bay\n",
      "Processing city 171: Eirunepé\n",
      "Processing city 172: Sīrjān\n",
      "Processing city 173: Ambon City\n",
      "Processing city 174: Hasaki\n",
      "Incomplete..., skip over missing city info.\n",
      "Processing city 176: Kavieng\n",
      "Processing city 177: Tigil'\n",
      "Processing city 178: Sur\n",
      "Processing city 179: Port-Cartier\n",
      "Processing city 180: Labuan\n",
      "Processing city 181: Upernavik\n",
      "Processing city 182: Hearst\n",
      "Processing city 183: Madang\n",
      "Processing city 184: Tuatapere\n",
      "Incomplete..., skip over missing city info.\n",
      "Processing city 186: Souillac\n",
      "Processing city 187: Korla\n",
      "Processing city 188: Nanortalik\n",
      "Processing city 189: Nogliki\n",
      "Processing city 190: Kuusamo\n",
      "Processing city 191: Tiarei\n",
      "Incomplete..., skip over missing city info.\n",
      "Processing city 193: Marzuq\n",
      "Processing city 194: Guaíra\n",
      "Processing city 195: Mogadishu\n",
      "Processing city 196: Igarka\n",
      "Processing city 197: Shenjiamen\n",
      "Processing city 198: Yellowknife\n",
      "Processing city 199: Ilulissat\n",
      "Processing city 200: Roskovec\n",
      "Processing city 201: Zeya\n",
      "Processing city 202: Mehamn\n",
      "Processing city 203: Mizdah\n",
      "Processing city 204: Baruun-Urt\n",
      "Processing city 205: Hatta\n",
      "Processing city 206: Nuuk\n",
      "Processing city 207: Nemuro\n",
      "Processing city 208: Cañete\n",
      "Processing city 209: Lüderitz\n",
      "Incomplete..., skip over missing city info.\n",
      "Processing city 211: Batagay\n",
      "Incomplete..., skip over missing city info.\n",
      "Processing city 213: Lata\n",
      "Processing city 214: Prince Rupert\n",
      "Processing city 215: Yar-Sale\n",
      "Processing city 216: Cabo San Lucas\n",
      "Processing city 217: Nueve de Julio\n",
      "Processing city 218: Norman Wells\n",
      "Processing city 219: Wau\n",
      "Processing city 220: Kalmunai\n",
      "Processing city 221: Tshikapa\n",
      "Processing city 222: Chippewa Falls\n",
      "Processing city 223: Namatanai\n",
      "Processing city 224: Acapulco de Juárez\n",
      "Processing city 225: Xinan\n",
      "Processing city 226: Northam\n",
      "Processing city 227: Ponta do Sol\n",
      "Processing city 228: Rāmānuj Ganj\n",
      "Processing city 229: Verkh-Suetka\n",
      "Processing city 230: Port Hardy\n",
      "Processing city 231: Kosh-Agach\n",
      "Processing city 232: Portree\n",
      "Processing city 233: Tarata\n",
      "Processing city 234: Hithadhoo\n",
      "Processing city 235: Port Blair\n",
      "Processing city 236: Bathsheba\n",
      "Processing city 237: Itanhém\n",
      "Processing city 238: Bosaso\n",
      "Processing city 239: Gazli\n",
      "Processing city 240: Ibrā’\n",
      "Processing city 241: Warman\n",
      "Processing city 242: Bereda\n",
      "Processing city 243: Japura\n",
      "Processing city 244: Itarema\n",
      "Processing city 245: Kirakira\n",
      "Processing city 246: Songjianghe\n",
      "Incomplete..., skip over missing city info.\n",
      "Processing city 248: Paita\n",
      "Processing city 249: Monte Alegre de Sergipe\n",
      "Processing city 250: Te Anau\n",
      "Processing city 251: Bykovo\n",
      "Incomplete..., skip over missing city info.\n",
      "Processing city 253: Kieta\n",
      "Processing city 254: Tougue\n",
      "Processing city 255: Guerrero Negro\n",
      "Processing city 256: Changji\n",
      "Processing city 257: Klaksvík\n",
      "Processing city 258: Chicama\n",
      "Processing city 259: Abu Dhabi\n",
      "Processing city 260: Kampene\n",
      "Processing city 261: Berlevåg\n",
      "Processing city 262: Alofi\n",
      "Processing city 263: San Cristobal\n"
     ]
    },
    {
     "name": "stdout",
     "output_type": "stream",
     "text": [
      "Processing city 264: Wanning\n",
      "Incomplete..., skip over missing city info.\n",
      "Processing city 266: Joshīmath\n",
      "Processing city 267: Nanchong\n",
      "Processing city 268: Longyearbyen\n",
      "Processing city 269: Turbat\n",
      "Processing city 270: Fomboni\n",
      "Processing city 271: Kifrī\n",
      "Processing city 272: La Asuncion\n",
      "Processing city 273: Maragogi\n",
      "Processing city 274: Port Lincoln\n",
      "Processing city 275: Pacific Grove\n",
      "Processing city 276: Zhangjiakou\n",
      "Processing city 277: Tautira\n",
      "Processing city 278: Saint-Pierre\n",
      "Processing city 279: Faanui\n",
      "Processing city 280: Broome\n",
      "Processing city 281: Olafsvik\n",
      "Processing city 282: Coro\n",
      "Processing city 283: Sinnamary\n",
      "Processing city 284: Sokolac\n",
      "Processing city 285: Nyimba\n",
      "Processing city 286: Mnogovershinnyy\n",
      "Processing city 287: Havre-St-Pierre\n",
      "Processing city 288: Aquiraz\n",
      "Processing city 289: Qom\n",
      "Processing city 290: Carutapera\n",
      "Processing city 291: Esperance\n",
      "Processing city 292: Nhulunbuy\n",
      "Processing city 293: Sistranda\n",
      "Processing city 294: Tual\n",
      "Processing city 295: Zhangye\n",
      "Processing city 296: Newport\n",
      "Processing city 297: Saint-François\n",
      "Processing city 298: Hobyo\n",
      "Processing city 299: Whitehorse\n",
      "Processing city 300: Nāthdwāra\n",
      "Processing city 301: Mil'kovo\n",
      "Incomplete..., skip over missing city info.\n",
      "Processing city 303: Ternate\n",
      "Processing city 304: Effingham County\n",
      "Processing city 305: Zhigansk\n",
      "Processing city 306: Taupo\n",
      "Processing city 307: Merauke\n",
      "Processing city 308: Lipin Bor\n",
      "Processing city 309: Şırnak\n",
      "Processing city 310: Mayya\n",
      "Processing city 311: Saldanha\n",
      "Processing city 312: Makakilo City\n",
      "Processing city 313: Tacoronte\n",
      "Processing city 314: Lompoc\n",
      "Processing city 315: Brewster\n",
      "Processing city 316: Hervey Bay\n",
      "Processing city 317: Pinawa\n",
      "Processing city 318: Kanigoro\n",
      "Processing city 319: Departamento de Maldonado\n",
      "Processing city 320: Greenville\n",
      "Processing city 321: Moosomin\n",
      "Processing city 322: Price\n",
      "Processing city 323: Mishan\n",
      "Processing city 324: Linxia Chengguanzhen\n",
      "Incomplete..., skip over missing city info.\n",
      "Incomplete..., skip over missing city info.\n",
      "Processing city 327: Muli\n",
      "Processing city 328: Henties Bay\n",
      "Processing city 329: Puerto del Rosario\n",
      "Incomplete..., skip over missing city info.\n",
      "Incomplete..., skip over missing city info.\n",
      "Processing city 332: Santa Rosa\n",
      "Processing city 333: Sabang\n",
      "Processing city 334: Plettenberg Bay\n",
      "Processing city 335: João Pinheiro\n",
      "Processing city 336: Saint Anthony\n",
      "Processing city 337: Valparaíso\n",
      "Processing city 338: Belaya Gora\n",
      "Processing city 339: Port-Gentil\n",
      "Processing city 340: Petauke\n",
      "Processing city 341: Brae\n",
      "Processing city 342: Sterling\n",
      "Processing city 343: Distrikt Brokopondo\n",
      "Processing city 344: Comodoro Rivadavia\n",
      "Processing city 345: San Patricio\n",
      "Processing city 346: Terme\n",
      "Processing city 347: Alta Floresta\n",
      "Processing city 348: Roald\n",
      "Processing city 349: Lakes Entrance\n",
      "Processing city 350: Nosy Varika\n",
      "Processing city 351: Hamilton\n",
      "Processing city 352: Alice Springs\n",
      "Incomplete..., skip over missing city info.\n",
      "Incomplete..., skip over missing city info.\n",
      "Processing city 355: Srednekolymsk\n",
      "Processing city 356: Yangi Marg`ilon\n",
      "Processing city 357: Bilibino\n",
      "Processing city 358: Malinovoye Ozero\n",
      "Processing city 359: Mason City\n",
      "Processing city 360: Sitka\n",
      "Processing city 361: Uray\n",
      "Processing city 362: Zarechnyy\n",
      "Processing city 363: Yārāda\n",
      "Processing city 364: Isla Mujeres\n",
      "Processing city 365: Edd\n",
      "Processing city 366: Plyussa\n",
      "Processing city 367: Laguna\n",
      "Processing city 368: São Borja\n",
      "Processing city 369: Pakokku\n",
      "Processing city 370: Antalaha\n",
      "Processing city 371: Wigston\n",
      "Processing city 372: Batagay-Alyta\n",
      "Processing city 373: Lake Shasta\n",
      "Processing city 374: Chui\n",
      "Processing city 375: Geraldton\n",
      "Processing city 376: Gitarama\n",
      "Processing city 377: Dicabisagan\n",
      "Processing city 378: Kapiri Mposhi\n",
      "Processing city 379: Bandarbeyla\n",
      "Processing city 380: Coquimbo\n",
      "Processing city 381: Margate\n",
      "Processing city 382: Palembang\n",
      "Processing city 383: Grindavik\n",
      "Processing city 384: Baculin\n",
      "Processing city 385: Daru\n",
      "Processing city 386: Villa María\n",
      "Processing city 387: Soverato Marina\n",
      "Processing city 388: Lavrentiya\n",
      "Processing city 389: Santiago de Cao\n",
      "Processing city 390: Cliza\n",
      "Processing city 391: Innisfail\n",
      "Processing city 392: Iqaluit\n",
      "Processing city 393: San Luis\n",
      "Processing city 394: Harrison\n",
      "Processing city 395: Lábrea\n",
      "Processing city 396: Shushenskoye\n",
      "Incomplete..., skip over missing city info.\n",
      "Incomplete..., skip over missing city info.\n",
      "Processing city 399: Dondo\n",
      "Processing city 400: Ambulu\n",
      "Processing city 401: Pimentel\n",
      "Processing city 402: Westport\n",
      "Processing city 403: Sovetskaya Gavan'\n",
      "Processing city 404: Kargasok\n",
      "Processing city 405: Sosnovo-Ozerskoye\n",
      "Processing city 406: Kumul\n",
      "Processing city 407: Toamasina\n",
      "Processing city 408: Bhādra\n",
      "Processing city 409: Baker City\n",
      "Processing city 410: Torbay\n",
      "Processing city 411: Zwedru\n",
      "Processing city 412: Ahipara\n",
      "Processing city 413: Teahupoo\n",
      "Processing city 414: Gönen\n",
      "Processing city 415: Mackenzie\n",
      "Processing city 416: Gaoyou\n",
      "Processing city 417: Wasilla\n",
      "Processing city 418: Tripoli\n",
      "Processing city 419: Shemordan\n",
      "Processing city 420: Galle\n",
      "Processing city 421: Vikulovo\n",
      "Processing city 422: San Miguel\n",
      "Processing city 423: Jinchang\n",
      "Processing city 424: Scarborough\n",
      "Processing city 425: Emerald\n",
      "Processing city 426: Tămădău Mare\n",
      "Incomplete..., skip over missing city info.\n",
      "Processing city 428: Verkhnyaya Inta\n",
      "Processing city 429: Ambilobe\n",
      "Processing city 430: Bambanglipuro\n",
      "Processing city 431: Koslan\n",
      "Processing city 432: San Fernando del Valle de Catamarca\n",
      "Processing city 433: Mossamedes\n",
      "Processing city 434: Pitimbu\n",
      "Processing city 435: Yatou\n",
      "Processing city 436: Ambanja\n",
      "Processing city 437: Kaeo\n",
      "Processing city 438: Saint Paul Harbor\n",
      "Processing city 439: Salinópolis\n",
      "Processing city 440: Izhma\n",
      "Processing city 441: Laas\n",
      "Incomplete..., skip over missing city info.\n",
      "Processing city 443: Dudinka\n",
      "Processing city 444: ‘Āhuimanu\n",
      "Processing city 445: Kirensk\n",
      "Processing city 446: Charleston\n",
      "Processing city 447: Amahai\n",
      "Processing city 448: Pucara\n",
      "Processing city 449: Forsytheganj\n",
      "Processing city 450: Gunjur\n",
      "Processing city 451: Forbes\n",
      "Processing city 452: Kalmar\n",
      "Processing city 453: Taksimo\n",
      "Processing city 454: Fairbanks\n",
      "Processing city 455: Bucerías\n",
      "Processing city 456: Tura\n",
      "Processing city 457: Tangping\n",
      "Processing city 458: Nushki\n",
      "Incomplete..., skip over missing city info.\n",
      "Processing city 460: Atambua\n",
      "Processing city 461: Touros\n",
      "Processing city 462: Muros\n",
      "Processing city 463: Denpasar\n",
      "Processing city 464: Asău\n",
      "Processing city 465: Abu Kamal\n",
      "Processing city 466: Jiazi\n",
      "Processing city 467: Wigan\n",
      "Processing city 468: Marawi\n",
      "Processing city 469: Terra Santa\n",
      "Processing city 470: Hūn\n",
      "Processing city 471: Kalghatgi\n",
      "Processing city 472: Pervomayskoye\n",
      "Processing city 473: Fortuna\n",
      "Processing city 474: Taltal\n",
      "Processing city 475: Petropavlovsk-Kamchatskiy\n",
      "Processing city 476: Truro\n",
      "Processing city 477: Avera\n",
      "Processing city 478: Pisco\n",
      "Processing city 479: Kruisfontein\n",
      "Processing city 480: Lebu\n",
      "Processing city 481: Piney Green\n",
      "Processing city 482: Jacareacanga\n",
      "Incomplete..., skip over missing city info.\n",
      "Processing city 484: Qaqortoq\n",
      "Processing city 485: Kaitangata\n",
      "Processing city 486: Popondetta\n",
      "Processing city 487: Naze\n",
      "Processing city 488: Turukhansk\n",
      "Processing city 489: Mergen\n",
      "Processing city 490: Phultala\n",
      "Processing city 491: Diamantino\n",
      "Processing city 492: Dwārka\n",
      "Processing city 493: Paracuru\n",
      "Processing city 494: Jutaí\n",
      "Processing city 495: Lázaro Cárdenas\n",
      "Incomplete..., skip over missing city info.\n",
      "Processing city 497: Macapá\n",
      "Processing city 498: Dalbandin\n",
      "Processing city 499: Bongandanga\n",
      "Processing city 500: Husavik\n",
      "Processing city 501: Kawalu\n",
      "Processing city 502: Faranah\n",
      "Processing city 503: Calabozo\n",
      "Processing city 504: Mirny\n",
      "Processing city 505: Tabou\n",
      "Processing city 506: Kyshtovka\n",
      "Processing city 507: Novoagansk\n",
      "Processing city 508: Waddān\n",
      "Processing city 509: Manoharpur\n",
      "Processing city 510: Manali\n",
      "Processing city 511: Lanzhou\n",
      "Incomplete..., skip over missing city info.\n",
      "Processing city 513: Sumenep\n",
      "Processing city 514: Seymchan\n",
      "Incomplete..., skip over missing city info.\n",
      "Processing city 516: Matara\n",
      "Processing city 517: Bilma\n",
      "Processing city 518: Walvis Bay\n",
      "Processing city 519: Aranos\n",
      "Processing city 520: Zhezkazgan\n",
      "Processing city 521: Escanaba\n",
      "Processing city 522: Xiongzhou\n",
      "Processing city 523: Morehead\n",
      "Processing city 524: Belle Fourche\n"
     ]
    },
    {
     "name": "stdout",
     "output_type": "stream",
     "text": [
      "Processing city 525: Isangel\n",
      "Processing city 526: Egvekinot\n",
      "Processing city 527: Kalakamati\n",
      "Processing city 528: Xining\n",
      "Processing city 529: Voyvozh\n",
      "Processing city 530: São Sebastião\n",
      "Processing city 531: Caravelas\n",
      "Processing city 532: Leningradskiy\n",
      "Processing city 533: Iquique\n",
      "Processing city 534: Casa Nova\n",
      "Processing city 535: Pangnirtung\n",
      "Processing city 536: Gweta\n",
      "Processing city 537: Kununurra\n",
      "Processing city 538: Shwebo\n",
      "Processing city 539: Baracoa\n",
      "Processing city 540: Aswān\n",
      "Incomplete..., skip over missing city info.\n",
      "Processing city 542: Redmond\n",
      "Processing city 543: Khandyga\n",
      "Processing city 544: La Santisima Trinidad\n",
      "Processing city 545: Mahārāganj\n",
      "Processing city 546: Maltahöhe\n",
      "Processing city 547: Tilichiki\n",
      "Processing city 548: São João da Barra\n",
      "Processing city 549: Privolzhye\n",
      "Processing city 550: Yankton\n",
      "Processing city 551: Dingle\n",
      "Processing city 552: Magadan\n",
      "Processing city 553: Svetlaya\n",
      "Processing city 554: Lom Sak\n",
      "Processing city 555: Parrita\n",
      "Processing city 556: Sørland\n",
      "Incomplete..., skip over missing city info.\n",
      "Processing city 558: Viedma\n",
      "Processing city 559: Zhuhai\n",
      "Processing city 560: Soyaniquilpan\n",
      "Processing city 561: Soria\n",
      "Processing city 562: Siderno\n",
      "Processing city 563: Constitución\n",
      "Processing city 564: Thongwa\n",
      "Processing city 565: Sayyan\n",
      "Processing city 566: Almaznyy\n",
      "Processing city 567: Jishou\n",
      "Processing city 568: Larsnes\n",
      "Processing city 569: Plaridel\n",
      "Processing city 570: Colares\n",
      "Processing city 571: Beloha\n",
      "Processing city 572: Gua Musang\n",
      "Incomplete..., skip over missing city info.\n",
      "Processing city 574: Nishihara\n",
      "Processing city 575: Half Moon Bay\n",
      "Processing city 576: Chipinge\n",
      "Incomplete..., skip over missing city info.\n",
      "Processing city 578: Shimoda\n",
      "Processing city 579: Alanya\n",
      "Processing city 580: Romulus\n",
      "Processing city 581: Harwich\n",
      "Processing city 582: Río Gallegos\n",
      "Processing city 583: Mount Gambier\n",
      "Processing city 584: Mercedes\n",
      "Processing city 585: Baijiantan\n",
      "Processing city 586: Kiunga\n",
      "Processing city 587: Colac\n",
      "Processing city 588: Flinders\n",
      "Processing city 589: Verkhnedneprovskiy\n",
      "Processing city 590: Chifeng\n",
      "Processing city 591: Skibbereen\n",
      "Processing city 592: Meulaboh\n",
      "Incomplete..., skip over missing city info.\n",
      "Processing city 594: Ugoofaaru\n",
      "Processing city 595: Horadiz\n",
      "Processing city 596: Itaituba\n",
      "Processing city 597: Virginia Beach\n",
      "Processing city 598: Pascagoula\n",
      "Processing city 599: Dunedin\n",
      "Processing city 600: Kuchinda\n",
      "Processing city 601: Tevaitoa\n",
      "Processing city 602: Oranjemund\n",
      "Processing city 603: Rabat\n",
      "Incomplete..., skip over missing city info.\n",
      "Processing city 605: Lashio\n",
      "Processing city 606: St. Pete Beach\n",
      "Incomplete..., skip over missing city info.\n",
      "Processing city 608: Aklavik\n",
      "Processing city 609: Taoudenni\n",
      "Processing city 610: Bosobolo\n",
      "Processing city 611: Wanaka\n",
      "Processing city 612: Santa Maria\n",
      "Processing city 613: Bhinga\n",
      "Processing city 614: Leon Valley\n",
      "Complete\n"
     ]
    }
   ],
   "source": [
    "# Setup API Calling\n",
    "# url\n",
    "url = \"http://api.openweathermap.org/data/2.5/weather?\"\n",
    "# url = \"https://openweathermap.org/api\"\n",
    "\n",
    "# units\n",
    "unit = \"units=Imperial\"\n",
    "\n",
    "# api\n",
    "api = \"&APPID=\" + weather_api_key\n",
    "\n",
    "# response \n",
    "response = requests.get( url + unit + api).json()\n",
    "\n",
    "# print statement\n",
    "print(response)\n",
    "\n",
    "# Storage for api call data\n",
    "city_info = {\"City\": [], \n",
    "             \"Lat\": [], \n",
    "             \"Lng\": [],\n",
    "             \"Max Temp\": [],\n",
    "             \"Humidity\": [],\n",
    "             \"Cloudiness\": [],\n",
    "             \"Wind Speed\": [],\n",
    "             \"Country\": [], \n",
    "             \"Date\": []}\n",
    "\n",
    "# hint, limit api calls\n",
    "minute = 60\n",
    "@limits(calls=60, period=minute)\n",
    "\n",
    "# api call loop\n",
    "def call_api():\n",
    "    \n",
    "    for i, city in enumerate(cities):\n",
    "        city = requests.get(url + unit + \"&q=\" + cities[i] + api).json()\n",
    "        \n",
    "        try:\n",
    "            print(\"Processing city \" + str(i) + \": \" + city[\"name\"])\n",
    "        \n",
    "            city_info[\"City\"].append(city[\"name\"])\n",
    "            city_info[\"Lat\"].append(city[\"coord\"][\"lat\"])\n",
    "            city_info[\"Lng\"].append(city[\"coord\"][\"lon\"])\n",
    "            city_info[\"Max Temp\"].append(city[\"main\"][\"temp_max\"])\n",
    "            city_info[\"Humidity\"].append(city[\"main\"][\"humidity\"])\n",
    "            city_info[\"Cloudiness\"].append(city[\"clouds\"][\"all\"])\n",
    "            city_info[\"Wind Speed\"].append(city[\"wind\"][\"speed\"])\n",
    "            city_info[\"Country\"].append(city[\"sys\"][\"country\"])\n",
    "            city_info[\"Date\"].append(city[\"dt\"])\n",
    "            \n",
    "        except:\n",
    "            print(\"Incomplete..., skip over missing city info.\")\n",
    "            pass\n",
    "    print(\"Complete\")\n",
    "    \n",
    "call_api()\n",
    "\n",
    "\n",
    "            \n",
    "            \n",
    "        "
   ]
  },
  {
   "cell_type": "markdown",
   "metadata": {},
   "source": [
    "### Convert Raw Data to DataFrame\n",
    "* Export the city data into a .csv.\n",
    "* Display the DataFrame"
   ]
  },
  {
   "cell_type": "code",
   "execution_count": 4,
   "metadata": {},
   "outputs": [],
   "source": [
    "# Creating DataFrame\n",
    "city_info_df = pd.DataFrame(city_info)\n",
    "\n",
    "# Clean DataFrame\n",
    "city_info_df[\"Max Temp\"] = city_info_df[\"Max Temp\"].replace('', np.nan)\n",
    "city_info_df = city_info_df.dropna()\n",
    "\n",
    "city_count = len(city_info_df)\n",
    "# Export as CSV file\n",
    "city_info_df.to_csv(output_data_file, index_label=\"City_ID\")"
   ]
  },
  {
   "cell_type": "code",
   "execution_count": 5,
   "metadata": {},
   "outputs": [
    {
     "data": {
      "text/html": [
       "<div>\n",
       "<style scoped>\n",
       "    .dataframe tbody tr th:only-of-type {\n",
       "        vertical-align: middle;\n",
       "    }\n",
       "\n",
       "    .dataframe tbody tr th {\n",
       "        vertical-align: top;\n",
       "    }\n",
       "\n",
       "    .dataframe thead th {\n",
       "        text-align: right;\n",
       "    }\n",
       "</style>\n",
       "<table border=\"1\" class=\"dataframe\">\n",
       "  <thead>\n",
       "    <tr style=\"text-align: right;\">\n",
       "      <th></th>\n",
       "      <th>City</th>\n",
       "      <th>Lat</th>\n",
       "      <th>Lng</th>\n",
       "      <th>Max Temp</th>\n",
       "      <th>Humidity</th>\n",
       "      <th>Cloudiness</th>\n",
       "      <th>Wind Speed</th>\n",
       "      <th>Country</th>\n",
       "      <th>Date</th>\n",
       "    </tr>\n",
       "  </thead>\n",
       "  <tbody>\n",
       "    <tr>\n",
       "      <th>0</th>\n",
       "      <td>Portland</td>\n",
       "      <td>45.5234</td>\n",
       "      <td>-122.6762</td>\n",
       "      <td>50.79</td>\n",
       "      <td>87</td>\n",
       "      <td>75</td>\n",
       "      <td>1.99</td>\n",
       "      <td>US</td>\n",
       "      <td>1644427595</td>\n",
       "    </tr>\n",
       "    <tr>\n",
       "      <th>1</th>\n",
       "      <td>Mahébourg</td>\n",
       "      <td>-20.4081</td>\n",
       "      <td>57.7000</td>\n",
       "      <td>79.09</td>\n",
       "      <td>78</td>\n",
       "      <td>40</td>\n",
       "      <td>3.44</td>\n",
       "      <td>MU</td>\n",
       "      <td>1644427732</td>\n",
       "    </tr>\n",
       "    <tr>\n",
       "      <th>2</th>\n",
       "      <td>Adrar</td>\n",
       "      <td>20.5022</td>\n",
       "      <td>-10.0711</td>\n",
       "      <td>83.23</td>\n",
       "      <td>6</td>\n",
       "      <td>19</td>\n",
       "      <td>16.20</td>\n",
       "      <td>MR</td>\n",
       "      <td>1644427733</td>\n",
       "    </tr>\n",
       "    <tr>\n",
       "      <th>3</th>\n",
       "      <td>Atuona</td>\n",
       "      <td>-9.8000</td>\n",
       "      <td>-139.0333</td>\n",
       "      <td>78.06</td>\n",
       "      <td>77</td>\n",
       "      <td>24</td>\n",
       "      <td>18.66</td>\n",
       "      <td>PF</td>\n",
       "      <td>1644427578</td>\n",
       "    </tr>\n",
       "    <tr>\n",
       "      <th>4</th>\n",
       "      <td>Saint-Philippe</td>\n",
       "      <td>-21.3585</td>\n",
       "      <td>55.7679</td>\n",
       "      <td>78.39</td>\n",
       "      <td>79</td>\n",
       "      <td>98</td>\n",
       "      <td>8.39</td>\n",
       "      <td>RE</td>\n",
       "      <td>1644427733</td>\n",
       "    </tr>\n",
       "    <tr>\n",
       "      <th>...</th>\n",
       "      <td>...</td>\n",
       "      <td>...</td>\n",
       "      <td>...</td>\n",
       "      <td>...</td>\n",
       "      <td>...</td>\n",
       "      <td>...</td>\n",
       "      <td>...</td>\n",
       "      <td>...</td>\n",
       "      <td>...</td>\n",
       "    </tr>\n",
       "    <tr>\n",
       "      <th>564</th>\n",
       "      <td>Bosobolo</td>\n",
       "      <td>4.1833</td>\n",
       "      <td>19.9000</td>\n",
       "      <td>83.19</td>\n",
       "      <td>20</td>\n",
       "      <td>47</td>\n",
       "      <td>1.88</td>\n",
       "      <td>CD</td>\n",
       "      <td>1644427902</td>\n",
       "    </tr>\n",
       "    <tr>\n",
       "      <th>565</th>\n",
       "      <td>Wanaka</td>\n",
       "      <td>-44.7000</td>\n",
       "      <td>169.1500</td>\n",
       "      <td>63.30</td>\n",
       "      <td>95</td>\n",
       "      <td>99</td>\n",
       "      <td>3.18</td>\n",
       "      <td>NZ</td>\n",
       "      <td>1644427902</td>\n",
       "    </tr>\n",
       "    <tr>\n",
       "      <th>566</th>\n",
       "      <td>Santa Maria</td>\n",
       "      <td>-29.6842</td>\n",
       "      <td>-53.8069</td>\n",
       "      <td>81.70</td>\n",
       "      <td>39</td>\n",
       "      <td>20</td>\n",
       "      <td>8.05</td>\n",
       "      <td>BR</td>\n",
       "      <td>1644427903</td>\n",
       "    </tr>\n",
       "    <tr>\n",
       "      <th>567</th>\n",
       "      <td>Bhinga</td>\n",
       "      <td>27.7167</td>\n",
       "      <td>81.9333</td>\n",
       "      <td>55.67</td>\n",
       "      <td>86</td>\n",
       "      <td>49</td>\n",
       "      <td>5.19</td>\n",
       "      <td>IN</td>\n",
       "      <td>1644427903</td>\n",
       "    </tr>\n",
       "    <tr>\n",
       "      <th>568</th>\n",
       "      <td>Leon Valley</td>\n",
       "      <td>29.4952</td>\n",
       "      <td>-98.6186</td>\n",
       "      <td>67.28</td>\n",
       "      <td>40</td>\n",
       "      <td>0</td>\n",
       "      <td>14.97</td>\n",
       "      <td>US</td>\n",
       "      <td>1644427903</td>\n",
       "    </tr>\n",
       "  </tbody>\n",
       "</table>\n",
       "<p>569 rows × 9 columns</p>\n",
       "</div>"
      ],
      "text/plain": [
       "               City      Lat       Lng  Max Temp  Humidity  Cloudiness  \\\n",
       "0          Portland  45.5234 -122.6762     50.79        87          75   \n",
       "1         Mahébourg -20.4081   57.7000     79.09        78          40   \n",
       "2             Adrar  20.5022  -10.0711     83.23         6          19   \n",
       "3            Atuona  -9.8000 -139.0333     78.06        77          24   \n",
       "4    Saint-Philippe -21.3585   55.7679     78.39        79          98   \n",
       "..              ...      ...       ...       ...       ...         ...   \n",
       "564        Bosobolo   4.1833   19.9000     83.19        20          47   \n",
       "565          Wanaka -44.7000  169.1500     63.30        95          99   \n",
       "566     Santa Maria -29.6842  -53.8069     81.70        39          20   \n",
       "567          Bhinga  27.7167   81.9333     55.67        86          49   \n",
       "568     Leon Valley  29.4952  -98.6186     67.28        40           0   \n",
       "\n",
       "     Wind Speed Country        Date  \n",
       "0          1.99      US  1644427595  \n",
       "1          3.44      MU  1644427732  \n",
       "2         16.20      MR  1644427733  \n",
       "3         18.66      PF  1644427578  \n",
       "4          8.39      RE  1644427733  \n",
       "..          ...     ...         ...  \n",
       "564        1.88      CD  1644427902  \n",
       "565        3.18      NZ  1644427902  \n",
       "566        8.05      BR  1644427903  \n",
       "567        5.19      IN  1644427903  \n",
       "568       14.97      US  1644427903  \n",
       "\n",
       "[569 rows x 9 columns]"
      ]
     },
     "execution_count": 5,
     "metadata": {},
     "output_type": "execute_result"
    }
   ],
   "source": [
    "# Inspect DataFrame\n",
    "city_info_df"
   ]
  },
  {
   "cell_type": "code",
   "execution_count": 6,
   "metadata": {},
   "outputs": [
    {
     "name": "stdout",
     "output_type": "stream",
     "text": [
      "569 number of cities were left out of the 569 cities accounted for, giving a success rate of 100.0% retrieval.\n"
     ]
    },
    {
     "data": {
      "text/html": [
       "<div>\n",
       "<style scoped>\n",
       "    .dataframe tbody tr th:only-of-type {\n",
       "        vertical-align: middle;\n",
       "    }\n",
       "\n",
       "    .dataframe tbody tr th {\n",
       "        vertical-align: top;\n",
       "    }\n",
       "\n",
       "    .dataframe thead th {\n",
       "        text-align: right;\n",
       "    }\n",
       "</style>\n",
       "<table border=\"1\" class=\"dataframe\">\n",
       "  <thead>\n",
       "    <tr style=\"text-align: right;\">\n",
       "      <th></th>\n",
       "      <th>City</th>\n",
       "      <th>Lat</th>\n",
       "      <th>Lng</th>\n",
       "      <th>Max Temp</th>\n",
       "      <th>Humidity</th>\n",
       "      <th>Cloudiness</th>\n",
       "      <th>Wind Speed</th>\n",
       "      <th>Country</th>\n",
       "      <th>Date</th>\n",
       "    </tr>\n",
       "  </thead>\n",
       "  <tbody>\n",
       "    <tr>\n",
       "      <th>0</th>\n",
       "      <td>Portland</td>\n",
       "      <td>45.5234</td>\n",
       "      <td>-122.6762</td>\n",
       "      <td>50.79</td>\n",
       "      <td>87</td>\n",
       "      <td>75</td>\n",
       "      <td>1.99</td>\n",
       "      <td>US</td>\n",
       "      <td>1644427595</td>\n",
       "    </tr>\n",
       "    <tr>\n",
       "      <th>1</th>\n",
       "      <td>Mahébourg</td>\n",
       "      <td>-20.4081</td>\n",
       "      <td>57.7000</td>\n",
       "      <td>79.09</td>\n",
       "      <td>78</td>\n",
       "      <td>40</td>\n",
       "      <td>3.44</td>\n",
       "      <td>MU</td>\n",
       "      <td>1644427732</td>\n",
       "    </tr>\n",
       "    <tr>\n",
       "      <th>2</th>\n",
       "      <td>Adrar</td>\n",
       "      <td>20.5022</td>\n",
       "      <td>-10.0711</td>\n",
       "      <td>83.23</td>\n",
       "      <td>6</td>\n",
       "      <td>19</td>\n",
       "      <td>16.20</td>\n",
       "      <td>MR</td>\n",
       "      <td>1644427733</td>\n",
       "    </tr>\n",
       "    <tr>\n",
       "      <th>3</th>\n",
       "      <td>Atuona</td>\n",
       "      <td>-9.8000</td>\n",
       "      <td>-139.0333</td>\n",
       "      <td>78.06</td>\n",
       "      <td>77</td>\n",
       "      <td>24</td>\n",
       "      <td>18.66</td>\n",
       "      <td>PF</td>\n",
       "      <td>1644427578</td>\n",
       "    </tr>\n",
       "    <tr>\n",
       "      <th>4</th>\n",
       "      <td>Saint-Philippe</td>\n",
       "      <td>-21.3585</td>\n",
       "      <td>55.7679</td>\n",
       "      <td>78.39</td>\n",
       "      <td>79</td>\n",
       "      <td>98</td>\n",
       "      <td>8.39</td>\n",
       "      <td>RE</td>\n",
       "      <td>1644427733</td>\n",
       "    </tr>\n",
       "    <tr>\n",
       "      <th>...</th>\n",
       "      <td>...</td>\n",
       "      <td>...</td>\n",
       "      <td>...</td>\n",
       "      <td>...</td>\n",
       "      <td>...</td>\n",
       "      <td>...</td>\n",
       "      <td>...</td>\n",
       "      <td>...</td>\n",
       "      <td>...</td>\n",
       "    </tr>\n",
       "    <tr>\n",
       "      <th>564</th>\n",
       "      <td>Bosobolo</td>\n",
       "      <td>4.1833</td>\n",
       "      <td>19.9000</td>\n",
       "      <td>83.19</td>\n",
       "      <td>20</td>\n",
       "      <td>47</td>\n",
       "      <td>1.88</td>\n",
       "      <td>CD</td>\n",
       "      <td>1644427902</td>\n",
       "    </tr>\n",
       "    <tr>\n",
       "      <th>565</th>\n",
       "      <td>Wanaka</td>\n",
       "      <td>-44.7000</td>\n",
       "      <td>169.1500</td>\n",
       "      <td>63.30</td>\n",
       "      <td>95</td>\n",
       "      <td>99</td>\n",
       "      <td>3.18</td>\n",
       "      <td>NZ</td>\n",
       "      <td>1644427902</td>\n",
       "    </tr>\n",
       "    <tr>\n",
       "      <th>566</th>\n",
       "      <td>Santa Maria</td>\n",
       "      <td>-29.6842</td>\n",
       "      <td>-53.8069</td>\n",
       "      <td>81.70</td>\n",
       "      <td>39</td>\n",
       "      <td>20</td>\n",
       "      <td>8.05</td>\n",
       "      <td>BR</td>\n",
       "      <td>1644427903</td>\n",
       "    </tr>\n",
       "    <tr>\n",
       "      <th>567</th>\n",
       "      <td>Bhinga</td>\n",
       "      <td>27.7167</td>\n",
       "      <td>81.9333</td>\n",
       "      <td>55.67</td>\n",
       "      <td>86</td>\n",
       "      <td>49</td>\n",
       "      <td>5.19</td>\n",
       "      <td>IN</td>\n",
       "      <td>1644427903</td>\n",
       "    </tr>\n",
       "    <tr>\n",
       "      <th>568</th>\n",
       "      <td>Leon Valley</td>\n",
       "      <td>29.4952</td>\n",
       "      <td>-98.6186</td>\n",
       "      <td>67.28</td>\n",
       "      <td>40</td>\n",
       "      <td>0</td>\n",
       "      <td>14.97</td>\n",
       "      <td>US</td>\n",
       "      <td>1644427903</td>\n",
       "    </tr>\n",
       "  </tbody>\n",
       "</table>\n",
       "<p>569 rows × 9 columns</p>\n",
       "</div>"
      ],
      "text/plain": [
       "               City      Lat       Lng  Max Temp  Humidity  Cloudiness  \\\n",
       "0          Portland  45.5234 -122.6762     50.79        87          75   \n",
       "1         Mahébourg -20.4081   57.7000     79.09        78          40   \n",
       "2             Adrar  20.5022  -10.0711     83.23         6          19   \n",
       "3            Atuona  -9.8000 -139.0333     78.06        77          24   \n",
       "4    Saint-Philippe -21.3585   55.7679     78.39        79          98   \n",
       "..              ...      ...       ...       ...       ...         ...   \n",
       "564        Bosobolo   4.1833   19.9000     83.19        20          47   \n",
       "565          Wanaka -44.7000  169.1500     63.30        95          99   \n",
       "566     Santa Maria -29.6842  -53.8069     81.70        39          20   \n",
       "567          Bhinga  27.7167   81.9333     55.67        86          49   \n",
       "568     Leon Valley  29.4952  -98.6186     67.28        40           0   \n",
       "\n",
       "     Wind Speed Country        Date  \n",
       "0          1.99      US  1644427595  \n",
       "1          3.44      MU  1644427732  \n",
       "2         16.20      MR  1644427733  \n",
       "3         18.66      PF  1644427578  \n",
       "4          8.39      RE  1644427733  \n",
       "..          ...     ...         ...  \n",
       "564        1.88      CD  1644427902  \n",
       "565        3.18      NZ  1644427902  \n",
       "566        8.05      BR  1644427903  \n",
       "567        5.19      IN  1644427903  \n",
       "568       14.97      US  1644427903  \n",
       "\n",
       "[569 rows x 9 columns]"
      ]
     },
     "execution_count": 6,
     "metadata": {},
     "output_type": "execute_result"
    }
   ],
   "source": [
    "leftover_cities = city_info_df.loc[city_info_df[\"City\"] != \"Failed!\"]\n",
    "leftover_cities_count = len(leftover_cities)\n",
    "print(\"{} number of cities were left out of the {} cities accounted for, giving a success rate of {:.1%} retrieval.\"\n",
    "      .format(leftover_cities_count, city_count, (leftover_cities_count/city_count)))\n",
    "\n",
    "leftover_cities.index = [a for a in range(leftover_cities_count)]\n",
    "\n",
    "non_numeric_columns = [\"City\", \"Country\", \"Date\"]\n",
    "\n",
    "for col in leftover_cities.columns:\n",
    "    if(col not in non_numeric_columns):\n",
    "        leftover_cities[col] = pd.to_numeric(leftover_cities[col])\n",
    "        \n",
    "\n",
    "leftover_cities"
   ]
  },
  {
   "cell_type": "markdown",
   "metadata": {},
   "source": [
    "## Inspect the data and remove the cities where the humidity > 100%.\n",
    "----\n",
    "Skip this step if there are no cities that have humidity > 100%. "
   ]
  },
  {
   "cell_type": "code",
   "execution_count": 7,
   "metadata": {},
   "outputs": [],
   "source": [
    "# Table Columns\n",
    "lat = city_info_df[\"Lat\"]\n",
    "max_temp = city_info_df[\"Max Temp\"]\n",
    "humidity = city_info_df[\"Humidity\"]\n",
    "cloudiness = city_info_df[\"Cloudiness\"]\n",
    "wind_speed = city_info_df[\"Wind Speed\"]"
   ]
  },
  {
   "cell_type": "code",
   "execution_count": 8,
   "metadata": {},
   "outputs": [
    {
     "data": {
      "text/plain": [
       "0      87\n",
       "1      78\n",
       "2       6\n",
       "3      77\n",
       "4      79\n",
       "       ..\n",
       "564    20\n",
       "565    95\n",
       "566    39\n",
       "567    86\n",
       "568    40\n",
       "Name: Humidity, Length: 569, dtype: int64"
      ]
     },
     "execution_count": 8,
     "metadata": {},
     "output_type": "execute_result"
    }
   ],
   "source": [
    "#  Get the indices of cities that have humidity over 100%.\n",
    "city_info_df[\"Humidity\"]"
   ]
  },
  {
   "cell_type": "code",
   "execution_count": 9,
   "metadata": {},
   "outputs": [
    {
     "name": "stderr",
     "output_type": "stream",
     "text": [
      "C:\\Users\\chris\\anaconda3\\lib\\site-packages\\seaborn\\_decorators.py:36: FutureWarning: Pass the following variable as a keyword arg: x. From version 0.12, the only valid positional argument will be `data`, and passing other arguments without an explicit keyword will result in an error or misinterpretation.\n",
      "  warnings.warn(\n"
     ]
    },
    {
     "data": {
      "text/plain": [
       "<AxesSubplot:xlabel='Humidity'>"
      ]
     },
     "execution_count": 9,
     "metadata": {},
     "output_type": "execute_result"
    },
    {
     "data": {
      "image/png": "[encoded data removed]",
      "text/plain": [
       "<Figure size 432x288 with 1 Axes>"
      ]
     },
     "metadata": {
      "needs_background": "light"
     },
     "output_type": "display_data"
    }
   ],
   "source": [
    "# Couldn't figure out how to use plot_filtered to fix FutureWarning\n",
    "sns.boxplot(city_info_df[\"Humidity\"])\n",
    "\n"
   ]
  },
  {
   "cell_type": "code",
   "execution_count": 10,
   "metadata": {},
   "outputs": [
    {
     "name": "stdout",
     "output_type": "stream",
     "text": [
      "(array([], dtype=int64),)\n"
     ]
    }
   ],
   "source": [
    "# Print Outlier (if one exists)\n",
    "print(np.where(city_info_df[\"Humidity\"] > 100))\n",
    "# Array is empty, no 'Humidity' over 100% exists in current dataset."
   ]
  },
  {
   "cell_type": "markdown",
   "metadata": {},
   "source": [
    "#### Are There Any Cities With Humidity Over 100 % ?\n",
    "From the results of the boxplot and the conditional print statement, there does not seem to be any cities within the dataset that has a humidity of over 100%.  "
   ]
  },
  {
   "cell_type": "markdown",
   "metadata": {},
   "source": [
    "## Plotting the Data\n",
    "* Use proper labeling of the plots using plot titles (including date of analysis) and axes labels.\n",
    "* Save the plotted figures as .pngs."
   ]
  },
  {
   "cell_type": "markdown",
   "metadata": {},
   "source": [
    "## Temperature vs Latitude Scatter Plot"
   ]
  },
  {
   "cell_type": "code",
   "execution_count": 11,
   "metadata": {
    "scrolled": true
   },
   "outputs": [
    {
     "data": {
      "image/png": "[encoded data removed]",
      "text/plain": [
       "<Figure size 576x432 with 1 Axes>"
      ]
     },
     "metadata": {
      "needs_background": "light"
     },
     "output_type": "display_data"
    }
   ],
   "source": [
    "# Latitude vs Temperature\n",
    "# viz config\n",
    "plt.figure(figsize=(8,6))\n",
    "lat_vs_temp = plt.scatter(lat, max_temp, linewidths=1, marker=\"o\")\n",
    "\n",
    "# titles & labels\n",
    "plt.title(\"Max Temperature (%) vs Latitude of City\")\n",
    "plt.xlabel(\"Latitude\")\n",
    "plt.ylabel(\"Max Temperature (F)\")\n",
    "# Display Plot\n",
    "plt.show()"
   ]
  },
  {
   "cell_type": "markdown",
   "metadata": {},
   "source": [
    "#### Temperature vs. Latitude Scatter Plot Analysis¶\n",
    "The above scatter plot analyzies the latitudes of cities (north or south) of the equator against their correponding maximum temperatures (in degrees fahrenheit). Temperatures rise the closer a city is in relation to the equator. Cities south of the equator have higher maximum temperatures in comparison to cities north of the equator.  "
   ]
  },
  {
   "cell_type": "code",
   "execution_count": 12,
   "metadata": {},
   "outputs": [],
   "source": [
    "# Save fig\n",
    "lat_vs_temp.get_figure().savefig(\"../Images/Fig1.png\")"
   ]
  },
  {
   "cell_type": "markdown",
   "metadata": {},
   "source": [
    "## Humidity vs. Latitude Scatter Plot"
   ]
  },
  {
   "cell_type": "code",
   "execution_count": 13,
   "metadata": {},
   "outputs": [
    {
     "data": {
      "image/png": "[encoded data removed]",
      "text/plain": [
       "<Figure size 576x432 with 1 Axes>"
      ]
     },
     "metadata": {
      "needs_background": "light"
     },
     "output_type": "display_data"
    }
   ],
   "source": [
    "# Latitude vs Humidity\n",
    "# viz config\n",
    "plt.figure(figsize=(8,6))\n",
    "lat_vs_humidity = plt.scatter(lat, humidity, linewidths=1, marker=\"o\")\n",
    "\n",
    "# titles & labels\n",
    "plt.title(\"Humidity (%) vs Latitude of City\")\n",
    "plt.xlabel(\"Latitude\")\n",
    "plt.ylabel(\"Humidity (%)\")\n",
    "# Display Plot\n",
    "plt.show()"
   ]
  },
  {
   "cell_type": "markdown",
   "metadata": {},
   "source": [
    "#### Humidity vs. Latitude Scatter Plot Analysis\n",
    "\n",
    "The above scatter plot analyzies percent humidity against the latitudinal of a city in relation to the equator. There seems to be no apparently noticeable relationship between humidity and geolocation. "
   ]
  },
  {
   "cell_type": "code",
   "execution_count": 14,
   "metadata": {},
   "outputs": [],
   "source": [
    "lat_vs_humidity.get_figure().savefig(\"../Images/Fig2.png\")"
   ]
  },
  {
   "cell_type": "markdown",
   "metadata": {},
   "source": [
    "## Cloudiness vs. Latitude Scatter Plot"
   ]
  },
  {
   "cell_type": "code",
   "execution_count": 15,
   "metadata": {},
   "outputs": [
    {
     "data": {
      "image/png": "[encoded data removed]",
      "text/plain": [
       "<Figure size 576x432 with 1 Axes>"
      ]
     },
     "metadata": {
      "needs_background": "light"
     },
     "output_type": "display_data"
    }
   ],
   "source": [
    "# Cloudiness vs. Latitude Scatter Plot\n",
    "# viz config\n",
    "plt.figure(figsize=(8,6))\n",
    "lat_vs_cloudiness = plt.scatter(lat, cloudiness, linewidths=1, marker=\"o\")\n",
    "\n",
    "# titles & labels\n",
    "plt.title(\"Cloudiness (%) vs Latitude of City\")\n",
    "plt.xlabel(\"Latitude\")\n",
    "plt.ylabel(\"Cloudiness (%)\")\n",
    "# Display Plot\n",
    "plt.show()"
   ]
  },
  {
   "cell_type": "markdown",
   "metadata": {},
   "source": [
    "The scatter plot of Cloudiness vs. Latitude does does not show any associations between cloud cover and latitudial location.    "
   ]
  },
  {
   "cell_type": "code",
   "execution_count": 16,
   "metadata": {},
   "outputs": [],
   "source": [
    "lat_vs_cloudiness.get_figure().savefig(\"../Images/Fig3.png\")"
   ]
  },
  {
   "cell_type": "markdown",
   "metadata": {},
   "source": [
    "## Wind Speed vs Latitude Scatter Plot"
   ]
  },
  {
   "cell_type": "code",
   "execution_count": 17,
   "metadata": {},
   "outputs": [
    {
     "data": {
      "image/png": "[encoded data removed]",
      "text/plain": [
       "<Figure size 576x432 with 1 Axes>"
      ]
     },
     "metadata": {
      "needs_background": "light"
     },
     "output_type": "display_data"
    }
   ],
   "source": [
    "# Wind Speed vs Latitude Scatter Plot\n",
    "# viz config\n",
    "plt.figure(figsize=(8,6))\n",
    "lat_vs_wind_speed = plt.scatter(lat, wind_speed, linewidths=1, marker=\"o\")\n",
    "\n",
    "# titles & labels\n",
    "plt.title(\"Wind Speed (mph) vs Latitude of City\")\n",
    "plt.xlabel(\"Latitude\")\n",
    "plt.ylabel(\"Wind Speed (mph)\")\n",
    "# Display Plot\n",
    "plt.show()"
   ]
  },
  {
   "cell_type": "markdown",
   "metadata": {},
   "source": [
    "#### Wind Speed vs Latitude Scatter Plot Analysis\n",
    "The Wind Speed vs Latitude Scatter Plot shows no apparent associations between wind speed and geolocation for cities north or south of the equator."
   ]
  },
  {
   "cell_type": "code",
   "execution_count": 18,
   "metadata": {},
   "outputs": [],
   "source": [
    "lat_vs_wind_speed.get_figure().savefig(\"../Images/Fig4.png\")"
   ]
  },
  {
   "cell_type": "markdown",
   "metadata": {},
   "source": [
    "## Linear Regression"
   ]
  },
  {
   "cell_type": "code",
   "execution_count": 19,
   "metadata": {},
   "outputs": [],
   "source": [
    "# Linear Regression\n",
    "def makeLinRegression(city_info_df, x_Col, y_Col):\n",
    "    # preform linear regression\n",
    "    (regr_slope, regr_intercept, regr_r_val, _, _) = linregress(city_info_df[x_Col], city_info_df[y_Col])\n",
    "    # setup x and y axis data for linear regression \n",
    "    x = np.array([a for a in range(int(min(city_info_df[x_Col].values)), int(max(city_info_df[x_Col].values)+1))])\n",
    "    y = regr_slope * x + regr_intercept\n",
    "    # scatter plot\n",
    "    axis_df = city_info_df.plot(kind=\"scatter\", x=x_Col, y=y_Col, title=\"{} vs {} ({})\")\n",
    "    # best fit line\n",
    "    axis_df.plot(x, y, 'r')\n",
    "    \n",
    "    # print statements\n",
    "    print(\"Equation for best-fit linear regression line is y={:.2f}x+{:.2f}\".format(regr_slope, regr_intercept))\n",
    "    \n",
    "    print(\"r-squared correlation coefficient is {:.2f}\".format(regr_r_val))\n",
    "    \n",
    "    # return statement\n",
    "    return axis_df"
   ]
  },
  {
   "cell_type": "code",
   "execution_count": 20,
   "metadata": {},
   "outputs": [
    {
     "name": "stdout",
     "output_type": "stream",
     "text": [
      "The northern hemisphere has 383 cities out of 569 total, accounting for 67.3% of cities in the dataset.\n",
      "The southern hemisphere has 186 cities out of 569 total, accounting for 32.7% of cities in the dataset.\n"
     ]
    }
   ],
   "source": [
    "# Northern and Southern Hemispheres\n",
    "\n",
    "# Northern Hemisphere DataFrame\n",
    "northern_hemisphere = city_info_df.loc[city_info_df[\"Lat\"] >= 0]\n",
    "# Count of Cities in the Northern Hemisphere\n",
    "northern_count = len(northern_hemisphere)\n",
    "# Print \n",
    "print(\"The northern hemisphere has {} cities out of {} total, accounting for {:.1%} of cities in the dataset.\"\n",
    "      .format(northern_count, city_count, (northern_count/city_count)))\n",
    "\n",
    "# Southern Hemisphere DataFrame\n",
    "southern_hemisphere = city_info_df.loc[city_info_df[\"Lat\"] < 0]\n",
    "# Count of Cities in the Southern Hemisphere\n",
    "southern_count = len(southern_hemisphere)\n",
    "# Print \n",
    "print(\"The southern hemisphere has {} cities out of {} total, accounting for {:.1%} of cities in the dataset.\"\n",
    "      .format(southern_count, city_count, (southern_count/city_count)))"
   ]
  },
  {
   "cell_type": "markdown",
   "metadata": {},
   "source": [
    "####  Northern Hemisphere - Max Temp vs. Latitude Linear Regression"
   ]
  },
  {
   "cell_type": "code",
   "execution_count": 21,
   "metadata": {},
   "outputs": [
    {
     "name": "stdout",
     "output_type": "stream",
     "text": [
      "Line of Best-Fit for linear regression is y=-1.44x+97.68\n",
      "The r-squared correlation coefficient is -0.85\n"
     ]
    },
    {
     "data": {
      "image/png": "[encoded data removed]",
      "text/plain": [
       "<Figure size 432x288 with 1 Axes>"
      ]
     },
     "metadata": {
      "needs_background": "light"
     },
     "output_type": "display_data"
    }
   ],
   "source": [
    "(n_temp_slope, n_temp_intercept, n_temp_r_val, _, _) = linregress(northern_hemisphere[\"Lat\"],\n",
    "                                                                 northern_hemisphere[\"Max Temp\"])\n",
    "\n",
    "x = np.array([a for a in range(80)])\n",
    "y = n_temp_slope * x + n_temp_intercept\n",
    "\n",
    "n_temp_axes = northern_hemisphere.plot(kind=\"scatter\", x=\"Lat\", y=\"Max Temp\",\n",
    "                                       title=\"Northern Hemisphere - Max Temp vs. Latitude Linear Regression\")\n",
    "# line of best fit\n",
    "n_temp_axes.plot(x, y, 'r')\n",
    "\n",
    "plt.xlabel(\"Latitude\")\n",
    "plt.ylabel(\"Max Temperture (F)\")\n",
    "\n",
    "# print \n",
    "print(\"Line of Best-Fit for linear regression is y={:.2f}x+{:.2f}\"\n",
    "      .format(n_temp_slope, n_temp_intercept))\n",
    "print(\"The r-squared correlation coefficient is {:.2f}\".format(n_temp_r_val))\n",
    "\n",
    "# save figure as png\n",
    "n_temp_axes.get_figure().savefig(\"../Images/Fig5_N.png\")"
   ]
  },
  {
   "cell_type": "markdown",
   "metadata": {},
   "source": [
    "#### Northern Hemisphere - Max Temp vs. Latitude Linear Regression Analysis\n",
    "\n",
    "According to the linear regression of maximum temperature vs latitude for the cities in the northern hemisphere, there is a strong negative correlation. The farther away a city's geolocation is to the equator the colder the climate conditions.  "
   ]
  },
  {
   "cell_type": "markdown",
   "metadata": {},
   "source": [
    "####  Southern Hemisphere - Max Temp vs. Latitude Linear Regression"
   ]
  },
  {
   "cell_type": "code",
   "execution_count": 22,
   "metadata": {},
   "outputs": [
    {
     "name": "stdout",
     "output_type": "stream",
     "text": [
      "Equation for best-fit linear regression line is y=0.29x+81.08\n",
      "r-squared correlation coefficient is 0.46\n"
     ]
    },
    {
     "data": {
      "image/png": "[encoded data removed]",
      "text/plain": [
       "<Figure size 432x288 with 1 Axes>"
      ]
     },
     "metadata": {
      "needs_background": "light"
     },
     "output_type": "display_data"
    }
   ],
   "source": [
    "s_temp_axes = makeLinRegression(southern_hemisphere, \"Lat\", \"Max Temp\")\n",
    "plt.title(\"Southern Hemisphere - Max Temp vs. Latitude Linear Regression\")\n",
    "plt.xlabel(\"Latitude\")\n",
    "plt.ylabel(\"Max Temperture (F)\")\n",
    "# save figure as png\n",
    "s_temp_axes.get_figure().savefig(\"../Images/Fig6_S.png\")"
   ]
  },
  {
   "cell_type": "markdown",
   "metadata": {},
   "source": [
    "####  Northern Hemisphere - Humidity (%) vs. Latitude Linear Regression"
   ]
  },
  {
   "cell_type": "code",
   "execution_count": 23,
   "metadata": {},
   "outputs": [
    {
     "name": "stdout",
     "output_type": "stream",
     "text": [
      "Equation for best-fit linear regression line is y=0.51x+50.34\n",
      "r-squared correlation coefficient is 0.44\n"
     ]
    },
    {
     "data": {
      "image/png": "[encoded data removed]",
      "text/plain": [
       "<Figure size 432x288 with 1 Axes>"
      ]
     },
     "metadata": {
      "needs_background": "light"
     },
     "output_type": "display_data"
    }
   ],
   "source": [
    "# Northern Hemisphere - Humidity (%) vs. Latitude Linear Regression\n",
    "n_humidity_lat_axes = makeLinRegression(northern_hemisphere, \"Lat\", \"Humidity\")\n",
    "plt.title(\"Northern Hemisphere - Humidity (%) vs. Latitude Linear Regression\")\n",
    "plt.xlabel(\"Latitude\")\n",
    "plt.ylabel(\"Humidity (%)\")\n",
    "# save figure as png\n",
    "n_humidity_lat_axes.get_figure().savefig(\"../Images/Fig7_N.png\")"
   ]
  },
  {
   "cell_type": "markdown",
   "metadata": {},
   "source": [
    "####  Southern Hemisphere - Humidity (%) vs. Latitude Linear Regression"
   ]
  },
  {
   "cell_type": "code",
   "execution_count": 24,
   "metadata": {},
   "outputs": [
    {
     "name": "stdout",
     "output_type": "stream",
     "text": [
      "Equation for best-fit linear regression line is y=0.38x+80.92\n",
      "r-squared correlation coefficient is 0.25\n"
     ]
    },
    {
     "data": {
      "image/png": "[encoded data removed]",
      "text/plain": [
       "<Figure size 432x288 with 1 Axes>"
      ]
     },
     "metadata": {
      "needs_background": "light"
     },
     "output_type": "display_data"
    }
   ],
   "source": [
    "# Southern Hemisphere - Humidity (%) vs. Latitude Linear Regression\n",
    "s_humidity_lat_axes = makeLinRegression(southern_hemisphere, \"Lat\", \"Humidity\")\n",
    "plt.title(\"Southern Hemisphere - Humidity (%) vs. Latitude Linear Regression\")\n",
    "plt.xlabel(\"Latitude\")\n",
    "plt.ylabel(\"Humidity (%)\")\n",
    "# save figure as png\n",
    "s_humidity_lat_axes.get_figure().savefig(\"../Images/Fig8_S.png\")"
   ]
  },
  {
   "cell_type": "markdown",
   "metadata": {},
   "source": [
    "####  Northern Hemisphere - Cloudiness (%) vs. Latitude Linear Regression"
   ]
  },
  {
   "cell_type": "code",
   "execution_count": 25,
   "metadata": {},
   "outputs": [
    {
     "name": "stdout",
     "output_type": "stream",
     "text": [
      "Equation for best-fit linear regression line is y=0.62x+28.74\n",
      "r-squared correlation coefficient is 0.31\n"
     ]
    },
    {
     "data": {
      "image/png": "[encoded data removed]",
      "text/plain": [
       "<Figure size 432x288 with 1 Axes>"
      ]
     },
     "metadata": {
      "needs_background": "light"
     },
     "output_type": "display_data"
    }
   ],
   "source": [
    "# Northern Hemisphere - Cloudiness (%) vs. Latitude Linear Regression\n",
    "n_cloudiness_lat_axes = makeLinRegression(northern_hemisphere, \"Lat\", \"Cloudiness\")\n",
    "plt.title(\"Northern Hemisphere - Cloudiness (%) vs. Latitude Linear Regression\")\n",
    "plt.xlabel(\"Latitude\")\n",
    "plt.ylabel(\"Cloudiness\")\n",
    "# save figure as png\n",
    "n_cloudiness_lat_axes.get_figure().savefig(\"../Images/Fig9_N.png\")"
   ]
  },
  {
   "cell_type": "markdown",
   "metadata": {},
   "source": [
    "####  Southern Hemisphere - Cloudiness (%) vs. Latitude Linear Regression"
   ]
  },
  {
   "cell_type": "code",
   "execution_count": 26,
   "metadata": {},
   "outputs": [
    {
     "name": "stdout",
     "output_type": "stream",
     "text": [
      "Equation for best-fit linear regression line is y=1.07x+78.73\n",
      "r-squared correlation coefficient is 0.38\n"
     ]
    },
    {
     "data": {
      "image/png": "[encoded data removed]",
      "text/plain": [
       "<Figure size 432x288 with 1 Axes>"
      ]
     },
     "metadata": {
      "needs_background": "light"
     },
     "output_type": "display_data"
    }
   ],
   "source": [
    "# Southern Hemisphere - Cloudiness (%) vs. Latitude Linear Regression\n",
    "s_cloudiness_lat_axes = makeLinRegression(southern_hemisphere, \"Lat\", \"Cloudiness\")\n",
    "plt.title(\"Southern Hemisphere - Cloudiness (%) vs. Latitude Linear Regression\")\n",
    "plt.xlabel(\"Latitude\")\n",
    "plt.ylabel(\"Cloudiness\")\n",
    "# save figure as png\n",
    "s_cloudiness_lat_axes.get_figure().savefig(\"../Images/Fig10_S.png\")"
   ]
  },
  {
   "cell_type": "markdown",
   "metadata": {},
   "source": [
    "####  Northern Hemisphere - Wind Speed (mph) vs. Latitude Linear Regression"
   ]
  },
  {
   "cell_type": "code",
   "execution_count": 27,
   "metadata": {},
   "outputs": [
    {
     "name": "stdout",
     "output_type": "stream",
     "text": [
      "Equation for best-fit linear regression line is y=0.08x+5.34\n",
      "r-squared correlation coefficient is 0.23\n"
     ]
    },
    {
     "data": {
      "image/png": "[encoded data removed]",
      "text/plain": [
       "<Figure size 432x288 with 1 Axes>"
      ]
     },
     "metadata": {
      "needs_background": "light"
     },
     "output_type": "display_data"
    }
   ],
   "source": [
    "# Northern Hemisphere - Wind Speed (mph) vs. Latitude Linear Regression\n",
    "n_wind_lat_axes = makeLinRegression(northern_hemisphere, \"Lat\", \"Wind Speed\")\n",
    "plt.title(\"Northern Hemisphere - Wind Speed (mph) vs. Latitude Linear Regression\")\n",
    "plt.xlabel(\"Latitude\")\n",
    "plt.ylabel(\"Wind Speed\")\n",
    "# save figure as png\n",
    "n_wind_lat_axes.get_figure().savefig(\"../Images/Fig11_N.png\")"
   ]
  },
  {
   "cell_type": "markdown",
   "metadata": {},
   "source": [
    "####  Southern Hemisphere - Wind Speed (mph) vs. Latitude Linear Regression"
   ]
  },
  {
   "cell_type": "code",
   "execution_count": 28,
   "metadata": {},
   "outputs": [
    {
     "name": "stdout",
     "output_type": "stream",
     "text": [
      "Equation for best-fit linear regression line is y=-0.08x+6.31\n",
      "r-squared correlation coefficient is -0.19\n"
     ]
    },
    {
     "data": {
      "image/png": "[encoded data removed]",
      "text/plain": [
       "<Figure size 432x288 with 1 Axes>"
      ]
     },
     "metadata": {
      "needs_background": "light"
     },
     "output_type": "display_data"
    }
   ],
   "source": [
    "# Southern Hemisphere - Wind Speed (mph) vs. Latitude Linear Regression\n",
    "s_wind_lat_axes = makeLinRegression(southern_hemisphere, \"Lat\", \"Wind Speed\")\n",
    "plt.title(\"Southern Hemisphere - Wind Speed (mph) vs. Latitude Linear Regression\")\n",
    "plt.xlabel(\"Latitude\")\n",
    "plt.ylabel(\"Wind Speed\")\n",
    "# save figure as png\n",
    "s_wind_lat_axes.get_figure().savefig(\"../Images/Fig12_S.png\")"
   ]
  },
  {
   "cell_type": "code",
   "execution_count": null,
   "metadata": {},
   "outputs": [],
   "source": []
  }
 ],
 "metadata": {
  "anaconda-cloud": {},
  "kernel_info": {
   "name": "python3"
  },
  "kernelspec": {
   "display_name": "Python 3 (ipykernel)",
   "language": "python",
   "name": "python3"
  },
  "language_info": {
   "codemirror_mode": {
    "name": "ipython",
    "version": 3
   },
   "file_extension": ".py",
   "mimetype": "text/x-python",
   "name": "python",
   "nbconvert_exporter": "python",
   "pygments_lexer": "ipython3",
   "version": "3.9.7"
  },
  "latex_envs": {
   "LaTeX_envs_menu_present": true,
   "autoclose": false,
   "autocomplete": true,
   "bibliofile": "biblio.bib",
   "cite_by": "apalike",
   "current_citInitial": 1,
   "eqLabelWithNumbers": true,
   "eqNumInitial": 1,
   "hotkeys": {
    "equation": "Ctrl-E",
    "itemize": "Ctrl-I"
   },
   "labels_anchors": false,
   "latex_user_defs": false,
   "report_style_numbering": false,
   "user_envs_cfg": false
  },
  "nteract": {
   "version": "0.12.3"
  }
 },
 "nbformat": 4,
 "nbformat_minor": 2
}
