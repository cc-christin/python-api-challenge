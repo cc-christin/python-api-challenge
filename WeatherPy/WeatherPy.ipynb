{
 "cells": [
  {
   "cell_type": "markdown",
   "metadata": {},
   "source": [
    "# WeatherPy\n"
   ]
  },
  {
   "cell_type": "code",
   "execution_count": 1,
   "metadata": {
    "scrolled": true
   },
   "outputs": [],
   "source": [
    "# Dependencies and Setup\n",
    "import matplotlib.pyplot as plt\n",
    "import pandas as pd\n",
    "import numpy as np\n",
    "import requests\n",
    "import time\n",
    "from scipy.stats import linregress\n",
    "from ratelimit import limits\n",
    "import time\n",
    "import json\n",
    "import seaborn as sns\n",
    "import logging\n",
    "from datetime import date\n",
    "\n",
    "# Import API key\n",
    "from api_keys import weather_api_key\n",
    "\n",
    "# Incorporated citipy to determine city based on latitude and longitude\n",
    "from citipy import citipy\n",
    "\n",
    "# Output File (CSV)\n",
    "output_data_file = \"output_data/cities.csv\"\n",
    "\n",
    "# Range of latitudes and longitudes\n",
    "lat_range = (-90, 90)\n",
    "lng_range = (-180, 180)"
   ]
  },
  {
   "cell_type": "markdown",
   "metadata": {},
   "source": [
    "## Generate Cities List"
   ]
  },
  {
   "cell_type": "code",
   "execution_count": 2,
   "metadata": {},
   "outputs": [
    {
     "data": {
      "text/plain": [
       "580"
      ]
     },
     "execution_count": 2,
     "metadata": {},
     "output_type": "execute_result"
    }
   ],
   "source": [
    "# List for holding lat_lngs and cities\n",
    "lat_lngs = []\n",
    "cities = []\n",
    "\n",
    "# Create a set of random lat and lng combinations\n",
    "lats = np.random.uniform(lat_range[0], lat_range[1], size=1500)\n",
    "lngs = np.random.uniform(lng_range[0], lng_range[1], size=1500)\n",
    "lat_lngs = zip(lats, lngs)\n",
    "\n",
    "# Identify nearest city for each lat, lng combination\n",
    "for lat_lng in lat_lngs:\n",
    "    city = citipy.nearest_city(lat_lng[0], lat_lng[1]).city_name\n",
    "    \n",
    "    # If the city is unique, then add it to a our cities list\n",
    "    if city not in cities:\n",
    "        cities.append(city)\n",
    "\n",
    "# Print the city count to confirm sufficient count\n",
    "len(cities)"
   ]
  },
  {
   "cell_type": "markdown",
   "metadata": {},
   "source": [
    "### Perform API Calls\n",
    "* Perform a weather check on each city using a series of successive API calls.\n",
    "* Include a print log of each city as it'sbeing processed (with the city number and city name).\n",
    "\n",
    "> **HINT:** The OpenWeatherMap API only allows 60 calls per minute under their free plan. Try using `time.sleep(60)` after each set of 50 cities to avoid API errors due to large calls."
   ]
  },
  {
   "cell_type": "code",
   "execution_count": 3,
   "metadata": {
    "scrolled": true
   },
   "outputs": [
    {
     "name": "stdout",
     "output_type": "stream",
     "text": [
      "{'cod': '400', 'message': 'Nothing to geocode'}\n",
      "Processing city 0: Kampong Cham\n",
      "Processing city 1: Pangai\n",
      "Processing city 2: Den Helder\n",
      "Processing city 3: Ushuaia\n",
      "Processing city 4: Kimbe\n",
      "Processing city 5: Kāzerūn\n",
      "Processing city 6: Port Alfred\n",
      "Incomplete..., skip over missing city info.\n",
      "Processing city 8: Esperance\n",
      "Processing city 9: Hobart\n",
      "Processing city 10: Diffa\n",
      "Processing city 11: Necochea\n",
      "Processing city 12: Torbay\n",
      "Processing city 13: George Town\n",
      "Processing city 14: Santiago\n",
      "Processing city 15: Ancud\n",
      "Processing city 16: Bredasdorp\n",
      "Processing city 17: Cayenne\n",
      "Processing city 18: Hof\n",
      "Processing city 19: Carnarvon\n",
      "Processing city 20: Elko\n",
      "Processing city 21: Atuona\n",
      "Processing city 22: Vanimo\n",
      "Processing city 23: Ugoofaaru\n",
      "Processing city 24: Rikitea\n",
      "Processing city 25: Kagadi\n",
      "Incomplete..., skip over missing city info.\n",
      "Processing city 27: Hermanus\n",
      "Processing city 28: Adrar\n",
      "Processing city 29: Muros\n",
      "Incomplete..., skip over missing city info.\n",
      "Processing city 31: Vryburg\n",
      "Processing city 32: Kudahuvadhoo\n",
      "Processing city 33: Yārāda\n",
      "Processing city 34: Bekovo\n",
      "Processing city 35: Lorengau\n",
      "Processing city 36: New Norfolk\n",
      "Processing city 37: Akureyri\n",
      "Incomplete..., skip over missing city info.\n",
      "Incomplete..., skip over missing city info.\n",
      "Processing city 40: Kaitangata\n",
      "Processing city 41: Vép\n",
      "Processing city 42: Kapaa\n",
      "Processing city 43: Bengkulu\n",
      "Processing city 44: Margate\n",
      "Processing city 45: Hamilton\n",
      "Processing city 46: Saint Paul Harbor\n",
      "Processing city 47: Busselton\n",
      "Processing city 48: Hong Kong\n",
      "Processing city 49: Sørland\n",
      "Processing city 50: Hithadhoo\n",
      "Processing city 51: Krasnorechenskiy\n",
      "Processing city 52: Amapá\n",
      "Processing city 53: Qaryat Sulūq\n",
      "Processing city 54: Caacupé\n",
      "Processing city 55: Albany\n",
      "Processing city 56: Emba\n",
      "Processing city 57: Yellowknife\n",
      "Processing city 58: Aasiaat\n",
      "Processing city 59: Bluff\n",
      "Processing city 60: Hilo\n",
      "Processing city 61: Les Cayes\n",
      "Processing city 62: Igarka\n",
      "Processing city 63: Katsuura\n",
      "Processing city 64: Tuktoyaktuk\n",
      "Processing city 65: Bambous Virieux\n",
      "Processing city 66: Aklavik\n",
      "Processing city 67: Port Keats\n",
      "Processing city 68: Arraial do Cabo\n",
      "Incomplete..., skip over missing city info.\n",
      "Processing city 70: Ilulissat\n",
      "Processing city 71: Gadwāl\n",
      "Processing city 72: Presidencia Roque Sáenz Peña\n",
      "Processing city 73: Barrow\n",
      "Processing city 74: Lakki\n",
      "Processing city 75: Coquimbo\n",
      "Processing city 76: Cidreira\n",
      "Processing city 77: Merthyr Tydfil\n",
      "Processing city 78: Ak-Dovurak\n",
      "Processing city 79: Vila Velha\n",
      "Processing city 80: Cape Town\n",
      "Processing city 81: Gravelbourg\n",
      "Incomplete..., skip over missing city info.\n",
      "Processing city 83: Kruisfontein\n",
      "Processing city 84: Beyneu\n",
      "Processing city 85: Grindavik\n",
      "Processing city 86: West Richland\n",
      "Processing city 87: Batemans Bay\n",
      "Processing city 88: Lebu\n",
      "Processing city 89: Ust-Maya\n",
      "Processing city 90: Sakakah\n",
      "Processing city 91: São Filipe\n",
      "Processing city 92: Yinchuan\n",
      "Processing city 93: Avarua\n",
      "Processing city 94: Caniço\n",
      "Processing city 95: Bubaque\n",
      "Processing city 96: Dubréka\n",
      "Incomplete..., skip over missing city info.\n",
      "Processing city 98: Kjøpsvik\n",
      "Processing city 99: Hasaki\n",
      "Processing city 100: Buchanan\n",
      "Processing city 101: Grand Gaube\n",
      "Processing city 102: Saskylakh\n",
      "Processing city 103: Qaanaaq\n",
      "Processing city 104: Caravelas\n",
      "Processing city 105: Fortuna\n",
      "Processing city 106: Borogontsy\n",
      "Incomplete..., skip over missing city info.\n",
      "Processing city 108: Cockburn Town\n",
      "Processing city 109: Butaritari\n",
      "Processing city 110: Kavaratti\n",
      "Processing city 111: Saldanha\n",
      "Processing city 112: Clyde River\n",
      "Processing city 113: East London\n",
      "Processing city 114: Saint-Philippe\n",
      "Processing city 115: Fort Nelson\n",
      "Processing city 116: Thompson\n",
      "Processing city 117: Pisco\n",
      "Processing city 118: Castro\n",
      "Processing city 119: Pangnirtung\n",
      "Processing city 120: Deputatsky\n",
      "Processing city 121: Taoudenni\n",
      "Processing city 122: Murray Bridge\n",
      "Processing city 123: Hambantota\n",
      "Processing city 124: Ternate\n",
      "Processing city 125: Lagoa\n",
      "Processing city 126: Ballina\n",
      "Processing city 127: Huaicheng\n",
      "Processing city 128: San Patricio\n",
      "Processing city 129: Seoul\n",
      "Processing city 130: San Miguel de Tucumán\n",
      "Incomplete..., skip over missing city info.\n",
      "Processing city 132: Alyangula\n",
      "Incomplete..., skip over missing city info.\n",
      "Processing city 134: Pacific Grove\n",
      "Processing city 135: Richards Bay\n",
      "Processing city 136: Punta Arenas\n",
      "Processing city 137: Pedernales\n",
      "Processing city 138: Tucupita\n",
      "Incomplete..., skip over missing city info.\n",
      "Processing city 140: Sola\n",
      "Processing city 141: Yar-Sale\n",
      "Processing city 142: Mogadishu\n",
      "Processing city 143: Kostino\n",
      "Processing city 144: Tiksi\n",
      "Processing city 145: Chui\n",
      "Processing city 146: Kerema\n",
      "Processing city 147: Los Llanos de Aridane\n",
      "Processing city 148: Mataura\n",
      "Processing city 149: Iqaluit\n",
      "Processing city 150: Rocha\n",
      "Processing city 151: Severo-Kuril'sk\n",
      "Processing city 152: Brae\n",
      "Processing city 153: Abnūb\n",
      "Processing city 154: Mar del Plata\n",
      "Processing city 155: Sarangani\n",
      "Processing city 156: Poum\n",
      "Processing city 157: Nemuro\n",
      "Processing city 158: Provideniya\n",
      "Processing city 159: Vaini\n",
      "Processing city 160: Titlāgarh\n",
      "Processing city 161: Jamestown\n",
      "Processing city 162: Nikolskoye\n",
      "Processing city 163: Měřín\n",
      "Incomplete..., skip over missing city info.\n",
      "Processing city 165: Pevek\n",
      "Processing city 166: Bolobo\n",
      "Processing city 167: Kununurra\n",
      "Processing city 168: Buchmany\n",
      "Processing city 169: Bethel\n",
      "Processing city 170: Montelíbano\n",
      "Processing city 171: Ubari\n",
      "Processing city 172: Kurumkan\n",
      "Processing city 173: Pingliang\n",
      "Processing city 174: Puerto Ayora\n",
      "Processing city 175: Arrondissement de Saint-Denis\n",
      "Processing city 176: Sirawai\n",
      "Processing city 177: Castaños\n",
      "Incomplete..., skip over missing city info.\n",
      "Processing city 179: Bereda\n",
      "Processing city 180: Chokurdakh\n",
      "Processing city 181: Laguna\n",
      "Processing city 182: Bayan\n",
      "Processing city 183: Valle de Allende\n",
      "Incomplete..., skip over missing city info.\n",
      "Processing city 185: Westport\n",
      "Processing city 186: Celestún\n",
      "Processing city 187: Maksatikha\n",
      "Processing city 188: Dikson\n",
      "Processing city 189: Korla\n",
      "Processing city 190: Waipawa\n",
      "Processing city 191: Linhares\n",
      "Processing city 192: Egvekinot\n",
      "Incomplete..., skip over missing city info.\n",
      "Processing city 194: Souillac\n",
      "Processing city 195: Rawson\n",
      "Incomplete..., skip over missing city info.\n",
      "Processing city 197: Norman Wells\n",
      "Processing city 198: College\n",
      "Processing city 199: Lüderitz\n",
      "Processing city 200: Longyearbyen\n",
      "Processing city 201: Chake Chake\n",
      "Processing city 202: Srednekolymsk\n",
      "Processing city 203: Iwanai\n",
      "Processing city 204: Narsaq\n",
      "Processing city 205: Mount Isa\n",
      "Processing city 206: Elizabeth City\n",
      "Processing city 207: Tsimmerbude\n",
      "Processing city 208: Lhokseumawe\n",
      "Processing city 209: Sobolevo\n",
      "Processing city 210: Hofn\n",
      "Processing city 211: Villa Vicente Guerrero\n",
      "Processing city 212: Mendi\n",
      "Processing city 213: Bathsheba\n",
      "Processing city 214: Cabo San Lucas\n",
      "Processing city 215: Ust'-Ilimsk\n",
      "Processing city 216: Bilibino\n",
      "Processing city 217: Zhigansk\n",
      "Processing city 218: Río Gallegos\n",
      "Incomplete..., skip over missing city info.\n",
      "Incomplete..., skip over missing city info.\n",
      "Processing city 221: Oleksandrivka\n",
      "Processing city 222: Panan\n",
      "Processing city 223: Dawlatabad\n",
      "Processing city 224: Sison\n",
      "Incomplete..., skip over missing city info.\n",
      "Processing city 226: Nagato\n",
      "Processing city 227: Faanui\n",
      "Processing city 228: Tshela\n",
      "Processing city 229: Faya\n",
      "Processing city 230: Christchurch\n",
      "Processing city 231: San Benito\n",
      "Processing city 232: Shimoda\n",
      "Processing city 233: Codrington\n",
      "Processing city 234: Choya\n",
      "Processing city 235: Lukaya\n",
      "Processing city 236: Vardø\n",
      "Processing city 237: Taksimo\n",
      "Processing city 238: Yumen\n",
      "Processing city 239: Baihar\n",
      "Processing city 240: Slobozia\n",
      "Processing city 241: Dekar\n",
      "Processing city 242: Piteå\n",
      "Processing city 243: Itacaré\n",
      "Incomplete..., skip over missing city info.\n",
      "Processing city 245: Nome\n",
      "Processing city 246: Chimoio\n",
      "Processing city 247: Georgiyevka\n",
      "Incomplete..., skip over missing city info.\n",
      "Processing city 249: Tulun\n",
      "Processing city 250: Abu Samrah\n",
      "Processing city 251: Broken Hill\n",
      "Processing city 252: Klaksvík\n",
      "Processing city 253: Gushikawa\n",
      "Processing city 254: Sitka\n",
      "Processing city 255: Oktyabr'skoye\n",
      "Processing city 256: Khatanga\n",
      "Processing city 257: Saint George\n",
      "Processing city 258: Kahului\n",
      "Incomplete..., skip over missing city info.\n"
     ]
    },
    {
     "name": "stdout",
     "output_type": "stream",
     "text": [
      "Processing city 260: Dovers\n",
      "Processing city 261: Gamba\n",
      "Processing city 262: Karratha\n",
      "Processing city 263: Kargil\n",
      "Incomplete..., skip over missing city info.\n",
      "Processing city 265: Alofi\n",
      "Processing city 266: Machalí\n",
      "Processing city 267: Halifax\n",
      "Processing city 268: Hūn\n",
      "Processing city 269: Osypenko\n",
      "Processing city 270: Tuatapere\n",
      "Processing city 271: Port Elizabeth\n",
      "Processing city 272: Zorritos\n",
      "Processing city 273: Vallenar\n",
      "Processing city 274: Torres\n",
      "Processing city 275: Ponta do Sol\n",
      "Processing city 276: Chemax\n",
      "Incomplete..., skip over missing city info.\n",
      "Processing city 278: Slave Lake\n",
      "Incomplete..., skip over missing city info.\n",
      "Incomplete..., skip over missing city info.\n",
      "Processing city 281: Bud\n",
      "Incomplete..., skip over missing city info.\n",
      "Incomplete..., skip over missing city info.\n",
      "Processing city 284: Pilar\n",
      "Processing city 285: Oussouye\n",
      "Processing city 286: Egersund\n",
      "Processing city 287: Sterling\n",
      "Processing city 288: Tamiahua\n",
      "Processing city 289: Evansville\n",
      "Processing city 290: Realeza\n",
      "Processing city 291: Santo Antônio de Jesus\n",
      "Processing city 292: Mumford\n",
      "Processing city 293: Great Yarmouth\n",
      "Processing city 294: Jericó\n",
      "Incomplete..., skip over missing city info.\n",
      "Processing city 296: Wuwei\n",
      "Processing city 297: Evensk\n",
      "Processing city 298: Fairbanks\n",
      "Processing city 299: Aquiraz\n",
      "Processing city 300: Vuktyl\n",
      "Processing city 301: Sept-Îles\n",
      "Processing city 302: Otofuke\n",
      "Processing city 303: Alvarães\n",
      "Processing city 304: Exeter\n",
      "Processing city 305: Martil\n",
      "Processing city 306: Mantamádos\n",
      "Incomplete..., skip over missing city info.\n",
      "Processing city 308: Kamloops\n",
      "Processing city 309: Dunedin\n",
      "Incomplete..., skip over missing city info.\n",
      "Processing city 311: Līsakovsk\n",
      "Processing city 312: Santa Ana\n",
      "Processing city 313: Coroico\n",
      "Processing city 314: Geraldton\n",
      "Processing city 315: Ratnagiri\n",
      "Processing city 316: Agua Dulce\n",
      "Incomplete..., skip over missing city info.\n",
      "Processing city 318: Beira\n",
      "Processing city 319: Zeya\n",
      "Incomplete..., skip over missing city info.\n",
      "Processing city 321: Yeppoon\n",
      "Processing city 322: Zhangye\n",
      "Processing city 323: Shenkursk\n",
      "Incomplete..., skip over missing city info.\n",
      "Processing city 325: Sar-e Pul\n",
      "Processing city 326: Lompoc\n",
      "Processing city 327: Lavrentiya\n",
      "Processing city 328: Maiduguri\n",
      "Processing city 329: Khor\n",
      "Processing city 330: Valera\n",
      "Processing city 331: Sisimiut\n",
      "Processing city 332: Port Hardy\n",
      "Processing city 333: Tautira\n",
      "Processing city 334: Penzance\n",
      "Processing city 335: Oddur\n",
      "Incomplete..., skip over missing city info.\n",
      "Processing city 337: Itarema\n",
      "Processing city 338: Estelle\n",
      "Processing city 339: Mehamn\n",
      "Processing city 340: Mahébourg\n",
      "Processing city 341: Kathmandu\n",
      "Processing city 342: Cody\n",
      "Processing city 343: Ketchikan\n",
      "Processing city 344: Galle\n",
      "Processing city 345: Thinadhoo\n",
      "Processing city 346: Dauriya\n",
      "Processing city 347: Bandarbeyla\n",
      "Processing city 348: Morón\n",
      "Processing city 349: Riviere-au-Renard\n",
      "Incomplete..., skip over missing city info.\n",
      "Processing city 351: Marabu\n",
      "Processing city 352: Marsá Maţrūḩ\n",
      "Processing city 353: Genthin\n",
      "Processing city 354: Chililabombwe\n",
      "Processing city 355: Saint Anthony\n",
      "Incomplete..., skip over missing city info.\n",
      "Processing city 357: Leh\n",
      "Processing city 358: Aksarka\n",
      "Processing city 359: San Esteban\n",
      "Processing city 360: Ferrol\n",
      "Processing city 361: Pouso Alegre\n",
      "Processing city 362: Ajdabiya\n",
      "Processing city 363: Ostrovnoy\n",
      "Processing city 364: Izazi\n",
      "Processing city 365: Dukat\n",
      "Processing city 366: Eyl\n",
      "Processing city 367: Mets Masrik\n",
      "Processing city 368: Ribeira Grande\n",
      "Processing city 369: Kuusamo\n",
      "Processing city 370: Felipe Carrillo Puerto\n",
      "Incomplete..., skip over missing city info.\n",
      "Processing city 372: Inhambane\n",
      "Incomplete..., skip over missing city info.\n",
      "Processing city 374: Kloulklubed\n",
      "Processing city 375: Sun City West\n",
      "Processing city 376: Douglas\n",
      "Processing city 377: Basco\n",
      "Processing city 378: Kavieng\n",
      "Processing city 379: Porto-Novo\n",
      "Processing city 380: Mackay\n",
      "Processing city 381: Opuwo\n",
      "Processing city 382: São Sebastião\n",
      "Processing city 383: Turukhansk\n",
      "Processing city 384: Baracoa\n",
      "Processing city 385: Simao\n",
      "Processing city 386: Kargasok\n",
      "Processing city 387: Arroyo de la Encomienda\n",
      "Processing city 388: Saanen\n",
      "Processing city 389: San Ramon\n",
      "Processing city 390: Vikulovo\n",
      "Processing city 391: Barlinek\n",
      "Incomplete..., skip over missing city info.\n",
      "Processing city 393: Isangel\n",
      "Processing city 394: Nanortalik\n",
      "Processing city 395: Oistins\n",
      "Processing city 396: Meulaboh\n",
      "Processing city 397: Waverley\n",
      "Processing city 398: Portobelo\n",
      "Processing city 399: Lingao\n",
      "Processing city 400: San Cristobal\n",
      "Processing city 401: Santiago del Estero\n",
      "Processing city 402: Hay River\n",
      "Processing city 403: Edd\n",
      "Processing city 404: Mezhdurechensk\n",
      "Processing city 405: Airai\n",
      "Processing city 406: Sawtell\n",
      "Processing city 407: Saint-Joseph\n",
      "Processing city 408: Dūngarpur\n",
      "Processing city 409: Bonavista\n",
      "Processing city 410: Chara\n",
      "Processing city 411: Wajima\n",
      "Processing city 412: Alekseyevsk\n",
      "Processing city 413: Dali\n",
      "Processing city 414: Trat\n",
      "Processing city 415: Costa Rica\n",
      "Processing city 416: Leningradskiy\n",
      "Processing city 417: Khorixas\n",
      "Processing city 418: Cherskiy\n",
      "Processing city 419: Mossamedes\n",
      "Processing city 420: Mbandaka\n",
      "Processing city 421: Vostok\n",
      "Processing city 422: Daru\n",
      "Processing city 423: Sainte-Maxime\n",
      "Processing city 424: Saint-Pierre\n",
      "Processing city 425: Tank\n",
      "Processing city 426: Yerbogachën\n",
      "Processing city 427: Santa Rosa\n",
      "Processing city 428: Merauke\n",
      "Processing city 429: Pachino\n",
      "Processing city 430: Sisophon\n",
      "Processing city 431: Port Lincoln\n",
      "Processing city 432: Safi\n",
      "Processing city 433: Beni\n",
      "Processing city 434: Glenwood Springs\n",
      "Processing city 435: Galveston\n",
      "Processing city 436: Las Vegas\n",
      "Processing city 437: Aripuanã\n",
      "Incomplete..., skip over missing city info.\n",
      "Processing city 439: Saint-François\n",
      "Incomplete..., skip over missing city info.\n",
      "Processing city 441: Sabha\n",
      "Processing city 442: Nioaque\n",
      "Processing city 443: Tanete\n",
      "Incomplete..., skip over missing city info.\n",
      "Processing city 445: Tasiilaq\n",
      "Processing city 446: Saint-Louis\n",
      "Processing city 447: Thayetmyo\n",
      "Processing city 448: Singaraja\n",
      "Processing city 449: Lebanon\n",
      "Processing city 450: Mayo\n",
      "Processing city 451: Half Moon Bay\n",
      "Processing city 452: Devonport\n",
      "Processing city 453: San Donà di Piave\n",
      "Processing city 454: Boa Vista\n",
      "Processing city 455: Divnomorskoye\n",
      "Processing city 456: Auki\n",
      "Processing city 457: Hauterive\n",
      "Processing city 458: Salalah\n",
      "Processing city 459: Sungai Penuh\n",
      "Processing city 460: Erdenet\n",
      "Incomplete..., skip over missing city info.\n",
      "Processing city 462: Lamu\n",
      "Processing city 463: Xinzhou\n",
      "Processing city 464: Eureka\n",
      "Processing city 465: Roura\n",
      "Processing city 466: Kismayo\n",
      "Processing city 467: Dingle\n",
      "Processing city 468: Porto Velho\n",
      "Processing city 469: Gravdal\n",
      "Processing city 470: Robertsport\n",
      "Processing city 471: Upernavik\n",
      "Processing city 472: Tiarei\n",
      "Processing city 473: Port Hedland\n",
      "Processing city 474: Dzilam González\n",
      "Processing city 475: Iturama\n",
      "Processing city 476: Chernyshevskiy\n",
      "Processing city 477: Gashua\n",
      "Processing city 478: Mandiana\n",
      "Processing city 479: Kandrian\n",
      "Processing city 480: Mayor Pablo Lagerenza\n",
      "Processing city 481: Tateyama\n",
      "Processing city 482: Krasnosel'kup\n",
      "Processing city 483: Princeton\n",
      "Processing city 484: Yaan\n",
      "Processing city 485: Sechura\n",
      "Processing city 486: Rio Grande\n",
      "Processing city 487: Beringovskiy\n",
      "Processing city 488: Santa Cruz de la Sierra\n",
      "Processing city 489: Makat\n",
      "Processing city 490: Malanje\n",
      "Processing city 491: La Plata\n",
      "Processing city 492: Rabo de Peixe\n",
      "Processing city 493: Udachny\n",
      "Processing city 494: Belaya Gora\n",
      "Processing city 495: Te Anau\n",
      "Processing city 496: Mount Gambier\n",
      "Processing city 497: Ust-Nera\n",
      "Processing city 498: Zonguldak\n",
      "Processing city 499: Nouakchott\n",
      "Processing city 500: Luwuk\n",
      "Processing city 501: Vágur\n",
      "Processing city 502: Buala\n",
      "Processing city 503: Crixás\n",
      "Processing city 504: Nuuk\n",
      "Processing city 505: Bosaso\n",
      "Processing city 506: Tashtyp\n",
      "Processing city 507: Severnyy\n",
      "Processing city 508: Fereydūnkenār\n",
      "Processing city 509: Neuquén\n",
      "Processing city 510: Colwyn Bay\n",
      "Processing city 511: Mae Sai\n",
      "Processing city 512: São João da Barra\n",
      "Processing city 513: Santa Cecília\n",
      "Processing city 514: Ordu\n",
      "Processing city 515: Lata\n",
      "Processing city 516: Coyhaique\n",
      "Processing city 517: Omboué\n",
      "Processing city 518: Karpogory\n",
      "Processing city 519: Piraí do Sul\n"
     ]
    },
    {
     "name": "stdout",
     "output_type": "stream",
     "text": [
      "Processing city 520: Sibolga\n",
      "Incomplete..., skip over missing city info.\n",
      "Incomplete..., skip over missing city info.\n",
      "Processing city 523: Praia\n",
      "Processing city 524: Jatai\n",
      "Processing city 525: Olot\n",
      "Processing city 526: Palmer\n",
      "Processing city 527: Cobija\n",
      "Processing city 528: Golden\n",
      "Processing city 529: Koster\n",
      "Processing city 530: Mosquera\n",
      "Processing city 531: Lapua\n",
      "Processing city 532: Yoichi\n",
      "Processing city 533: Jieshi\n",
      "Processing city 534: Muzhi\n",
      "Processing city 535: Billings Metropolitan Area\n",
      "Processing city 536: Goderich\n",
      "Processing city 537: Napāsar\n",
      "Processing city 538: Yuncheng\n",
      "Processing city 539: Marathon\n",
      "Processing city 540: Boguchany\n",
      "Processing city 541: Port-Gentil\n",
      "Processing city 542: Nouadhibou\n",
      "Processing city 543: Otradnoye\n",
      "Processing city 544: Linjiang\n",
      "Processing city 545: Guerrero Negro\n",
      "Processing city 546: Bauru\n",
      "Processing city 547: Rundu\n",
      "Processing city 548: Bradford\n",
      "Processing city 549: General Roca\n",
      "Processing city 550: Kulhudhuffushi\n",
      "Processing city 551: Forsytheganj\n",
      "Processing city 552: Siirt\n",
      "Processing city 553: Aksu\n",
      "Processing city 554: Havre-St-Pierre\n",
      "Processing city 555: Northam\n",
      "Processing city 556: Launceston\n",
      "Processing city 557: Southwick\n",
      "Processing city 558: Tazovsky\n",
      "Processing city 559: Noumea\n",
      "Incomplete..., skip over missing city info.\n",
      "Processing city 561: Coahuayana Viejo\n",
      "Processing city 562: Usevya\n",
      "Processing city 563: Jeremoabo\n",
      "Processing city 564: Acapulco de Juárez\n",
      "Incomplete..., skip over missing city info.\n",
      "Processing city 566: Kushmurun\n",
      "Processing city 567: Boyolangu\n",
      "Processing city 568: Tashara\n",
      "Processing city 569: Kapuskasing\n",
      "Processing city 570: Mitrofanovka\n",
      "Processing city 571: Saquena\n",
      "Processing city 572: Henties Bay\n",
      "Processing city 573: Tessalit\n",
      "Processing city 574: Bestöbe\n",
      "Processing city 575: Kushiro\n",
      "Processing city 576: Sémbé\n",
      "Processing city 577: Antonina\n",
      "Processing city 578: Angul\n",
      "Processing city 579: Coro\n",
      "Complete\n"
     ]
    }
   ],
   "source": [
    "# Setup API Calling\n",
    "# url\n",
    "url = \"http://api.openweathermap.org/data/2.5/weather?\"\n",
    "# url = \"https://openweathermap.org/api\"\n",
    "\n",
    "# units\n",
    "unit = \"units=Imperial\"\n",
    "\n",
    "# api\n",
    "api = \"&APPID=\" + weather_api_key\n",
    "\n",
    "# response \n",
    "response = requests.get( url + unit + api).json()\n",
    "\n",
    "# print statement\n",
    "print(response)\n",
    "\n",
    "\n",
    "# Storage for api call data\n",
    "city_info = {\"City\": [], \n",
    "             \"Lat\": [], \n",
    "             \"Lng\": [],\n",
    "             \"Max Temp\": [],\n",
    "             \"Humidity\": [],\n",
    "             \"Cloudiness\": [],\n",
    "             \"Wind Speed\": [],\n",
    "             \"Country\": [], \n",
    "             \"Date\": []}\n",
    "\n",
    "# hint, limit api calls\n",
    "minute = 60\n",
    "@limits(calls=60, period=minute)\n",
    "\n",
    "# api call loop\n",
    "def call_api():\n",
    "    \n",
    "    for i, city in enumerate(cities):\n",
    "        city = requests.get(url + unit + \"&q=\" + cities[i] + api).json()\n",
    "        \n",
    "        try:\n",
    "            print(\"Processing city \" + str(i) + \": \" + city[\"name\"])\n",
    "        \n",
    "            city_info[\"City\"].append(city[\"name\"])\n",
    "            city_info[\"Lat\"].append(city[\"coord\"][\"lat\"])\n",
    "            city_info[\"Lng\"].append(city[\"coord\"][\"lon\"])\n",
    "            city_info[\"Max Temp\"].append(city[\"main\"][\"temp_max\"])\n",
    "            city_info[\"Humidity\"].append(city[\"main\"][\"humidity\"])\n",
    "            city_info[\"Cloudiness\"].append(city[\"clouds\"][\"all\"])\n",
    "            city_info[\"Wind Speed\"].append(city[\"wind\"][\"speed\"])\n",
    "            city_info[\"Country\"].append(city[\"sys\"][\"country\"])\n",
    "            city_info[\"Date\"].append(city[\"dt\"])\n",
    "            \n",
    "        except:\n",
    "            print(\"Incomplete..., skip over missing city info.\")\n",
    "            pass\n",
    "    print(\"Complete\")\n",
    "    \n",
    "call_api()\n",
    "\n",
    "# print log\n",
    "logging.basicConfig(filename='api_print.log', filemode='w')\n",
    "logging.warning('This data will be logged onto a file')\n",
    "\n",
    "\n",
    "            \n",
    "            \n",
    "        "
   ]
  },
  {
   "cell_type": "markdown",
   "metadata": {},
   "source": [
    "### Convert Raw Data to DataFrame\n",
    "* Export the city data into a .csv.\n",
    "* Display the DataFrame"
   ]
  },
  {
   "cell_type": "code",
   "execution_count": 4,
   "metadata": {},
   "outputs": [],
   "source": [
    "# Creating DataFrame\n",
    "city_info_df = pd.DataFrame(city_info)\n",
    "\n",
    "# Clean DataFrame\n",
    "city_info_df[\"Max Temp\"] = city_info_df[\"Max Temp\"].replace('', np.nan)\n",
    "city_info_df = city_info_df.dropna()\n",
    "\n",
    "city_count = len(city_info_df)\n",
    "# Export as CSV file\n",
    "city_info_df.to_csv(output_data_file, index_label=\"City_ID\")"
   ]
  },
  {
   "cell_type": "code",
   "execution_count": 5,
   "metadata": {},
   "outputs": [
    {
     "data": {
      "text/html": [
       "<div>\n",
       "<style scoped>\n",
       "    .dataframe tbody tr th:only-of-type {\n",
       "        vertical-align: middle;\n",
       "    }\n",
       "\n",
       "    .dataframe tbody tr th {\n",
       "        vertical-align: top;\n",
       "    }\n",
       "\n",
       "    .dataframe thead th {\n",
       "        text-align: right;\n",
       "    }\n",
       "</style>\n",
       "<table border=\"1\" class=\"dataframe\">\n",
       "  <thead>\n",
       "    <tr style=\"text-align: right;\">\n",
       "      <th></th>\n",
       "      <th>City</th>\n",
       "      <th>Lat</th>\n",
       "      <th>Lng</th>\n",
       "      <th>Max Temp</th>\n",
       "      <th>Humidity</th>\n",
       "      <th>Cloudiness</th>\n",
       "      <th>Wind Speed</th>\n",
       "      <th>Country</th>\n",
       "      <th>Date</th>\n",
       "    </tr>\n",
       "  </thead>\n",
       "  <tbody>\n",
       "    <tr>\n",
       "      <th>0</th>\n",
       "      <td>Kampong Cham</td>\n",
       "      <td>11.9934</td>\n",
       "      <td>105.4635</td>\n",
       "      <td>74.88</td>\n",
       "      <td>80</td>\n",
       "      <td>67</td>\n",
       "      <td>3.49</td>\n",
       "      <td>KH</td>\n",
       "      <td>1644445205</td>\n",
       "    </tr>\n",
       "    <tr>\n",
       "      <th>1</th>\n",
       "      <td>Pangai</td>\n",
       "      <td>-19.8000</td>\n",
       "      <td>-174.3500</td>\n",
       "      <td>80.20</td>\n",
       "      <td>83</td>\n",
       "      <td>97</td>\n",
       "      <td>20.38</td>\n",
       "      <td>TO</td>\n",
       "      <td>1644445205</td>\n",
       "    </tr>\n",
       "    <tr>\n",
       "      <th>2</th>\n",
       "      <td>Den Helder</td>\n",
       "      <td>52.9599</td>\n",
       "      <td>4.7593</td>\n",
       "      <td>47.98</td>\n",
       "      <td>96</td>\n",
       "      <td>100</td>\n",
       "      <td>2.30</td>\n",
       "      <td>NL</td>\n",
       "      <td>1644445206</td>\n",
       "    </tr>\n",
       "    <tr>\n",
       "      <th>3</th>\n",
       "      <td>Ushuaia</td>\n",
       "      <td>-54.8000</td>\n",
       "      <td>-68.3000</td>\n",
       "      <td>51.42</td>\n",
       "      <td>50</td>\n",
       "      <td>75</td>\n",
       "      <td>16.11</td>\n",
       "      <td>AR</td>\n",
       "      <td>1644445206</td>\n",
       "    </tr>\n",
       "    <tr>\n",
       "      <th>4</th>\n",
       "      <td>Kimbe</td>\n",
       "      <td>-5.5502</td>\n",
       "      <td>150.1429</td>\n",
       "      <td>80.64</td>\n",
       "      <td>83</td>\n",
       "      <td>73</td>\n",
       "      <td>1.83</td>\n",
       "      <td>PG</td>\n",
       "      <td>1644445206</td>\n",
       "    </tr>\n",
       "    <tr>\n",
       "      <th>...</th>\n",
       "      <td>...</td>\n",
       "      <td>...</td>\n",
       "      <td>...</td>\n",
       "      <td>...</td>\n",
       "      <td>...</td>\n",
       "      <td>...</td>\n",
       "      <td>...</td>\n",
       "      <td>...</td>\n",
       "      <td>...</td>\n",
       "    </tr>\n",
       "    <tr>\n",
       "      <th>526</th>\n",
       "      <td>Kushiro</td>\n",
       "      <td>42.9750</td>\n",
       "      <td>144.3747</td>\n",
       "      <td>14.95</td>\n",
       "      <td>79</td>\n",
       "      <td>20</td>\n",
       "      <td>8.05</td>\n",
       "      <td>JP</td>\n",
       "      <td>1644445408</td>\n",
       "    </tr>\n",
       "    <tr>\n",
       "      <th>527</th>\n",
       "      <td>Sémbé</td>\n",
       "      <td>1.6481</td>\n",
       "      <td>14.5806</td>\n",
       "      <td>76.33</td>\n",
       "      <td>33</td>\n",
       "      <td>42</td>\n",
       "      <td>1.61</td>\n",
       "      <td>CG</td>\n",
       "      <td>1644445408</td>\n",
       "    </tr>\n",
       "    <tr>\n",
       "      <th>528</th>\n",
       "      <td>Antonina</td>\n",
       "      <td>-25.4286</td>\n",
       "      <td>-48.7119</td>\n",
       "      <td>78.42</td>\n",
       "      <td>97</td>\n",
       "      <td>76</td>\n",
       "      <td>1.70</td>\n",
       "      <td>BR</td>\n",
       "      <td>1644445408</td>\n",
       "    </tr>\n",
       "    <tr>\n",
       "      <th>529</th>\n",
       "      <td>Angul</td>\n",
       "      <td>20.8500</td>\n",
       "      <td>85.1000</td>\n",
       "      <td>62.22</td>\n",
       "      <td>88</td>\n",
       "      <td>5</td>\n",
       "      <td>2.71</td>\n",
       "      <td>IN</td>\n",
       "      <td>1644445409</td>\n",
       "    </tr>\n",
       "    <tr>\n",
       "      <th>530</th>\n",
       "      <td>Coro</td>\n",
       "      <td>11.4045</td>\n",
       "      <td>-69.6734</td>\n",
       "      <td>81.77</td>\n",
       "      <td>64</td>\n",
       "      <td>98</td>\n",
       "      <td>20.24</td>\n",
       "      <td>VE</td>\n",
       "      <td>1644445409</td>\n",
       "    </tr>\n",
       "  </tbody>\n",
       "</table>\n",
       "<p>531 rows × 9 columns</p>\n",
       "</div>"
      ],
      "text/plain": [
       "             City      Lat       Lng  Max Temp  Humidity  Cloudiness  \\\n",
       "0    Kampong Cham  11.9934  105.4635     74.88        80          67   \n",
       "1          Pangai -19.8000 -174.3500     80.20        83          97   \n",
       "2      Den Helder  52.9599    4.7593     47.98        96         100   \n",
       "3         Ushuaia -54.8000  -68.3000     51.42        50          75   \n",
       "4           Kimbe  -5.5502  150.1429     80.64        83          73   \n",
       "..            ...      ...       ...       ...       ...         ...   \n",
       "526       Kushiro  42.9750  144.3747     14.95        79          20   \n",
       "527         Sémbé   1.6481   14.5806     76.33        33          42   \n",
       "528      Antonina -25.4286  -48.7119     78.42        97          76   \n",
       "529         Angul  20.8500   85.1000     62.22        88           5   \n",
       "530          Coro  11.4045  -69.6734     81.77        64          98   \n",
       "\n",
       "     Wind Speed Country        Date  \n",
       "0          3.49      KH  1644445205  \n",
       "1         20.38      TO  1644445205  \n",
       "2          2.30      NL  1644445206  \n",
       "3         16.11      AR  1644445206  \n",
       "4          1.83      PG  1644445206  \n",
       "..          ...     ...         ...  \n",
       "526        8.05      JP  1644445408  \n",
       "527        1.61      CG  1644445408  \n",
       "528        1.70      BR  1644445408  \n",
       "529        2.71      IN  1644445409  \n",
       "530       20.24      VE  1644445409  \n",
       "\n",
       "[531 rows x 9 columns]"
      ]
     },
     "execution_count": 5,
     "metadata": {},
     "output_type": "execute_result"
    }
   ],
   "source": [
    "# Inspect DataFrame\n",
    "city_info_df"
   ]
  },
  {
   "cell_type": "code",
   "execution_count": 6,
   "metadata": {},
   "outputs": [
    {
     "name": "stdout",
     "output_type": "stream",
     "text": [
      "531 number of cities were left out of the 531 cities accounted for, giving a success rate of 100.0% retrieval.\n"
     ]
    },
    {
     "data": {
      "text/html": [
       "<div>\n",
       "<style scoped>\n",
       "    .dataframe tbody tr th:only-of-type {\n",
       "        vertical-align: middle;\n",
       "    }\n",
       "\n",
       "    .dataframe tbody tr th {\n",
       "        vertical-align: top;\n",
       "    }\n",
       "\n",
       "    .dataframe thead th {\n",
       "        text-align: right;\n",
       "    }\n",
       "</style>\n",
       "<table border=\"1\" class=\"dataframe\">\n",
       "  <thead>\n",
       "    <tr style=\"text-align: right;\">\n",
       "      <th></th>\n",
       "      <th>City</th>\n",
       "      <th>Lat</th>\n",
       "      <th>Lng</th>\n",
       "      <th>Max Temp</th>\n",
       "      <th>Humidity</th>\n",
       "      <th>Cloudiness</th>\n",
       "      <th>Wind Speed</th>\n",
       "      <th>Country</th>\n",
       "      <th>Date</th>\n",
       "    </tr>\n",
       "  </thead>\n",
       "  <tbody>\n",
       "    <tr>\n",
       "      <th>0</th>\n",
       "      <td>Kampong Cham</td>\n",
       "      <td>11.9934</td>\n",
       "      <td>105.4635</td>\n",
       "      <td>74.88</td>\n",
       "      <td>80</td>\n",
       "      <td>67</td>\n",
       "      <td>3.49</td>\n",
       "      <td>KH</td>\n",
       "      <td>1644445205</td>\n",
       "    </tr>\n",
       "    <tr>\n",
       "      <th>1</th>\n",
       "      <td>Pangai</td>\n",
       "      <td>-19.8000</td>\n",
       "      <td>-174.3500</td>\n",
       "      <td>80.20</td>\n",
       "      <td>83</td>\n",
       "      <td>97</td>\n",
       "      <td>20.38</td>\n",
       "      <td>TO</td>\n",
       "      <td>1644445205</td>\n",
       "    </tr>\n",
       "    <tr>\n",
       "      <th>2</th>\n",
       "      <td>Den Helder</td>\n",
       "      <td>52.9599</td>\n",
       "      <td>4.7593</td>\n",
       "      <td>47.98</td>\n",
       "      <td>96</td>\n",
       "      <td>100</td>\n",
       "      <td>2.30</td>\n",
       "      <td>NL</td>\n",
       "      <td>1644445206</td>\n",
       "    </tr>\n",
       "    <tr>\n",
       "      <th>3</th>\n",
       "      <td>Ushuaia</td>\n",
       "      <td>-54.8000</td>\n",
       "      <td>-68.3000</td>\n",
       "      <td>51.42</td>\n",
       "      <td>50</td>\n",
       "      <td>75</td>\n",
       "      <td>16.11</td>\n",
       "      <td>AR</td>\n",
       "      <td>1644445206</td>\n",
       "    </tr>\n",
       "    <tr>\n",
       "      <th>4</th>\n",
       "      <td>Kimbe</td>\n",
       "      <td>-5.5502</td>\n",
       "      <td>150.1429</td>\n",
       "      <td>80.64</td>\n",
       "      <td>83</td>\n",
       "      <td>73</td>\n",
       "      <td>1.83</td>\n",
       "      <td>PG</td>\n",
       "      <td>1644445206</td>\n",
       "    </tr>\n",
       "    <tr>\n",
       "      <th>...</th>\n",
       "      <td>...</td>\n",
       "      <td>...</td>\n",
       "      <td>...</td>\n",
       "      <td>...</td>\n",
       "      <td>...</td>\n",
       "      <td>...</td>\n",
       "      <td>...</td>\n",
       "      <td>...</td>\n",
       "      <td>...</td>\n",
       "    </tr>\n",
       "    <tr>\n",
       "      <th>526</th>\n",
       "      <td>Kushiro</td>\n",
       "      <td>42.9750</td>\n",
       "      <td>144.3747</td>\n",
       "      <td>14.95</td>\n",
       "      <td>79</td>\n",
       "      <td>20</td>\n",
       "      <td>8.05</td>\n",
       "      <td>JP</td>\n",
       "      <td>1644445408</td>\n",
       "    </tr>\n",
       "    <tr>\n",
       "      <th>527</th>\n",
       "      <td>Sémbé</td>\n",
       "      <td>1.6481</td>\n",
       "      <td>14.5806</td>\n",
       "      <td>76.33</td>\n",
       "      <td>33</td>\n",
       "      <td>42</td>\n",
       "      <td>1.61</td>\n",
       "      <td>CG</td>\n",
       "      <td>1644445408</td>\n",
       "    </tr>\n",
       "    <tr>\n",
       "      <th>528</th>\n",
       "      <td>Antonina</td>\n",
       "      <td>-25.4286</td>\n",
       "      <td>-48.7119</td>\n",
       "      <td>78.42</td>\n",
       "      <td>97</td>\n",
       "      <td>76</td>\n",
       "      <td>1.70</td>\n",
       "      <td>BR</td>\n",
       "      <td>1644445408</td>\n",
       "    </tr>\n",
       "    <tr>\n",
       "      <th>529</th>\n",
       "      <td>Angul</td>\n",
       "      <td>20.8500</td>\n",
       "      <td>85.1000</td>\n",
       "      <td>62.22</td>\n",
       "      <td>88</td>\n",
       "      <td>5</td>\n",
       "      <td>2.71</td>\n",
       "      <td>IN</td>\n",
       "      <td>1644445409</td>\n",
       "    </tr>\n",
       "    <tr>\n",
       "      <th>530</th>\n",
       "      <td>Coro</td>\n",
       "      <td>11.4045</td>\n",
       "      <td>-69.6734</td>\n",
       "      <td>81.77</td>\n",
       "      <td>64</td>\n",
       "      <td>98</td>\n",
       "      <td>20.24</td>\n",
       "      <td>VE</td>\n",
       "      <td>1644445409</td>\n",
       "    </tr>\n",
       "  </tbody>\n",
       "</table>\n",
       "<p>531 rows × 9 columns</p>\n",
       "</div>"
      ],
      "text/plain": [
       "             City      Lat       Lng  Max Temp  Humidity  Cloudiness  \\\n",
       "0    Kampong Cham  11.9934  105.4635     74.88        80          67   \n",
       "1          Pangai -19.8000 -174.3500     80.20        83          97   \n",
       "2      Den Helder  52.9599    4.7593     47.98        96         100   \n",
       "3         Ushuaia -54.8000  -68.3000     51.42        50          75   \n",
       "4           Kimbe  -5.5502  150.1429     80.64        83          73   \n",
       "..            ...      ...       ...       ...       ...         ...   \n",
       "526       Kushiro  42.9750  144.3747     14.95        79          20   \n",
       "527         Sémbé   1.6481   14.5806     76.33        33          42   \n",
       "528      Antonina -25.4286  -48.7119     78.42        97          76   \n",
       "529         Angul  20.8500   85.1000     62.22        88           5   \n",
       "530          Coro  11.4045  -69.6734     81.77        64          98   \n",
       "\n",
       "     Wind Speed Country        Date  \n",
       "0          3.49      KH  1644445205  \n",
       "1         20.38      TO  1644445205  \n",
       "2          2.30      NL  1644445206  \n",
       "3         16.11      AR  1644445206  \n",
       "4          1.83      PG  1644445206  \n",
       "..          ...     ...         ...  \n",
       "526        8.05      JP  1644445408  \n",
       "527        1.61      CG  1644445408  \n",
       "528        1.70      BR  1644445408  \n",
       "529        2.71      IN  1644445409  \n",
       "530       20.24      VE  1644445409  \n",
       "\n",
       "[531 rows x 9 columns]"
      ]
     },
     "execution_count": 6,
     "metadata": {},
     "output_type": "execute_result"
    }
   ],
   "source": [
    "leftover_cities = city_info_df.loc[city_info_df[\"City\"] != \"Failed!\"]\n",
    "leftover_cities_count = len(leftover_cities)\n",
    "print(\"{} number of cities were left out of the {} cities accounted for, giving a success rate of {:.1%} retrieval.\"\n",
    "      .format(leftover_cities_count, city_count, (leftover_cities_count/city_count)))\n",
    "\n",
    "leftover_cities.index = [a for a in range(leftover_cities_count)]\n",
    "\n",
    "non_numeric_columns = [\"City\", \"Country\", \"Date\"]\n",
    "\n",
    "for col in leftover_cities.columns:\n",
    "    if(col not in non_numeric_columns):\n",
    "        leftover_cities[col] = pd.to_numeric(leftover_cities[col])\n",
    "        \n",
    "\n",
    "leftover_cities"
   ]
  },
  {
   "cell_type": "markdown",
   "metadata": {},
   "source": [
    "## Inspect the data and remove the cities where the humidity > 100%.\n",
    "----\n",
    "Skip this step if there are no cities that have humidity > 100%. "
   ]
  },
  {
   "cell_type": "code",
   "execution_count": 7,
   "metadata": {},
   "outputs": [],
   "source": [
    "# Table Columns\n",
    "lat = city_info_df[\"Lat\"]\n",
    "max_temp = city_info_df[\"Max Temp\"]\n",
    "humidity = city_info_df[\"Humidity\"]\n",
    "cloudiness = city_info_df[\"Cloudiness\"]\n",
    "wind_speed = city_info_df[\"Wind Speed\"]"
   ]
  },
  {
   "cell_type": "code",
   "execution_count": 8,
   "metadata": {},
   "outputs": [
    {
     "data": {
      "text/plain": [
       "0      80\n",
       "1      83\n",
       "2      96\n",
       "3      50\n",
       "4      83\n",
       "       ..\n",
       "526    79\n",
       "527    33\n",
       "528    97\n",
       "529    88\n",
       "530    64\n",
       "Name: Humidity, Length: 531, dtype: int64"
      ]
     },
     "execution_count": 8,
     "metadata": {},
     "output_type": "execute_result"
    }
   ],
   "source": [
    "#  Get the indices of cities that have humidity over 100%.\n",
    "city_info_df[\"Humidity\"]"
   ]
  },
  {
   "cell_type": "code",
   "execution_count": 9,
   "metadata": {},
   "outputs": [
    {
     "name": "stderr",
     "output_type": "stream",
     "text": [
      "C:\\Users\\chris\\anaconda3\\lib\\site-packages\\seaborn\\_decorators.py:36: FutureWarning: Pass the following variable as a keyword arg: x. From version 0.12, the only valid positional argument will be `data`, and passing other arguments without an explicit keyword will result in an error or misinterpretation.\n",
      "  warnings.warn(\n"
     ]
    },
    {
     "data": {
      "text/plain": [
       "<AxesSubplot:xlabel='Humidity'>"
      ]
     },
     "execution_count": 9,
     "metadata": {},
     "output_type": "execute_result"
    },
    {
     "data": {
      "image/png": "[encoded data removed]",
      "text/plain": [
       "<Figure size 432x288 with 1 Axes>"
      ]
     },
     "metadata": {
      "needs_background": "light"
     },
     "output_type": "display_data"
    }
   ],
   "source": [
    "# Couldn't figure out how to use plot_filtered to fix FutureWarning\n",
    "sns.boxplot(city_info_df[\"Humidity\"])\n",
    "\n"
   ]
  },
  {
   "cell_type": "code",
   "execution_count": 10,
   "metadata": {},
   "outputs": [
    {
     "name": "stdout",
     "output_type": "stream",
     "text": [
      "(array([], dtype=int64),)\n"
     ]
    }
   ],
   "source": [
    "# Print Outlier (if one exists)\n",
    "print(np.where(city_info_df[\"Humidity\"] > 100))\n",
    "# Array is empty, no 'Humidity' over 100% exists in current dataset."
   ]
  },
  {
   "cell_type": "markdown",
   "metadata": {},
   "source": [
    "#### Are There Any Cities With Humidity Over 100 % ?\n",
    "From the results of the boxplot and the conditional print statement, there does not seem to be any cities within the dataset that has a humidity of over 100%.  "
   ]
  },
  {
   "cell_type": "markdown",
   "metadata": {},
   "source": [
    "## Plotting the Data\n",
    "* Use proper labeling of the plots using plot titles (including date of analysis) and axes labels.\n",
    "* Save the plotted figures as .pngs."
   ]
  },
  {
   "cell_type": "markdown",
   "metadata": {},
   "source": [
    "## Temperature vs Latitude Scatter Plot"
   ]
  },
  {
   "cell_type": "code",
   "execution_count": 11,
   "metadata": {
    "scrolled": true
   },
   "outputs": [
    {
     "data": {
      "image/png": "[encoded data removed]",
      "text/plain": [
       "<Figure size 576x432 with 1 Axes>"
      ]
     },
     "metadata": {
      "needs_background": "light"
     },
     "output_type": "display_data"
    }
   ],
   "source": [
    "# Latitude vs Temperature\n",
    "# viz config\n",
    "plt.figure(figsize=(8,6))\n",
    "lat_vs_temp = plt.scatter(lat, max_temp, linewidths=1, marker=\"o\")\n",
    "\n",
    "# titles & labels\n",
    "plt.title(\"Max Temperature (%) vs Latitude of City (2/9/2022)\")\n",
    "plt.xlabel(\"Latitude\")\n",
    "plt.ylabel(\"Max Temperature (F)\")\n",
    "# Display Plot\n",
    "plt.show()"
   ]
  },
  {
   "cell_type": "markdown",
   "metadata": {},
   "source": [
    "#### Temperature vs. Latitude Scatter Plot Analysis¶\n",
    "The above scatter plot analyzies the latitudes of cities (north or south) of the equator against their correponding maximum temperatures (in degrees fahrenheit). Temperatures rise the closer a city is in relation to the equator. Cities south of the equator have higher maximum temperatures in comparison to cities north of the equator.  "
   ]
  },
  {
   "cell_type": "code",
   "execution_count": 12,
   "metadata": {},
   "outputs": [],
   "source": [
    "# Save fig\n",
    "lat_vs_temp.get_figure().savefig(\"../Images/Fig1.png\")"
   ]
  },
  {
   "cell_type": "markdown",
   "metadata": {},
   "source": [
    "## Humidity vs. Latitude Scatter Plot"
   ]
  },
  {
   "cell_type": "code",
   "execution_count": 13,
   "metadata": {},
   "outputs": [
    {
     "data": {
      "image/png": "[encoded data removed]",
      "text/plain": [
       "<Figure size 576x432 with 1 Axes>"
      ]
     },
     "metadata": {
      "needs_background": "light"
     },
     "output_type": "display_data"
    }
   ],
   "source": [
    "# Latitude vs Humidity\n",
    "# viz config\n",
    "plt.figure(figsize=(8,6))\n",
    "lat_vs_humidity = plt.scatter(lat, humidity, linewidths=1, marker=\"o\")\n",
    "\n",
    "# titles & labels\n",
    "plt.title(\"Humidity (%) vs Latitude of City (2/9/2022)\")\n",
    "plt.xlabel(\"Latitude\")\n",
    "plt.ylabel(\"Humidity (%)\")\n",
    "# Display Plot\n",
    "plt.show()"
   ]
  },
  {
   "cell_type": "markdown",
   "metadata": {},
   "source": [
    "#### Humidity vs. Latitude Scatter Plot Analysis\n",
    "\n",
    "The above scatter plot analyzies percent humidity against the latitudinal of a city in relation to the equator. There seems to be no apparently noticeable relationship between humidity and geolocation. "
   ]
  },
  {
   "cell_type": "code",
   "execution_count": 14,
   "metadata": {},
   "outputs": [],
   "source": [
    "lat_vs_humidity.get_figure().savefig(\"../Images/Fig2.png\")"
   ]
  },
  {
   "cell_type": "markdown",
   "metadata": {},
   "source": [
    "## Cloudiness vs. Latitude Scatter Plot"
   ]
  },
  {
   "cell_type": "code",
   "execution_count": 15,
   "metadata": {},
   "outputs": [
    {
     "data": {
      "image/png": "[encoded data removed]",
      "text/plain": [
       "<Figure size 576x432 with 1 Axes>"
      ]
     },
     "metadata": {
      "needs_background": "light"
     },
     "output_type": "display_data"
    }
   ],
   "source": [
    "# Cloudiness vs. Latitude Scatter Plot\n",
    "# viz config\n",
    "plt.figure(figsize=(8,6))\n",
    "lat_vs_cloudiness = plt.scatter(lat, cloudiness, linewidths=1, marker=\"o\")\n",
    "\n",
    "# titles & labels\n",
    "plt.title(\"Cloudiness (%) vs Latitude of City (2/9/2022)\")\n",
    "plt.xlabel(\"Latitude\")\n",
    "plt.ylabel(\"Cloudiness (%)\")\n",
    "# Display Plot\n",
    "plt.show()"
   ]
  },
  {
   "cell_type": "markdown",
   "metadata": {},
   "source": [
    "The scatter plot of Cloudiness vs. Latitude does does not show any associations between cloud cover and latitudial location.    "
   ]
  },
  {
   "cell_type": "code",
   "execution_count": 16,
   "metadata": {},
   "outputs": [],
   "source": [
    "lat_vs_cloudiness.get_figure().savefig(\"../Images/Fig3.png\")"
   ]
  },
  {
   "cell_type": "markdown",
   "metadata": {},
   "source": [
    "## Wind Speed vs Latitude Scatter Plot"
   ]
  },
  {
   "cell_type": "code",
   "execution_count": 17,
   "metadata": {},
   "outputs": [
    {
     "data": {
      "image/png": "[encoded data removed]",
      "text/plain": [
       "<Figure size 576x432 with 1 Axes>"
      ]
     },
     "metadata": {
      "needs_background": "light"
     },
     "output_type": "display_data"
    }
   ],
   "source": [
    "# Wind Speed vs Latitude Scatter Plot\n",
    "# viz config\n",
    "plt.figure(figsize=(8,6))\n",
    "lat_vs_wind_speed = plt.scatter(lat, wind_speed, linewidths=1, marker=\"o\")\n",
    "\n",
    "# titles & labels\n",
    "plt.title(\"Wind Speed (mph) vs Latitude of City (2/9/2022)\")\n",
    "plt.xlabel(\"Latitude\")\n",
    "plt.ylabel(\"Wind Speed (mph)\")\n",
    "# Display Plot\n",
    "plt.show()"
   ]
  },
  {
   "cell_type": "markdown",
   "metadata": {},
   "source": [
    "#### Wind Speed vs Latitude Scatter Plot Analysis\n",
    "The Wind Speed vs Latitude Scatter Plot shows no apparent associations between wind speed and geolocation for cities north or south of the equator."
   ]
  },
  {
   "cell_type": "code",
   "execution_count": 18,
   "metadata": {},
   "outputs": [],
   "source": [
    "lat_vs_wind_speed.get_figure().savefig(\"../Images/Fig4.png\")"
   ]
  },
  {
   "cell_type": "markdown",
   "metadata": {},
   "source": [
    "## Linear Regression"
   ]
  },
  {
   "cell_type": "code",
   "execution_count": 19,
   "metadata": {},
   "outputs": [],
   "source": [
    "# Linear Regression\n",
    "def makeLinRegression(city_info_df, x_Col, y_Col):\n",
    "    # preform linear regression\n",
    "    (regr_slope, regr_intercept, regr_r_val, _, _) = linregress(city_info_df[x_Col], city_info_df[y_Col])\n",
    "    # setup x and y axis data for linear regression \n",
    "    x = np.array([a for a in range(int(min(city_info_df[x_Col].values)), int(max(city_info_df[x_Col].values)+1))])\n",
    "    y = regr_slope * x + regr_intercept\n",
    "    # scatter plot\n",
    "    axis_df = city_info_df.plot(kind=\"scatter\", x=x_Col, y=y_Col, title=\"{} vs {} ({})\")\n",
    "    # best fit line\n",
    "    axis_df.plot(x, y, 'r')\n",
    "    \n",
    "    # print statements\n",
    "    print(\"Equation for best-fit linear regression line is y={:.2f}x+{:.2f}\".format(regr_slope, regr_intercept))\n",
    "    \n",
    "    print(\"r-squared correlation coefficient is {:.2f}\".format(regr_r_val))\n",
    "    \n",
    "    # return statement\n",
    "    return axis_df"
   ]
  },
  {
   "cell_type": "code",
   "execution_count": 20,
   "metadata": {},
   "outputs": [
    {
     "name": "stdout",
     "output_type": "stream",
     "text": [
      "The northern hemisphere has 363 cities out of 531 total, accounting for 68.4% of cities in the dataset.\n",
      "The southern hemisphere has 168 cities out of 531 total, accounting for 31.6% of cities in the dataset.\n"
     ]
    }
   ],
   "source": [
    "# Northern and Southern Hemispheres\n",
    "\n",
    "# Northern Hemisphere DataFrame\n",
    "northern_hemisphere = city_info_df.loc[city_info_df[\"Lat\"] >= 0]\n",
    "# Count of Cities in the Northern Hemisphere\n",
    "northern_count = len(northern_hemisphere)\n",
    "# Print \n",
    "print(\"The northern hemisphere has {} cities out of {} total, accounting for {:.1%} of cities in the dataset.\"\n",
    "      .format(northern_count, city_count, (northern_count/city_count)))\n",
    "\n",
    "# Southern Hemisphere DataFrame\n",
    "southern_hemisphere = city_info_df.loc[city_info_df[\"Lat\"] < 0]\n",
    "# Count of Cities in the Southern Hemisphere\n",
    "southern_count = len(southern_hemisphere)\n",
    "# Print \n",
    "print(\"The southern hemisphere has {} cities out of {} total, accounting for {:.1%} of cities in the dataset.\"\n",
    "      .format(southern_count, city_count, (southern_count/city_count)))"
   ]
  },
  {
   "cell_type": "markdown",
   "metadata": {},
   "source": [
    "####  Northern Hemisphere - Max Temp vs. Latitude Linear Regression"
   ]
  },
  {
   "cell_type": "code",
   "execution_count": 21,
   "metadata": {},
   "outputs": [
    {
     "name": "stdout",
     "output_type": "stream",
     "text": [
      "Line of Best-Fit for linear regression is y=-1.39x+93.55\n",
      "The r-squared correlation coefficient is -0.83\n"
     ]
    },
    {
     "data": {
      "image/png": "[encoded data removed]",
      "text/plain": [
       "<Figure size 432x288 with 1 Axes>"
      ]
     },
     "metadata": {
      "needs_background": "light"
     },
     "output_type": "display_data"
    }
   ],
   "source": [
    "(n_temp_slope, n_temp_intercept, n_temp_r_val, _, _) = linregress(northern_hemisphere[\"Lat\"],\n",
    "                                                                 northern_hemisphere[\"Max Temp\"])\n",
    "\n",
    "x = np.array([a for a in range(80)])\n",
    "y = n_temp_slope * x + n_temp_intercept\n",
    "\n",
    "n_temp_axes = northern_hemisphere.plot(kind=\"scatter\", x=\"Lat\", y=\"Max Temp\",\n",
    "                                       title=\"Northern Hemisphere - Max Temp vs. Latitude Linear Regression (2/9/2022)\")\n",
    "# line of best fit\n",
    "n_temp_axes.plot(x, y, 'r')\n",
    "\n",
    "plt.xlabel(\"Latitude\")\n",
    "plt.ylabel(\"Max Temperture (F)\")\n",
    "\n",
    "# print \n",
    "print(\"Line of Best-Fit for linear regression is y={:.2f}x+{:.2f}\"\n",
    "      .format(n_temp_slope, n_temp_intercept))\n",
    "print(\"The r-squared correlation coefficient is {:.2f}\".format(n_temp_r_val))\n",
    "\n",
    "# save figure as png\n",
    "n_temp_axes.get_figure().savefig(\"../Images/Fig5_N.png\")"
   ]
  },
  {
   "cell_type": "markdown",
   "metadata": {},
   "source": [
    "#### Northern Hemisphere - Max Temp vs. Latitude Linear Regression Analysis\n",
    "\n",
    "According to the linear regression of maximum temperature vs latitude for the cities in the northern hemisphere, there is a strong negative correlation. The farther away a city's geolocation is to the equator the colder the climate conditions.  "
   ]
  },
  {
   "cell_type": "markdown",
   "metadata": {},
   "source": [
    "####  Southern Hemisphere - Max Temp vs. Latitude Linear Regression"
   ]
  },
  {
   "cell_type": "code",
   "execution_count": 22,
   "metadata": {},
   "outputs": [
    {
     "name": "stdout",
     "output_type": "stream",
     "text": [
      "Equation for best-fit linear regression line is y=0.27x+80.45\n",
      "r-squared correlation coefficient is 0.43\n"
     ]
    },
    {
     "data": {
      "image/png": "[encoded data removed]",
      "text/plain": [
       "<Figure size 432x288 with 1 Axes>"
      ]
     },
     "metadata": {
      "needs_background": "light"
     },
     "output_type": "display_data"
    }
   ],
   "source": [
    "s_temp_axes = makeLinRegression(southern_hemisphere, \"Lat\", \"Max Temp\")\n",
    "plt.title(\"Southern Hemisphere - Max Temp vs. Latitude Linear Regression (2/9/2022)\")\n",
    "plt.xlabel(\"Latitude\")\n",
    "plt.ylabel(\"Max Temperture (F)\")\n",
    "# save figure as png\n",
    "s_temp_axes.get_figure().savefig(\"../Images/Fig6_S.png\")"
   ]
  },
  {
   "cell_type": "markdown",
   "metadata": {},
   "source": [
    "#### Southern Hemisphere - Max Temp vs. Latitude Linear Regression Analysis\n",
    "\n",
    "The above linear regression shows a positive relationship between geolocation of cities in the southern hemisphere relative to the equator and their cooresopnding climate conditions. The cities closer to the equator enjoy warmer climate conditions and therefore higher maximum temperatures. "
   ]
  },
  {
   "cell_type": "markdown",
   "metadata": {},
   "source": [
    "####  Northern Hemisphere - Humidity (%) vs. Latitude Linear Regression"
   ]
  },
  {
   "cell_type": "code",
   "execution_count": 23,
   "metadata": {},
   "outputs": [
    {
     "name": "stdout",
     "output_type": "stream",
     "text": [
      "Equation for best-fit linear regression line is y=0.39x+57.46\n",
      "r-squared correlation coefficient is 0.34\n"
     ]
    },
    {
     "data": {
      "image/png": "[encoded data removed]",
      "text/plain": [
       "<Figure size 432x288 with 1 Axes>"
      ]
     },
     "metadata": {
      "needs_background": "light"
     },
     "output_type": "display_data"
    }
   ],
   "source": [
    "# Northern Hemisphere - Humidity (%) vs. Latitude Linear Regression\n",
    "n_humidity_lat_axes = makeLinRegression(northern_hemisphere, \"Lat\", \"Humidity\")\n",
    "plt.title(\"Northern Hemisphere - Humidity (%) vs. Latitude Linear Regression (2/9/2022)\")\n",
    "plt.xlabel(\"Latitude\")\n",
    "plt.ylabel(\"Humidity (%)\")\n",
    "# save figure as png\n",
    "n_humidity_lat_axes.get_figure().savefig(\"../Images/Fig7_N.png\")"
   ]
  },
  {
   "cell_type": "markdown",
   "metadata": {},
   "source": [
    "#### Northern Hemisphere - Humidity (%) vs. Latitude Linear Regression Analysis \n",
    "Dispite the somewhat positive correlation coefficient for the linear regression of Humidity (%) vs. Latitude for cities in the northern hemisphere, the outliers throughout makes the results for this particular dataset skewed. There should not be any noticable correlation between humidity for cities in respect to their geolocation from the equator. "
   ]
  },
  {
   "cell_type": "markdown",
   "metadata": {},
   "source": [
    "####  Southern Hemisphere - Humidity (%) vs. Latitude Linear Regression"
   ]
  },
  {
   "cell_type": "code",
   "execution_count": 24,
   "metadata": {},
   "outputs": [
    {
     "name": "stdout",
     "output_type": "stream",
     "text": [
      "Equation for best-fit linear regression line is y=0.49x+84.42\n",
      "r-squared correlation coefficient is 0.35\n"
     ]
    },
    {
     "data": {
      "image/png": "[encoded data removed]",
      "text/plain": [
       "<Figure size 432x288 with 1 Axes>"
      ]
     },
     "metadata": {
      "needs_background": "light"
     },
     "output_type": "display_data"
    }
   ],
   "source": [
    "# Southern Hemisphere - Humidity (%) vs. Latitude Linear Regression\n",
    "s_humidity_lat_axes = makeLinRegression(southern_hemisphere, \"Lat\", \"Humidity\")\n",
    "plt.title(\"Southern Hemisphere - Humidity (%) vs. Latitude Linear Regression (2/9/2022)\")\n",
    "plt.xlabel(\"Latitude\")\n",
    "plt.ylabel(\"Humidity (%)\")\n",
    "# save figure as png\n",
    "s_humidity_lat_axes.get_figure().savefig(\"../Images/Fig8_S.png\")"
   ]
  },
  {
   "cell_type": "markdown",
   "metadata": {},
   "source": [
    "#### Southern Hemisphere - Humidity (%) vs. Latitude Linear Regression Analysis \n",
    "Likewise there should be little to no assoication between humidity and geolocation for cities in the southern hemisphere. "
   ]
  },
  {
   "cell_type": "markdown",
   "metadata": {},
   "source": [
    "####  Northern Hemisphere - Cloudiness (%) vs. Latitude Linear Regression"
   ]
  },
  {
   "cell_type": "code",
   "execution_count": 25,
   "metadata": {},
   "outputs": [
    {
     "name": "stdout",
     "output_type": "stream",
     "text": [
      "Equation for best-fit linear regression line is y=0.44x+41.60\n",
      "r-squared correlation coefficient is 0.22\n"
     ]
    },
    {
     "data": {
      "image/png": "[encoded data removed]",
      "text/plain": [
       "<Figure size 432x288 with 1 Axes>"
      ]
     },
     "metadata": {
      "needs_background": "light"
     },
     "output_type": "display_data"
    }
   ],
   "source": [
    "# Northern Hemisphere - Cloudiness (%) vs. Latitude Linear Regression\n",
    "n_cloudiness_lat_axes = makeLinRegression(northern_hemisphere, \"Lat\", \"Cloudiness\")\n",
    "plt.title(\"Northern Hemisphere - Cloudiness (%) vs. Latitude Linear Regression (2/9/2022)\")\n",
    "plt.xlabel(\"Latitude\")\n",
    "plt.ylabel(\"Cloudiness\")\n",
    "# save figure as png\n",
    "n_cloudiness_lat_axes.get_figure().savefig(\"../Images/Fig9_N.png\")"
   ]
  },
  {
   "cell_type": "markdown",
   "metadata": {},
   "source": [
    "#### Northern Hemisphere - Cloudiness (%) vs. Latitude Linear Regression Analysis\n",
    "\n",
    "Judging from the overall data spread, there should be little to no correlation between cloud coverage and geolocation for cities in the northern hemisphere. "
   ]
  },
  {
   "cell_type": "markdown",
   "metadata": {},
   "source": [
    "####  Southern Hemisphere - Cloudiness (%) vs. Latitude Linear Regression"
   ]
  },
  {
   "cell_type": "code",
   "execution_count": 26,
   "metadata": {},
   "outputs": [
    {
     "name": "stdout",
     "output_type": "stream",
     "text": [
      "Equation for best-fit linear regression line is y=0.90x+71.31\n",
      "r-squared correlation coefficient is 0.32\n"
     ]
    },
    {
     "data": {
      "image/png": "[encoded data removed]",
      "text/plain": [
       "<Figure size 432x288 with 1 Axes>"
      ]
     },
     "metadata": {
      "needs_background": "light"
     },
     "output_type": "display_data"
    }
   ],
   "source": [
    "# Southern Hemisphere - Cloudiness (%) vs. Latitude Linear Regression\n",
    "s_cloudiness_lat_axes = makeLinRegression(southern_hemisphere, \"Lat\", \"Cloudiness\")\n",
    "plt.title(\"Southern Hemisphere - Cloudiness (%) vs. Latitude Linear Regression (2/9/2022)\")\n",
    "plt.xlabel(\"Latitude\")\n",
    "plt.ylabel(\"Cloudiness\")\n",
    "# save figure as png\n",
    "s_cloudiness_lat_axes.get_figure().savefig(\"../Images/Fig10_S.png\")"
   ]
  },
  {
   "cell_type": "markdown",
   "metadata": {},
   "source": [
    "#### Southern Hemisphere - Cloudiness (%) vs. Latitude Linear Regression Analysis\n",
    "\n",
    "Similarly, there should also be little to no correlation between cloud coverage and geolocation for cities in the southern hemisphere. "
   ]
  },
  {
   "cell_type": "markdown",
   "metadata": {},
   "source": [
    "####  Northern Hemisphere - Wind Speed (mph) vs. Latitude Linear Regression"
   ]
  },
  {
   "cell_type": "code",
   "execution_count": 27,
   "metadata": {},
   "outputs": [
    {
     "name": "stdout",
     "output_type": "stream",
     "text": [
      "Equation for best-fit linear regression line is y=0.03x+7.04\n",
      "r-squared correlation coefficient is 0.12\n"
     ]
    },
    {
     "data": {
      "image/png": "[encoded data removed]",
      "text/plain": [
       "<Figure size 432x288 with 1 Axes>"
      ]
     },
     "metadata": {
      "needs_background": "light"
     },
     "output_type": "display_data"
    }
   ],
   "source": [
    "# Northern Hemisphere - Wind Speed (mph) vs. Latitude Linear Regression\n",
    "n_wind_lat_axes = makeLinRegression(northern_hemisphere, \"Lat\", \"Wind Speed\")\n",
    "plt.title(\"Northern Hemisphere - Wind Speed (mph) vs. Latitude Linear Regression (2/9/2022)\")\n",
    "plt.xlabel(\"Latitude\")\n",
    "plt.ylabel(\"Wind Speed\")\n",
    "# save figure as png\n",
    "n_wind_lat_axes.get_figure().savefig(\"../Images/Fig11_N.png\")"
   ]
  },
  {
   "cell_type": "markdown",
   "metadata": {},
   "source": [
    "According to the the correlation coefficient for the linear regression for Wind Speed (mph) vs. Latitude, there should be almost no or slightly weak positive correlation between wind speed and geolocation away from the equator. This data could be skewed by the outliers for a few very windy northern cities. "
   ]
  },
  {
   "cell_type": "markdown",
   "metadata": {},
   "source": [
    "####  Southern Hemisphere - Wind Speed (mph) vs. Latitude Linear Regression"
   ]
  },
  {
   "cell_type": "code",
   "execution_count": 28,
   "metadata": {},
   "outputs": [
    {
     "name": "stdout",
     "output_type": "stream",
     "text": [
      "Equation for best-fit linear regression line is y=-0.11x+5.26\n",
      "r-squared correlation coefficient is -0.23\n"
     ]
    },
    {
     "data": {
      "image/png": "[encoded data removed]",
      "text/plain": [
       "<Figure size 432x288 with 1 Axes>"
      ]
     },
     "metadata": {
      "needs_background": "light"
     },
     "output_type": "display_data"
    }
   ],
   "source": [
    "# Southern Hemisphere - Wind Speed (mph) vs. Latitude Linear Regression\n",
    "s_wind_lat_axes = makeLinRegression(southern_hemisphere, \"Lat\", \"Wind Speed\")\n",
    "plt.title(\"Southern Hemisphere - Wind Speed (mph) vs. Latitude Linear Regression (2/9/2022)\")\n",
    "plt.xlabel(\"Latitude\")\n",
    "plt.ylabel(\"Wind Speed\")\n",
    "# save figure as png\n",
    "s_wind_lat_axes.get_figure().savefig(\"../Images/Fig12_S.png\")"
   ]
  },
  {
   "cell_type": "markdown",
   "metadata": {},
   "source": [
    "#### Southern Hemisphere - Wind Speed (mph) vs. Latitude Linear Regression Analysis\n",
    "\n",
    "Reasonably should also not be any association between wind speed and geolocation away from the equator for cities in the southern hemisphere.  "
   ]
  },
  {
   "cell_type": "code",
   "execution_count": null,
   "metadata": {},
   "outputs": [],
   "source": []
  }
 ],
 "metadata": {
  "anaconda-cloud": {},
  "kernel_info": {
   "name": "python3"
  },
  "kernelspec": {
   "display_name": "Python 3 (ipykernel)",
   "language": "python",
   "name": "python3"
  },
  "language_info": {
   "codemirror_mode": {
    "name": "ipython",
    "version": 3
   },
   "file_extension": ".py",
   "mimetype": "text/x-python",
   "name": "python",
   "nbconvert_exporter": "python",
   "pygments_lexer": "ipython3",
   "version": "3.9.7"
  },
  "latex_envs": {
   "LaTeX_envs_menu_present": true,
   "autoclose": false,
   "autocomplete": true,
   "bibliofile": "biblio.bib",
   "cite_by": "apalike",
   "current_citInitial": 1,
   "eqLabelWithNumbers": true,
   "eqNumInitial": 1,
   "hotkeys": {
    "equation": "Ctrl-E",
    "itemize": "Ctrl-I"
   },
   "labels_anchors": false,
   "latex_user_defs": false,
   "report_style_numbering": false,
   "user_envs_cfg": false
  },
  "nteract": {
   "version": "0.12.3"
  }
 },
 "nbformat": 4,
 "nbformat_minor": 2
}
