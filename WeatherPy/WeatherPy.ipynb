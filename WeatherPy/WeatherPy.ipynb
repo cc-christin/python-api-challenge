{
 "cells": [
  {
   "cell_type": "markdown",
   "metadata": {},
   "source": [
    "# WeatherPy\n"
   ]
  },
  {
   "cell_type": "code",
   "execution_count": 1,
   "metadata": {
    "scrolled": true
   },
   "outputs": [],
   "source": [
    "# Dependencies and Setup\n",
    "import matplotlib.pyplot as plt\n",
    "import pandas as pd\n",
    "import numpy as np\n",
    "import requests\n",
    "import time\n",
    "from scipy.stats import linregress\n",
    "from ratelimit import limits\n",
    "import time\n",
    "import json\n",
    "import seaborn as sns\n",
    "import logging\n",
    "from datetime import date\n",
    "\n",
    "# Import API key\n",
    "from api_keys import weather_api_key\n",
    "\n",
    "# Incorporated citipy to determine city based on latitude and longitude\n",
    "from citipy import citipy\n",
    "\n",
    "# Output File (CSV)\n",
    "output_data_file = \"output_data/cities.csv\"\n",
    "\n",
    "# Range of latitudes and longitudes\n",
    "lat_range = (-90, 90)\n",
    "lng_range = (-180, 180)"
   ]
  },
  {
   "cell_type": "markdown",
   "metadata": {},
   "source": [
    "## Generate Cities List"
   ]
  },
  {
   "cell_type": "code",
   "execution_count": 2,
   "metadata": {},
   "outputs": [
    {
     "data": {
      "text/plain": [
       "617"
      ]
     },
     "execution_count": 2,
     "metadata": {},
     "output_type": "execute_result"
    }
   ],
   "source": [
    "# List for holding lat_lngs and cities\n",
    "lat_lngs = []\n",
    "cities = []\n",
    "\n",
    "# Create a set of random lat and lng combinations\n",
    "lats = np.random.uniform(lat_range[0], lat_range[1], size=1500)\n",
    "lngs = np.random.uniform(lng_range[0], lng_range[1], size=1500)\n",
    "lat_lngs = zip(lats, lngs)\n",
    "\n",
    "# Identify nearest city for each lat, lng combination\n",
    "for lat_lng in lat_lngs:\n",
    "    city = citipy.nearest_city(lat_lng[0], lat_lng[1]).city_name\n",
    "    \n",
    "    # If the city is unique, then add it to a our cities list\n",
    "    if city not in cities:\n",
    "        cities.append(city)\n",
    "\n",
    "# Print the city count to confirm sufficient count\n",
    "len(cities)"
   ]
  },
  {
   "cell_type": "markdown",
   "metadata": {},
   "source": [
    "### Perform API Calls\n",
    "* Perform a weather check on each city using a series of successive API calls.\n",
    "* Include a print log of each city as it'sbeing processed (with the city number and city name).\n",
    "\n",
    "> **HINT:** The OpenWeatherMap API only allows 60 calls per minute under their free plan. Try using `time.sleep(60)` after each set of 50 cities to avoid API errors due to large calls."
   ]
  },
  {
   "cell_type": "code",
   "execution_count": 3,
   "metadata": {
    "scrolled": true
   },
   "outputs": [
    {
     "name": "stdout",
     "output_type": "stream",
     "text": [
      "{'cod': '400', 'message': 'Nothing to geocode'}\n",
      "Processing city 0: Airai\n",
      "Processing city 1: Viedma\n",
      "Processing city 2: Port Alfred\n",
      "Processing city 3: Cayenne\n",
      "Processing city 4: Opuwo\n",
      "Processing city 5: Punta Arenas\n",
      "Processing city 6: Ushuaia\n",
      "Processing city 7: Yenagoa\n",
      "Processing city 8: Norman Wells\n",
      "Processing city 9: New Norfolk\n",
      "Processing city 10: Ekangala\n",
      "Processing city 11: Makkah al Mukarramah\n",
      "Processing city 12: Ribeira Grande\n",
      "Processing city 13: Bluff\n",
      "Processing city 14: Saint Paul Harbor\n",
      "Processing city 15: Severo-Kuril'sk\n",
      "Processing city 16: Carnarvon\n",
      "Processing city 17: Rikitea\n",
      "Incomplete..., skip over missing city info.\n",
      "Incomplete..., skip over missing city info.\n",
      "Processing city 20: Busselton\n",
      "Processing city 21: George Town\n",
      "Processing city 22: Aracati\n",
      "Incomplete..., skip over missing city info.\n",
      "Processing city 24: Anadyr\n",
      "Processing city 25: Itarema\n",
      "Processing city 26: Barrow\n",
      "Processing city 27: Tasiilaq\n",
      "Processing city 28: Rawson\n",
      "Processing city 29: Aklavik\n",
      "Processing city 30: Cherskiy\n",
      "Processing city 31: Longyearbyen\n",
      "Processing city 32: Skjervøy\n",
      "Processing city 33: Mataura\n",
      "Processing city 34: Phalaborwa\n",
      "Processing city 35: Hilo\n",
      "Processing city 36: Hermanus\n",
      "Incomplete..., skip over missing city info.\n",
      "Processing city 38: Rome\n",
      "Processing city 39: Vaini\n",
      "Processing city 40: Clyde River\n",
      "Processing city 41: Ust'-Barguzin\n",
      "Processing city 42: Mar del Plata\n",
      "Processing city 43: Dingle\n",
      "Processing city 44: Avarua\n",
      "Processing city 45: Sabang\n",
      "Processing city 46: Chokurdakh\n",
      "Processing city 47: Upernavik\n",
      "Processing city 48: Isangel\n",
      "Processing city 49: Baykit\n",
      "Processing city 50: Uthal\n",
      "Processing city 51: Yellowknife\n",
      "Processing city 52: Butaritari\n",
      "Processing city 53: Storozhevaya\n",
      "Incomplete..., skip over missing city info.\n",
      "Processing city 55: Hauterive\n",
      "Processing city 56: Tocopilla\n",
      "Processing city 57: Moyale\n",
      "Processing city 58: Yangi Marg`ilon\n",
      "Processing city 59: Albany\n",
      "Processing city 60: Port Lincoln\n",
      "Processing city 61: Saldanha\n",
      "Processing city 62: Puerto Ayora\n",
      "Processing city 63: Sandy Bay\n",
      "Processing city 64: Lompoc\n",
      "Incomplete..., skip over missing city info.\n",
      "Processing city 66: Kapaa\n",
      "Processing city 67: Lüderitz\n",
      "Processing city 68: Kahului\n",
      "Processing city 69: Talnakh\n",
      "Processing city 70: Hobart\n",
      "Processing city 71: Richards Bay\n",
      "Processing city 72: Touros\n",
      "Processing city 73: Tiznit Province\n",
      "Processing city 74: Jamestown\n",
      "Processing city 75: Sioux Lookout\n",
      "Processing city 76: Alofi\n",
      "Processing city 77: Sangar\n",
      "Incomplete..., skip over missing city info.\n",
      "Processing city 79: Atuona\n",
      "Processing city 80: Te Anau\n",
      "Processing city 81: Saint-François\n",
      "Processing city 82: Chui\n",
      "Processing city 83: Bengkulu\n",
      "Processing city 84: Innisfail\n",
      "Incomplete..., skip over missing city info.\n",
      "Processing city 86: Staryy Nadym\n",
      "Processing city 87: Birjand\n",
      "Processing city 88: Warrnambool\n",
      "Processing city 89: Suixi\n",
      "Processing city 90: Nucet\n",
      "Processing city 91: Saint George\n",
      "Processing city 92: Xining\n",
      "Processing city 93: São Félix do Xingu\n",
      "Processing city 94: Cape Town\n",
      "Processing city 95: Wellington\n",
      "Processing city 96: Hasaki\n",
      "Processing city 97: Tiksi\n",
      "Processing city 98: Bredasdorp\n",
      "Processing city 99: Mossamedes\n",
      "Processing city 100: Coihueco\n",
      "Processing city 101: Trat\n",
      "Processing city 102: Havøysund\n",
      "Processing city 103: Dikson\n",
      "Processing city 104: Vao\n",
      "Processing city 105: Carutapera\n",
      "Processing city 106: Suez\n",
      "Processing city 107: Vila Velha\n",
      "Processing city 108: San Patricio\n",
      "Processing city 109: Lincoln\n",
      "Processing city 110: East London\n",
      "Processing city 111: Kaitangata\n",
      "Processing city 112: Umm Hājar\n",
      "Processing city 113: Treinta y Tres\n",
      "Processing city 114: Christchurch\n",
      "Processing city 115: San Quintín\n",
      "Processing city 116: Waipawa\n",
      "Processing city 117: Dongsheng\n",
      "Processing city 118: Aranos\n",
      "Processing city 119: Nikolskoye\n",
      "Processing city 120: Bilma\n",
      "Processing city 121: Bokoro\n",
      "Processing city 122: Ilulissat\n",
      "Processing city 123: Pakdasht\n",
      "Processing city 124: Provideniya\n",
      "Processing city 125: Los Llanos de Aridane\n",
      "Processing city 126: Constitución\n",
      "Processing city 127: Bodītī\n",
      "Processing city 128: Sampit\n",
      "Processing city 129: Bayir\n",
      "Processing city 130: Kupang\n",
      "Processing city 131: Beringovskiy\n",
      "Processing city 132: Vostok\n",
      "Incomplete..., skip over missing city info.\n",
      "Processing city 134: Lakes Entrance\n",
      "Processing city 135: Grevesmühlen\n",
      "Processing city 136: Province of Mantua\n",
      "Processing city 137: Key Largo\n",
      "Processing city 138: Nago\n",
      "Processing city 139: Burnie\n",
      "Processing city 140: La Ronge\n",
      "Processing city 141: Kaeo\n",
      "Processing city 142: Cidreira\n",
      "Processing city 143: Fortuna\n",
      "Processing city 144: Hofn\n",
      "Processing city 145: Grand-Santi\n",
      "Processing city 146: Wattegama\n",
      "Processing city 147: Pangkalanbuun\n",
      "Processing city 148: Shimoda\n",
      "Processing city 149: Cairns\n",
      "Processing city 150: Inhambane\n",
      "Processing city 151: Ahipara\n",
      "Processing city 152: Arlit\n",
      "Processing city 153: Tuktoyaktuk\n",
      "Processing city 154: Mahébourg\n",
      "Incomplete..., skip over missing city info.\n",
      "Processing city 156: Mogok\n",
      "Processing city 157: Torbay\n",
      "Processing city 158: Cockburn Town\n",
      "Processing city 159: Tapes\n",
      "Processing city 160: Bethel\n",
      "Processing city 161: George Town\n",
      "Processing city 162: Pimentel\n",
      "Processing city 163: Pevek\n",
      "Processing city 164: Saint-Philippe\n",
      "Processing city 165: Esperance\n",
      "Processing city 166: Fatehpur\n",
      "Processing city 167: Lebu\n",
      "Processing city 168: Natal\n",
      "Processing city 169: Saint-Pierre\n",
      "Processing city 170: Huangnihe\n",
      "Processing city 171: Kirakira\n",
      "Processing city 172: Lorengau\n",
      "Processing city 173: Dakoro\n",
      "Processing city 174: Asău\n",
      "Incomplete..., skip over missing city info.\n",
      "Processing city 176: Pūnāhāna\n",
      "Processing city 177: Ruidoso\n",
      "Processing city 178: Hong Kong\n",
      "Processing city 179: Yaremche\n",
      "Processing city 180: Ogaminana\n",
      "Processing city 181: Acarí\n",
      "Processing city 182: Peace River\n",
      "Processing city 183: Ancud\n",
      "Incomplete..., skip over missing city info.\n",
      "Processing city 185: Oktyabr'skoye\n",
      "Incomplete..., skip over missing city info.\n",
      "Processing city 187: Adrar\n",
      "Processing city 188: Yokadouma\n",
      "Processing city 189: Chimbote\n",
      "Processing city 190: Wakkanai\n",
      "Processing city 191: Ambon City\n",
      "Processing city 192: Khandyga\n",
      "Processing city 193: Tallahassee\n",
      "Incomplete..., skip over missing city info.\n",
      "Processing city 195: Fizeşu Gherlii\n",
      "Processing city 196: Coquimbo\n",
      "Incomplete..., skip over missing city info.\n",
      "Processing city 198: Thompson\n",
      "Processing city 199: Armizonskoye\n",
      "Processing city 200: Nyurba\n",
      "Processing city 201: Katangli\n",
      "Incomplete..., skip over missing city info.\n",
      "Processing city 203: Merauke\n",
      "Processing city 204: Santa Rosa\n",
      "Processing city 205: Escárcega\n",
      "Processing city 206: Castro\n",
      "Processing city 207: Lithgow\n",
      "Incomplete..., skip over missing city info.\n",
      "Processing city 209: Bumba\n",
      "Processing city 210: Hualmay\n",
      "Processing city 211: Ürümqi\n",
      "Processing city 212: Zeya\n",
      "Processing city 213: Arraial do Cabo\n",
      "Processing city 214: Agadez\n",
      "Processing city 215: Flin Flon\n",
      "Processing city 216: Olafsvik\n",
      "Processing city 217: Rāichūr\n",
      "Processing city 218: Ponta do Sol\n",
      "Processing city 219: Tshela\n",
      "Processing city 220: Pangnirtung\n",
      "Processing city 221: Nichinan\n",
      "Processing city 222: Myrtle Grove\n",
      "Processing city 223: San Jose\n",
      "Processing city 224: Worthington\n",
      "Processing city 225: Kavieng\n",
      "Processing city 226: Kashan\n",
      "Processing city 227: Tigil'\n",
      "Processing city 228: Quatre Cocos\n",
      "Processing city 229: São José da Coroa Grande\n",
      "Processing city 230: Jumla\n",
      "Processing city 231: Garden City\n",
      "Processing city 232: Pacifica\n",
      "Processing city 233: Harsīn\n",
      "Processing city 234: Nieuw Nickerie\n",
      "Processing city 235: Antofagasta\n",
      "Processing city 236: Stange\n",
      "Processing city 237: Penzance\n",
      "Processing city 238: Lata\n",
      "Processing city 239: Arak\n",
      "Processing city 240: Kaura Namoda\n",
      "Processing city 241: Carballo\n",
      "Processing city 242: Hithadhoo\n",
      "Processing city 243: Pisco\n",
      "Processing city 244: Arrondissement de Lons-le-Saunier\n",
      "Processing city 245: Port Elizabeth\n",
      "Processing city 246: La Santisima Trinidad\n",
      "Processing city 247: Benghazi\n",
      "Incomplete..., skip over missing city info.\n",
      "Processing city 249: Alice Springs\n",
      "Processing city 250: Borovoy\n",
      "Processing city 251: Lagdo\n",
      "Processing city 252: Bambous Virieux\n",
      "Processing city 253: San Cristobal\n",
      "Processing city 254: Talcahuano\n",
      "Processing city 255: Yar-Sale\n",
      "Processing city 256: Ixtapa\n",
      "Processing city 257: Sitka\n",
      "Processing city 258: Saint-Joseph\n",
      "Processing city 259: Ubari\n",
      "Processing city 260: Auki\n"
     ]
    },
    {
     "name": "stdout",
     "output_type": "stream",
     "text": [
      "Processing city 261: Batagay\n",
      "Processing city 262: Chumphon\n",
      "Processing city 263: Ostrovnoy\n",
      "Processing city 264: Poya\n",
      "Incomplete..., skip over missing city info.\n",
      "Processing city 266: Poum\n",
      "Processing city 267: Gandajika\n",
      "Processing city 268: Faanui\n",
      "Processing city 269: Buraidah\n",
      "Processing city 270: Nelson Bay\n",
      "Processing city 271: Paso de los Toros\n",
      "Processing city 272: Alyangula\n",
      "Processing city 273: Naze\n",
      "Processing city 274: Beidao\n",
      "Processing city 275: Soke\n",
      "Processing city 276: St. George's\n",
      "Processing city 277: Yumen\n",
      "Processing city 278: Lang Son\n",
      "Processing city 279: Soyo\n",
      "Processing city 280: Cilegon\n",
      "Processing city 281: Mirebalais\n",
      "Incomplete..., skip over missing city info.\n",
      "Incomplete..., skip over missing city info.\n",
      "Processing city 284: Mayumba\n",
      "Processing city 285: Canby\n",
      "Processing city 286: Leningradskiy\n",
      "Processing city 287: Flinders\n",
      "Processing city 288: Talavera de la Reina\n",
      "Processing city 289: Conceição da Barra\n",
      "Processing city 290: Buckeye\n",
      "Processing city 291: Brezovo\n",
      "Processing city 292: Yatou\n",
      "Processing city 293: Londiani\n",
      "Processing city 294: Samarai\n",
      "Processing city 295: Caravelas\n",
      "Processing city 296: Seoul\n",
      "Processing city 297: São João da Barra\n",
      "Processing city 298: Vanderhoof\n",
      "Processing city 299: Kumul\n",
      "Processing city 300: Mergen\n",
      "Processing city 301: Port Hedland\n",
      "Processing city 302: Kindu\n",
      "Processing city 303: San Vicente\n",
      "Processing city 304: Cerro Largo\n",
      "Processing city 305: Tubualá\n",
      "Processing city 306: Santa Cruz de la Sierra\n",
      "Processing city 307: Hambantota\n",
      "Incomplete..., skip over missing city info.\n",
      "Processing city 309: Puksoozero\n",
      "Processing city 310: Arrondissement de Clermont\n",
      "Processing city 311: Nishihara\n",
      "Processing city 312: Wanaka\n",
      "Incomplete..., skip over missing city info.\n",
      "Processing city 314: Redmond\n",
      "Processing city 315: Al Bardīyah\n",
      "Processing city 316: Palmer\n",
      "Processing city 317: Grindavik\n",
      "Processing city 318: Portland\n",
      "Processing city 319: Roebourne\n",
      "Processing city 320: Codrington\n",
      "Processing city 321: Kiryat Gat\n",
      "Processing city 322: Port Blair\n",
      "Processing city 323: Katsuura\n",
      "Processing city 324: Tilichiki\n",
      "Processing city 325: Qaanaaq\n",
      "Processing city 326: Marawi\n",
      "Processing city 327: Honiara\n",
      "Processing city 328: Arman'\n",
      "Processing city 329: Linhares\n",
      "Processing city 330: Mimongo\n",
      "Processing city 331: Sühbaatar\n",
      "Processing city 332: Kitgum\n",
      "Processing city 333: Souillac\n",
      "Processing city 334: Maningrida\n",
      "Processing city 335: Biabou\n",
      "Processing city 336: Avera\n",
      "Processing city 337: Krasnosel'kup\n",
      "Processing city 338: Boffa\n",
      "Processing city 339: Nouadhibou\n",
      "Processing city 340: Kefamenanu\n",
      "Processing city 341: Camacha\n",
      "Processing city 342: Visnes\n",
      "Processing city 343: Cabo San Lucas\n",
      "Processing city 344: Saskylakh\n",
      "Processing city 345: Ngunguru\n",
      "Processing city 346: Berlevåg\n",
      "Processing city 347: Port-Cartier\n",
      "Processing city 348: Oyem\n",
      "Processing city 349: Tosya\n",
      "Processing city 350: Tornio\n",
      "Processing city 351: Gainesville\n",
      "Processing city 352: Cumberland\n",
      "Processing city 353: Pizarro\n",
      "Processing city 354: Bundaberg\n",
      "Processing city 355: Makat\n",
      "Processing city 356: Vila Franca do Campo\n",
      "Processing city 357: Yunyang\n",
      "Processing city 358: Port Hardy\n",
      "Processing city 359: Khatanga\n",
      "Processing city 360: Mersing\n",
      "Processing city 361: Ziro\n",
      "Incomplete..., skip over missing city info.\n",
      "Processing city 363: Raudeberg\n",
      "Processing city 364: Rocha\n",
      "Processing city 365: Kushiro\n",
      "Processing city 366: Haines Junction\n",
      "Processing city 367: Mabaruma\n",
      "Processing city 368: Sosnovskoye\n",
      "Processing city 369: Fershampenuaz\n",
      "Processing city 370: Sola\n",
      "Processing city 371: Laguna\n",
      "Processing city 372: Tiarei\n",
      "Processing city 373: Karla\n",
      "Processing city 374: Port Keats\n",
      "Processing city 375: Puqi\n",
      "Processing city 376: Atambua\n",
      "Processing city 377: Port Moresby\n",
      "Processing city 378: Neya\n",
      "Processing city 379: Mopipi\n",
      "Processing city 380: Along\n",
      "Processing city 381: Lufilufi\n",
      "Incomplete..., skip over missing city info.\n",
      "Processing city 383: Guerrero Negro\n",
      "Processing city 384: Ronneby\n",
      "Processing city 385: Lavrentiya\n",
      "Processing city 386: Belaya Gora\n",
      "Processing city 387: Fenoarivo\n",
      "Processing city 388: Nordborg\n",
      "Processing city 389: Botwood\n",
      "Processing city 390: Goiás\n",
      "Processing city 391: Medininagar\n",
      "Processing city 392: Jacqueville\n",
      "Processing city 393: Marfino\n",
      "Processing city 394: Bambanglipuro\n",
      "Processing city 395: Ust-Nera\n",
      "Processing city 396: Barcelos\n",
      "Processing city 397: San Policarpo\n",
      "Processing city 398: Abū Zabad\n",
      "Processing city 399: Nanortalik\n",
      "Processing city 400: Laramie\n",
      "Incomplete..., skip over missing city info.\n",
      "Processing city 402: Qian’an\n",
      "Processing city 403: Gemeente Wageningen\n",
      "Processing city 404: Shakawe\n",
      "Processing city 405: Okhotsk\n",
      "Processing city 406: College Place\n",
      "Processing city 407: Muros\n",
      "Incomplete..., skip over missing city info.\n",
      "Processing city 409: Deputatsky\n",
      "Processing city 410: Varhaug\n",
      "Processing city 411: Mandera\n",
      "Processing city 412: Aitape\n",
      "Processing city 413: Basco\n",
      "Processing city 414: Roald\n",
      "Processing city 415: Pakse\n",
      "Processing city 416: Iwaki\n",
      "Processing city 417: Tuatapere\n",
      "Processing city 418: Songkhla\n",
      "Processing city 419: Walvis Bay\n",
      "Processing city 420: Sechura\n",
      "Processing city 421: Sakakah\n",
      "Processing city 422: Laas\n",
      "Processing city 423: Nhamundá\n",
      "Processing city 424: Sambava\n",
      "Processing city 425: Almenara\n",
      "Processing city 426: Kieta\n",
      "Processing city 427: Nazarovo\n",
      "Processing city 428: Ginda\n",
      "Processing city 429: Chhor\n",
      "Processing city 430: Arrondissement de Limoges\n",
      "Processing city 431: Sabaudia\n",
      "Processing city 432: Fergus Falls\n",
      "Processing city 433: São Miguel do Araguaia\n",
      "Processing city 434: Salalah\n",
      "Processing city 435: Alexandria\n",
      "Incomplete..., skip over missing city info.\n",
      "Processing city 437: Ambunti\n",
      "Processing city 438: Kuala Pilah\n",
      "Incomplete..., skip over missing city info.\n",
      "Processing city 440: Gizo Government Station\n",
      "Processing city 441: Kerrville\n",
      "Processing city 442: Parlākimidi\n",
      "Processing city 443: Amapá\n",
      "Processing city 444: Aku\n",
      "Processing city 445: São Filipe\n",
      "Processing city 446: Conceição do Araguaia\n",
      "Processing city 447: Morro Bay\n",
      "Processing city 448: Katobu\n",
      "Processing city 449: Chabahar\n",
      "Processing city 450: De Aar\n",
      "Processing city 451: Sovetskiy\n",
      "Processing city 452: Soe\n",
      "Processing city 453: Klaksvík\n",
      "Processing city 454: Srednekolymsk\n",
      "Processing city 455: Shizukuishi\n",
      "Processing city 456: Semey\n",
      "Processing city 457: Velizh\n",
      "Processing city 458: Necochea\n",
      "Processing city 459: Geraldton\n",
      "Processing city 460: Tsumeb\n",
      "Processing city 461: Jackson\n",
      "Processing city 462: Ligayan\n",
      "Processing city 463: Popondetta\n",
      "Incomplete..., skip over missing city info.\n",
      "Processing city 465: Maragogi\n",
      "Processing city 466: Guane\n",
      "Processing city 467: Alberton\n",
      "Processing city 468: Iquique\n",
      "Processing city 469: Eyl\n",
      "Processing city 470: Comodoro Rivadavia\n",
      "Processing city 471: Mocuba\n",
      "Processing city 472: Kununurra\n",
      "Processing city 473: Bellavista\n",
      "Processing city 474: Ciampea\n",
      "Processing city 475: Luxor\n",
      "Processing city 476: Lábrea\n",
      "Processing city 477: Lunenburg\n",
      "Processing city 478: Bilibino\n",
      "Processing city 479: Shangrao\n",
      "Processing city 480: Karratha\n",
      "Processing city 481: Nuevitas\n",
      "Processing city 482: Telč\n",
      "Processing city 483: Palmas\n",
      "Processing city 484: Japura\n",
      "Processing city 485: Graham\n",
      "Processing city 486: Lagoa\n",
      "Processing city 487: Ţahţā\n",
      "Incomplete..., skip over missing city info.\n",
      "Processing city 489: Kruisfontein\n",
      "Processing city 490: Gorontalo\n",
      "Processing city 491: Trairi\n",
      "Processing city 492: Oodweyne\n",
      "Incomplete..., skip over missing city info.\n",
      "Processing city 494: Ketchikan\n",
      "Processing city 495: Garissa\n",
      "Processing city 496: Kiryas Joel\n",
      "Processing city 497: Sur\n",
      "Processing city 498: Barra do Corda\n",
      "Processing city 499: Khor\n",
      "Processing city 500: Sibut\n",
      "Processing city 501: Esim\n",
      "Processing city 502: Polson\n",
      "Processing city 503: Beni Mazar\n",
      "Processing city 504: Ramsar\n",
      "Processing city 505: Bowen\n",
      "Processing city 506: North Platte\n",
      "Incomplete..., skip over missing city info.\n",
      "Processing city 508: Prince Albert\n",
      "Incomplete..., skip over missing city info.\n",
      "Processing city 510: Wangkui\n",
      "Processing city 511: Río Gallegos\n",
      "Processing city 512: Bull Savanna\n",
      "Processing city 513: Novovarshavka\n",
      "Processing city 514: Tyrma\n",
      "Incomplete..., skip over missing city info.\n",
      "Processing city 516: Den Helder\n",
      "Processing city 517: Dobryanka\n",
      "Processing city 518: The Pas\n",
      "Processing city 519: Atar\n",
      "Processing city 520: Zhigansk\n",
      "Processing city 521: Moses Lake\n",
      "Processing city 522: Camopi\n",
      "Processing city 523: Hamilton\n",
      "Incomplete..., skip over missing city info.\n"
     ]
    },
    {
     "name": "stdout",
     "output_type": "stream",
     "text": [
      "Processing city 525: Beira\n",
      "Processing city 526: Bonavista\n",
      "Processing city 527: Alenquer\n",
      "Processing city 528: Goderich\n",
      "Processing city 529: Birao\n",
      "Incomplete..., skip over missing city info.\n",
      "Processing city 531: Salinas\n",
      "Processing city 532: Toamasina\n",
      "Processing city 533: Koson\n",
      "Incomplete..., skip over missing city info.\n",
      "Processing city 535: Matagami\n",
      "Processing city 536: Ponta Delgada\n",
      "Processing city 537: Tual\n",
      "Processing city 538: Banda Aceh\n",
      "Processing city 539: Rabo de Peixe\n",
      "Processing city 540: Luís Correia\n",
      "Processing city 541: Prince Rupert\n",
      "Incomplete..., skip over missing city info.\n",
      "Processing city 543: Motygino\n",
      "Processing city 544: Bubaque\n",
      "Processing city 545: Bolshoy Lug\n",
      "Processing city 546: Huron\n",
      "Processing city 547: Gobabis\n",
      "Processing city 548: Barcarena\n",
      "Processing city 549: Cologne\n",
      "Processing city 550: Yerköy\n",
      "Processing city 551: Kibala\n",
      "Processing city 552: Champerico\n",
      "Processing city 553: Aiken\n",
      "Processing city 554: Vardø\n",
      "Processing city 555: Bathsheba\n",
      "Processing city 556: Valleyview\n",
      "Processing city 557: Dudinka\n",
      "Processing city 558: Harper\n",
      "Processing city 559: Lienz\n",
      "Processing city 560: Boueni\n",
      "Incomplete..., skip over missing city info.\n",
      "Processing city 562: Ulladulla\n",
      "Processing city 563: Krasnorechenskiy\n",
      "Processing city 564: Sibolga\n",
      "Processing city 565: Tabory\n",
      "Processing city 566: Ugoofaaru\n",
      "Processing city 567: Oistins\n",
      "Processing city 568: Henties Bay\n",
      "Processing city 569: North Bend\n",
      "Processing city 570: Wenling\n",
      "Processing city 571: Nuuk\n",
      "Processing city 572: Barrhead\n",
      "Processing city 573: Broome\n",
      "Processing city 574: Lovozero\n",
      "Processing city 575: Diego de Almagro\n",
      "Incomplete..., skip over missing city info.\n",
      "Processing city 577: Cururupu\n",
      "Processing city 578: Fare\n",
      "Processing city 579: Timmins\n",
      "Processing city 580: Mogadishu\n",
      "Processing city 581: Shirdi\n",
      "Incomplete..., skip over missing city info.\n",
      "Incomplete..., skip over missing city info.\n",
      "Processing city 584: Imbituba\n",
      "Processing city 585: Dunmore Town\n",
      "Processing city 586: Margate\n",
      "Processing city 587: Pathein\n",
      "Incomplete..., skip over missing city info.\n",
      "Processing city 589: Kampong Thom\n",
      "Processing city 590: Port Macquarie\n",
      "Processing city 591: Carauari\n",
      "Processing city 592: Sørland\n",
      "Processing city 593: Teterow\n",
      "Processing city 594: Hauge i Dalane\n",
      "Processing city 595: Suntar\n",
      "Processing city 596: Saint-Augustin\n",
      "Processing city 597: Independence\n",
      "Processing city 598: Tomatlán\n",
      "Processing city 599: Bălţi\n",
      "Processing city 600: Santa Catalina\n",
      "Processing city 601: Lasem\n",
      "Processing city 602: Praia da Vitória\n",
      "Processing city 603: Necaxa\n",
      "Processing city 604: Fernley\n",
      "Processing city 605: The Valley\n",
      "Processing city 606: Strezhevoy\n",
      "Processing city 607: Coracora\n",
      "Incomplete..., skip over missing city info.\n",
      "Processing city 609: Gwadar\n",
      "Processing city 610: Châteaudun\n",
      "Processing city 611: Waddān\n",
      "Processing city 612: Qaqortoq\n",
      "Processing city 613: Hastings\n",
      "Processing city 614: Plyussa\n",
      "Processing city 615: Quemado de Güines\n",
      "Processing city 616: Hot Springs\n",
      "Complete\n"
     ]
    }
   ],
   "source": [
    "# Setup API Calling\n",
    "# url\n",
    "url = \"http://api.openweathermap.org/data/2.5/weather?\"\n",
    "# url = \"https://openweathermap.org/api\"\n",
    "\n",
    "# units\n",
    "unit = \"units=Imperial\"\n",
    "\n",
    "# api\n",
    "api = \"&APPID=\" + weather_api_key\n",
    "\n",
    "# response \n",
    "response = requests.get( url + unit + api).json()\n",
    "\n",
    "# print statement\n",
    "print(response)\n",
    "\n",
    "\n",
    "# Storage for api call data\n",
    "city_info = {\"City\": [], \n",
    "             \"Lat\": [], \n",
    "             \"Lng\": [],\n",
    "             \"Max Temp\": [],\n",
    "             \"Humidity\": [],\n",
    "             \"Cloudiness\": [],\n",
    "             \"Wind Speed\": [],\n",
    "             \"Country\": [], \n",
    "             \"Date\": []}\n",
    "\n",
    "# hint, limit api calls\n",
    "minute = 60\n",
    "@limits(calls=60, period=minute)\n",
    "\n",
    "# api call loop\n",
    "def call_api():\n",
    "    \n",
    "    for i, city in enumerate(cities):\n",
    "        city = requests.get(url + unit + \"&q=\" + cities[i] + api).json()\n",
    "        \n",
    "        try:\n",
    "            print(\"Processing city \" + str(i) + \": \" + city[\"name\"])\n",
    "        \n",
    "            city_info[\"City\"].append(city[\"name\"])\n",
    "            city_info[\"Lat\"].append(city[\"coord\"][\"lat\"])\n",
    "            city_info[\"Lng\"].append(city[\"coord\"][\"lon\"])\n",
    "            city_info[\"Max Temp\"].append(city[\"main\"][\"temp_max\"])\n",
    "            city_info[\"Humidity\"].append(city[\"main\"][\"humidity\"])\n",
    "            city_info[\"Cloudiness\"].append(city[\"clouds\"][\"all\"])\n",
    "            city_info[\"Wind Speed\"].append(city[\"wind\"][\"speed\"])\n",
    "            city_info[\"Country\"].append(city[\"sys\"][\"country\"])\n",
    "            city_info[\"Date\"].append(city[\"dt\"])\n",
    "            \n",
    "        except:\n",
    "            print(\"Incomplete..., skip over missing city info.\")\n",
    "            pass\n",
    "    print(\"Complete\")\n",
    "    \n",
    "call_api()\n",
    "\n",
    "# print log\n",
    "logging.basicConfig(filename='api_print.log', filemode='w')\n",
    "logging.warning('This data will be logged onto a file')\n",
    "\n",
    "\n",
    "            \n",
    "            \n",
    "        "
   ]
  },
  {
   "cell_type": "markdown",
   "metadata": {},
   "source": [
    "### Convert Raw Data to DataFrame\n",
    "* Export the city data into a .csv.\n",
    "* Display the DataFrame"
   ]
  },
  {
   "cell_type": "code",
   "execution_count": 4,
   "metadata": {},
   "outputs": [],
   "source": [
    "# Creating DataFrame\n",
    "city_info_df = pd.DataFrame(city_info)\n",
    "\n",
    "# Clean DataFrame\n",
    "city_info_df[\"Max Temp\"] = city_info_df[\"Max Temp\"].replace('', np.nan)\n",
    "city_info_df = city_info_df.dropna()\n",
    "\n",
    "city_count = len(city_info_df)\n",
    "# Export as CSV file\n",
    "city_info_df.to_csv(output_data_file, index_label=\"City_ID\")"
   ]
  },
  {
   "cell_type": "code",
   "execution_count": 5,
   "metadata": {},
   "outputs": [
    {
     "data": {
      "text/html": [
       "<div>\n",
       "<style scoped>\n",
       "    .dataframe tbody tr th:only-of-type {\n",
       "        vertical-align: middle;\n",
       "    }\n",
       "\n",
       "    .dataframe tbody tr th {\n",
       "        vertical-align: top;\n",
       "    }\n",
       "\n",
       "    .dataframe thead th {\n",
       "        text-align: right;\n",
       "    }\n",
       "</style>\n",
       "<table border=\"1\" class=\"dataframe\">\n",
       "  <thead>\n",
       "    <tr style=\"text-align: right;\">\n",
       "      <th></th>\n",
       "      <th>City</th>\n",
       "      <th>Lat</th>\n",
       "      <th>Lng</th>\n",
       "      <th>Max Temp</th>\n",
       "      <th>Humidity</th>\n",
       "      <th>Cloudiness</th>\n",
       "      <th>Wind Speed</th>\n",
       "      <th>Country</th>\n",
       "      <th>Date</th>\n",
       "    </tr>\n",
       "  </thead>\n",
       "  <tbody>\n",
       "    <tr>\n",
       "      <th>0</th>\n",
       "      <td>Airai</td>\n",
       "      <td>-8.9266</td>\n",
       "      <td>125.4092</td>\n",
       "      <td>67.93</td>\n",
       "      <td>80</td>\n",
       "      <td>99</td>\n",
       "      <td>0.98</td>\n",
       "      <td>TL</td>\n",
       "      <td>1644451500</td>\n",
       "    </tr>\n",
       "    <tr>\n",
       "      <th>1</th>\n",
       "      <td>Viedma</td>\n",
       "      <td>-40.8135</td>\n",
       "      <td>-62.9967</td>\n",
       "      <td>82.04</td>\n",
       "      <td>37</td>\n",
       "      <td>94</td>\n",
       "      <td>6.08</td>\n",
       "      <td>AR</td>\n",
       "      <td>1644451501</td>\n",
       "    </tr>\n",
       "    <tr>\n",
       "      <th>2</th>\n",
       "      <td>Port Alfred</td>\n",
       "      <td>-33.5906</td>\n",
       "      <td>26.8910</td>\n",
       "      <td>65.64</td>\n",
       "      <td>85</td>\n",
       "      <td>5</td>\n",
       "      <td>9.98</td>\n",
       "      <td>ZA</td>\n",
       "      <td>1644451367</td>\n",
       "    </tr>\n",
       "    <tr>\n",
       "      <th>3</th>\n",
       "      <td>Cayenne</td>\n",
       "      <td>4.9333</td>\n",
       "      <td>-52.3333</td>\n",
       "      <td>76.08</td>\n",
       "      <td>91</td>\n",
       "      <td>75</td>\n",
       "      <td>1.01</td>\n",
       "      <td>GF</td>\n",
       "      <td>1644451275</td>\n",
       "    </tr>\n",
       "    <tr>\n",
       "      <th>4</th>\n",
       "      <td>Opuwo</td>\n",
       "      <td>-18.0607</td>\n",
       "      <td>13.8400</td>\n",
       "      <td>66.49</td>\n",
       "      <td>87</td>\n",
       "      <td>100</td>\n",
       "      <td>5.93</td>\n",
       "      <td>NA</td>\n",
       "      <td>1644451501</td>\n",
       "    </tr>\n",
       "    <tr>\n",
       "      <th>...</th>\n",
       "      <td>...</td>\n",
       "      <td>...</td>\n",
       "      <td>...</td>\n",
       "      <td>...</td>\n",
       "      <td>...</td>\n",
       "      <td>...</td>\n",
       "      <td>...</td>\n",
       "      <td>...</td>\n",
       "      <td>...</td>\n",
       "    </tr>\n",
       "    <tr>\n",
       "      <th>567</th>\n",
       "      <td>Qaqortoq</td>\n",
       "      <td>60.7167</td>\n",
       "      <td>-46.0333</td>\n",
       "      <td>16.30</td>\n",
       "      <td>71</td>\n",
       "      <td>95</td>\n",
       "      <td>9.95</td>\n",
       "      <td>GL</td>\n",
       "      <td>1644451639</td>\n",
       "    </tr>\n",
       "    <tr>\n",
       "      <th>568</th>\n",
       "      <td>Hastings</td>\n",
       "      <td>50.8552</td>\n",
       "      <td>0.5729</td>\n",
       "      <td>49.37</td>\n",
       "      <td>85</td>\n",
       "      <td>95</td>\n",
       "      <td>9.33</td>\n",
       "      <td>GB</td>\n",
       "      <td>1644451639</td>\n",
       "    </tr>\n",
       "    <tr>\n",
       "      <th>569</th>\n",
       "      <td>Plyussa</td>\n",
       "      <td>58.4308</td>\n",
       "      <td>29.3654</td>\n",
       "      <td>34.14</td>\n",
       "      <td>97</td>\n",
       "      <td>100</td>\n",
       "      <td>11.88</td>\n",
       "      <td>RU</td>\n",
       "      <td>1644451639</td>\n",
       "    </tr>\n",
       "    <tr>\n",
       "      <th>570</th>\n",
       "      <td>Quemado de Güines</td>\n",
       "      <td>22.7853</td>\n",
       "      <td>-80.2536</td>\n",
       "      <td>71.82</td>\n",
       "      <td>89</td>\n",
       "      <td>81</td>\n",
       "      <td>10.45</td>\n",
       "      <td>CU</td>\n",
       "      <td>1644451639</td>\n",
       "    </tr>\n",
       "    <tr>\n",
       "      <th>571</th>\n",
       "      <td>Hot Springs</td>\n",
       "      <td>34.5037</td>\n",
       "      <td>-93.0552</td>\n",
       "      <td>62.31</td>\n",
       "      <td>26</td>\n",
       "      <td>0</td>\n",
       "      <td>3.44</td>\n",
       "      <td>US</td>\n",
       "      <td>1644451640</td>\n",
       "    </tr>\n",
       "  </tbody>\n",
       "</table>\n",
       "<p>572 rows × 9 columns</p>\n",
       "</div>"
      ],
      "text/plain": [
       "                  City      Lat       Lng  Max Temp  Humidity  Cloudiness  \\\n",
       "0                Airai  -8.9266  125.4092     67.93        80          99   \n",
       "1               Viedma -40.8135  -62.9967     82.04        37          94   \n",
       "2          Port Alfred -33.5906   26.8910     65.64        85           5   \n",
       "3              Cayenne   4.9333  -52.3333     76.08        91          75   \n",
       "4                Opuwo -18.0607   13.8400     66.49        87         100   \n",
       "..                 ...      ...       ...       ...       ...         ...   \n",
       "567           Qaqortoq  60.7167  -46.0333     16.30        71          95   \n",
       "568           Hastings  50.8552    0.5729     49.37        85          95   \n",
       "569            Plyussa  58.4308   29.3654     34.14        97         100   \n",
       "570  Quemado de Güines  22.7853  -80.2536     71.82        89          81   \n",
       "571        Hot Springs  34.5037  -93.0552     62.31        26           0   \n",
       "\n",
       "     Wind Speed Country        Date  \n",
       "0          0.98      TL  1644451500  \n",
       "1          6.08      AR  1644451501  \n",
       "2          9.98      ZA  1644451367  \n",
       "3          1.01      GF  1644451275  \n",
       "4          5.93      NA  1644451501  \n",
       "..          ...     ...         ...  \n",
       "567        9.95      GL  1644451639  \n",
       "568        9.33      GB  1644451639  \n",
       "569       11.88      RU  1644451639  \n",
       "570       10.45      CU  1644451639  \n",
       "571        3.44      US  1644451640  \n",
       "\n",
       "[572 rows x 9 columns]"
      ]
     },
     "execution_count": 5,
     "metadata": {},
     "output_type": "execute_result"
    }
   ],
   "source": [
    "# Inspect DataFrame\n",
    "city_info_df"
   ]
  },
  {
   "cell_type": "code",
   "execution_count": 6,
   "metadata": {},
   "outputs": [
    {
     "name": "stdout",
     "output_type": "stream",
     "text": [
      "572 number of cities were left out of the 572 cities accounted for, giving a success rate of 100.0% retrieval.\n"
     ]
    },
    {
     "data": {
      "text/html": [
       "<div>\n",
       "<style scoped>\n",
       "    .dataframe tbody tr th:only-of-type {\n",
       "        vertical-align: middle;\n",
       "    }\n",
       "\n",
       "    .dataframe tbody tr th {\n",
       "        vertical-align: top;\n",
       "    }\n",
       "\n",
       "    .dataframe thead th {\n",
       "        text-align: right;\n",
       "    }\n",
       "</style>\n",
       "<table border=\"1\" class=\"dataframe\">\n",
       "  <thead>\n",
       "    <tr style=\"text-align: right;\">\n",
       "      <th></th>\n",
       "      <th>City</th>\n",
       "      <th>Lat</th>\n",
       "      <th>Lng</th>\n",
       "      <th>Max Temp</th>\n",
       "      <th>Humidity</th>\n",
       "      <th>Cloudiness</th>\n",
       "      <th>Wind Speed</th>\n",
       "      <th>Country</th>\n",
       "      <th>Date</th>\n",
       "    </tr>\n",
       "  </thead>\n",
       "  <tbody>\n",
       "    <tr>\n",
       "      <th>0</th>\n",
       "      <td>Airai</td>\n",
       "      <td>-8.9266</td>\n",
       "      <td>125.4092</td>\n",
       "      <td>67.93</td>\n",
       "      <td>80</td>\n",
       "      <td>99</td>\n",
       "      <td>0.98</td>\n",
       "      <td>TL</td>\n",
       "      <td>1644451500</td>\n",
       "    </tr>\n",
       "    <tr>\n",
       "      <th>1</th>\n",
       "      <td>Viedma</td>\n",
       "      <td>-40.8135</td>\n",
       "      <td>-62.9967</td>\n",
       "      <td>82.04</td>\n",
       "      <td>37</td>\n",
       "      <td>94</td>\n",
       "      <td>6.08</td>\n",
       "      <td>AR</td>\n",
       "      <td>1644451501</td>\n",
       "    </tr>\n",
       "    <tr>\n",
       "      <th>2</th>\n",
       "      <td>Port Alfred</td>\n",
       "      <td>-33.5906</td>\n",
       "      <td>26.8910</td>\n",
       "      <td>65.64</td>\n",
       "      <td>85</td>\n",
       "      <td>5</td>\n",
       "      <td>9.98</td>\n",
       "      <td>ZA</td>\n",
       "      <td>1644451367</td>\n",
       "    </tr>\n",
       "    <tr>\n",
       "      <th>3</th>\n",
       "      <td>Cayenne</td>\n",
       "      <td>4.9333</td>\n",
       "      <td>-52.3333</td>\n",
       "      <td>76.08</td>\n",
       "      <td>91</td>\n",
       "      <td>75</td>\n",
       "      <td>1.01</td>\n",
       "      <td>GF</td>\n",
       "      <td>1644451275</td>\n",
       "    </tr>\n",
       "    <tr>\n",
       "      <th>4</th>\n",
       "      <td>Opuwo</td>\n",
       "      <td>-18.0607</td>\n",
       "      <td>13.8400</td>\n",
       "      <td>66.49</td>\n",
       "      <td>87</td>\n",
       "      <td>100</td>\n",
       "      <td>5.93</td>\n",
       "      <td>NA</td>\n",
       "      <td>1644451501</td>\n",
       "    </tr>\n",
       "    <tr>\n",
       "      <th>...</th>\n",
       "      <td>...</td>\n",
       "      <td>...</td>\n",
       "      <td>...</td>\n",
       "      <td>...</td>\n",
       "      <td>...</td>\n",
       "      <td>...</td>\n",
       "      <td>...</td>\n",
       "      <td>...</td>\n",
       "      <td>...</td>\n",
       "    </tr>\n",
       "    <tr>\n",
       "      <th>567</th>\n",
       "      <td>Qaqortoq</td>\n",
       "      <td>60.7167</td>\n",
       "      <td>-46.0333</td>\n",
       "      <td>16.30</td>\n",
       "      <td>71</td>\n",
       "      <td>95</td>\n",
       "      <td>9.95</td>\n",
       "      <td>GL</td>\n",
       "      <td>1644451639</td>\n",
       "    </tr>\n",
       "    <tr>\n",
       "      <th>568</th>\n",
       "      <td>Hastings</td>\n",
       "      <td>50.8552</td>\n",
       "      <td>0.5729</td>\n",
       "      <td>49.37</td>\n",
       "      <td>85</td>\n",
       "      <td>95</td>\n",
       "      <td>9.33</td>\n",
       "      <td>GB</td>\n",
       "      <td>1644451639</td>\n",
       "    </tr>\n",
       "    <tr>\n",
       "      <th>569</th>\n",
       "      <td>Plyussa</td>\n",
       "      <td>58.4308</td>\n",
       "      <td>29.3654</td>\n",
       "      <td>34.14</td>\n",
       "      <td>97</td>\n",
       "      <td>100</td>\n",
       "      <td>11.88</td>\n",
       "      <td>RU</td>\n",
       "      <td>1644451639</td>\n",
       "    </tr>\n",
       "    <tr>\n",
       "      <th>570</th>\n",
       "      <td>Quemado de Güines</td>\n",
       "      <td>22.7853</td>\n",
       "      <td>-80.2536</td>\n",
       "      <td>71.82</td>\n",
       "      <td>89</td>\n",
       "      <td>81</td>\n",
       "      <td>10.45</td>\n",
       "      <td>CU</td>\n",
       "      <td>1644451639</td>\n",
       "    </tr>\n",
       "    <tr>\n",
       "      <th>571</th>\n",
       "      <td>Hot Springs</td>\n",
       "      <td>34.5037</td>\n",
       "      <td>-93.0552</td>\n",
       "      <td>62.31</td>\n",
       "      <td>26</td>\n",
       "      <td>0</td>\n",
       "      <td>3.44</td>\n",
       "      <td>US</td>\n",
       "      <td>1644451640</td>\n",
       "    </tr>\n",
       "  </tbody>\n",
       "</table>\n",
       "<p>572 rows × 9 columns</p>\n",
       "</div>"
      ],
      "text/plain": [
       "                  City      Lat       Lng  Max Temp  Humidity  Cloudiness  \\\n",
       "0                Airai  -8.9266  125.4092     67.93        80          99   \n",
       "1               Viedma -40.8135  -62.9967     82.04        37          94   \n",
       "2          Port Alfred -33.5906   26.8910     65.64        85           5   \n",
       "3              Cayenne   4.9333  -52.3333     76.08        91          75   \n",
       "4                Opuwo -18.0607   13.8400     66.49        87         100   \n",
       "..                 ...      ...       ...       ...       ...         ...   \n",
       "567           Qaqortoq  60.7167  -46.0333     16.30        71          95   \n",
       "568           Hastings  50.8552    0.5729     49.37        85          95   \n",
       "569            Plyussa  58.4308   29.3654     34.14        97         100   \n",
       "570  Quemado de Güines  22.7853  -80.2536     71.82        89          81   \n",
       "571        Hot Springs  34.5037  -93.0552     62.31        26           0   \n",
       "\n",
       "     Wind Speed Country        Date  \n",
       "0          0.98      TL  1644451500  \n",
       "1          6.08      AR  1644451501  \n",
       "2          9.98      ZA  1644451367  \n",
       "3          1.01      GF  1644451275  \n",
       "4          5.93      NA  1644451501  \n",
       "..          ...     ...         ...  \n",
       "567        9.95      GL  1644451639  \n",
       "568        9.33      GB  1644451639  \n",
       "569       11.88      RU  1644451639  \n",
       "570       10.45      CU  1644451639  \n",
       "571        3.44      US  1644451640  \n",
       "\n",
       "[572 rows x 9 columns]"
      ]
     },
     "execution_count": 6,
     "metadata": {},
     "output_type": "execute_result"
    }
   ],
   "source": [
    "leftover_cities = city_info_df.loc[city_info_df[\"City\"] != \"Failed!\"]\n",
    "leftover_cities_count = len(leftover_cities)\n",
    "print(\"{} number of cities were left out of the {} cities accounted for, giving a success rate of {:.1%} retrieval.\"\n",
    "      .format(leftover_cities_count, city_count, (leftover_cities_count/city_count)))\n",
    "\n",
    "leftover_cities.index = [a for a in range(leftover_cities_count)]\n",
    "\n",
    "non_numeric_columns = [\"City\", \"Country\", \"Date\"]\n",
    "\n",
    "for col in leftover_cities.columns:\n",
    "    if(col not in non_numeric_columns):\n",
    "        leftover_cities[col] = pd.to_numeric(leftover_cities[col])\n",
    "        \n",
    "\n",
    "leftover_cities"
   ]
  },
  {
   "cell_type": "markdown",
   "metadata": {},
   "source": [
    "## Inspect the data and remove the cities where the humidity > 100%.\n",
    "----\n",
    "Skip this step if there are no cities that have humidity > 100%. "
   ]
  },
  {
   "cell_type": "code",
   "execution_count": 7,
   "metadata": {},
   "outputs": [],
   "source": [
    "# Table Columns\n",
    "lat = city_info_df[\"Lat\"]\n",
    "max_temp = city_info_df[\"Max Temp\"]\n",
    "humidity = city_info_df[\"Humidity\"]\n",
    "cloudiness = city_info_df[\"Cloudiness\"]\n",
    "wind_speed = city_info_df[\"Wind Speed\"]"
   ]
  },
  {
   "cell_type": "code",
   "execution_count": 8,
   "metadata": {},
   "outputs": [
    {
     "data": {
      "text/plain": [
       "0      80\n",
       "1      37\n",
       "2      85\n",
       "3      91\n",
       "4      87\n",
       "       ..\n",
       "567    71\n",
       "568    85\n",
       "569    97\n",
       "570    89\n",
       "571    26\n",
       "Name: Humidity, Length: 572, dtype: int64"
      ]
     },
     "execution_count": 8,
     "metadata": {},
     "output_type": "execute_result"
    }
   ],
   "source": [
    "#  Get the indices of cities that have humidity over 100%.\n",
    "city_info_df[\"Humidity\"]"
   ]
  },
  {
   "cell_type": "code",
   "execution_count": 9,
   "metadata": {},
   "outputs": [
    {
     "name": "stderr",
     "output_type": "stream",
     "text": [
      "C:\\Users\\chris\\anaconda3\\lib\\site-packages\\seaborn\\_decorators.py:36: FutureWarning: Pass the following variable as a keyword arg: x. From version 0.12, the only valid positional argument will be `data`, and passing other arguments without an explicit keyword will result in an error or misinterpretation.\n",
      "  warnings.warn(\n"
     ]
    },
    {
     "data": {
      "text/plain": [
       "<AxesSubplot:xlabel='Humidity'>"
      ]
     },
     "execution_count": 9,
     "metadata": {},
     "output_type": "execute_result"
    },
    {
     "data": {
      "image/png": "[encoded data removed]",
      "text/plain": [
       "<Figure size 432x288 with 1 Axes>"
      ]
     },
     "metadata": {
      "needs_background": "light"
     },
     "output_type": "display_data"
    }
   ],
   "source": [
    "# Couldn't figure out how to use plot_filtered to fix FutureWarning\n",
    "sns.boxplot(city_info_df[\"Humidity\"])\n",
    "\n"
   ]
  },
  {
   "cell_type": "code",
   "execution_count": 10,
   "metadata": {},
   "outputs": [
    {
     "name": "stdout",
     "output_type": "stream",
     "text": [
      "(array([], dtype=int64),)\n"
     ]
    }
   ],
   "source": [
    "# Print Outlier (if one exists)\n",
    "print(np.where(city_info_df[\"Humidity\"] > 100))\n",
    "# Array is empty, no 'Humidity' over 100% exists in current dataset."
   ]
  },
  {
   "cell_type": "markdown",
   "metadata": {},
   "source": [
    "#### Are There Any Cities With Humidity Over 100 % ?\n",
    "From the results of the boxplot and the conditional print statement, there does not seem to be any cities within the dataset that has a humidity of over 100%.  "
   ]
  },
  {
   "cell_type": "markdown",
   "metadata": {},
   "source": [
    "## Plotting the Data\n",
    "* Use proper labeling of the plots using plot titles (including date of analysis) and axes labels.\n",
    "* Save the plotted figures as .pngs."
   ]
  },
  {
   "cell_type": "markdown",
   "metadata": {},
   "source": [
    "## Temperature vs Latitude Scatter Plot"
   ]
  },
  {
   "cell_type": "code",
   "execution_count": 11,
   "metadata": {
    "scrolled": true
   },
   "outputs": [
    {
     "data": {
      "image/png": "[encoded data removed]",
      "text/plain": [
       "<Figure size 576x432 with 1 Axes>"
      ]
     },
     "metadata": {
      "needs_background": "light"
     },
     "output_type": "display_data"
    }
   ],
   "source": [
    "# Latitude vs Temperature\n",
    "# viz config\n",
    "plt.figure(figsize=(8,6))\n",
    "lat_vs_temp = plt.scatter(lat, max_temp, linewidths=1, marker=\"o\")\n",
    "\n",
    "# titles & labels\n",
    "plt.title(\"Max Temperature (%) vs Latitude of City (2/9/2022)\")\n",
    "plt.xlabel(\"Latitude\")\n",
    "plt.ylabel(\"Max Temperature (F)\")\n",
    "# Display Plot\n",
    "plt.show()"
   ]
  },
  {
   "cell_type": "markdown",
   "metadata": {},
   "source": [
    "#### Temperature vs. Latitude Scatter Plot Analysis¶\n",
    "The above scatter plot analyzies the latitudes of cities (north or south) of the equator against their correponding maximum temperatures (in degrees fahrenheit). Temperatures rise the closer a city is in relation to the equator. Cities south of the equator have higher maximum temperatures in comparison to cities north of the equator.  "
   ]
  },
  {
   "cell_type": "code",
   "execution_count": 12,
   "metadata": {},
   "outputs": [],
   "source": [
    "# Save fig\n",
    "lat_vs_temp.get_figure().savefig(\"../Images/Fig1.png\")"
   ]
  },
  {
   "cell_type": "markdown",
   "metadata": {},
   "source": [
    "## Humidity vs. Latitude Scatter Plot"
   ]
  },
  {
   "cell_type": "code",
   "execution_count": 13,
   "metadata": {},
   "outputs": [
    {
     "data": {
      "image/png": "[encoded data removed]",
      "text/plain": [
       "<Figure size 576x432 with 1 Axes>"
      ]
     },
     "metadata": {
      "needs_background": "light"
     },
     "output_type": "display_data"
    }
   ],
   "source": [
    "# Latitude vs Humidity\n",
    "# viz config\n",
    "plt.figure(figsize=(8,6))\n",
    "lat_vs_humidity = plt.scatter(lat, humidity, linewidths=1, marker=\"o\")\n",
    "\n",
    "# titles & labels\n",
    "plt.title(\"Humidity (%) vs Latitude of City (2/9/2022)\")\n",
    "plt.xlabel(\"Latitude\")\n",
    "plt.ylabel(\"Humidity (%)\")\n",
    "# Display Plot\n",
    "plt.show()"
   ]
  },
  {
   "cell_type": "markdown",
   "metadata": {},
   "source": [
    "#### Humidity vs. Latitude Scatter Plot Analysis\n",
    "\n",
    "The above scatter plot analyzies percent humidity against the latitudinal of a city in relation to the equator. There seems to be no apparently noticeable relationship between humidity and geolocation. "
   ]
  },
  {
   "cell_type": "code",
   "execution_count": 14,
   "metadata": {},
   "outputs": [],
   "source": [
    "lat_vs_humidity.get_figure().savefig(\"../Images/Fig2.png\")"
   ]
  },
  {
   "cell_type": "markdown",
   "metadata": {},
   "source": [
    "## Cloudiness vs. Latitude Scatter Plot"
   ]
  },
  {
   "cell_type": "code",
   "execution_count": 15,
   "metadata": {},
   "outputs": [
    {
     "data": {
      "image/png": "[encoded data removed]",
      "text/plain": [
       "<Figure size 576x432 with 1 Axes>"
      ]
     },
     "metadata": {
      "needs_background": "light"
     },
     "output_type": "display_data"
    }
   ],
   "source": [
    "# Cloudiness vs. Latitude Scatter Plot\n",
    "# viz config\n",
    "plt.figure(figsize=(8,6))\n",
    "lat_vs_cloudiness = plt.scatter(lat, cloudiness, linewidths=1, marker=\"o\")\n",
    "\n",
    "# titles & labels\n",
    "plt.title(\"Cloudiness (%) vs Latitude of City (2/9/2022)\")\n",
    "plt.xlabel(\"Latitude\")\n",
    "plt.ylabel(\"Cloudiness (%)\")\n",
    "# Display Plot\n",
    "plt.show()"
   ]
  },
  {
   "cell_type": "markdown",
   "metadata": {},
   "source": [
    "The scatter plot of Cloudiness vs. Latitude does does not show any associations between cloud cover and latitudial location.    "
   ]
  },
  {
   "cell_type": "code",
   "execution_count": 16,
   "metadata": {},
   "outputs": [],
   "source": [
    "lat_vs_cloudiness.get_figure().savefig(\"../Images/Fig3.png\")"
   ]
  },
  {
   "cell_type": "markdown",
   "metadata": {},
   "source": [
    "## Wind Speed vs Latitude Scatter Plot"
   ]
  },
  {
   "cell_type": "code",
   "execution_count": 17,
   "metadata": {},
   "outputs": [
    {
     "data": {
      "image/png": "[encoded data removed]",
      "text/plain": [
       "<Figure size 576x432 with 1 Axes>"
      ]
     },
     "metadata": {
      "needs_background": "light"
     },
     "output_type": "display_data"
    }
   ],
   "source": [
    "# Wind Speed vs Latitude Scatter Plot\n",
    "# viz config\n",
    "plt.figure(figsize=(8,6))\n",
    "lat_vs_wind_speed = plt.scatter(lat, wind_speed, linewidths=1, marker=\"o\")\n",
    "\n",
    "# titles & labels\n",
    "plt.title(\"Wind Speed (mph) vs Latitude of City (2/9/2022)\")\n",
    "plt.xlabel(\"Latitude\")\n",
    "plt.ylabel(\"Wind Speed (mph)\")\n",
    "# Display Plot\n",
    "plt.show()"
   ]
  },
  {
   "cell_type": "markdown",
   "metadata": {},
   "source": [
    "#### Wind Speed vs Latitude Scatter Plot Analysis\n",
    "The Wind Speed vs Latitude Scatter Plot shows no apparent associations between wind speed and geolocation for cities north or south of the equator."
   ]
  },
  {
   "cell_type": "code",
   "execution_count": 18,
   "metadata": {},
   "outputs": [],
   "source": [
    "lat_vs_wind_speed.get_figure().savefig(\"../Images/Fig4.png\")"
   ]
  },
  {
   "cell_type": "markdown",
   "metadata": {},
   "source": [
    "## Linear Regression"
   ]
  },
  {
   "cell_type": "code",
   "execution_count": 19,
   "metadata": {},
   "outputs": [],
   "source": [
    "# Linear Regression\n",
    "def makeLinRegression(city_info_df, x_Col, y_Col):\n",
    "    # preform linear regression\n",
    "    (regr_slope, regr_intercept, regr_r_val, _, _) = linregress(city_info_df[x_Col], city_info_df[y_Col])\n",
    "    # setup x and y axis data for linear regression \n",
    "    x = np.array([a for a in range(int(min(city_info_df[x_Col].values)), int(max(city_info_df[x_Col].values)+1))])\n",
    "    y = regr_slope * x + regr_intercept\n",
    "    # scatter plot\n",
    "    axis_df = city_info_df.plot(kind=\"scatter\", x=x_Col, y=y_Col, title=\"{} vs {} ({})\")\n",
    "    # best fit line\n",
    "    axis_df.plot(x, y, 'r')\n",
    "    \n",
    "    # print statements\n",
    "    print(\"Equation for best-fit linear regression line is y={:.2f}x+{:.2f}\".format(regr_slope, regr_intercept))\n",
    "    \n",
    "    print(\"r-squared correlation coefficient is {:.2f}\".format(regr_r_val))\n",
    "    \n",
    "    # return statement\n",
    "    return axis_df"
   ]
  },
  {
   "cell_type": "code",
   "execution_count": 20,
   "metadata": {},
   "outputs": [
    {
     "name": "stdout",
     "output_type": "stream",
     "text": [
      "The northern hemisphere has 376 cities out of 572 total, accounting for 65.7% of cities in the dataset.\n",
      "The southern hemisphere has 196 cities out of 572 total, accounting for 34.3% of cities in the dataset.\n"
     ]
    }
   ],
   "source": [
    "# Northern and Southern Hemispheres\n",
    "\n",
    "# Northern Hemisphere DataFrame\n",
    "northern_hemisphere = city_info_df.loc[city_info_df[\"Lat\"] >= 0]\n",
    "# Count of Cities in the Northern Hemisphere\n",
    "northern_count = len(northern_hemisphere)\n",
    "# Print \n",
    "print(\"The northern hemisphere has {} cities out of {} total, accounting for {:.1%} of cities in the dataset.\"\n",
    "      .format(northern_count, city_count, (northern_count/city_count)))\n",
    "\n",
    "# Southern Hemisphere DataFrame\n",
    "southern_hemisphere = city_info_df.loc[city_info_df[\"Lat\"] < 0]\n",
    "# Count of Cities in the Southern Hemisphere\n",
    "southern_count = len(southern_hemisphere)\n",
    "# Print \n",
    "print(\"The southern hemisphere has {} cities out of {} total, accounting for {:.1%} of cities in the dataset.\"\n",
    "      .format(southern_count, city_count, (southern_count/city_count)))"
   ]
  },
  {
   "cell_type": "markdown",
   "metadata": {},
   "source": [
    "####  Northern Hemisphere - Max Temp vs. Latitude Linear Regression"
   ]
  },
  {
   "cell_type": "code",
   "execution_count": 21,
   "metadata": {},
   "outputs": [
    {
     "name": "stdout",
     "output_type": "stream",
     "text": [
      "Line of Best-Fit for linear regression is y=-1.29x+90.80\n",
      "The r-squared correlation coefficient is -0.82\n"
     ]
    },
    {
     "data": {
      "image/png": "[encoded data removed]",
      "text/plain": [
       "<Figure size 432x288 with 1 Axes>"
      ]
     },
     "metadata": {
      "needs_background": "light"
     },
     "output_type": "display_data"
    }
   ],
   "source": [
    "(n_temp_slope, n_temp_intercept, n_temp_r_val, _, _) = linregress(northern_hemisphere[\"Lat\"],\n",
    "                                                                 northern_hemisphere[\"Max Temp\"])\n",
    "\n",
    "x = np.array([a for a in range(80)])\n",
    "y = n_temp_slope * x + n_temp_intercept\n",
    "\n",
    "n_temp_axes = northern_hemisphere.plot(kind=\"scatter\", x=\"Lat\", y=\"Max Temp\",\n",
    "                                       title=\"Northern Hemisphere - Max Temp vs. Latitude Linear Regression (2/9/2022)\")\n",
    "# line of best fit\n",
    "n_temp_axes.plot(x, y, 'r')\n",
    "\n",
    "plt.xlabel(\"Latitude\")\n",
    "plt.ylabel(\"Max Temperture (F)\")\n",
    "\n",
    "# print \n",
    "print(\"Line of Best-Fit for linear regression is y={:.2f}x+{:.2f}\"\n",
    "      .format(n_temp_slope, n_temp_intercept))\n",
    "print(\"The r-squared correlation coefficient is {:.2f}\".format(n_temp_r_val))\n",
    "\n",
    "# save figure as png\n",
    "n_temp_axes.get_figure().savefig(\"../Images/Fig5_N.png\")"
   ]
  },
  {
   "cell_type": "markdown",
   "metadata": {},
   "source": [
    "#### Northern Hemisphere - Max Temp vs. Latitude Linear Regression Analysis\n",
    "\n",
    "According to the linear regression of maximum temperature vs latitude for the cities in the northern hemisphere, there is a strong negative correlation. The farther away a city's geolocation is to the equator the colder the climate conditions.  "
   ]
  },
  {
   "cell_type": "markdown",
   "metadata": {},
   "source": [
    "####  Southern Hemisphere - Max Temp vs. Latitude Linear Regression"
   ]
  },
  {
   "cell_type": "code",
   "execution_count": 22,
   "metadata": {},
   "outputs": [
    {
     "name": "stdout",
     "output_type": "stream",
     "text": [
      "Equation for best-fit linear regression line is y=0.23x+78.95\n",
      "r-squared correlation coefficient is 0.41\n"
     ]
    },
    {
     "data": {
      "image/png": "[encoded data removed]",
      "text/plain": [
       "<Figure size 432x288 with 1 Axes>"
      ]
     },
     "metadata": {
      "needs_background": "light"
     },
     "output_type": "display_data"
    }
   ],
   "source": [
    "s_temp_axes = makeLinRegression(southern_hemisphere, \"Lat\", \"Max Temp\")\n",
    "plt.title(\"Southern Hemisphere - Max Temp vs. Latitude Linear Regression (2/9/2022)\")\n",
    "plt.xlabel(\"Latitude\")\n",
    "plt.ylabel(\"Max Temperture (F)\")\n",
    "# save figure as png\n",
    "s_temp_axes.get_figure().savefig(\"../Images/Fig6_S.png\")"
   ]
  },
  {
   "cell_type": "markdown",
   "metadata": {},
   "source": [
    "#### Southern Hemisphere - Max Temp vs. Latitude Linear Regression Analysis\n",
    "\n",
    "The above linear regression shows a positive relationship between geolocation of cities in the southern hemisphere relative to the equator and their cooresopnding climate conditions. The cities closer to the equator enjoy warmer climate conditions and therefore higher maximum temperatures. "
   ]
  },
  {
   "cell_type": "markdown",
   "metadata": {},
   "source": [
    "####  Northern Hemisphere - Humidity (%) vs. Latitude Linear Regression"
   ]
  },
  {
   "cell_type": "code",
   "execution_count": 23,
   "metadata": {},
   "outputs": [
    {
     "name": "stdout",
     "output_type": "stream",
     "text": [
      "Equation for best-fit linear regression line is y=0.45x+55.93\n",
      "r-squared correlation coefficient is 0.38\n"
     ]
    },
    {
     "data": {
      "image/png": "[encoded data removed]",
      "text/plain": [
       "<Figure size 432x288 with 1 Axes>"
      ]
     },
     "metadata": {
      "needs_background": "light"
     },
     "output_type": "display_data"
    }
   ],
   "source": [
    "# Northern Hemisphere - Humidity (%) vs. Latitude Linear Regression\n",
    "n_humidity_lat_axes = makeLinRegression(northern_hemisphere, \"Lat\", \"Humidity\")\n",
    "plt.title(\"Northern Hemisphere - Humidity (%) vs. Latitude Linear Regression (2/9/2022)\")\n",
    "plt.xlabel(\"Latitude\")\n",
    "plt.ylabel(\"Humidity (%)\")\n",
    "# save figure as png\n",
    "n_humidity_lat_axes.get_figure().savefig(\"../Images/Fig7_N.png\")"
   ]
  },
  {
   "cell_type": "markdown",
   "metadata": {},
   "source": [
    "#### Northern Hemisphere - Humidity (%) vs. Latitude Linear Regression Analysis \n",
    "Dispite the somewhat positive correlation coefficient for the linear regression of Humidity (%) vs. Latitude for cities in the northern hemisphere, the outliers throughout makes the results for this particular dataset skewed. There should not be any noticable correlation between humidity for cities in respect to their geolocation from the equator. "
   ]
  },
  {
   "cell_type": "markdown",
   "metadata": {},
   "source": [
    "####  Southern Hemisphere - Humidity (%) vs. Latitude Linear Regression"
   ]
  },
  {
   "cell_type": "code",
   "execution_count": 24,
   "metadata": {},
   "outputs": [
    {
     "name": "stdout",
     "output_type": "stream",
     "text": [
      "Equation for best-fit linear regression line is y=0.59x+86.75\n",
      "r-squared correlation coefficient is 0.47\n"
     ]
    },
    {
     "data": {
      "image/png": "[encoded data removed]",
      "text/plain": [
       "<Figure size 432x288 with 1 Axes>"
      ]
     },
     "metadata": {
      "needs_background": "light"
     },
     "output_type": "display_data"
    }
   ],
   "source": [
    "# Southern Hemisphere - Humidity (%) vs. Latitude Linear Regression\n",
    "s_humidity_lat_axes = makeLinRegression(southern_hemisphere, \"Lat\", \"Humidity\")\n",
    "plt.title(\"Southern Hemisphere - Humidity (%) vs. Latitude Linear Regression (2/9/2022)\")\n",
    "plt.xlabel(\"Latitude\")\n",
    "plt.ylabel(\"Humidity (%)\")\n",
    "# save figure as png\n",
    "s_humidity_lat_axes.get_figure().savefig(\"../Images/Fig8_S.png\")"
   ]
  },
  {
   "cell_type": "markdown",
   "metadata": {},
   "source": [
    "#### Southern Hemisphere - Humidity (%) vs. Latitude Linear Regression Analysis \n",
    "Likewise there should be little to no assoication between humidity and geolocation for cities in the southern hemisphere. "
   ]
  },
  {
   "cell_type": "markdown",
   "metadata": {},
   "source": [
    "####  Northern Hemisphere - Cloudiness (%) vs. Latitude Linear Regression"
   ]
  },
  {
   "cell_type": "code",
   "execution_count": 25,
   "metadata": {},
   "outputs": [
    {
     "name": "stdout",
     "output_type": "stream",
     "text": [
      "Equation for best-fit linear regression line is y=0.49x+37.07\n",
      "r-squared correlation coefficient is 0.24\n"
     ]
    },
    {
     "data": {
      "image/png": "[encoded data removed]",
      "text/plain": [
       "<Figure size 432x288 with 1 Axes>"
      ]
     },
     "metadata": {
      "needs_background": "light"
     },
     "output_type": "display_data"
    }
   ],
   "source": [
    "# Northern Hemisphere - Cloudiness (%) vs. Latitude Linear Regression\n",
    "n_cloudiness_lat_axes = makeLinRegression(northern_hemisphere, \"Lat\", \"Cloudiness\")\n",
    "plt.title(\"Northern Hemisphere - Cloudiness (%) vs. Latitude Linear Regression (2/9/2022)\")\n",
    "plt.xlabel(\"Latitude\")\n",
    "plt.ylabel(\"Cloudiness\")\n",
    "# save figure as png\n",
    "n_cloudiness_lat_axes.get_figure().savefig(\"../Images/Fig9_N.png\")"
   ]
  },
  {
   "cell_type": "markdown",
   "metadata": {},
   "source": [
    "#### Northern Hemisphere - Cloudiness (%) vs. Latitude Linear Regression Analysis\n",
    "\n",
    "Judging from the overall data spread, there should be little to no correlation between cloud coverage and geolocation for cities in the northern hemisphere. "
   ]
  },
  {
   "cell_type": "markdown",
   "metadata": {},
   "source": [
    "####  Southern Hemisphere - Cloudiness (%) vs. Latitude Linear Regression"
   ]
  },
  {
   "cell_type": "code",
   "execution_count": 26,
   "metadata": {},
   "outputs": [
    {
     "name": "stdout",
     "output_type": "stream",
     "text": [
      "Equation for best-fit linear regression line is y=1.04x+79.50\n",
      "r-squared correlation coefficient is 0.37\n"
     ]
    },
    {
     "data": {
      "image/png": "[encoded data removed]",
      "text/plain": [
       "<Figure size 432x288 with 1 Axes>"
      ]
     },
     "metadata": {
      "needs_background": "light"
     },
     "output_type": "display_data"
    }
   ],
   "source": [
    "# Southern Hemisphere - Cloudiness (%) vs. Latitude Linear Regression\n",
    "s_cloudiness_lat_axes = makeLinRegression(southern_hemisphere, \"Lat\", \"Cloudiness\")\n",
    "plt.title(\"Southern Hemisphere - Cloudiness (%) vs. Latitude Linear Regression (2/9/2022)\")\n",
    "plt.xlabel(\"Latitude\")\n",
    "plt.ylabel(\"Cloudiness\")\n",
    "# save figure as png\n",
    "s_cloudiness_lat_axes.get_figure().savefig(\"../Images/Fig10_S.png\")"
   ]
  },
  {
   "cell_type": "markdown",
   "metadata": {},
   "source": [
    "#### Southern Hemisphere - Cloudiness (%) vs. Latitude Linear Regression Analysis\n",
    "\n",
    "Similarly, there should also be little to no correlation between cloud coverage and geolocation for cities in the southern hemisphere. "
   ]
  },
  {
   "cell_type": "markdown",
   "metadata": {},
   "source": [
    "####  Northern Hemisphere - Wind Speed (mph) vs. Latitude Linear Regression"
   ]
  },
  {
   "cell_type": "code",
   "execution_count": 27,
   "metadata": {},
   "outputs": [
    {
     "name": "stdout",
     "output_type": "stream",
     "text": [
      "Equation for best-fit linear regression line is y=0.05x+6.34\n",
      "r-squared correlation coefficient is 0.18\n"
     ]
    },
    {
     "data": {
      "image/png": "[encoded data removed]",
      "text/plain": [
       "<Figure size 432x288 with 1 Axes>"
      ]
     },
     "metadata": {
      "needs_background": "light"
     },
     "output_type": "display_data"
    }
   ],
   "source": [
    "# Northern Hemisphere - Wind Speed (mph) vs. Latitude Linear Regression\n",
    "n_wind_lat_axes = makeLinRegression(northern_hemisphere, \"Lat\", \"Wind Speed\")\n",
    "plt.title(\"Northern Hemisphere - Wind Speed (mph) vs. Latitude Linear Regression (2/9/2022)\")\n",
    "plt.xlabel(\"Latitude\")\n",
    "plt.ylabel(\"Wind Speed\")\n",
    "# save figure as png\n",
    "n_wind_lat_axes.get_figure().savefig(\"../Images/Fig11_N.png\")"
   ]
  },
  {
   "cell_type": "markdown",
   "metadata": {},
   "source": [
    "According to the the correlation coefficient for the linear regression for Wind Speed (mph) vs. Latitude, there should be almost no or slightly weak positive correlation between wind speed and geolocation away from the equator. This data could be skewed by the outliers for a few very windy northern cities. "
   ]
  },
  {
   "cell_type": "markdown",
   "metadata": {},
   "source": [
    "####  Southern Hemisphere - Wind Speed (mph) vs. Latitude Linear Regression"
   ]
  },
  {
   "cell_type": "code",
   "execution_count": 29,
   "metadata": {},
   "outputs": [
    {
     "name": "stdout",
     "output_type": "stream",
     "text": [
      "Equation for best-fit linear regression line is y=-0.10x+5.69\n",
      "r-squared correlation coefficient is -0.22\n"
     ]
    },
    {
     "data": {
      "image/png": "[encoded data removed]",
      "text/plain": [
       "<Figure size 432x288 with 1 Axes>"
      ]
     },
     "metadata": {
      "needs_background": "light"
     },
     "output_type": "display_data"
    }
   ],
   "source": [
    "# Southern Hemisphere - Wind Speed (mph) vs. Latitude Linear Regression\n",
    "s_wind_lat_axes = makeLinRegression(southern_hemisphere, \"Lat\", \"Wind Speed\")\n",
    "plt.title(\"Southern Hemisphere - Wind Speed (mph) vs. Latitude Linear Regression (2/9/2022)\")\n",
    "plt.xlabel(\"Latitude\")\n",
    "plt.ylabel(\"Wind Speed\")\n",
    "# save figure as png\n",
    "s_wind_lat_axes.get_figure().savefig(\"../Images/Fig12_S.png\")"
   ]
  },
  {
   "cell_type": "markdown",
   "metadata": {},
   "source": [
    "#### Southern Hemisphere - Wind Speed (mph) vs. Latitude Linear Regression Analysis\n",
    "\n",
    "Reasonably should also not be any association between wind speed and geolocation away from the equator for cities in the southern hemisphere.  "
   ]
  },
  {
   "cell_type": "code",
   "execution_count": 33,
   "metadata": {},
   "outputs": [
    {
     "name": "stdout",
     "output_type": "stream",
     "text": [
      "(array([ 44,  96, 548], dtype=int64),)\n"
     ]
    }
   ],
   "source": [
    "# outliers for observations \n",
    "print(np.where(city_info_df[\"Wind Speed\"] > 30))"
   ]
  },
  {
   "cell_type": "code",
   "execution_count": 34,
   "metadata": {},
   "outputs": [
    {
     "name": "stdout",
     "output_type": "stream",
     "text": [
      "        City      Lat       Lng  Max Temp  Humidity  Cloudiness  Wind Speed  \\\n",
      "44   Isangel -19.5500  169.2667     77.61        96         100       40.18   \n",
      "96       Vao -22.6667  167.4833     81.27        86         100       30.29   \n",
      "548  Sørland  67.6670   12.6934     39.83        73          97       32.26   \n",
      "\n",
      "    Country        Date  \n",
      "44       VU  1644451323  \n",
      "96       NC  1644451369  \n",
      "548      NO  1644451634  \n"
     ]
    }
   ],
   "source": [
    "print(city_info_df.iloc[[44,  96, 548]])\n",
    "# Outliers: Sørland (67.6670, 32.26), Isangel (40.18, -19.5500), Vao (-22.6667, 30.29) "
   ]
  }
 ],
 "metadata": {
  "anaconda-cloud": {},
  "kernel_info": {
   "name": "python3"
  },
  "kernelspec": {
   "display_name": "Python 3 (ipykernel)",
   "language": "python",
   "name": "python3"
  },
  "language_info": {
   "codemirror_mode": {
    "name": "ipython",
    "version": 3
   },
   "file_extension": ".py",
   "mimetype": "text/x-python",
   "name": "python",
   "nbconvert_exporter": "python",
   "pygments_lexer": "ipython3",
   "version": "3.9.7"
  },
  "latex_envs": {
   "LaTeX_envs_menu_present": true,
   "autoclose": false,
   "autocomplete": true,
   "bibliofile": "biblio.bib",
   "cite_by": "apalike",
   "current_citInitial": 1,
   "eqLabelWithNumbers": true,
   "eqNumInitial": 1,
   "hotkeys": {
    "equation": "Ctrl-E",
    "itemize": "Ctrl-I"
   },
   "labels_anchors": false,
   "latex_user_defs": false,
   "report_style_numbering": false,
   "user_envs_cfg": false
  },
  "nteract": {
   "version": "0.12.3"
  }
 },
 "nbformat": 4,
 "nbformat_minor": 2
}
